{
  "nbformat": 4,
  "nbformat_minor": 0,
  "metadata": {
    "colab": {
      "name": "default.ipynb",
      "provenance": [],
      "collapsed_sections": []
    },
    "kernelspec": {
      "name": "python3",
      "display_name": "Python 3"
    },
    "accelerator": "GPU"
  },
  "cells": [
    {
      "cell_type": "code",
      "metadata": {
        "id": "Jfy48aqO_goU"
      },
      "source": [
        "import torch\r\n",
        "import torch.nn as nn\r\n",
        "import tqdm\r\n",
        "import numpy as np\r\n",
        "import torch.optim as optim\r\n",
        "import torchvision\r\n",
        "from torchvision.utils import make_grid, save_image\r\n",
        "import torchvision.datasets as datasets\r\n",
        "import torchvision.transforms as transforms\r\n",
        "from torch.utils.data import DataLoader"
      ],
      "execution_count": 4,
      "outputs": []
    },
    {
      "cell_type": "code",
      "metadata": {
        "id": "gNDFQtO2Ghwn",
        "colab": {
          "base_uri": "https://localhost:8080/",
          "height": 35
        },
        "outputId": "12e9efc0-4781-4381-adb5-68543d952717"
      },
      "source": [
        "torch.cuda.get_device_name()"
      ],
      "execution_count": 5,
      "outputs": [
        {
          "output_type": "execute_result",
          "data": {
            "application/vnd.google.colaboratory.intrinsic+json": {
              "type": "string"
            },
            "text/plain": [
              "'Tesla T4'"
            ]
          },
          "metadata": {
            "tags": []
          },
          "execution_count": 5
        }
      ]
    },
    {
      "cell_type": "code",
      "metadata": {
        "id": "7yw4LPIvA5CO"
      },
      "source": [
        "class Critic(nn.Module):\r\n",
        "    def __init__(self, img_channels, features_d):\r\n",
        "        super().__init__()\r\n",
        "        self.c = nn.Sequential(nn.Conv2d(img_channels, features_d, kernel_size=4, stride=2, padding=1), \r\n",
        "                                nn.LeakyReLU(0.2), \r\n",
        "\r\n",
        "                                self.conv_block(features_d, features_d * 2, 4, 2, 1), \r\n",
        "                                self.conv_block(features_d * 2, features_d * 4, 4, 2, 1), \r\n",
        "                                self.conv_block(features_d * 4, features_d * 8, 4, 2, 1), \r\n",
        "\r\n",
        "                                nn.Conv2d(features_d * 8, 1, kernel_size=4, stride=2, padding=0))\r\n",
        "        \r\n",
        "    def conv_block(self, in_channels, out_channels, kernel_size, stride, padding):\r\n",
        "         return nn.Sequential(nn.Conv2d(in_channels, out_channels, kernel_size, stride, padding, bias=False), \r\n",
        "                              nn.InstanceNorm2d(out_channels, affine=True), \r\n",
        "                              nn.LeakyReLU(0.2))\r\n",
        "\r\n",
        "    def forward(self, x):\r\n",
        "        return self.c(x)"
      ],
      "execution_count": 6,
      "outputs": []
    },
    {
      "cell_type": "code",
      "metadata": {
        "id": "e3p-PoLzA7Vb"
      },
      "source": [
        "class Generator(nn.Module):\r\n",
        "    def __init__(self, noise_channels, img_channels, features_g):\r\n",
        "        super().__init__()\r\n",
        "        self.g = nn.Sequential(self.conv_block(noise_channels, features_g * 16, 4, 1, 0), \r\n",
        "                               self.conv_block(features_g * 16, features_g * 8, 4, 2, 1),\r\n",
        "                               self.conv_block(features_g * 8, features_g * 4, 4, 2, 1), \r\n",
        "                               self.conv_block(features_g * 4, features_g * 2, 4, 2, 1),\r\n",
        "                               \r\n",
        "                               nn.ConvTranspose2d(features_g * 2, img_channels, kernel_size=4, stride=2, padding=1),\r\n",
        "                               nn.Tanh())\r\n",
        "        \r\n",
        "    def conv_block(self, in_channels, out_channels, kernel_size, stride, padding):\r\n",
        "        return nn.Sequential(nn.ConvTranspose2d(in_channels, out_channels, kernel_size, stride, padding, bias=False), \r\n",
        "                             nn.BatchNorm2d(out_channels), \r\n",
        "                             nn.ReLU())\r\n",
        "    \r\n",
        "    def forward(self, x):\r\n",
        "        return self.g(x)"
      ],
      "execution_count": 7,
      "outputs": []
    },
    {
      "cell_type": "code",
      "metadata": {
        "id": "ni0_VDPAA7SZ"
      },
      "source": [
        "def init_parameters(net):\r\n",
        "    for n in net.modules():\r\n",
        "        if isinstance(n, (nn.Conv2d, nn.ConvTranspose2d, nn.BatchNorm2d)):\r\n",
        "            nn.init.normal_(n.weight.data, 0.0, 0.02)"
      ],
      "execution_count": 8,
      "outputs": []
    },
    {
      "cell_type": "code",
      "metadata": {
        "id": "B6yndz3Y5WIR"
      },
      "source": [
        "device = torch.device(\"cuda\" if torch.cuda.is_available() else \"cpu\")\n",
        "lr = 5e-5\n",
        "batch_size = 64\n",
        "img_size = 64\n",
        "img_channels = 3\n",
        "noise_dim = 128\n",
        "epochs = 100\n",
        "features_c = 64\n",
        "features_g = 64\n",
        "critic_iter = 5\n",
        "weight_clip = 1e-2"
      ],
      "execution_count": 9,
      "outputs": []
    },
    {
      "cell_type": "code",
      "metadata": {
        "colab": {
          "base_uri": "https://localhost:8080/"
        },
        "id": "7GdYsaHV7Psm",
        "outputId": "3d0737e0-8ee3-449a-b894-44b085ed5486"
      },
      "source": [
        "device"
      ],
      "execution_count": 10,
      "outputs": [
        {
          "output_type": "execute_result",
          "data": {
            "text/plain": [
              "device(type='cuda')"
            ]
          },
          "metadata": {
            "tags": []
          },
          "execution_count": 10
        }
      ]
    },
    {
      "cell_type": "code",
      "metadata": {
        "id": "74QlbPf55XW8"
      },
      "source": [
        "transform = transforms.Compose([transforms.Resize((img_size, img_size)),\n",
        "                                 transforms.ToTensor(), \n",
        "                                 transforms.Normalize([0.5 for _ in range(img_channels)], [0.5 for _ in range(img_channels)])])"
      ],
      "execution_count": 11,
      "outputs": []
    },
    {
      "cell_type": "code",
      "metadata": {
        "id": "WXIuekxw6fMd"
      },
      "source": [
        "dataset = datasets.ImageFolder(root=\"faces/\", transform=transform)"
      ],
      "execution_count": 12,
      "outputs": []
    },
    {
      "cell_type": "code",
      "metadata": {
        "colab": {
          "base_uri": "https://localhost:8080/"
        },
        "id": "5dWTN6KcmY8d",
        "outputId": "066fc4f8-c4fb-42e1-a3c2-f0ec96c07a1c"
      },
      "source": [
        "len(dataset)"
      ],
      "execution_count": 13,
      "outputs": [
        {
          "output_type": "execute_result",
          "data": {
            "text/plain": [
              "15167"
            ]
          },
          "metadata": {
            "tags": []
          },
          "execution_count": 13
        }
      ]
    },
    {
      "cell_type": "code",
      "metadata": {
        "id": "5oCq_hBkmY1A"
      },
      "source": [
        "dataloader = DataLoader(dataset, batch_size, shuffle=True)"
      ],
      "execution_count": 14,
      "outputs": []
    },
    {
      "cell_type": "code",
      "metadata": {
        "colab": {
          "base_uri": "https://localhost:8080/"
        },
        "id": "73kU5debmYx4",
        "outputId": "b05ee11c-effa-4f3f-93e6-8df584e3870c"
      },
      "source": [
        "len(dataloader)"
      ],
      "execution_count": 15,
      "outputs": [
        {
          "output_type": "execute_result",
          "data": {
            "text/plain": [
              "237"
            ]
          },
          "metadata": {
            "tags": []
          },
          "execution_count": 15
        }
      ]
    },
    {
      "cell_type": "code",
      "metadata": {
        "id": "JXEqO0TB7QG1"
      },
      "source": [
        "G = Generator(noise_dim, img_channels, features_g).to(device)\n",
        "C = Critic(img_channels, features_c).to(device)\n",
        "init_parameters(G)\n",
        "init_parameters(C)"
      ],
      "execution_count": 16,
      "outputs": []
    },
    {
      "cell_type": "code",
      "metadata": {
        "id": "lIBB4myx7aau"
      },
      "source": [
        "opt_G = optim.RMSprop(G.parameters(), lr)\n",
        "opt_C = optim.RMSprop(C.parameters(), lr)"
      ],
      "execution_count": 17,
      "outputs": []
    },
    {
      "cell_type": "code",
      "metadata": {
        "id": "NH5bfGA97tCe"
      },
      "source": [
        "fixed_noise = torch.randn(64, noise_dim, 1, 1).to(device)"
      ],
      "execution_count": 18,
      "outputs": []
    },
    {
      "cell_type": "code",
      "metadata": {
        "id": "s_0NWziW-XsE"
      },
      "source": [
        "def save_fake_images(epoch_num):\n",
        "    with torch.no_grad():\n",
        "        fake = G(fixed_noise)\n",
        "    img_grid = make_grid(fake, normalize=True)\n",
        "    file_name = \"fake_images-{0:0=4d}.png\".format(epoch_num)\n",
        "    save_image(fake, file_name, nrow=8)\n",
        "    print(\"\")\n",
        "    print(\"Image Saved!\")\n",
        "    print(\"\")"
      ],
      "execution_count": 19,
      "outputs": []
    },
    {
      "cell_type": "code",
      "metadata": {
        "id": "7bLOK06b-euk"
      },
      "source": [
        "for real, _ in dataloader:\n",
        "    img_grid = make_grid(real[:64], normalize=True)\n",
        "    save_image(img_grid, \"real_images.png\", nrow=8)\n",
        "    break"
      ],
      "execution_count": 20,
      "outputs": []
    },
    {
      "cell_type": "code",
      "metadata": {
        "id": "96BnRwXmxvjG",
        "colab": {
          "base_uri": "https://localhost:8080/"
        },
        "outputId": "6c30efc1-a3b5-4c17-b32e-45d5242b5aae"
      },
      "source": [
        "save_fake_images(0)"
      ],
      "execution_count": 21,
      "outputs": [
        {
          "output_type": "stream",
          "text": [
            "\n",
            "Image Saved!\n",
            "\n"
          ],
          "name": "stdout"
        }
      ]
    },
    {
      "cell_type": "code",
      "metadata": {
        "colab": {
          "base_uri": "https://localhost:8080/"
        },
        "id": "Dk9W5PBQZ37c",
        "outputId": "c0da0fca-3804-4c16-8949-42f0ca33f84f"
      },
      "source": [
        "for epoch in range(epochs):\r\n",
        "    batch_losses_C = []\r\n",
        "    batch_losses_G = []\r\n",
        "    for real, _ in tqdm.tqdm(dataloader, total=len(dataloader)):\r\n",
        "        real = real.to(device)\r\n",
        "        \r\n",
        "        for _ in range(critic_iter):\r\n",
        "            noise = torch.randn(batch_size, noise_dim, 1, 1).to(device)\r\n",
        "            fake = G(noise)\r\n",
        "            C_real = C(real).reshape(-1)\r\n",
        "            C_fake = C(fake).reshape(-1)\r\n",
        "            loss_C = -(torch.mean(C_real) - torch.mean(C_fake))\r\n",
        "\r\n",
        "            C.zero_grad()\r\n",
        "            loss_C.backward(retain_graph=True)\r\n",
        "            opt_C.step()\r\n",
        "            batch_losses_C.append(loss_C.item())\r\n",
        "\r\n",
        "            for p in C.parameters():\r\n",
        "                p.data.clamp_(-weight_clip, weight_clip)\r\n",
        "        \r\n",
        "        output = C(fake).reshape(-1)\r\n",
        "        loss_G = -torch.mean(output)\r\n",
        "\r\n",
        "        G.zero_grad()\r\n",
        "        loss_G.backward()\r\n",
        "        opt_G.step()\r\n",
        "        batch_losses_G.append(loss_G.item())\r\n",
        "\r\n",
        "    print(f\" Epoch: {epoch} | Loss C: {np.round(sum(batch_losses_C)/len(batch_losses_C), 4)} | Loss G: {np.round(sum(batch_losses_G)/len(batch_losses_G), 4)}\")\r\n",
        "    # if epoch % 10 == 0:\r\n",
        "    save_fake_images(epoch)"
      ],
      "execution_count": 22,
      "outputs": [
        {
          "output_type": "stream",
          "text": [
            "100%|██████████| 237/237 [56:34<00:00, 14.32s/it]\n",
            "  0%|          | 0/237 [00:00<?, ?it/s]"
          ],
          "name": "stderr"
        },
        {
          "output_type": "stream",
          "text": [
            " Epoch: 0 | Loss C: -1.161 | Loss G: 0.5553\n",
            "\n",
            "Image Saved!\n",
            "\n"
          ],
          "name": "stdout"
        },
        {
          "output_type": "stream",
          "text": [
            "100%|██████████| 237/237 [03:35<00:00,  1.10it/s]\n",
            "  0%|          | 0/237 [00:00<?, ?it/s]"
          ],
          "name": "stderr"
        },
        {
          "output_type": "stream",
          "text": [
            " Epoch: 1 | Loss C: -1.4584 | Loss G: 0.7044\n",
            "\n",
            "Image Saved!\n",
            "\n"
          ],
          "name": "stdout"
        },
        {
          "output_type": "stream",
          "text": [
            "100%|██████████| 237/237 [03:37<00:00,  1.09it/s]\n",
            "  0%|          | 0/237 [00:00<?, ?it/s]"
          ],
          "name": "stderr"
        },
        {
          "output_type": "stream",
          "text": [
            " Epoch: 2 | Loss C: -1.434 | Loss G: 0.6962\n",
            "\n",
            "Image Saved!\n",
            "\n"
          ],
          "name": "stdout"
        },
        {
          "output_type": "stream",
          "text": [
            "100%|██████████| 237/237 [03:37<00:00,  1.09it/s]\n",
            "  0%|          | 0/237 [00:00<?, ?it/s]"
          ],
          "name": "stderr"
        },
        {
          "output_type": "stream",
          "text": [
            " Epoch: 3 | Loss C: -1.3877 | Loss G: 0.6781\n",
            "\n",
            "Image Saved!\n",
            "\n"
          ],
          "name": "stdout"
        },
        {
          "output_type": "stream",
          "text": [
            "100%|██████████| 237/237 [03:37<00:00,  1.09it/s]\n",
            "  0%|          | 0/237 [00:00<?, ?it/s]"
          ],
          "name": "stderr"
        },
        {
          "output_type": "stream",
          "text": [
            " Epoch: 4 | Loss C: -1.3313 | Loss G: 0.6582\n",
            "\n",
            "Image Saved!\n",
            "\n"
          ],
          "name": "stdout"
        },
        {
          "output_type": "stream",
          "text": [
            "100%|██████████| 237/237 [03:37<00:00,  1.09it/s]\n",
            "  0%|          | 0/237 [00:00<?, ?it/s]"
          ],
          "name": "stderr"
        },
        {
          "output_type": "stream",
          "text": [
            " Epoch: 5 | Loss C: -1.2693 | Loss G: 0.6414\n",
            "\n",
            "Image Saved!\n",
            "\n"
          ],
          "name": "stdout"
        },
        {
          "output_type": "stream",
          "text": [
            "100%|██████████| 237/237 [03:37<00:00,  1.09it/s]\n",
            "  0%|          | 0/237 [00:00<?, ?it/s]"
          ],
          "name": "stderr"
        },
        {
          "output_type": "stream",
          "text": [
            " Epoch: 6 | Loss C: -1.1919 | Loss G: 0.6149\n",
            "\n",
            "Image Saved!\n",
            "\n"
          ],
          "name": "stdout"
        },
        {
          "output_type": "stream",
          "text": [
            "100%|██████████| 237/237 [03:37<00:00,  1.09it/s]\n",
            "  0%|          | 0/237 [00:00<?, ?it/s]"
          ],
          "name": "stderr"
        },
        {
          "output_type": "stream",
          "text": [
            " Epoch: 7 | Loss C: -1.12 | Loss G: 0.5841\n",
            "\n",
            "Image Saved!\n",
            "\n"
          ],
          "name": "stdout"
        },
        {
          "output_type": "stream",
          "text": [
            "100%|██████████| 237/237 [03:37<00:00,  1.09it/s]\n",
            "  0%|          | 0/237 [00:00<?, ?it/s]"
          ],
          "name": "stderr"
        },
        {
          "output_type": "stream",
          "text": [
            " Epoch: 8 | Loss C: -1.0744 | Loss G: 0.5662\n",
            "\n",
            "Image Saved!\n",
            "\n"
          ],
          "name": "stdout"
        },
        {
          "output_type": "stream",
          "text": [
            "100%|██████████| 237/237 [03:37<00:00,  1.09it/s]\n",
            "  0%|          | 0/237 [00:00<?, ?it/s]"
          ],
          "name": "stderr"
        },
        {
          "output_type": "stream",
          "text": [
            " Epoch: 9 | Loss C: -1.0329 | Loss G: 0.5509\n",
            "\n",
            "Image Saved!\n",
            "\n"
          ],
          "name": "stdout"
        },
        {
          "output_type": "stream",
          "text": [
            "100%|██████████| 237/237 [03:37<00:00,  1.09it/s]\n",
            "  0%|          | 0/237 [00:00<?, ?it/s]"
          ],
          "name": "stderr"
        },
        {
          "output_type": "stream",
          "text": [
            " Epoch: 10 | Loss C: -1.0029 | Loss G: 0.538\n",
            "\n",
            "Image Saved!\n",
            "\n"
          ],
          "name": "stdout"
        },
        {
          "output_type": "stream",
          "text": [
            "100%|██████████| 237/237 [03:37<00:00,  1.09it/s]\n",
            "  0%|          | 0/237 [00:00<?, ?it/s]"
          ],
          "name": "stderr"
        },
        {
          "output_type": "stream",
          "text": [
            " Epoch: 11 | Loss C: -0.9776 | Loss G: 0.5288\n",
            "\n",
            "Image Saved!\n",
            "\n"
          ],
          "name": "stdout"
        },
        {
          "output_type": "stream",
          "text": [
            "100%|██████████| 237/237 [03:37<00:00,  1.09it/s]\n",
            "  0%|          | 0/237 [00:00<?, ?it/s]"
          ],
          "name": "stderr"
        },
        {
          "output_type": "stream",
          "text": [
            " Epoch: 12 | Loss C: -0.9514 | Loss G: 0.5152\n",
            "\n",
            "Image Saved!\n",
            "\n"
          ],
          "name": "stdout"
        },
        {
          "output_type": "stream",
          "text": [
            "100%|██████████| 237/237 [03:37<00:00,  1.09it/s]\n",
            "  0%|          | 0/237 [00:00<?, ?it/s]"
          ],
          "name": "stderr"
        },
        {
          "output_type": "stream",
          "text": [
            " Epoch: 13 | Loss C: -0.9311 | Loss G: 0.5093\n",
            "\n",
            "Image Saved!\n",
            "\n"
          ],
          "name": "stdout"
        },
        {
          "output_type": "stream",
          "text": [
            "100%|██████████| 237/237 [03:37<00:00,  1.09it/s]\n",
            "  0%|          | 0/237 [00:00<?, ?it/s]"
          ],
          "name": "stderr"
        },
        {
          "output_type": "stream",
          "text": [
            " Epoch: 14 | Loss C: -0.9141 | Loss G: 0.5055\n",
            "\n",
            "Image Saved!\n",
            "\n"
          ],
          "name": "stdout"
        },
        {
          "output_type": "stream",
          "text": [
            "100%|██████████| 237/237 [03:37<00:00,  1.09it/s]\n",
            "  0%|          | 0/237 [00:00<?, ?it/s]"
          ],
          "name": "stderr"
        },
        {
          "output_type": "stream",
          "text": [
            " Epoch: 15 | Loss C: -0.8945 | Loss G: 0.4957\n",
            "\n",
            "Image Saved!\n",
            "\n"
          ],
          "name": "stdout"
        },
        {
          "output_type": "stream",
          "text": [
            "100%|██████████| 237/237 [03:37<00:00,  1.09it/s]\n",
            "  0%|          | 0/237 [00:00<?, ?it/s]"
          ],
          "name": "stderr"
        },
        {
          "output_type": "stream",
          "text": [
            " Epoch: 16 | Loss C: -0.8757 | Loss G: 0.491\n",
            "\n",
            "Image Saved!\n",
            "\n"
          ],
          "name": "stdout"
        },
        {
          "output_type": "stream",
          "text": [
            "100%|██████████| 237/237 [03:37<00:00,  1.09it/s]\n",
            "  0%|          | 0/237 [00:00<?, ?it/s]"
          ],
          "name": "stderr"
        },
        {
          "output_type": "stream",
          "text": [
            " Epoch: 17 | Loss C: -0.8528 | Loss G: 0.48\n",
            "\n",
            "Image Saved!\n",
            "\n"
          ],
          "name": "stdout"
        },
        {
          "output_type": "stream",
          "text": [
            "100%|██████████| 237/237 [03:37<00:00,  1.09it/s]\n",
            "  0%|          | 0/237 [00:00<?, ?it/s]"
          ],
          "name": "stderr"
        },
        {
          "output_type": "stream",
          "text": [
            " Epoch: 18 | Loss C: -0.8299 | Loss G: 0.4685\n",
            "\n",
            "Image Saved!\n",
            "\n"
          ],
          "name": "stdout"
        },
        {
          "output_type": "stream",
          "text": [
            "100%|██████████| 237/237 [03:37<00:00,  1.09it/s]\n",
            "  0%|          | 0/237 [00:00<?, ?it/s]"
          ],
          "name": "stderr"
        },
        {
          "output_type": "stream",
          "text": [
            " Epoch: 19 | Loss C: -0.8064 | Loss G: 0.4557\n",
            "\n",
            "Image Saved!\n",
            "\n"
          ],
          "name": "stdout"
        },
        {
          "output_type": "stream",
          "text": [
            "100%|██████████| 237/237 [03:37<00:00,  1.09it/s]\n",
            "  0%|          | 0/237 [00:00<?, ?it/s]"
          ],
          "name": "stderr"
        },
        {
          "output_type": "stream",
          "text": [
            " Epoch: 20 | Loss C: -0.7829 | Loss G: 0.4481\n",
            "\n",
            "Image Saved!\n",
            "\n"
          ],
          "name": "stdout"
        },
        {
          "output_type": "stream",
          "text": [
            "100%|██████████| 237/237 [03:38<00:00,  1.09it/s]\n",
            "  0%|          | 0/237 [00:00<?, ?it/s]"
          ],
          "name": "stderr"
        },
        {
          "output_type": "stream",
          "text": [
            " Epoch: 21 | Loss C: -0.7586 | Loss G: 0.437\n",
            "\n",
            "Image Saved!\n",
            "\n"
          ],
          "name": "stdout"
        },
        {
          "output_type": "stream",
          "text": [
            "100%|██████████| 237/237 [03:38<00:00,  1.08it/s]\n",
            "  0%|          | 0/237 [00:00<?, ?it/s]"
          ],
          "name": "stderr"
        },
        {
          "output_type": "stream",
          "text": [
            " Epoch: 22 | Loss C: -0.7343 | Loss G: 0.4273\n",
            "\n",
            "Image Saved!\n",
            "\n"
          ],
          "name": "stdout"
        },
        {
          "output_type": "stream",
          "text": [
            "100%|██████████| 237/237 [03:38<00:00,  1.09it/s]\n",
            "  0%|          | 0/237 [00:00<?, ?it/s]"
          ],
          "name": "stderr"
        },
        {
          "output_type": "stream",
          "text": [
            " Epoch: 23 | Loss C: -0.717 | Loss G: 0.4166\n",
            "\n",
            "Image Saved!\n",
            "\n"
          ],
          "name": "stdout"
        },
        {
          "output_type": "stream",
          "text": [
            "100%|██████████| 237/237 [03:38<00:00,  1.09it/s]\n",
            "  0%|          | 0/237 [00:00<?, ?it/s]"
          ],
          "name": "stderr"
        },
        {
          "output_type": "stream",
          "text": [
            " Epoch: 24 | Loss C: -0.6985 | Loss G: 0.4109\n",
            "\n",
            "Image Saved!\n",
            "\n"
          ],
          "name": "stdout"
        },
        {
          "output_type": "stream",
          "text": [
            "100%|██████████| 237/237 [03:38<00:00,  1.09it/s]\n",
            "  0%|          | 0/237 [00:00<?, ?it/s]"
          ],
          "name": "stderr"
        },
        {
          "output_type": "stream",
          "text": [
            " Epoch: 25 | Loss C: -0.6817 | Loss G: 0.4061\n",
            "\n",
            "Image Saved!\n",
            "\n"
          ],
          "name": "stdout"
        },
        {
          "output_type": "stream",
          "text": [
            "100%|██████████| 237/237 [03:38<00:00,  1.09it/s]\n",
            "  0%|          | 0/237 [00:00<?, ?it/s]"
          ],
          "name": "stderr"
        },
        {
          "output_type": "stream",
          "text": [
            " Epoch: 26 | Loss C: -0.6673 | Loss G: 0.3943\n",
            "\n",
            "Image Saved!\n",
            "\n"
          ],
          "name": "stdout"
        },
        {
          "output_type": "stream",
          "text": [
            "100%|██████████| 237/237 [03:38<00:00,  1.09it/s]\n",
            "  0%|          | 0/237 [00:00<?, ?it/s]"
          ],
          "name": "stderr"
        },
        {
          "output_type": "stream",
          "text": [
            " Epoch: 27 | Loss C: -0.6533 | Loss G: 0.3904\n",
            "\n",
            "Image Saved!\n",
            "\n"
          ],
          "name": "stdout"
        },
        {
          "output_type": "stream",
          "text": [
            "100%|██████████| 237/237 [03:38<00:00,  1.09it/s]\n",
            "  0%|          | 0/237 [00:00<?, ?it/s]"
          ],
          "name": "stderr"
        },
        {
          "output_type": "stream",
          "text": [
            " Epoch: 28 | Loss C: -0.6398 | Loss G: 0.3836\n",
            "\n",
            "Image Saved!\n",
            "\n"
          ],
          "name": "stdout"
        },
        {
          "output_type": "stream",
          "text": [
            "100%|██████████| 237/237 [03:38<00:00,  1.09it/s]\n",
            "  0%|          | 0/237 [00:00<?, ?it/s]"
          ],
          "name": "stderr"
        },
        {
          "output_type": "stream",
          "text": [
            " Epoch: 29 | Loss C: -0.6293 | Loss G: 0.3793\n",
            "\n",
            "Image Saved!\n",
            "\n"
          ],
          "name": "stdout"
        },
        {
          "output_type": "stream",
          "text": [
            "100%|██████████| 237/237 [03:38<00:00,  1.09it/s]\n",
            "  0%|          | 0/237 [00:00<?, ?it/s]"
          ],
          "name": "stderr"
        },
        {
          "output_type": "stream",
          "text": [
            " Epoch: 30 | Loss C: -0.6184 | Loss G: 0.3735\n",
            "\n",
            "Image Saved!\n",
            "\n"
          ],
          "name": "stdout"
        },
        {
          "output_type": "stream",
          "text": [
            "100%|██████████| 237/237 [03:38<00:00,  1.09it/s]\n",
            "  0%|          | 0/237 [00:00<?, ?it/s]"
          ],
          "name": "stderr"
        },
        {
          "output_type": "stream",
          "text": [
            " Epoch: 31 | Loss C: -0.6074 | Loss G: 0.3622\n",
            "\n",
            "Image Saved!\n",
            "\n"
          ],
          "name": "stdout"
        },
        {
          "output_type": "stream",
          "text": [
            "100%|██████████| 237/237 [03:38<00:00,  1.09it/s]\n",
            "  0%|          | 0/237 [00:00<?, ?it/s]"
          ],
          "name": "stderr"
        },
        {
          "output_type": "stream",
          "text": [
            " Epoch: 32 | Loss C: -0.5968 | Loss G: 0.3668\n",
            "\n",
            "Image Saved!\n",
            "\n"
          ],
          "name": "stdout"
        },
        {
          "output_type": "stream",
          "text": [
            "100%|██████████| 237/237 [03:37<00:00,  1.09it/s]\n",
            "  0%|          | 0/237 [00:00<?, ?it/s]"
          ],
          "name": "stderr"
        },
        {
          "output_type": "stream",
          "text": [
            " Epoch: 33 | Loss C: -0.5863 | Loss G: 0.353\n",
            "\n",
            "Image Saved!\n",
            "\n"
          ],
          "name": "stdout"
        },
        {
          "output_type": "stream",
          "text": [
            "100%|██████████| 237/237 [03:38<00:00,  1.08it/s]\n",
            "  0%|          | 0/237 [00:00<?, ?it/s]"
          ],
          "name": "stderr"
        },
        {
          "output_type": "stream",
          "text": [
            " Epoch: 34 | Loss C: -0.577 | Loss G: 0.3569\n",
            "\n",
            "Image Saved!\n",
            "\n"
          ],
          "name": "stdout"
        },
        {
          "output_type": "stream",
          "text": [
            "100%|██████████| 237/237 [03:38<00:00,  1.08it/s]\n",
            "  0%|          | 0/237 [00:00<?, ?it/s]"
          ],
          "name": "stderr"
        },
        {
          "output_type": "stream",
          "text": [
            " Epoch: 35 | Loss C: -0.5681 | Loss G: 0.3454\n",
            "\n",
            "Image Saved!\n",
            "\n"
          ],
          "name": "stdout"
        },
        {
          "output_type": "stream",
          "text": [
            "100%|██████████| 237/237 [03:38<00:00,  1.08it/s]\n",
            "  0%|          | 0/237 [00:00<?, ?it/s]"
          ],
          "name": "stderr"
        },
        {
          "output_type": "stream",
          "text": [
            " Epoch: 36 | Loss C: -0.5589 | Loss G: 0.3471\n",
            "\n",
            "Image Saved!\n",
            "\n"
          ],
          "name": "stdout"
        },
        {
          "output_type": "stream",
          "text": [
            "100%|██████████| 237/237 [03:38<00:00,  1.09it/s]\n",
            "  0%|          | 0/237 [00:00<?, ?it/s]"
          ],
          "name": "stderr"
        },
        {
          "output_type": "stream",
          "text": [
            " Epoch: 37 | Loss C: -0.55 | Loss G: 0.3391\n",
            "\n",
            "Image Saved!\n",
            "\n"
          ],
          "name": "stdout"
        },
        {
          "output_type": "stream",
          "text": [
            "100%|██████████| 237/237 [03:38<00:00,  1.09it/s]\n",
            "  0%|          | 0/237 [00:00<?, ?it/s]"
          ],
          "name": "stderr"
        },
        {
          "output_type": "stream",
          "text": [
            " Epoch: 38 | Loss C: -0.5421 | Loss G: 0.3327\n",
            "\n",
            "Image Saved!\n",
            "\n"
          ],
          "name": "stdout"
        },
        {
          "output_type": "stream",
          "text": [
            "100%|██████████| 237/237 [03:38<00:00,  1.08it/s]\n",
            "  0%|          | 0/237 [00:00<?, ?it/s]"
          ],
          "name": "stderr"
        },
        {
          "output_type": "stream",
          "text": [
            " Epoch: 39 | Loss C: -0.5344 | Loss G: 0.3285\n",
            "\n",
            "Image Saved!\n",
            "\n"
          ],
          "name": "stdout"
        },
        {
          "output_type": "stream",
          "text": [
            "100%|██████████| 237/237 [03:38<00:00,  1.08it/s]\n",
            "  0%|          | 0/237 [00:00<?, ?it/s]"
          ],
          "name": "stderr"
        },
        {
          "output_type": "stream",
          "text": [
            " Epoch: 40 | Loss C: -0.5275 | Loss G: 0.3297\n",
            "\n",
            "Image Saved!\n",
            "\n"
          ],
          "name": "stdout"
        },
        {
          "output_type": "stream",
          "text": [
            "100%|██████████| 237/237 [03:38<00:00,  1.08it/s]\n",
            "  0%|          | 0/237 [00:00<?, ?it/s]"
          ],
          "name": "stderr"
        },
        {
          "output_type": "stream",
          "text": [
            " Epoch: 41 | Loss C: -0.5187 | Loss G: 0.3242\n",
            "\n",
            "Image Saved!\n",
            "\n"
          ],
          "name": "stdout"
        },
        {
          "output_type": "stream",
          "text": [
            "100%|██████████| 237/237 [03:38<00:00,  1.08it/s]\n",
            "  0%|          | 0/237 [00:00<?, ?it/s]"
          ],
          "name": "stderr"
        },
        {
          "output_type": "stream",
          "text": [
            " Epoch: 42 | Loss C: -0.5116 | Loss G: 0.3197\n",
            "\n",
            "Image Saved!\n",
            "\n"
          ],
          "name": "stdout"
        },
        {
          "output_type": "stream",
          "text": [
            "100%|██████████| 237/237 [03:38<00:00,  1.09it/s]\n",
            "  0%|          | 0/237 [00:00<?, ?it/s]"
          ],
          "name": "stderr"
        },
        {
          "output_type": "stream",
          "text": [
            " Epoch: 43 | Loss C: -0.5055 | Loss G: 0.3177\n",
            "\n",
            "Image Saved!\n",
            "\n"
          ],
          "name": "stdout"
        },
        {
          "output_type": "stream",
          "text": [
            "100%|██████████| 237/237 [03:38<00:00,  1.08it/s]\n",
            "  0%|          | 0/237 [00:00<?, ?it/s]"
          ],
          "name": "stderr"
        },
        {
          "output_type": "stream",
          "text": [
            " Epoch: 44 | Loss C: -0.4983 | Loss G: 0.3167\n",
            "\n",
            "Image Saved!\n",
            "\n"
          ],
          "name": "stdout"
        },
        {
          "output_type": "stream",
          "text": [
            "100%|██████████| 237/237 [03:38<00:00,  1.08it/s]\n",
            "  0%|          | 0/237 [00:00<?, ?it/s]"
          ],
          "name": "stderr"
        },
        {
          "output_type": "stream",
          "text": [
            " Epoch: 45 | Loss C: -0.4914 | Loss G: 0.309\n",
            "\n",
            "Image Saved!\n",
            "\n"
          ],
          "name": "stdout"
        },
        {
          "output_type": "stream",
          "text": [
            "100%|██████████| 237/237 [03:38<00:00,  1.08it/s]\n",
            "  0%|          | 0/237 [00:00<?, ?it/s]"
          ],
          "name": "stderr"
        },
        {
          "output_type": "stream",
          "text": [
            " Epoch: 46 | Loss C: -0.4847 | Loss G: 0.3106\n",
            "\n",
            "Image Saved!\n",
            "\n"
          ],
          "name": "stdout"
        },
        {
          "output_type": "stream",
          "text": [
            "100%|██████████| 237/237 [03:38<00:00,  1.08it/s]\n",
            "  0%|          | 0/237 [00:00<?, ?it/s]"
          ],
          "name": "stderr"
        },
        {
          "output_type": "stream",
          "text": [
            " Epoch: 47 | Loss C: -0.4788 | Loss G: 0.2981\n",
            "\n",
            "Image Saved!\n",
            "\n"
          ],
          "name": "stdout"
        },
        {
          "output_type": "stream",
          "text": [
            "100%|██████████| 237/237 [03:38<00:00,  1.08it/s]\n",
            "  0%|          | 0/237 [00:00<?, ?it/s]"
          ],
          "name": "stderr"
        },
        {
          "output_type": "stream",
          "text": [
            " Epoch: 48 | Loss C: -0.4739 | Loss G: 0.2923\n",
            "\n",
            "Image Saved!\n",
            "\n"
          ],
          "name": "stdout"
        },
        {
          "output_type": "stream",
          "text": [
            "100%|██████████| 237/237 [03:38<00:00,  1.08it/s]\n",
            "  0%|          | 0/237 [00:00<?, ?it/s]"
          ],
          "name": "stderr"
        },
        {
          "output_type": "stream",
          "text": [
            " Epoch: 49 | Loss C: -0.4701 | Loss G: 0.2897\n",
            "\n",
            "Image Saved!\n",
            "\n"
          ],
          "name": "stdout"
        },
        {
          "output_type": "stream",
          "text": [
            "100%|██████████| 237/237 [03:38<00:00,  1.09it/s]\n",
            "  0%|          | 0/237 [00:00<?, ?it/s]"
          ],
          "name": "stderr"
        },
        {
          "output_type": "stream",
          "text": [
            " Epoch: 50 | Loss C: -0.4615 | Loss G: 0.292\n",
            "\n",
            "Image Saved!\n",
            "\n"
          ],
          "name": "stdout"
        },
        {
          "output_type": "stream",
          "text": [
            "100%|██████████| 237/237 [03:38<00:00,  1.08it/s]\n",
            "  0%|          | 0/237 [00:00<?, ?it/s]"
          ],
          "name": "stderr"
        },
        {
          "output_type": "stream",
          "text": [
            " Epoch: 51 | Loss C: -0.4567 | Loss G: 0.2912\n",
            "\n",
            "Image Saved!\n",
            "\n"
          ],
          "name": "stdout"
        },
        {
          "output_type": "stream",
          "text": [
            "100%|██████████| 237/237 [03:39<00:00,  1.08it/s]\n",
            "  0%|          | 0/237 [00:00<?, ?it/s]"
          ],
          "name": "stderr"
        },
        {
          "output_type": "stream",
          "text": [
            " Epoch: 52 | Loss C: -0.4533 | Loss G: 0.2793\n",
            "\n",
            "Image Saved!\n",
            "\n"
          ],
          "name": "stdout"
        },
        {
          "output_type": "stream",
          "text": [
            "100%|██████████| 237/237 [03:38<00:00,  1.08it/s]\n",
            "  0%|          | 0/237 [00:00<?, ?it/s]"
          ],
          "name": "stderr"
        },
        {
          "output_type": "stream",
          "text": [
            " Epoch: 53 | Loss C: -0.4475 | Loss G: 0.2807\n",
            "\n",
            "Image Saved!\n",
            "\n"
          ],
          "name": "stdout"
        },
        {
          "output_type": "stream",
          "text": [
            "100%|██████████| 237/237 [03:38<00:00,  1.08it/s]\n",
            "  0%|          | 0/237 [00:00<?, ?it/s]"
          ],
          "name": "stderr"
        },
        {
          "output_type": "stream",
          "text": [
            " Epoch: 54 | Loss C: -0.4426 | Loss G: 0.2821\n",
            "\n",
            "Image Saved!\n",
            "\n"
          ],
          "name": "stdout"
        },
        {
          "output_type": "stream",
          "text": [
            "100%|██████████| 237/237 [03:38<00:00,  1.09it/s]\n",
            "  0%|          | 0/237 [00:00<?, ?it/s]"
          ],
          "name": "stderr"
        },
        {
          "output_type": "stream",
          "text": [
            " Epoch: 55 | Loss C: -0.4382 | Loss G: 0.267\n",
            "\n",
            "Image Saved!\n",
            "\n"
          ],
          "name": "stdout"
        },
        {
          "output_type": "stream",
          "text": [
            "100%|██████████| 237/237 [03:38<00:00,  1.08it/s]\n",
            "  0%|          | 0/237 [00:00<?, ?it/s]"
          ],
          "name": "stderr"
        },
        {
          "output_type": "stream",
          "text": [
            " Epoch: 56 | Loss C: -0.434 | Loss G: 0.2782\n",
            "\n",
            "Image Saved!\n",
            "\n"
          ],
          "name": "stdout"
        },
        {
          "output_type": "stream",
          "text": [
            "100%|██████████| 237/237 [03:38<00:00,  1.09it/s]\n",
            "  0%|          | 0/237 [00:00<?, ?it/s]"
          ],
          "name": "stderr"
        },
        {
          "output_type": "stream",
          "text": [
            " Epoch: 57 | Loss C: -0.4291 | Loss G: 0.2744\n",
            "\n",
            "Image Saved!\n",
            "\n"
          ],
          "name": "stdout"
        },
        {
          "output_type": "stream",
          "text": [
            "100%|██████████| 237/237 [03:38<00:00,  1.08it/s]\n",
            "  0%|          | 0/237 [00:00<?, ?it/s]"
          ],
          "name": "stderr"
        },
        {
          "output_type": "stream",
          "text": [
            " Epoch: 58 | Loss C: -0.4242 | Loss G: 0.2686\n",
            "\n",
            "Image Saved!\n",
            "\n"
          ],
          "name": "stdout"
        },
        {
          "output_type": "stream",
          "text": [
            "100%|██████████| 237/237 [03:38<00:00,  1.08it/s]\n",
            "  0%|          | 0/237 [00:00<?, ?it/s]"
          ],
          "name": "stderr"
        },
        {
          "output_type": "stream",
          "text": [
            " Epoch: 59 | Loss C: -0.4207 | Loss G: 0.2772\n",
            "\n",
            "Image Saved!\n",
            "\n"
          ],
          "name": "stdout"
        },
        {
          "output_type": "stream",
          "text": [
            "100%|██████████| 237/237 [03:38<00:00,  1.08it/s]\n",
            "  0%|          | 0/237 [00:00<?, ?it/s]"
          ],
          "name": "stderr"
        },
        {
          "output_type": "stream",
          "text": [
            " Epoch: 60 | Loss C: -0.4181 | Loss G: 0.2616\n",
            "\n",
            "Image Saved!\n",
            "\n"
          ],
          "name": "stdout"
        },
        {
          "output_type": "stream",
          "text": [
            "100%|██████████| 237/237 [03:38<00:00,  1.09it/s]\n",
            "  0%|          | 0/237 [00:00<?, ?it/s]"
          ],
          "name": "stderr"
        },
        {
          "output_type": "stream",
          "text": [
            " Epoch: 61 | Loss C: -0.4141 | Loss G: 0.2688\n",
            "\n",
            "Image Saved!\n",
            "\n"
          ],
          "name": "stdout"
        },
        {
          "output_type": "stream",
          "text": [
            "100%|██████████| 237/237 [03:37<00:00,  1.09it/s]\n",
            "  0%|          | 0/237 [00:00<?, ?it/s]"
          ],
          "name": "stderr"
        },
        {
          "output_type": "stream",
          "text": [
            " Epoch: 62 | Loss C: -0.4088 | Loss G: 0.252\n",
            "\n",
            "Image Saved!\n",
            "\n"
          ],
          "name": "stdout"
        },
        {
          "output_type": "stream",
          "text": [
            "100%|██████████| 237/237 [03:37<00:00,  1.09it/s]\n",
            "  0%|          | 0/237 [00:00<?, ?it/s]"
          ],
          "name": "stderr"
        },
        {
          "output_type": "stream",
          "text": [
            " Epoch: 63 | Loss C: -0.4043 | Loss G: 0.2577\n",
            "\n",
            "Image Saved!\n",
            "\n"
          ],
          "name": "stdout"
        },
        {
          "output_type": "stream",
          "text": [
            "100%|██████████| 237/237 [03:37<00:00,  1.09it/s]\n",
            "  0%|          | 0/237 [00:00<?, ?it/s]"
          ],
          "name": "stderr"
        },
        {
          "output_type": "stream",
          "text": [
            " Epoch: 64 | Loss C: -0.4017 | Loss G: 0.2509\n",
            "\n",
            "Image Saved!\n",
            "\n"
          ],
          "name": "stdout"
        },
        {
          "output_type": "stream",
          "text": [
            "100%|██████████| 237/237 [03:37<00:00,  1.09it/s]\n",
            "  0%|          | 0/237 [00:00<?, ?it/s]"
          ],
          "name": "stderr"
        },
        {
          "output_type": "stream",
          "text": [
            " Epoch: 65 | Loss C: -0.3985 | Loss G: 0.2571\n",
            "\n",
            "Image Saved!\n",
            "\n"
          ],
          "name": "stdout"
        },
        {
          "output_type": "stream",
          "text": [
            "100%|██████████| 237/237 [03:37<00:00,  1.09it/s]\n",
            "  0%|          | 0/237 [00:00<?, ?it/s]"
          ],
          "name": "stderr"
        },
        {
          "output_type": "stream",
          "text": [
            " Epoch: 66 | Loss C: -0.3937 | Loss G: 0.2524\n",
            "\n",
            "Image Saved!\n",
            "\n"
          ],
          "name": "stdout"
        },
        {
          "output_type": "stream",
          "text": [
            "100%|██████████| 237/237 [03:37<00:00,  1.09it/s]\n",
            "  0%|          | 0/237 [00:00<?, ?it/s]"
          ],
          "name": "stderr"
        },
        {
          "output_type": "stream",
          "text": [
            " Epoch: 67 | Loss C: -0.3907 | Loss G: 0.2544\n",
            "\n",
            "Image Saved!\n",
            "\n"
          ],
          "name": "stdout"
        },
        {
          "output_type": "stream",
          "text": [
            "100%|██████████| 237/237 [03:36<00:00,  1.09it/s]\n",
            "  0%|          | 0/237 [00:00<?, ?it/s]"
          ],
          "name": "stderr"
        },
        {
          "output_type": "stream",
          "text": [
            " Epoch: 68 | Loss C: -0.3883 | Loss G: 0.2541\n",
            "\n",
            "Image Saved!\n",
            "\n"
          ],
          "name": "stdout"
        },
        {
          "output_type": "stream",
          "text": [
            "100%|██████████| 237/237 [03:37<00:00,  1.09it/s]\n",
            "  0%|          | 0/237 [00:00<?, ?it/s]"
          ],
          "name": "stderr"
        },
        {
          "output_type": "stream",
          "text": [
            " Epoch: 69 | Loss C: -0.3832 | Loss G: 0.2441\n",
            "\n",
            "Image Saved!\n",
            "\n"
          ],
          "name": "stdout"
        },
        {
          "output_type": "stream",
          "text": [
            "100%|██████████| 237/237 [03:37<00:00,  1.09it/s]\n",
            "  0%|          | 0/237 [00:00<?, ?it/s]"
          ],
          "name": "stderr"
        },
        {
          "output_type": "stream",
          "text": [
            " Epoch: 70 | Loss C: -0.3794 | Loss G: 0.2308\n",
            "\n",
            "Image Saved!\n",
            "\n"
          ],
          "name": "stdout"
        },
        {
          "output_type": "stream",
          "text": [
            "100%|██████████| 237/237 [03:38<00:00,  1.09it/s]\n",
            "  0%|          | 0/237 [00:00<?, ?it/s]"
          ],
          "name": "stderr"
        },
        {
          "output_type": "stream",
          "text": [
            " Epoch: 71 | Loss C: -0.376 | Loss G: 0.2329\n",
            "\n",
            "Image Saved!\n",
            "\n"
          ],
          "name": "stdout"
        },
        {
          "output_type": "stream",
          "text": [
            "100%|██████████| 237/237 [03:37<00:00,  1.09it/s]\n",
            "  0%|          | 0/237 [00:00<?, ?it/s]"
          ],
          "name": "stderr"
        },
        {
          "output_type": "stream",
          "text": [
            " Epoch: 72 | Loss C: -0.3735 | Loss G: 0.2359\n",
            "\n",
            "Image Saved!\n",
            "\n"
          ],
          "name": "stdout"
        },
        {
          "output_type": "stream",
          "text": [
            "100%|██████████| 237/237 [03:38<00:00,  1.09it/s]\n",
            "  0%|          | 0/237 [00:00<?, ?it/s]"
          ],
          "name": "stderr"
        },
        {
          "output_type": "stream",
          "text": [
            " Epoch: 73 | Loss C: -0.3707 | Loss G: 0.2373\n",
            "\n",
            "Image Saved!\n",
            "\n"
          ],
          "name": "stdout"
        },
        {
          "output_type": "stream",
          "text": [
            "100%|██████████| 237/237 [03:37<00:00,  1.09it/s]\n",
            "  0%|          | 0/237 [00:00<?, ?it/s]"
          ],
          "name": "stderr"
        },
        {
          "output_type": "stream",
          "text": [
            " Epoch: 74 | Loss C: -0.3677 | Loss G: 0.2243\n",
            "\n",
            "Image Saved!\n",
            "\n"
          ],
          "name": "stdout"
        },
        {
          "output_type": "stream",
          "text": [
            "100%|██████████| 237/237 [03:38<00:00,  1.09it/s]\n",
            "  0%|          | 0/237 [00:00<?, ?it/s]"
          ],
          "name": "stderr"
        },
        {
          "output_type": "stream",
          "text": [
            " Epoch: 75 | Loss C: -0.3643 | Loss G: 0.2267\n",
            "\n",
            "Image Saved!\n",
            "\n"
          ],
          "name": "stdout"
        },
        {
          "output_type": "stream",
          "text": [
            "100%|██████████| 237/237 [03:38<00:00,  1.09it/s]\n",
            "  0%|          | 0/237 [00:00<?, ?it/s]"
          ],
          "name": "stderr"
        },
        {
          "output_type": "stream",
          "text": [
            " Epoch: 76 | Loss C: -0.3612 | Loss G: 0.2169\n",
            "\n",
            "Image Saved!\n",
            "\n"
          ],
          "name": "stdout"
        },
        {
          "output_type": "stream",
          "text": [
            "100%|██████████| 237/237 [03:37<00:00,  1.09it/s]\n",
            "  0%|          | 0/237 [00:00<?, ?it/s]"
          ],
          "name": "stderr"
        },
        {
          "output_type": "stream",
          "text": [
            " Epoch: 77 | Loss C: -0.3586 | Loss G: 0.2208\n",
            "\n",
            "Image Saved!\n",
            "\n"
          ],
          "name": "stdout"
        },
        {
          "output_type": "stream",
          "text": [
            "100%|██████████| 237/237 [03:37<00:00,  1.09it/s]\n",
            "  0%|          | 0/237 [00:00<?, ?it/s]"
          ],
          "name": "stderr"
        },
        {
          "output_type": "stream",
          "text": [
            " Epoch: 78 | Loss C: -0.357 | Loss G: 0.2399\n",
            "\n",
            "Image Saved!\n",
            "\n"
          ],
          "name": "stdout"
        },
        {
          "output_type": "stream",
          "text": [
            "100%|██████████| 237/237 [03:38<00:00,  1.09it/s]\n",
            "  0%|          | 0/237 [00:00<?, ?it/s]"
          ],
          "name": "stderr"
        },
        {
          "output_type": "stream",
          "text": [
            " Epoch: 79 | Loss C: -0.3544 | Loss G: 0.2218\n",
            "\n",
            "Image Saved!\n",
            "\n"
          ],
          "name": "stdout"
        },
        {
          "output_type": "stream",
          "text": [
            "100%|██████████| 237/237 [03:37<00:00,  1.09it/s]\n",
            "  0%|          | 0/237 [00:00<?, ?it/s]"
          ],
          "name": "stderr"
        },
        {
          "output_type": "stream",
          "text": [
            " Epoch: 80 | Loss C: -0.3531 | Loss G: 0.2288\n",
            "\n",
            "Image Saved!\n",
            "\n"
          ],
          "name": "stdout"
        },
        {
          "output_type": "stream",
          "text": [
            "100%|██████████| 237/237 [03:38<00:00,  1.08it/s]\n",
            "  0%|          | 0/237 [00:00<?, ?it/s]"
          ],
          "name": "stderr"
        },
        {
          "output_type": "stream",
          "text": [
            " Epoch: 81 | Loss C: -0.3509 | Loss G: 0.2173\n",
            "\n",
            "Image Saved!\n",
            "\n"
          ],
          "name": "stdout"
        },
        {
          "output_type": "stream",
          "text": [
            "100%|██████████| 237/237 [03:38<00:00,  1.09it/s]\n",
            "  0%|          | 0/237 [00:00<?, ?it/s]"
          ],
          "name": "stderr"
        },
        {
          "output_type": "stream",
          "text": [
            " Epoch: 82 | Loss C: -0.347 | Loss G: 0.2116\n",
            "\n",
            "Image Saved!\n",
            "\n"
          ],
          "name": "stdout"
        },
        {
          "output_type": "stream",
          "text": [
            "100%|██████████| 237/237 [03:38<00:00,  1.09it/s]\n",
            "  0%|          | 0/237 [00:00<?, ?it/s]"
          ],
          "name": "stderr"
        },
        {
          "output_type": "stream",
          "text": [
            " Epoch: 83 | Loss C: -0.3443 | Loss G: 0.2179\n",
            "\n",
            "Image Saved!\n",
            "\n"
          ],
          "name": "stdout"
        },
        {
          "output_type": "stream",
          "text": [
            "100%|██████████| 237/237 [03:38<00:00,  1.09it/s]\n",
            "  0%|          | 0/237 [00:00<?, ?it/s]"
          ],
          "name": "stderr"
        },
        {
          "output_type": "stream",
          "text": [
            " Epoch: 84 | Loss C: -0.3427 | Loss G: 0.2211\n",
            "\n",
            "Image Saved!\n",
            "\n"
          ],
          "name": "stdout"
        },
        {
          "output_type": "stream",
          "text": [
            "100%|██████████| 237/237 [03:38<00:00,  1.09it/s]\n",
            "  0%|          | 0/237 [00:00<?, ?it/s]"
          ],
          "name": "stderr"
        },
        {
          "output_type": "stream",
          "text": [
            " Epoch: 85 | Loss C: -0.3408 | Loss G: 0.1931\n",
            "\n",
            "Image Saved!\n",
            "\n"
          ],
          "name": "stdout"
        },
        {
          "output_type": "stream",
          "text": [
            "100%|██████████| 237/237 [03:38<00:00,  1.09it/s]\n",
            "  0%|          | 0/237 [00:00<?, ?it/s]"
          ],
          "name": "stderr"
        },
        {
          "output_type": "stream",
          "text": [
            " Epoch: 86 | Loss C: -0.3378 | Loss G: 0.2167\n",
            "\n",
            "Image Saved!\n",
            "\n"
          ],
          "name": "stdout"
        },
        {
          "output_type": "stream",
          "text": [
            "100%|██████████| 237/237 [03:37<00:00,  1.09it/s]\n",
            "  0%|          | 0/237 [00:00<?, ?it/s]"
          ],
          "name": "stderr"
        },
        {
          "output_type": "stream",
          "text": [
            " Epoch: 87 | Loss C: -0.337 | Loss G: 0.2197\n",
            "\n",
            "Image Saved!\n",
            "\n"
          ],
          "name": "stdout"
        },
        {
          "output_type": "stream",
          "text": [
            "100%|██████████| 237/237 [03:38<00:00,  1.09it/s]\n",
            "  0%|          | 0/237 [00:00<?, ?it/s]"
          ],
          "name": "stderr"
        },
        {
          "output_type": "stream",
          "text": [
            " Epoch: 88 | Loss C: -0.3356 | Loss G: 0.2181\n",
            "\n",
            "Image Saved!\n",
            "\n"
          ],
          "name": "stdout"
        },
        {
          "output_type": "stream",
          "text": [
            "100%|██████████| 237/237 [03:38<00:00,  1.09it/s]\n",
            "  0%|          | 0/237 [00:00<?, ?it/s]"
          ],
          "name": "stderr"
        },
        {
          "output_type": "stream",
          "text": [
            " Epoch: 89 | Loss C: -0.3324 | Loss G: 0.1994\n",
            "\n",
            "Image Saved!\n",
            "\n"
          ],
          "name": "stdout"
        },
        {
          "output_type": "stream",
          "text": [
            "100%|██████████| 237/237 [03:37<00:00,  1.09it/s]\n",
            "  0%|          | 0/237 [00:00<?, ?it/s]"
          ],
          "name": "stderr"
        },
        {
          "output_type": "stream",
          "text": [
            " Epoch: 90 | Loss C: -0.331 | Loss G: 0.2123\n",
            "\n",
            "Image Saved!\n",
            "\n"
          ],
          "name": "stdout"
        },
        {
          "output_type": "stream",
          "text": [
            "100%|██████████| 237/237 [03:38<00:00,  1.09it/s]\n",
            "  0%|          | 0/237 [00:00<?, ?it/s]"
          ],
          "name": "stderr"
        },
        {
          "output_type": "stream",
          "text": [
            " Epoch: 91 | Loss C: -0.3279 | Loss G: 0.1979\n",
            "\n",
            "Image Saved!\n",
            "\n"
          ],
          "name": "stdout"
        },
        {
          "output_type": "stream",
          "text": [
            "100%|██████████| 237/237 [03:37<00:00,  1.09it/s]\n",
            "  0%|          | 0/237 [00:00<?, ?it/s]"
          ],
          "name": "stderr"
        },
        {
          "output_type": "stream",
          "text": [
            " Epoch: 92 | Loss C: -0.3263 | Loss G: 0.1984\n",
            "\n",
            "Image Saved!\n",
            "\n"
          ],
          "name": "stdout"
        },
        {
          "output_type": "stream",
          "text": [
            "100%|██████████| 237/237 [03:38<00:00,  1.09it/s]\n",
            "  0%|          | 0/237 [00:00<?, ?it/s]"
          ],
          "name": "stderr"
        },
        {
          "output_type": "stream",
          "text": [
            " Epoch: 93 | Loss C: -0.3247 | Loss G: 0.2227\n",
            "\n",
            "Image Saved!\n",
            "\n"
          ],
          "name": "stdout"
        },
        {
          "output_type": "stream",
          "text": [
            "100%|██████████| 237/237 [03:38<00:00,  1.09it/s]\n",
            "  0%|          | 0/237 [00:00<?, ?it/s]"
          ],
          "name": "stderr"
        },
        {
          "output_type": "stream",
          "text": [
            " Epoch: 94 | Loss C: -0.3241 | Loss G: 0.1945\n",
            "\n",
            "Image Saved!\n",
            "\n"
          ],
          "name": "stdout"
        },
        {
          "output_type": "stream",
          "text": [
            "100%|██████████| 237/237 [03:38<00:00,  1.09it/s]\n",
            "  0%|          | 0/237 [00:00<?, ?it/s]"
          ],
          "name": "stderr"
        },
        {
          "output_type": "stream",
          "text": [
            " Epoch: 95 | Loss C: -0.3221 | Loss G: 0.2005\n",
            "\n",
            "Image Saved!\n",
            "\n"
          ],
          "name": "stdout"
        },
        {
          "output_type": "stream",
          "text": [
            "100%|██████████| 237/237 [03:38<00:00,  1.09it/s]\n",
            "  0%|          | 0/237 [00:00<?, ?it/s]"
          ],
          "name": "stderr"
        },
        {
          "output_type": "stream",
          "text": [
            " Epoch: 96 | Loss C: -0.3202 | Loss G: 0.1958\n",
            "\n",
            "Image Saved!\n",
            "\n"
          ],
          "name": "stdout"
        },
        {
          "output_type": "stream",
          "text": [
            "100%|██████████| 237/237 [03:38<00:00,  1.09it/s]\n",
            "  0%|          | 0/237 [00:00<?, ?it/s]"
          ],
          "name": "stderr"
        },
        {
          "output_type": "stream",
          "text": [
            " Epoch: 97 | Loss C: -0.3171 | Loss G: 0.1831\n",
            "\n",
            "Image Saved!\n",
            "\n"
          ],
          "name": "stdout"
        },
        {
          "output_type": "stream",
          "text": [
            "100%|██████████| 237/237 [03:38<00:00,  1.09it/s]\n",
            "  0%|          | 0/237 [00:00<?, ?it/s]"
          ],
          "name": "stderr"
        },
        {
          "output_type": "stream",
          "text": [
            " Epoch: 98 | Loss C: -0.3154 | Loss G: 0.1972\n",
            "\n",
            "Image Saved!\n",
            "\n"
          ],
          "name": "stdout"
        },
        {
          "output_type": "stream",
          "text": [
            "100%|██████████| 237/237 [03:38<00:00,  1.08it/s]"
          ],
          "name": "stderr"
        },
        {
          "output_type": "stream",
          "text": [
            " Epoch: 99 | Loss C: -0.3122 | Loss G: 0.201\n",
            "\n",
            "Image Saved!\n",
            "\n"
          ],
          "name": "stdout"
        },
        {
          "output_type": "stream",
          "text": [
            "\n"
          ],
          "name": "stderr"
        }
      ]
    },
    {
      "cell_type": "code",
      "metadata": {
        "colab": {
          "base_uri": "https://localhost:8080/"
        },
        "id": "IL0tW66YdiDu",
        "outputId": "72fa9d54-074c-4fd3-b5d8-a2ee36190834"
      },
      "source": [
        "save_fake_images(100)"
      ],
      "execution_count": 26,
      "outputs": [
        {
          "output_type": "stream",
          "text": [
            "\n",
            "Image Saved!\n",
            "\n"
          ],
          "name": "stdout"
        }
      ]
    },
    {
      "cell_type": "code",
      "metadata": {
        "id": "Aj5wwH6r5l34"
      },
      "source": [
        "def save_checkpoint(net, opt, filename):\r\n",
        "    checkpoint = {\"net_dict\": net.state_dict(), \"opt_dict\": opt.state_dict()}\r\n",
        "    torch.save(checkpoint, filename)\r\n",
        "    print(\"Checkpoint Saved!\")\r\n",
        "\r\n",
        "def load_checkpoint(net, opt, filename):\r\n",
        "    checkpoint = torch.load(filename)\r\n",
        "    net.load_state_dict(checkpoint[\"net_dict\"])\r\n",
        "    opt.load_state_dict(checkpoint[\"opt_dict\"])\r\n",
        "    print(\"Checkpoint Loaded!\")"
      ],
      "execution_count": 24,
      "outputs": []
    },
    {
      "cell_type": "code",
      "metadata": {
        "colab": {
          "base_uri": "https://localhost:8080/"
        },
        "id": "jYZfuL3Ucz-Y",
        "outputId": "262681b6-47de-4a66-8df6-46f890db94ea"
      },
      "source": [
        "save_checkpoint(C, opt_C, \"pre_trained_critic.pth.tar\")\r\n",
        "save_checkpoint(G, opt_G, \"pre_trained_generator.pth.tar\")"
      ],
      "execution_count": 25,
      "outputs": [
        {
          "output_type": "stream",
          "text": [
            "Checkpoint Saved!\n",
            "Checkpoint Saved!\n"
          ],
          "name": "stdout"
        }
      ]
    },
    {
      "cell_type": "code",
      "metadata": {
        "id": "AXYkhB1-czpB"
      },
      "source": [],
      "execution_count": null,
      "outputs": []
    },
    {
      "cell_type": "code",
      "metadata": {
        "id": "_VJN9nHO5l0K"
      },
      "source": [],
      "execution_count": null,
      "outputs": []
    }
  ]
}