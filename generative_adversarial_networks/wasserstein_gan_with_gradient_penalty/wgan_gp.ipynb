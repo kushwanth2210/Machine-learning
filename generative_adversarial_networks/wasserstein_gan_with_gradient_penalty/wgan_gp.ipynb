{
  "nbformat": 4,
  "nbformat_minor": 0,
  "metadata": {
    "colab": {
      "name": "default.ipynb",
      "provenance": [],
      "collapsed_sections": []
    },
    "kernelspec": {
      "name": "python3",
      "display_name": "Python 3"
    },
    "accelerator": "GPU"
  },
  "cells": [
    {
      "cell_type": "code",
      "metadata": {
        "id": "Jfy48aqO_goU"
      },
      "source": [
        "import torch\r\n",
        "import torch.nn as nn\r\n",
        "import tqdm\r\n",
        "import numpy as np\r\n",
        "import torch.optim as optim\r\n",
        "import torchvision\r\n",
        "from torchvision.utils import make_grid, save_image\r\n",
        "import torchvision.datasets as datasets\r\n",
        "import torchvision.transforms as transforms\r\n",
        "from torch.utils.data import DataLoader"
      ],
      "execution_count": 3,
      "outputs": []
    },
    {
      "cell_type": "code",
      "metadata": {
        "id": "gNDFQtO2Ghwn",
        "colab": {
          "base_uri": "https://localhost:8080/",
          "height": 35
        },
        "outputId": "1b12285f-feb2-4129-c515-e1627467a713"
      },
      "source": [
        "torch.cuda.get_device_name()"
      ],
      "execution_count": 4,
      "outputs": [
        {
          "output_type": "execute_result",
          "data": {
            "application/vnd.google.colaboratory.intrinsic+json": {
              "type": "string"
            },
            "text/plain": [
              "'Tesla T4'"
            ]
          },
          "metadata": {
            "tags": []
          },
          "execution_count": 4
        }
      ]
    },
    {
      "cell_type": "code",
      "metadata": {
        "id": "7yw4LPIvA5CO"
      },
      "source": [
        "class Critic(nn.Module):\r\n",
        "    def __init__(self, img_channels, features_d):\r\n",
        "        super().__init__()\r\n",
        "        self.c = nn.Sequential(nn.Conv2d(img_channels, features_d, kernel_size=4, stride=2, padding=1), \r\n",
        "                                nn.LeakyReLU(0.2), \r\n",
        "\r\n",
        "                                self.conv_block(features_d, features_d * 2, 4, 2, 1), \r\n",
        "                                self.conv_block(features_d * 2, features_d * 4, 4, 2, 1), \r\n",
        "                                self.conv_block(features_d * 4, features_d * 8, 4, 2, 1), \r\n",
        "\r\n",
        "                                nn.Conv2d(features_d * 8, 1, kernel_size=4, stride=2, padding=0))\r\n",
        "        \r\n",
        "    def conv_block(self, in_channels, out_channels, kernel_size, stride, padding):\r\n",
        "         return nn.Sequential(nn.Conv2d(in_channels, out_channels, kernel_size, stride, padding, bias=False), \r\n",
        "                              nn.InstanceNorm2d(out_channels, affine=True), \r\n",
        "                              nn.LeakyReLU(0.2))\r\n",
        "\r\n",
        "    def forward(self, x):\r\n",
        "        return self.c(x)"
      ],
      "execution_count": 5,
      "outputs": []
    },
    {
      "cell_type": "code",
      "metadata": {
        "id": "e3p-PoLzA7Vb"
      },
      "source": [
        "class Generator(nn.Module):\r\n",
        "    def __init__(self, noise_channels, img_channels, features_g):\r\n",
        "        super().__init__()\r\n",
        "        self.g = nn.Sequential(self.conv_block(noise_channels, features_g * 16, 4, 1, 0), \r\n",
        "                               self.conv_block(features_g * 16, features_g * 8, 4, 2, 1),\r\n",
        "                               self.conv_block(features_g * 8, features_g * 4, 4, 2, 1), \r\n",
        "                               self.conv_block(features_g * 4, features_g * 2, 4, 2, 1),\r\n",
        "                               \r\n",
        "                               nn.ConvTranspose2d(features_g * 2, img_channels, kernel_size=4, stride=2, padding=1),\r\n",
        "                               nn.Tanh())\r\n",
        "        \r\n",
        "    def conv_block(self, in_channels, out_channels, kernel_size, stride, padding):\r\n",
        "        return nn.Sequential(nn.ConvTranspose2d(in_channels, out_channels, kernel_size, stride, padding, bias=False), \r\n",
        "                             nn.BatchNorm2d(out_channels), \r\n",
        "                             nn.ReLU())\r\n",
        "    \r\n",
        "    def forward(self, x):\r\n",
        "        return self.g(x)"
      ],
      "execution_count": 6,
      "outputs": []
    },
    {
      "cell_type": "code",
      "metadata": {
        "id": "ni0_VDPAA7SZ"
      },
      "source": [
        "def init_parameters(net):\r\n",
        "    for n in net.modules():\r\n",
        "        if isinstance(n, (nn.Conv2d, nn.ConvTranspose2d, nn.BatchNorm2d)):\r\n",
        "            nn.init.normal_(n.weight.data, 0.0, 0.02)"
      ],
      "execution_count": 7,
      "outputs": []
    },
    {
      "cell_type": "code",
      "metadata": {
        "id": "OeIDXZAmTGI_"
      },
      "source": [
        "def gradient_penalty(C, real, fake, device):\r\n",
        "    bs, c, h, w = real.shape\r\n",
        "    alpha = torch.rand((bs, 1, 1, 1)).repeat(1, c, h, w).to(device)\r\n",
        "    juxtaposition = alpha * real + (1 - alpha) * fake\r\n",
        "    scores = C(juxtaposition)\r\n",
        "\r\n",
        "    gradient = torch.autograd.grad(outputs=scores, inputs=juxtaposition, grad_outputs=torch.ones_like(scores),\r\n",
        "                                   create_graph=True, retain_graph=True)[0]\r\n",
        "\r\n",
        "    gradient = gradient.view(gradient.shape[0], -1)\r\n",
        "    grad_norm = gradient.norm(2, dim=1)\r\n",
        "    gp = torch.mean((grad_norm - 1) ** 2)\r\n",
        "    return gp"
      ],
      "execution_count": 8,
      "outputs": []
    },
    {
      "cell_type": "code",
      "metadata": {
        "id": "B6yndz3Y5WIR"
      },
      "source": [
        "device = torch.device(\"cuda\" if torch.cuda.is_available() else \"cpu\")\n",
        "lr = 1e-4\n",
        "batch_size = 64\n",
        "img_size = 64\n",
        "img_channels = 3\n",
        "noise_dim = 100\n",
        "epochs = 500\n",
        "features_c = 64\n",
        "features_g = 64\n",
        "critic_iter = 5\n",
        "lambda_gp = 10"
      ],
      "execution_count": 9,
      "outputs": []
    },
    {
      "cell_type": "code",
      "metadata": {
        "colab": {
          "base_uri": "https://localhost:8080/"
        },
        "id": "7GdYsaHV7Psm",
        "outputId": "51f63560-719a-4b23-a9c6-6e7b3322a398"
      },
      "source": [
        "device"
      ],
      "execution_count": 10,
      "outputs": [
        {
          "output_type": "execute_result",
          "data": {
            "text/plain": [
              "device(type='cuda')"
            ]
          },
          "metadata": {
            "tags": []
          },
          "execution_count": 10
        }
      ]
    },
    {
      "cell_type": "code",
      "metadata": {
        "id": "74QlbPf55XW8"
      },
      "source": [
        "transform = transforms.Compose([transforms.Resize((img_size, img_size)),\n",
        "                                 transforms.ToTensor(), \n",
        "                                 transforms.Normalize([0.5 for _ in range(img_channels)], [0.5 for _ in range(img_channels)])])"
      ],
      "execution_count": 11,
      "outputs": []
    },
    {
      "cell_type": "code",
      "metadata": {
        "id": "WXIuekxw6fMd"
      },
      "source": [
        "dataset = datasets.ImageFolder(root=\"faces/\", transform=transform)"
      ],
      "execution_count": 12,
      "outputs": []
    },
    {
      "cell_type": "code",
      "metadata": {
        "colab": {
          "base_uri": "https://localhost:8080/"
        },
        "id": "5dWTN6KcmY8d",
        "outputId": "ccc07bda-dba3-465c-9120-54cc74f87e6b"
      },
      "source": [
        "len(dataset)"
      ],
      "execution_count": 13,
      "outputs": [
        {
          "output_type": "execute_result",
          "data": {
            "text/plain": [
              "15167"
            ]
          },
          "metadata": {
            "tags": []
          },
          "execution_count": 13
        }
      ]
    },
    {
      "cell_type": "code",
      "metadata": {
        "id": "5oCq_hBkmY1A"
      },
      "source": [
        "dataloader = DataLoader(dataset, batch_size, shuffle=True)"
      ],
      "execution_count": 14,
      "outputs": []
    },
    {
      "cell_type": "code",
      "metadata": {
        "colab": {
          "base_uri": "https://localhost:8080/"
        },
        "id": "73kU5debmYx4",
        "outputId": "64ef2f8c-f9ee-4379-a5bd-bac392893e84"
      },
      "source": [
        "len(dataloader)"
      ],
      "execution_count": 15,
      "outputs": [
        {
          "output_type": "execute_result",
          "data": {
            "text/plain": [
              "237"
            ]
          },
          "metadata": {
            "tags": []
          },
          "execution_count": 15
        }
      ]
    },
    {
      "cell_type": "code",
      "metadata": {
        "id": "JXEqO0TB7QG1"
      },
      "source": [
        "G = Generator(noise_dim, img_channels, features_g).to(device)\n",
        "C = Critic(img_channels, features_c).to(device)\n",
        "init_parameters(G)\n",
        "init_parameters(C)"
      ],
      "execution_count": 16,
      "outputs": []
    },
    {
      "cell_type": "code",
      "metadata": {
        "id": "lIBB4myx7aau"
      },
      "source": [
        "opt_G = optim.Adam(G.parameters(), lr, betas=(0.0, 0.9))\n",
        "opt_C = optim.Adam(C.parameters(), lr, betas=(0.0, 0.9))"
      ],
      "execution_count": 17,
      "outputs": []
    },
    {
      "cell_type": "code",
      "metadata": {
        "id": "NH5bfGA97tCe"
      },
      "source": [
        "fixed_noise = torch.randn(64, noise_dim, 1, 1).to(device)"
      ],
      "execution_count": 18,
      "outputs": []
    },
    {
      "cell_type": "code",
      "metadata": {
        "id": "s_0NWziW-XsE"
      },
      "source": [
        "def save_fake_images(epoch_num):\n",
        "    with torch.no_grad():\n",
        "        fake = G(fixed_noise)\n",
        "    img_grid = make_grid(fake, normalize=True)\n",
        "    file_name = \"fake_images-{0:0=4d}.png\".format(epoch_num)\n",
        "    save_image(fake, file_name, nrow=8)\n",
        "    print(\"\")\n",
        "    print(\"Image Saved!\")\n",
        "    print(\"\")"
      ],
      "execution_count": 19,
      "outputs": []
    },
    {
      "cell_type": "code",
      "metadata": {
        "id": "7bLOK06b-euk"
      },
      "source": [
        "for real, _ in dataloader:\n",
        "    img_grid = make_grid(real[:64], normalize=True)\n",
        "    save_image(img_grid, \"real_images.png\", nrow=8)\n",
        "    break"
      ],
      "execution_count": 20,
      "outputs": []
    },
    {
      "cell_type": "code",
      "metadata": {
        "id": "96BnRwXmxvjG",
        "colab": {
          "base_uri": "https://localhost:8080/"
        },
        "outputId": "1d0949b7-ddff-4379-e88a-a2c5e74cc3d4"
      },
      "source": [
        "save_fake_images(0)"
      ],
      "execution_count": 21,
      "outputs": [
        {
          "output_type": "stream",
          "text": [
            "\n",
            "Image Saved!\n",
            "\n"
          ],
          "name": "stdout"
        }
      ]
    },
    {
      "cell_type": "code",
      "metadata": {
        "colab": {
          "base_uri": "https://localhost:8080/"
        },
        "id": "Dk9W5PBQZ37c",
        "outputId": "94cd4714-d08e-4e85-f199-15281cf0f8a9"
      },
      "source": [
        "for epoch in range(epochs):\r\n",
        "    batch_losses_C = []\r\n",
        "    batch_losses_G = []\r\n",
        "    for real, _ in tqdm.tqdm(dataloader, total=len(dataloader)):\r\n",
        "        real = real.to(device)\r\n",
        "        curr_batch_size = real.shape[0]\r\n",
        "\r\n",
        "        for _ in range(critic_iter):\r\n",
        "            noise = torch.randn(curr_batch_size, noise_dim, 1, 1).to(device)\r\n",
        "            fake = G(noise)\r\n",
        "            C_real = C(real).reshape(-1)\r\n",
        "            C_fake = C(fake).reshape(-1)\r\n",
        "            gp = gradient_penalty(C, fake, real, device)\r\n",
        "            loss_C = -(torch.mean(C_real) - torch.mean(C_fake)) + lambda_gp * gp\r\n",
        "\r\n",
        "            C.zero_grad()\r\n",
        "            loss_C.backward(retain_graph=True)\r\n",
        "            opt_C.step()\r\n",
        "            batch_losses_C.append(loss_C.item())\r\n",
        "        \r\n",
        "        output = C(fake).reshape(-1)\r\n",
        "        loss_G = -torch.mean(output)\r\n",
        "\r\n",
        "        G.zero_grad()\r\n",
        "        loss_G.backward()\r\n",
        "        opt_G.step()\r\n",
        "        batch_losses_G.append(loss_G.item())\r\n",
        "\r\n",
        "    print(f\" Epoch: {epoch} | Loss C: {np.round(sum(batch_losses_C)/len(batch_losses_C), 4)} | Loss G: {np.round(sum(batch_losses_G)/len(batch_losses_G), 4)}\")\r\n",
        "    if epoch % 10 == 0:\r\n",
        "        save_fake_images(epoch)"
      ],
      "execution_count": null,
      "outputs": [
        {
          "output_type": "stream",
          "text": [
            "100%|██████████| 237/237 [04:52<00:00,  1.23s/it]\n",
            "  0%|          | 0/237 [00:00<?, ?it/s]"
          ],
          "name": "stderr"
        },
        {
          "output_type": "stream",
          "text": [
            " Epoch: 0 | Loss C: -84.4116 | Loss G: 115.1006\n",
            "\n",
            "Image Saved!\n",
            "\n"
          ],
          "name": "stdout"
        },
        {
          "output_type": "stream",
          "text": [
            "100%|██████████| 237/237 [04:53<00:00,  1.24s/it]\n",
            "  0%|          | 0/237 [00:00<?, ?it/s]"
          ],
          "name": "stderr"
        },
        {
          "output_type": "stream",
          "text": [
            " Epoch: 1 | Loss C: -47.3321 | Loss G: 141.1016\n"
          ],
          "name": "stdout"
        },
        {
          "output_type": "stream",
          "text": [
            "100%|██████████| 237/237 [04:53<00:00,  1.24s/it]\n",
            "  0%|          | 0/237 [00:00<?, ?it/s]"
          ],
          "name": "stderr"
        },
        {
          "output_type": "stream",
          "text": [
            " Epoch: 2 | Loss C: -23.5482 | Loss G: 127.1348\n"
          ],
          "name": "stdout"
        },
        {
          "output_type": "stream",
          "text": [
            "100%|██████████| 237/237 [04:53<00:00,  1.24s/it]\n",
            "  0%|          | 0/237 [00:00<?, ?it/s]"
          ],
          "name": "stderr"
        },
        {
          "output_type": "stream",
          "text": [
            " Epoch: 3 | Loss C: -18.1066 | Loss G: 116.9474\n"
          ],
          "name": "stdout"
        },
        {
          "output_type": "stream",
          "text": [
            "100%|██████████| 237/237 [04:53<00:00,  1.24s/it]\n",
            "  0%|          | 0/237 [00:00<?, ?it/s]"
          ],
          "name": "stderr"
        },
        {
          "output_type": "stream",
          "text": [
            " Epoch: 4 | Loss C: -16.8096 | Loss G: 116.9355\n"
          ],
          "name": "stdout"
        },
        {
          "output_type": "stream",
          "text": [
            "100%|██████████| 237/237 [04:53<00:00,  1.24s/it]\n",
            "  0%|          | 0/237 [00:00<?, ?it/s]"
          ],
          "name": "stderr"
        },
        {
          "output_type": "stream",
          "text": [
            " Epoch: 5 | Loss C: -15.8057 | Loss G: 115.7994\n"
          ],
          "name": "stdout"
        },
        {
          "output_type": "stream",
          "text": [
            "100%|██████████| 237/237 [04:53<00:00,  1.24s/it]\n",
            "  0%|          | 0/237 [00:00<?, ?it/s]"
          ],
          "name": "stderr"
        },
        {
          "output_type": "stream",
          "text": [
            " Epoch: 6 | Loss C: -15.0279 | Loss G: 115.9646\n"
          ],
          "name": "stdout"
        },
        {
          "output_type": "stream",
          "text": [
            "100%|██████████| 237/237 [04:53<00:00,  1.24s/it]\n",
            "  0%|          | 0/237 [00:00<?, ?it/s]"
          ],
          "name": "stderr"
        },
        {
          "output_type": "stream",
          "text": [
            " Epoch: 7 | Loss C: -13.96 | Loss G: 117.0942\n"
          ],
          "name": "stdout"
        },
        {
          "output_type": "stream",
          "text": [
            "100%|██████████| 237/237 [04:53<00:00,  1.24s/it]\n",
            "  0%|          | 0/237 [00:00<?, ?it/s]"
          ],
          "name": "stderr"
        },
        {
          "output_type": "stream",
          "text": [
            " Epoch: 8 | Loss C: -13.0876 | Loss G: 117.7157\n"
          ],
          "name": "stdout"
        },
        {
          "output_type": "stream",
          "text": [
            "100%|██████████| 237/237 [04:53<00:00,  1.24s/it]\n",
            "  0%|          | 0/237 [00:00<?, ?it/s]"
          ],
          "name": "stderr"
        },
        {
          "output_type": "stream",
          "text": [
            " Epoch: 9 | Loss C: -12.4576 | Loss G: 119.6281\n"
          ],
          "name": "stdout"
        },
        {
          "output_type": "stream",
          "text": [
            "100%|██████████| 237/237 [04:53<00:00,  1.24s/it]\n",
            "  0%|          | 0/237 [00:00<?, ?it/s]"
          ],
          "name": "stderr"
        },
        {
          "output_type": "stream",
          "text": [
            " Epoch: 10 | Loss C: -11.9549 | Loss G: 121.8198\n",
            "\n",
            "Image Saved!\n",
            "\n"
          ],
          "name": "stdout"
        },
        {
          "output_type": "stream",
          "text": [
            "100%|██████████| 237/237 [04:53<00:00,  1.24s/it]\n",
            "  0%|          | 0/237 [00:00<?, ?it/s]"
          ],
          "name": "stderr"
        },
        {
          "output_type": "stream",
          "text": [
            " Epoch: 11 | Loss C: -11.4767 | Loss G: 121.264\n"
          ],
          "name": "stdout"
        },
        {
          "output_type": "stream",
          "text": [
            "100%|██████████| 237/237 [04:53<00:00,  1.24s/it]\n",
            "  0%|          | 0/237 [00:00<?, ?it/s]"
          ],
          "name": "stderr"
        },
        {
          "output_type": "stream",
          "text": [
            " Epoch: 12 | Loss C: -11.2558 | Loss G: 124.0759\n"
          ],
          "name": "stdout"
        },
        {
          "output_type": "stream",
          "text": [
            "100%|██████████| 237/237 [04:53<00:00,  1.24s/it]\n",
            "  0%|          | 0/237 [00:00<?, ?it/s]"
          ],
          "name": "stderr"
        },
        {
          "output_type": "stream",
          "text": [
            " Epoch: 13 | Loss C: -10.8873 | Loss G: 126.1306\n"
          ],
          "name": "stdout"
        },
        {
          "output_type": "stream",
          "text": [
            "100%|██████████| 237/237 [04:53<00:00,  1.24s/it]\n",
            "  0%|          | 0/237 [00:00<?, ?it/s]"
          ],
          "name": "stderr"
        },
        {
          "output_type": "stream",
          "text": [
            " Epoch: 14 | Loss C: -10.6267 | Loss G: 126.0\n"
          ],
          "name": "stdout"
        },
        {
          "output_type": "stream",
          "text": [
            "100%|██████████| 237/237 [04:53<00:00,  1.24s/it]\n",
            "  0%|          | 0/237 [00:00<?, ?it/s]"
          ],
          "name": "stderr"
        },
        {
          "output_type": "stream",
          "text": [
            " Epoch: 15 | Loss C: -10.3785 | Loss G: 127.37\n"
          ],
          "name": "stdout"
        },
        {
          "output_type": "stream",
          "text": [
            "100%|██████████| 237/237 [04:53<00:00,  1.24s/it]\n",
            "  0%|          | 0/237 [00:00<?, ?it/s]"
          ],
          "name": "stderr"
        },
        {
          "output_type": "stream",
          "text": [
            " Epoch: 16 | Loss C: -10.0412 | Loss G: 128.8744\n"
          ],
          "name": "stdout"
        },
        {
          "output_type": "stream",
          "text": [
            "100%|██████████| 237/237 [04:53<00:00,  1.24s/it]\n",
            "  0%|          | 0/237 [00:00<?, ?it/s]"
          ],
          "name": "stderr"
        },
        {
          "output_type": "stream",
          "text": [
            " Epoch: 17 | Loss C: -9.9514 | Loss G: 129.9089\n"
          ],
          "name": "stdout"
        },
        {
          "output_type": "stream",
          "text": [
            "100%|██████████| 237/237 [04:53<00:00,  1.24s/it]\n",
            "  0%|          | 0/237 [00:00<?, ?it/s]"
          ],
          "name": "stderr"
        },
        {
          "output_type": "stream",
          "text": [
            " Epoch: 18 | Loss C: -9.7384 | Loss G: 131.5374\n"
          ],
          "name": "stdout"
        },
        {
          "output_type": "stream",
          "text": [
            "100%|██████████| 237/237 [04:53<00:00,  1.24s/it]\n",
            "  0%|          | 0/237 [00:00<?, ?it/s]"
          ],
          "name": "stderr"
        },
        {
          "output_type": "stream",
          "text": [
            " Epoch: 19 | Loss C: -9.6147 | Loss G: 132.8775\n"
          ],
          "name": "stdout"
        },
        {
          "output_type": "stream",
          "text": [
            "100%|██████████| 237/237 [04:53<00:00,  1.24s/it]\n",
            "  0%|          | 0/237 [00:00<?, ?it/s]"
          ],
          "name": "stderr"
        },
        {
          "output_type": "stream",
          "text": [
            " Epoch: 20 | Loss C: -9.4556 | Loss G: 132.3773\n",
            "\n",
            "Image Saved!\n",
            "\n"
          ],
          "name": "stdout"
        },
        {
          "output_type": "stream",
          "text": [
            "100%|██████████| 237/237 [04:53<00:00,  1.24s/it]\n",
            "  0%|          | 0/237 [00:00<?, ?it/s]"
          ],
          "name": "stderr"
        },
        {
          "output_type": "stream",
          "text": [
            " Epoch: 21 | Loss C: -9.2768 | Loss G: 134.7087\n"
          ],
          "name": "stdout"
        },
        {
          "output_type": "stream",
          "text": [
            "100%|██████████| 237/237 [04:53<00:00,  1.24s/it]\n",
            "  0%|          | 0/237 [00:00<?, ?it/s]"
          ],
          "name": "stderr"
        },
        {
          "output_type": "stream",
          "text": [
            " Epoch: 22 | Loss C: -9.2784 | Loss G: 134.1874\n"
          ],
          "name": "stdout"
        },
        {
          "output_type": "stream",
          "text": [
            "100%|██████████| 237/237 [04:53<00:00,  1.24s/it]\n",
            "  0%|          | 0/237 [00:00<?, ?it/s]"
          ],
          "name": "stderr"
        },
        {
          "output_type": "stream",
          "text": [
            " Epoch: 23 | Loss C: -9.0235 | Loss G: 135.3083\n"
          ],
          "name": "stdout"
        },
        {
          "output_type": "stream",
          "text": [
            "100%|██████████| 237/237 [04:53<00:00,  1.24s/it]\n",
            "  0%|          | 0/237 [00:00<?, ?it/s]"
          ],
          "name": "stderr"
        },
        {
          "output_type": "stream",
          "text": [
            " Epoch: 24 | Loss C: -9.0397 | Loss G: 135.3681\n"
          ],
          "name": "stdout"
        },
        {
          "output_type": "stream",
          "text": [
            "100%|██████████| 237/237 [04:53<00:00,  1.24s/it]\n",
            "  0%|          | 0/237 [00:00<?, ?it/s]"
          ],
          "name": "stderr"
        },
        {
          "output_type": "stream",
          "text": [
            " Epoch: 25 | Loss C: -8.9946 | Loss G: 137.3159\n"
          ],
          "name": "stdout"
        },
        {
          "output_type": "stream",
          "text": [
            "100%|██████████| 237/237 [04:53<00:00,  1.24s/it]\n",
            "  0%|          | 0/237 [00:00<?, ?it/s]"
          ],
          "name": "stderr"
        },
        {
          "output_type": "stream",
          "text": [
            " Epoch: 26 | Loss C: -8.868 | Loss G: 139.2601\n"
          ],
          "name": "stdout"
        },
        {
          "output_type": "stream",
          "text": [
            "100%|██████████| 237/237 [04:53<00:00,  1.24s/it]\n",
            "  0%|          | 0/237 [00:00<?, ?it/s]"
          ],
          "name": "stderr"
        },
        {
          "output_type": "stream",
          "text": [
            " Epoch: 27 | Loss C: -8.7005 | Loss G: 141.5486\n"
          ],
          "name": "stdout"
        },
        {
          "output_type": "stream",
          "text": [
            "100%|██████████| 237/237 [04:53<00:00,  1.24s/it]\n",
            "  0%|          | 0/237 [00:00<?, ?it/s]"
          ],
          "name": "stderr"
        },
        {
          "output_type": "stream",
          "text": [
            " Epoch: 28 | Loss C: -8.7754 | Loss G: 141.9692\n"
          ],
          "name": "stdout"
        },
        {
          "output_type": "stream",
          "text": [
            "100%|██████████| 237/237 [04:52<00:00,  1.24s/it]\n",
            "  0%|          | 0/237 [00:00<?, ?it/s]"
          ],
          "name": "stderr"
        },
        {
          "output_type": "stream",
          "text": [
            " Epoch: 29 | Loss C: -8.701 | Loss G: 143.4269\n"
          ],
          "name": "stdout"
        },
        {
          "output_type": "stream",
          "text": [
            "100%|██████████| 237/237 [04:52<00:00,  1.24s/it]\n",
            "  0%|          | 0/237 [00:00<?, ?it/s]"
          ],
          "name": "stderr"
        },
        {
          "output_type": "stream",
          "text": [
            " Epoch: 30 | Loss C: -8.4723 | Loss G: 143.8937\n",
            "\n",
            "Image Saved!\n",
            "\n"
          ],
          "name": "stdout"
        },
        {
          "output_type": "stream",
          "text": [
            "100%|██████████| 237/237 [04:52<00:00,  1.24s/it]\n",
            "  0%|          | 0/237 [00:00<?, ?it/s]"
          ],
          "name": "stderr"
        },
        {
          "output_type": "stream",
          "text": [
            " Epoch: 31 | Loss C: -8.7848 | Loss G: 145.9944\n"
          ],
          "name": "stdout"
        },
        {
          "output_type": "stream",
          "text": [
            "100%|██████████| 237/237 [04:52<00:00,  1.23s/it]\n",
            "  0%|          | 0/237 [00:00<?, ?it/s]"
          ],
          "name": "stderr"
        },
        {
          "output_type": "stream",
          "text": [
            " Epoch: 32 | Loss C: -8.5287 | Loss G: 146.7654\n"
          ],
          "name": "stdout"
        },
        {
          "output_type": "stream",
          "text": [
            "100%|██████████| 237/237 [04:52<00:00,  1.24s/it]\n",
            "  0%|          | 0/237 [00:00<?, ?it/s]"
          ],
          "name": "stderr"
        },
        {
          "output_type": "stream",
          "text": [
            " Epoch: 33 | Loss C: -8.5135 | Loss G: 148.5421\n"
          ],
          "name": "stdout"
        },
        {
          "output_type": "stream",
          "text": [
            "100%|██████████| 237/237 [04:52<00:00,  1.23s/it]\n",
            "  0%|          | 0/237 [00:00<?, ?it/s]"
          ],
          "name": "stderr"
        },
        {
          "output_type": "stream",
          "text": [
            " Epoch: 34 | Loss C: -8.5113 | Loss G: 149.3048\n"
          ],
          "name": "stdout"
        },
        {
          "output_type": "stream",
          "text": [
            "100%|██████████| 237/237 [04:52<00:00,  1.24s/it]\n",
            "  0%|          | 0/237 [00:00<?, ?it/s]"
          ],
          "name": "stderr"
        },
        {
          "output_type": "stream",
          "text": [
            " Epoch: 35 | Loss C: -8.4012 | Loss G: 147.7917\n"
          ],
          "name": "stdout"
        },
        {
          "output_type": "stream",
          "text": [
            "100%|██████████| 237/237 [04:52<00:00,  1.23s/it]\n",
            "  0%|          | 0/237 [00:00<?, ?it/s]"
          ],
          "name": "stderr"
        },
        {
          "output_type": "stream",
          "text": [
            " Epoch: 36 | Loss C: -8.415 | Loss G: 151.3895\n"
          ],
          "name": "stdout"
        },
        {
          "output_type": "stream",
          "text": [
            "100%|██████████| 237/237 [04:52<00:00,  1.23s/it]\n",
            "  0%|          | 0/237 [00:00<?, ?it/s]"
          ],
          "name": "stderr"
        },
        {
          "output_type": "stream",
          "text": [
            " Epoch: 37 | Loss C: -8.3483 | Loss G: 147.7635\n"
          ],
          "name": "stdout"
        },
        {
          "output_type": "stream",
          "text": [
            "100%|██████████| 237/237 [04:52<00:00,  1.23s/it]\n",
            "  0%|          | 0/237 [00:00<?, ?it/s]"
          ],
          "name": "stderr"
        },
        {
          "output_type": "stream",
          "text": [
            " Epoch: 38 | Loss C: -8.1614 | Loss G: 152.1155\n"
          ],
          "name": "stdout"
        },
        {
          "output_type": "stream",
          "text": [
            "100%|██████████| 237/237 [04:52<00:00,  1.24s/it]\n",
            "  0%|          | 0/237 [00:00<?, ?it/s]"
          ],
          "name": "stderr"
        },
        {
          "output_type": "stream",
          "text": [
            " Epoch: 39 | Loss C: -8.4059 | Loss G: 151.2922\n"
          ],
          "name": "stdout"
        },
        {
          "output_type": "stream",
          "text": [
            "100%|██████████| 237/237 [04:52<00:00,  1.23s/it]\n",
            "  0%|          | 0/237 [00:00<?, ?it/s]"
          ],
          "name": "stderr"
        },
        {
          "output_type": "stream",
          "text": [
            " Epoch: 40 | Loss C: -8.323 | Loss G: 151.2824\n",
            "\n",
            "Image Saved!\n",
            "\n"
          ],
          "name": "stdout"
        },
        {
          "output_type": "stream",
          "text": [
            "100%|██████████| 237/237 [04:52<00:00,  1.24s/it]\n",
            "  0%|          | 0/237 [00:00<?, ?it/s]"
          ],
          "name": "stderr"
        },
        {
          "output_type": "stream",
          "text": [
            " Epoch: 41 | Loss C: -8.251 | Loss G: 153.9565\n"
          ],
          "name": "stdout"
        },
        {
          "output_type": "stream",
          "text": [
            "100%|██████████| 237/237 [04:52<00:00,  1.24s/it]\n",
            "  0%|          | 0/237 [00:00<?, ?it/s]"
          ],
          "name": "stderr"
        },
        {
          "output_type": "stream",
          "text": [
            " Epoch: 42 | Loss C: -8.2693 | Loss G: 151.6042\n"
          ],
          "name": "stdout"
        },
        {
          "output_type": "stream",
          "text": [
            "100%|██████████| 237/237 [04:52<00:00,  1.23s/it]\n",
            "  0%|          | 0/237 [00:00<?, ?it/s]"
          ],
          "name": "stderr"
        },
        {
          "output_type": "stream",
          "text": [
            " Epoch: 43 | Loss C: -8.2761 | Loss G: 152.9363\n"
          ],
          "name": "stdout"
        },
        {
          "output_type": "stream",
          "text": [
            "100%|██████████| 237/237 [04:52<00:00,  1.23s/it]\n",
            "  0%|          | 0/237 [00:00<?, ?it/s]"
          ],
          "name": "stderr"
        },
        {
          "output_type": "stream",
          "text": [
            " Epoch: 44 | Loss C: -8.2835 | Loss G: 152.0173\n"
          ],
          "name": "stdout"
        },
        {
          "output_type": "stream",
          "text": [
            "100%|██████████| 237/237 [04:52<00:00,  1.23s/it]\n",
            "  0%|          | 0/237 [00:00<?, ?it/s]"
          ],
          "name": "stderr"
        },
        {
          "output_type": "stream",
          "text": [
            " Epoch: 45 | Loss C: -8.1787 | Loss G: 156.599\n"
          ],
          "name": "stdout"
        },
        {
          "output_type": "stream",
          "text": [
            "100%|██████████| 237/237 [04:52<00:00,  1.23s/it]\n",
            "  0%|          | 0/237 [00:00<?, ?it/s]"
          ],
          "name": "stderr"
        },
        {
          "output_type": "stream",
          "text": [
            " Epoch: 46 | Loss C: -8.123 | Loss G: 156.572\n"
          ],
          "name": "stdout"
        },
        {
          "output_type": "stream",
          "text": [
            "100%|██████████| 237/237 [04:52<00:00,  1.23s/it]\n",
            "  0%|          | 0/237 [00:00<?, ?it/s]"
          ],
          "name": "stderr"
        },
        {
          "output_type": "stream",
          "text": [
            " Epoch: 47 | Loss C: -8.2759 | Loss G: 156.9499\n"
          ],
          "name": "stdout"
        },
        {
          "output_type": "stream",
          "text": [
            "100%|██████████| 237/237 [04:52<00:00,  1.23s/it]\n",
            "  0%|          | 0/237 [00:00<?, ?it/s]"
          ],
          "name": "stderr"
        },
        {
          "output_type": "stream",
          "text": [
            " Epoch: 48 | Loss C: -8.0126 | Loss G: 159.6222\n"
          ],
          "name": "stdout"
        },
        {
          "output_type": "stream",
          "text": [
            "100%|██████████| 237/237 [04:52<00:00,  1.23s/it]\n",
            "  0%|          | 0/237 [00:00<?, ?it/s]"
          ],
          "name": "stderr"
        },
        {
          "output_type": "stream",
          "text": [
            " Epoch: 49 | Loss C: -8.097 | Loss G: 157.9929\n"
          ],
          "name": "stdout"
        },
        {
          "output_type": "stream",
          "text": [
            "100%|██████████| 237/237 [04:52<00:00,  1.23s/it]\n",
            "  0%|          | 0/237 [00:00<?, ?it/s]"
          ],
          "name": "stderr"
        },
        {
          "output_type": "stream",
          "text": [
            " Epoch: 50 | Loss C: -7.95 | Loss G: 157.8737\n",
            "\n",
            "Image Saved!\n",
            "\n"
          ],
          "name": "stdout"
        },
        {
          "output_type": "stream",
          "text": [
            "100%|██████████| 237/237 [04:52<00:00,  1.23s/it]\n",
            "  0%|          | 0/237 [00:00<?, ?it/s]"
          ],
          "name": "stderr"
        },
        {
          "output_type": "stream",
          "text": [
            " Epoch: 51 | Loss C: -7.9473 | Loss G: 159.4288\n"
          ],
          "name": "stdout"
        },
        {
          "output_type": "stream",
          "text": [
            "100%|██████████| 237/237 [04:52<00:00,  1.23s/it]\n",
            "  0%|          | 0/237 [00:00<?, ?it/s]"
          ],
          "name": "stderr"
        },
        {
          "output_type": "stream",
          "text": [
            " Epoch: 52 | Loss C: -8.172 | Loss G: 158.1047\n"
          ],
          "name": "stdout"
        },
        {
          "output_type": "stream",
          "text": [
            "100%|██████████| 237/237 [04:52<00:00,  1.23s/it]\n",
            "  0%|          | 0/237 [00:00<?, ?it/s]"
          ],
          "name": "stderr"
        },
        {
          "output_type": "stream",
          "text": [
            " Epoch: 53 | Loss C: -8.034 | Loss G: 161.3006\n"
          ],
          "name": "stdout"
        },
        {
          "output_type": "stream",
          "text": [
            "100%|██████████| 237/237 [04:52<00:00,  1.23s/it]\n",
            "  0%|          | 0/237 [00:00<?, ?it/s]"
          ],
          "name": "stderr"
        },
        {
          "output_type": "stream",
          "text": [
            " Epoch: 54 | Loss C: -7.9479 | Loss G: 161.4078\n"
          ],
          "name": "stdout"
        },
        {
          "output_type": "stream",
          "text": [
            "100%|██████████| 237/237 [04:52<00:00,  1.23s/it]\n",
            "  0%|          | 0/237 [00:00<?, ?it/s]"
          ],
          "name": "stderr"
        },
        {
          "output_type": "stream",
          "text": [
            " Epoch: 55 | Loss C: -7.9916 | Loss G: 166.3042\n"
          ],
          "name": "stdout"
        },
        {
          "output_type": "stream",
          "text": [
            "100%|██████████| 237/237 [04:52<00:00,  1.23s/it]\n",
            "  0%|          | 0/237 [00:00<?, ?it/s]"
          ],
          "name": "stderr"
        },
        {
          "output_type": "stream",
          "text": [
            " Epoch: 56 | Loss C: -7.9806 | Loss G: 165.4727\n"
          ],
          "name": "stdout"
        },
        {
          "output_type": "stream",
          "text": [
            "100%|██████████| 237/237 [04:52<00:00,  1.23s/it]\n",
            "  0%|          | 0/237 [00:00<?, ?it/s]"
          ],
          "name": "stderr"
        },
        {
          "output_type": "stream",
          "text": [
            " Epoch: 57 | Loss C: -7.9813 | Loss G: 163.8937\n"
          ],
          "name": "stdout"
        },
        {
          "output_type": "stream",
          "text": [
            "100%|██████████| 237/237 [04:52<00:00,  1.23s/it]\n",
            "  0%|          | 0/237 [00:00<?, ?it/s]"
          ],
          "name": "stderr"
        },
        {
          "output_type": "stream",
          "text": [
            " Epoch: 58 | Loss C: -8.0295 | Loss G: 164.2107\n"
          ],
          "name": "stdout"
        },
        {
          "output_type": "stream",
          "text": [
            "100%|██████████| 237/237 [04:52<00:00,  1.23s/it]\n",
            "  0%|          | 0/237 [00:00<?, ?it/s]"
          ],
          "name": "stderr"
        },
        {
          "output_type": "stream",
          "text": [
            " Epoch: 59 | Loss C: -7.9689 | Loss G: 159.9514\n"
          ],
          "name": "stdout"
        },
        {
          "output_type": "stream",
          "text": [
            "100%|██████████| 237/237 [04:52<00:00,  1.23s/it]\n",
            "  0%|          | 0/237 [00:00<?, ?it/s]"
          ],
          "name": "stderr"
        },
        {
          "output_type": "stream",
          "text": [
            " Epoch: 60 | Loss C: -7.9585 | Loss G: 163.6567\n",
            "\n",
            "Image Saved!\n",
            "\n"
          ],
          "name": "stdout"
        },
        {
          "output_type": "stream",
          "text": [
            "100%|██████████| 237/237 [04:52<00:00,  1.23s/it]\n",
            "  0%|          | 0/237 [00:00<?, ?it/s]"
          ],
          "name": "stderr"
        },
        {
          "output_type": "stream",
          "text": [
            " Epoch: 61 | Loss C: -7.8502 | Loss G: 168.6348\n"
          ],
          "name": "stdout"
        },
        {
          "output_type": "stream",
          "text": [
            "100%|██████████| 237/237 [04:52<00:00,  1.23s/it]\n",
            "  0%|          | 0/237 [00:00<?, ?it/s]"
          ],
          "name": "stderr"
        },
        {
          "output_type": "stream",
          "text": [
            " Epoch: 62 | Loss C: -7.9158 | Loss G: 167.3649\n"
          ],
          "name": "stdout"
        },
        {
          "output_type": "stream",
          "text": [
            "100%|██████████| 237/237 [04:52<00:00,  1.23s/it]\n",
            "  0%|          | 0/237 [00:00<?, ?it/s]"
          ],
          "name": "stderr"
        },
        {
          "output_type": "stream",
          "text": [
            " Epoch: 63 | Loss C: -7.9285 | Loss G: 171.9807\n"
          ],
          "name": "stdout"
        },
        {
          "output_type": "stream",
          "text": [
            "100%|██████████| 237/237 [04:52<00:00,  1.23s/it]\n",
            "  0%|          | 0/237 [00:00<?, ?it/s]"
          ],
          "name": "stderr"
        },
        {
          "output_type": "stream",
          "text": [
            " Epoch: 64 | Loss C: -7.982 | Loss G: 172.1319\n"
          ],
          "name": "stdout"
        },
        {
          "output_type": "stream",
          "text": [
            "100%|██████████| 237/237 [04:52<00:00,  1.23s/it]\n",
            "  0%|          | 0/237 [00:00<?, ?it/s]"
          ],
          "name": "stderr"
        },
        {
          "output_type": "stream",
          "text": [
            " Epoch: 65 | Loss C: -7.9109 | Loss G: 173.798\n"
          ],
          "name": "stdout"
        },
        {
          "output_type": "stream",
          "text": [
            "100%|██████████| 237/237 [04:52<00:00,  1.23s/it]\n",
            "  0%|          | 0/237 [00:00<?, ?it/s]"
          ],
          "name": "stderr"
        },
        {
          "output_type": "stream",
          "text": [
            " Epoch: 66 | Loss C: -7.8768 | Loss G: 171.1866\n"
          ],
          "name": "stdout"
        },
        {
          "output_type": "stream",
          "text": [
            "100%|██████████| 237/237 [04:51<00:00,  1.23s/it]\n",
            "  0%|          | 0/237 [00:00<?, ?it/s]"
          ],
          "name": "stderr"
        },
        {
          "output_type": "stream",
          "text": [
            " Epoch: 67 | Loss C: -7.8801 | Loss G: 173.5048\n"
          ],
          "name": "stdout"
        },
        {
          "output_type": "stream",
          "text": [
            "100%|██████████| 237/237 [04:52<00:00,  1.24s/it]\n",
            "  0%|          | 0/237 [00:00<?, ?it/s]"
          ],
          "name": "stderr"
        },
        {
          "output_type": "stream",
          "text": [
            " Epoch: 68 | Loss C: -7.9169 | Loss G: 169.5537\n"
          ],
          "name": "stdout"
        },
        {
          "output_type": "stream",
          "text": [
            "100%|██████████| 237/237 [04:52<00:00,  1.24s/it]\n",
            "  0%|          | 0/237 [00:00<?, ?it/s]"
          ],
          "name": "stderr"
        },
        {
          "output_type": "stream",
          "text": [
            " Epoch: 69 | Loss C: -7.8014 | Loss G: 170.2926\n"
          ],
          "name": "stdout"
        },
        {
          "output_type": "stream",
          "text": [
            "100%|██████████| 237/237 [04:52<00:00,  1.23s/it]\n",
            "  0%|          | 0/237 [00:00<?, ?it/s]"
          ],
          "name": "stderr"
        },
        {
          "output_type": "stream",
          "text": [
            " Epoch: 70 | Loss C: -7.8745 | Loss G: 169.477\n",
            "\n",
            "Image Saved!\n",
            "\n"
          ],
          "name": "stdout"
        },
        {
          "output_type": "stream",
          "text": [
            "100%|██████████| 237/237 [04:52<00:00,  1.23s/it]\n",
            "  0%|          | 0/237 [00:00<?, ?it/s]"
          ],
          "name": "stderr"
        },
        {
          "output_type": "stream",
          "text": [
            " Epoch: 71 | Loss C: -7.8312 | Loss G: 167.0011\n"
          ],
          "name": "stdout"
        },
        {
          "output_type": "stream",
          "text": [
            "100%|██████████| 237/237 [04:52<00:00,  1.23s/it]\n",
            "  0%|          | 0/237 [00:00<?, ?it/s]"
          ],
          "name": "stderr"
        },
        {
          "output_type": "stream",
          "text": [
            " Epoch: 72 | Loss C: -7.9153 | Loss G: 164.9164\n"
          ],
          "name": "stdout"
        },
        {
          "output_type": "stream",
          "text": [
            " 30%|██▉       | 70/237 [01:26<03:25,  1.23s/it]"
          ],
          "name": "stderr"
        }
      ]
    },
    {
      "cell_type": "code",
      "metadata": {
        "id": "iUg7JLLVFDHK"
      },
      "source": [],
      "execution_count": null,
      "outputs": []
    },
    {
      "cell_type": "code",
      "metadata": {
        "id": "_VJN9nHO5l0K"
      },
      "source": [],
      "execution_count": null,
      "outputs": []
    }
  ]
}