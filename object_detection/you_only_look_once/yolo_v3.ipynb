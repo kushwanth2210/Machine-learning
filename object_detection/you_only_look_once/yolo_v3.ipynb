{
  "nbformat": 4,
  "nbformat_minor": 0,
  "metadata": {
    "colab": {
      "name": "yolo_v3.ipynb",
      "provenance": [],
      "collapsed_sections": []
    },
    "kernelspec": {
      "name": "python3",
      "display_name": "Python 3"
    },
    "accelerator": "GPU"
  },
  "cells": [
    {
      "cell_type": "code",
      "metadata": {
        "id": "IqHuJHTAWAsp"
      },
      "source": [
        "# can't train yolo_v3 even on a Tesla K80, takes 10-12 mins to process 1 image because of the nms process on 10647 bboxes\n",
        "# need some more better GPUs, will probably train this in the future"
      ],
      "execution_count": null,
      "outputs": []
    },
    {
      "cell_type": "code",
      "metadata": {
        "colab": {
          "base_uri": "https://localhost:8080/"
        },
        "id": "udZ53G9fV6Yg",
        "outputId": "87c5fbbf-9453-463e-ac5b-b6293c020135"
      },
      "source": [
        "!nvidia-smi"
      ],
      "execution_count": null,
      "outputs": [
        {
          "output_type": "stream",
          "text": [
            "Fri Mar 19 12:04:47 2021       \n",
            "+-----------------------------------------------------------------------------+\n",
            "| NVIDIA-SMI 460.56       Driver Version: 460.32.03    CUDA Version: 11.2     |\n",
            "|-------------------------------+----------------------+----------------------+\n",
            "| GPU  Name        Persistence-M| Bus-Id        Disp.A | Volatile Uncorr. ECC |\n",
            "| Fan  Temp  Perf  Pwr:Usage/Cap|         Memory-Usage | GPU-Util  Compute M. |\n",
            "|                               |                      |               MIG M. |\n",
            "|===============================+======================+======================|\n",
            "|   0  Tesla K80           Off  | 00000000:00:04.0 Off |                    0 |\n",
            "| N/A   73C    P8    33W / 149W |      0MiB / 11441MiB |      0%      Default |\n",
            "|                               |                      |                  N/A |\n",
            "+-------------------------------+----------------------+----------------------+\n",
            "                                                                               \n",
            "+-----------------------------------------------------------------------------+\n",
            "| Processes:                                                                  |\n",
            "|  GPU   GI   CI        PID   Type   Process name                  GPU Memory |\n",
            "|        ID   ID                                                   Usage      |\n",
            "|=============================================================================|\n",
            "|  No running processes found                                                 |\n",
            "+-----------------------------------------------------------------------------+\n"
          ],
          "name": "stdout"
        }
      ]
    },
    {
      "cell_type": "code",
      "metadata": {
        "id": "-RtxFve-1et8"
      },
      "source": [
        "!pip install albumentations==0.4.6"
      ],
      "execution_count": null,
      "outputs": []
    },
    {
      "cell_type": "code",
      "metadata": {
        "id": "kHJl5_Osf5Ze"
      },
      "source": [
        "import os\n",
        "import cv2\n",
        "import tqdm\n",
        "import torch\n",
        "import numpy as np\n",
        "import pandas as pd\n",
        "from PIL import Image\n",
        "import torch.nn as nn\n",
        "import albumentations as A\n",
        "from torchvision import transforms\n",
        "import matplotlib.pyplot as plt\n",
        "from collections import Counter\n",
        "import matplotlib.patches as patches\n",
        "from albumentations.pytorch import ToTensorV2\n",
        "from torch.utils.data import Dataset, DataLoader"
      ],
      "execution_count": null,
      "outputs": []
    },
    {
      "cell_type": "code",
      "metadata": {
        "id": "llOJ6Hc0npTa"
      },
      "source": [
        "def iou_wh(boxes1, boxes2):\n",
        "    # [w, h], for computing iou b/w true bboxes and anchor boxes\n",
        "    intersection = torch.min(boxes1[..., 0], boxes2[..., 0]) * torch.min(boxes1[..., 1], boxes2[..., 1])\n",
        "    union = (boxes1[..., 0] * boxes1[..., 1] + boxes2[..., 0] * boxes2[..., 1] - intersection)\n",
        "    return intersection / union"
      ],
      "execution_count": null,
      "outputs": []
    },
    {
      "cell_type": "code",
      "metadata": {
        "id": "oLB0vVLTm8B9"
      },
      "source": [
        "def intersection_over_union(boxes_preds, boxes_labels, box_format=\"midpoint\"):\n",
        "    # [x, y, w, h]\n",
        "    if box_format == \"midpoint\":\n",
        "        box1_x1 = boxes_preds[..., 0:1] - boxes_preds[..., 2:3] / 2\n",
        "        box1_y1 = boxes_preds[..., 1:2] - boxes_preds[..., 3:4] / 2\n",
        "        box1_x2 = boxes_preds[..., 0:1] + boxes_preds[..., 2:3] / 2\n",
        "        box1_y2 = boxes_preds[..., 1:2] + boxes_preds[..., 3:4] / 2\n",
        "        box2_x1 = boxes_labels[..., 0:1] - boxes_labels[..., 2:3] / 2\n",
        "        box2_y1 = boxes_labels[..., 1:2] - boxes_labels[..., 3:4] / 2\n",
        "        box2_x2 = boxes_labels[..., 0:1] + boxes_labels[..., 2:3] / 2\n",
        "        box2_y2 = boxes_labels[..., 1:2] + boxes_labels[..., 3:4] / 2\n",
        "    elif box_format == \"corners\":\n",
        "        box1_x1 = boxes_preds[..., 0:1]\n",
        "        box1_y1 = boxes_preds[..., 1:2]\n",
        "        box1_x2 = boxes_preds[..., 2:3]\n",
        "        box1_y2 = boxes_preds[..., 3:4]\n",
        "        box2_x1 = boxes_labels[..., 0:1]\n",
        "        box2_y1 = boxes_labels[..., 1:2]\n",
        "        box2_x2 = boxes_labels[..., 2:3]\n",
        "        box2_y2 = boxes_labels[..., 3:4]\n",
        "        \n",
        "    x1 = torch.max(box1_x1, box2_x1)\n",
        "    y1 = torch.max(box1_y1, box2_y1)\n",
        "    x2 = torch.min(box1_x2, box2_x2)\n",
        "    y2 = torch.min(box1_y2, box2_y2)\n",
        "    intersection_area = (x2 - x1).clamp(0) * (y2 - y1).clamp(0)\n",
        "    box1_area = abs((box1_x2 - box1_x1) * (box1_y2 - box1_y1))\n",
        "    box2_area = abs((box2_x2 - box2_x1) * (box2_y2 - box2_y1))\n",
        "    return intersection_area / (box1_area + box2_area - intersection_area + 1e-6)"
      ],
      "execution_count": null,
      "outputs": []
    },
    {
      "cell_type": "code",
      "metadata": {
        "id": "E7fc0uWym77E"
      },
      "source": [
        "def non_max_supression(bboxes, iou_threshold, prob_threshold, box_format=\"midpoint\"):\n",
        "    # [pred_class, prob_score, x, y, w, h]\n",
        "    bboxes = [box for box in bboxes if box[1] > prob_threshold]\n",
        "    bboxes = sorted(bboxes, key=lambda x: x[1], reverse=True)\n",
        "    final_bboxes = []\n",
        "    while bboxes:\n",
        "        curr_box = bboxes.pop(0)\n",
        "        bboxes = [box for box in bboxes if box[0] != curr_box[0]\n",
        "                  or intersection_over_union(torch.tensor(curr_box[2:]), torch.tensor(box[2:]),box_format) < iou_threshold]\n",
        "        final_bboxes.append(curr_box)\n",
        "    return final_bboxes"
      ],
      "execution_count": null,
      "outputs": []
    },
    {
      "cell_type": "code",
      "metadata": {
        "id": "J_OfaMSbm71y"
      },
      "source": [
        "def mean_average_precision(pred_boxes, true_boxes, iou_threshold=0.5, box_format=\"midpoint\", num_classes=20):\n",
        "    # [img_idx, pred_class, prob_score, x, y, w, h]\n",
        "    epsilon = 1e-6\n",
        "    avg_precis = []\n",
        "    for i in range(num_classes):\n",
        "        detections = []\n",
        "        ground_truths = []\n",
        "        for pred_box, true_box in zip(pred_boxes, true_boxes):\n",
        "            if pred_box[1] == i:\n",
        "                detections.append(pred_box)\n",
        "            if true_box[1] == i:\n",
        "                ground_truths.append(true_box)\n",
        "\n",
        "        bbox_counter = Counter([gt[0] for gt in ground_truths])\n",
        "        for key, val in bbox_counter.items():\n",
        "            bbox_counter[key] = torch.zeros(val)\n",
        "        detections.sort(key=lambda x: x[2], reverse=True)\n",
        "        true_positives = torch.zeros(len(detections))\n",
        "        false_positives = torch.zeros(len(detections))\n",
        "        total_true_bboxes = len(ground_truths)\n",
        "\n",
        "        for detection_idx, detection in enumerate(detections):\n",
        "            gt_img_bboxes = [bbox for bbox in ground_truths if bbox[0] == detection[0]]\n",
        "            num_gt_bboxes = len(gt_img_bboxes)\n",
        "            best_iou = 0\n",
        "            for idx, gt in enumerate(gt_img_bboxes):\n",
        "                iou = intersection_over_union(torch.tensor(detection[3:]), torch.tensor(gt[3:]), box_format)\n",
        "                if iou > best_iou:\n",
        "                    best_iou = iou\n",
        "                    best_gt_idx = idx\n",
        "            if best_iou > iou_threshold:\n",
        "                if bbox_counter[detection[0]][best_gt_idx] == 0:\n",
        "                    true_positives[detection_idx] = 1\n",
        "                else:\n",
        "                    false_positives[detection_idx] = 1\n",
        "            else:\n",
        "                false_positives[detection_idx] = 1\n",
        "                \n",
        "        tp_cumsum = torch.cumsum(true_positives, dim=0)\n",
        "        fp_cumsum = torch.cumsum(false_positives, dim=0)\n",
        "        precisions = tp_cumsum / (tp_cumsum + fp_cumsum + epsilon)\n",
        "        recalls = tp_cumsum / (total_true_bboxes + epsilon)\n",
        "        precisions = torch.cat((torch.tensor([1]), precisions))\n",
        "        recalls = torch.cat((torch.tensor([0]), recalls))\n",
        "        avg_precis.append(torch.trapz(precisions, recalls))\n",
        "    mAP = sum(avg_precis) / len(avg_precis)\n",
        "    return mAP"
      ],
      "execution_count": null,
      "outputs": []
    },
    {
      "cell_type": "code",
      "metadata": {
        "id": "yEUBHsfzqN1j"
      },
      "source": [
        "def cellboxes_to_bboxes(predictions, anchors, scale, is_preds):\n",
        "    batch_size = predictions.shape[0]\n",
        "    num_anchors = len(anchors)\n",
        "    box_predictions = predictions[..., 1:5] # x, y, w, h\n",
        "    if is_preds:\n",
        "        anchors = anchors.view(1, num_anchors, 1, 1, 2)\n",
        "        box_predictions[..., 0:2] = torch.sigmoid(box_predictions[..., 0:2])\n",
        "        box_predictions[..., 2:] = torch.exp(box_predictions[..., 2:]) * anchors\n",
        "        scores = torch.sigmoid(predictions[..., 0:1])\n",
        "        best_class = torch.argmax(predictions[..., 5:], dim=-1).unsqueeze(-1)\n",
        "    else:\n",
        "        scores = predictions[..., 0:1]\n",
        "        best_class = predictions[..., 5:6]\n",
        "    \n",
        "    cell_idxs = torch.arange(scale).repeat(batch_size, 3, scale, 1).unsqueeze(-1).to(predictions.device)\n",
        "    x = 1 / scale * (box_predictions[..., 0:1] + cell_idxs)\n",
        "    y = 1 / scale * (box_predictions[..., 1:2] + cell_idxs.permute(0, 1, 3, 2, 4))\n",
        "    w_h = 1 / scale * (box_predictions[..., 2:4])\n",
        "    bboxes = torch.cat((best_class, scores, x, y, w_h), dim=-1).view(batch_size, num_anchors * scale * scale, 6)\n",
        "    return bboxes.tolist()"
      ],
      "execution_count": null,
      "outputs": []
    },
    {
      "cell_type": "code",
      "metadata": {
        "id": "FwrRq1yGJfkQ"
      },
      "source": [
        "def get_accuracy(y, predictions, thresh, device=\"cpu\"):\n",
        "    tot_class_preds, correct_class = 0, 0\n",
        "    tot_noobj, correct_noobj = 0, 0\n",
        "    tot_obj, correct_obj = 0, 0\n",
        "    for i in range(3):\n",
        "        y[i] = y[i].to(device)\n",
        "        obj = y[i][..., 0] == 1\n",
        "        noobj = y[i][..., 0] == 0 \n",
        "        correct_class += torch.sum(torch.argmax(predictions[i][..., 5:][obj], dim=-1) == y[i][..., 5][obj])\n",
        "        tot_class_preds += torch.sum(obj)\n",
        "\n",
        "        obj_preds = torch.sigmoid(predictions[i][..., 0]) > thresh\n",
        "        correct_obj += torch.sum(obj_preds[obj] == y[i][..., 0][obj])\n",
        "        tot_obj += torch.sum(obj)\n",
        "        correct_noobj += torch.sum(obj_preds[noobj] == y[i][..., 0][noobj])\n",
        "        tot_noobj += torch.sum(noobj)\n",
        "    return correct_class / (tot_class_preds + 1e-16), correct_noobj / (tot_noobj + 1e-16), correct_obj / (tot_obj + 1e-16)"
      ],
      "execution_count": null,
      "outputs": []
    },
    {
      "cell_type": "code",
      "metadata": {
        "id": "cj3ded5izCTw"
      },
      "source": [
        "def get_eval_bboxes(net, batches, iou_thresh, anchors, thresh, is_train, device=\"cpu\", box_format=\"midpoint\"):\n",
        "    if is_train:\n",
        "        print(f\"Train Eval Loop:\\n\")\n",
        "    else:\n",
        "        print(f\"Test Eval Loop:\\n\")\n",
        "    net.eval()\n",
        "    train_idx = 0\n",
        "    all_pred_boxes = []\n",
        "    all_true_boxes = []\n",
        "    class_accs = 0\n",
        "    noobj_accs = 0\n",
        "    obj_accs = 0\n",
        "    for x, y in tqdm.tqdm(batches, total=len(batches)):\n",
        "        x = x.to(device)\n",
        "        with torch.no_grad():\n",
        "            predictions = net(x)\n",
        "        class_acc, noobj_acc, obj_acc = get_accuracy(y, predictions, thresh, device)\n",
        "        class_accs += class_acc\n",
        "        noobj_accs += noobj_acc\n",
        "        obj_accs += obj_acc\n",
        "        batch_size = x.shape[0]\n",
        "        bboxes = [[] for _ in range(batch_size)]\n",
        "\n",
        "        for i in range(3):\n",
        "            scale = predictions[i].shape[2]\n",
        "            anchor = torch.tensor([*anchors[i]]).to(device) * scale\n",
        "            bboxes_ = cellboxes_to_bboxes(predictions[i], anchor, scale, True)\n",
        "            for idx, box in enumerate(bboxes_):\n",
        "                bboxes[idx] += box\n",
        "                \n",
        "        true_boxes = cellboxes_to_bboxes(y[2], anchor, scale, False)\n",
        "        for idx in range(batch_size):\n",
        "            nms_boxes = non_max_supression(bboxes[idx], iou_thresh, thresh, box_format)\n",
        "            for nms_box in nms_boxes:\n",
        "                all_pred_boxes.append([train_idx] + nms_box)\n",
        "            for true_box in true_boxes[idx]:\n",
        "                if true_box[1] > thresh: # ignoring \"-1\" label\n",
        "                    all_true_boxes.append([train_idx] + true_box)\n",
        "            train_idx += 1\n",
        "    print(\"\\n\")\n",
        "    return all_pred_boxes, all_true_boxes, class_accs/len(batches), noobj_accs/len(batches), obj_accs/len(batches)"
      ],
      "execution_count": null,
      "outputs": []
    },
    {
      "cell_type": "code",
      "metadata": {
        "id": "JpObr2F7l_w2"
      },
      "source": [
        "def plot_image(img, bboxes, class_dict=None):\n",
        "    img = np.array(img)\n",
        "    h, w, c = img.shape\n",
        "    fig, ax = plt.subplots(1)\n",
        "    ax.imshow(img)\n",
        "    for bbox in bboxes:\n",
        "        # if bbox[0] == 0:\n",
        "        #     continue\n",
        "        if class_dict is not None:\n",
        "            pred_class = class_dict[int(bbox[0])]\n",
        "        else:\n",
        "            pred_class = int(bbox[0])\n",
        "        prob_score = bbox[1]\n",
        "        bbox = bbox[2:]\n",
        "        upper_left_x = bbox[0] - bbox[2] / 2\n",
        "        upper_left_y = bbox[1] - bbox[3] / 3\n",
        "        rectangle = patches.Rectangle((upper_left_x * w, upper_left_y * h), bbox[2] * w, bbox[3] * h,\n",
        "                                      linewidth=2, edgecolor=\"r\", facecolor=\"none\")\n",
        "        label_patch = patches.Rectangle((upper_left_x * w, (upper_left_y * h) - 25), (bbox[2] * w) * 2 / 3, 25, \n",
        "                                        alpha=1.0, color=\"r\")\n",
        "        ax.add_patch(rectangle)\n",
        "        ax.add_patch(label_patch)\n",
        "        plt.text(upper_left_x * w, (upper_left_y * h) - 10, f\"{pred_class}({prob_score:.2f})\")\n",
        "    plt.show()"
      ],
      "execution_count": null,
      "outputs": []
    },
    {
      "cell_type": "code",
      "metadata": {
        "id": "gQgzedm6mOGt"
      },
      "source": [
        "def display_images(net, batches, thresh, iou_thresh, anchors, class_dict=None, device=\"cpu\"):\n",
        "    print(\"Displaying images...\\n\")\n",
        "    net.eval()\n",
        "    x, y = next(iter(batches))\n",
        "    x = x.to(device)\n",
        "    with torch.no_grad():\n",
        "        out = net(x)\n",
        "        bboxes = [[] for _ in range(x.shape[0])]\n",
        "        for i in range(3):\n",
        "            batch_size, num_achors, scale, _, _ = out[i].shape\n",
        "            anchor = torch.tensor(anchors[i]).to(device)\n",
        "            bboxes_ = cellboxes_to_bboxes(out[i], anchor, scale, True)\n",
        "            for idx, box in enumerate(bboxes_):\n",
        "                bboxes[idx] += box\n",
        "    \n",
        "    # true_boxes = [[] for _ in range(x.shape[0])]\n",
        "    # for i in range(3):\n",
        "    #     batch_size, num_achors, scale, _, _ = y[i].shape\n",
        "    #     anchor = torch.tensor(anchors[i]).to(device)\n",
        "    #     bboxes_ = cellboxes_to_bboxes(y[i].to(device), anchor, scale, False)\n",
        "    #     for idx, box in enumerate(bboxes_):\n",
        "    #         true_boxes[idx] += box\n",
        "    for i in range(5):\n",
        "        # nms_boxes = true_boxes[i]\n",
        "        nms_boxes = non_max_supression(bboxes[i], iou_thresh, thresh)\n",
        "        plot_image(x[i].permute(1, 2, 0).detach().cpu(), nms_boxes, class_dict=class_dict)"
      ],
      "execution_count": null,
      "outputs": []
    },
    {
      "cell_type": "code",
      "metadata": {
        "id": "AYkLTxWunnVE"
      },
      "source": [
        "class LoadDataset(Dataset):\n",
        "    def __init__(self, file_name, img_dir, label_dir, anchors, scales, num_classes, transform=None):\n",
        "        self.df = pd.read_csv(file_name)#[:1]\n",
        "        self.img_dir = img_dir\n",
        "        self.label_dir = label_dir\n",
        "        self.anchors = torch.tensor(anchors[0] + anchors[1] + anchors[2]) # (3, 3, 2) -> (9, 2)\n",
        "        self.num_anchors = self.anchors.shape[0]\n",
        "        self.num_anchors_per_scale = self.num_anchors // 3\n",
        "        self.scales = scales\n",
        "        self.num_classes = num_classes\n",
        "        self.transform = transform\n",
        "        self.ignore_iou_thresh = 0.5\n",
        "    \n",
        "    def __len__(self):\n",
        "        return len(self.df)\n",
        "    \n",
        "    def __getitem__(self, index):\n",
        "        label_path = os.path.join(self.label_dir, self.df.iloc[index, 1])\n",
        "        bboxes = np.roll(np.loadtxt(fname=label_path, delimiter=\" \", ndmin=2), 4, axis=1).tolist() # [class_label, x, y, w, h] -> [x, y, w, h, class_label] (albumentations format)\n",
        "        img_path = os.path.join(self.img_dir, self.df.iloc[index, 0])\n",
        "        image = Image.open(img_path).convert(\"RGB\")\n",
        "        if self.transform:\n",
        "            image, bboxes = self.transform(image=image, bboxes=bboxes)\n",
        "            # image = augmentations[\"image\"]\n",
        "            # bboxes = augmentations[\"bboxes\"]\n",
        "\n",
        "        targets = [torch.zeros(self.num_anchors_per_scale, s, s, 6) for s in self.scales] # 6 -> [prob, x, y, w, h, class_label]\n",
        "        for box in bboxes:\n",
        "            anchor_ious = iou_wh(torch.tensor(box[2:4]), self.anchors)\n",
        "            anchor_idxs = anchor_ious.argsort(descending=True, dim=0)\n",
        "            x, y, w, h, class_label = box\n",
        "            has_anchor = [False] * 3 # each scale should have one anchor\n",
        "            for anchor_idx in anchor_idxs:\n",
        "                scale_idx = anchor_idx // self.num_anchors_per_scale # 0, 1, 2\n",
        "                anchor_on_scale = anchor_idx % self.num_anchors_per_scale # 0, 1, 2\n",
        "                scale = self.scales[scale_idx]\n",
        "                i, j = int(scale * y), int(scale * x) # getting the cell coordinates\n",
        "                anchor_taken = targets[scale_idx][anchor_on_scale, i, j, 0] # 0 or 1\n",
        "\n",
        "                # if this anchor is not taken and no anchor has been assigned to the curr scale\n",
        "                if not anchor_taken and not has_anchor[scale_idx]:\n",
        "                    targets[scale_idx][anchor_on_scale, i, j, 0] = 1\n",
        "                    x_cell, y_cell = scale * x - j, scale * y - i # rescaling the values to represent cell coordiantes\n",
        "                    w_cell, h_cell = scale * w, scale * h\n",
        "                    box_coordinates = torch.tensor([x_cell, y_cell, w_cell, h_cell])\n",
        "                    targets[scale_idx][anchor_on_scale, i, j, 1:5] = box_coordinates\n",
        "                    targets[scale_idx][anchor_on_scale, i, j, 5] = int(class_label)\n",
        "                    has_anchor[scale_idx] = True\n",
        "\n",
        "                # elif the anchor is not taken but some other anchor has already been assigned to the curr scale\n",
        "                elif not anchor_taken and anchor_ious[anchor_idx] > self.ignore_iou_thresh:\n",
        "                    targets[scale_idx][anchor_on_scale, i, j, 0] = -1 # ignore this anchor                  \n",
        "        return image, tuple(targets)"
      ],
      "execution_count": null,
      "outputs": []
    },
    {
      "cell_type": "code",
      "metadata": {
        "id": "LFd0svm0gvZy"
      },
      "source": [
        "class ConvBlock(nn.Module):\n",
        "    def __init__(self, in_channels, out_channels, use_bn=True, **kwargs):\n",
        "        super().__init__()\n",
        "        self.conv = nn.Conv2d(in_channels, out_channels, bias=not use_bn, **kwargs)\n",
        "        self.bn = nn.BatchNorm2d(out_channels)\n",
        "        self.leaky = nn.LeakyReLU(0.1)\n",
        "        self.use_bn = use_bn\n",
        "\n",
        "    def forward(self, x):\n",
        "        x = self.conv(x)\n",
        "        if self.use_bn:\n",
        "            return self.leaky(self.bn(x))\n",
        "        else:\n",
        "            return x"
      ],
      "execution_count": null,
      "outputs": []
    },
    {
      "cell_type": "code",
      "metadata": {
        "id": "WNtY-RzAf5UR"
      },
      "source": [
        "class ResidualBlock(nn.Module):\n",
        "    def __init__(self, channels, use_residual=True, num_repeats=1):\n",
        "        super().__init__()\n",
        "        self.layers = nn.ModuleList()\n",
        "        self.use_residual = use_residual\n",
        "        self.num_repeats = num_repeats\n",
        "        for _ in range(num_repeats):\n",
        "            self.layers += [\n",
        "                nn.Sequential(\n",
        "                    ConvBlock(channels, channels // 2, kernel_size=1),\n",
        "                    ConvBlock(channels // 2, channels, kernel_size=3, padding=1)\n",
        "                )\n",
        "            ]\n",
        "\n",
        "    def forward(self, x):\n",
        "        for layer in self.layers:\n",
        "            if self.use_residual:\n",
        "                x = x + layer(x)\n",
        "            else:\n",
        "                x = layer(x)\n",
        "        return x"
      ],
      "execution_count": null,
      "outputs": []
    },
    {
      "cell_type": "code",
      "metadata": {
        "id": "Da8_5IyyhA39"
      },
      "source": [
        "class ScaledPrediction(nn.Module):\n",
        "    def __init__(self, in_channels, num_classes):\n",
        "        super().__init__()\n",
        "        self.num_classes = num_classes\n",
        "        self.sp = nn.Sequential(\n",
        "            ConvBlock(in_channels, 2 * in_channels, kernel_size=3, padding=1),\n",
        "            ConvBlock(2 * in_channels, 3 * (5 + num_classes), use_bn=False, kernel_size=1)\n",
        "                                     # 3 -> num anchor boxes, 5 -> [prob, x, y, w, h]\n",
        "        )\n",
        "\n",
        "    def forward(self, x):\n",
        "        # albumentations only accepts in (5 + self.num_classes) in -1 dim\n",
        "        return self.sp(x).view(x.shape[0], 3, 5 + self.num_classes, x.shape[2], x.shape[3]).permute(0, 1, 3, 4, 2)"
      ],
      "execution_count": null,
      "outputs": []
    },
    {
      "cell_type": "code",
      "metadata": {
        "id": "x-Cv4NI8ieej"
      },
      "source": [
        "class YOLOv3(nn.Module):\n",
        "    def __init__(self, in_channels=3, num_classes=20):\n",
        "        super().__init__()\n",
        "        self.num_classes = num_classes\n",
        "        self.in_channels = in_channels\n",
        "        self.layers = self.get_layers()\n",
        "\n",
        "    def forward(self, x):\n",
        "        outputs = []\n",
        "        skip_connections = []\n",
        "        for layer in self.layers:\n",
        "            if isinstance(layer, ScaledPrediction):\n",
        "                outputs.append(layer(x))\n",
        "                continue # reverting back to the layer next to the scaled prediction\n",
        "\n",
        "            x = layer(x)\n",
        "            if isinstance(layer, ResidualBlock) and layer.num_repeats == 8:\n",
        "                skip_connections.append(x)\n",
        "            elif isinstance(layer, nn.Upsample):\n",
        "                x = torch.cat([x, skip_connections[-1]], dim=1)\n",
        "                skip_connections.pop()\n",
        "        return outputs\n",
        "\n",
        "    def get_layers(self):\n",
        "        layers = nn.ModuleList()\n",
        "        in_channels = self.in_channels\n",
        "        for module in config:\n",
        "            if isinstance(module, tuple):\n",
        "                out_channels, kernel_size, stride = module\n",
        "                layers.append(ConvBlock(in_channels, out_channels, kernel_size=kernel_size, stride=stride, padding=1 if kernel_size==3 else 0))\n",
        "                in_channels = out_channels\n",
        "            elif isinstance(module, list):\n",
        "                num_repeats = module[1]\n",
        "                layers.append(ResidualBlock(in_channels, num_repeats=num_repeats))\n",
        "            elif isinstance(module, str):\n",
        "                if module == \"S\":\n",
        "                    layers += [\n",
        "                        ResidualBlock(in_channels, use_residual=False, num_repeats=1),\n",
        "                        ConvBlock(in_channels, in_channels//2, kernel_size=1),\n",
        "                        ScaledPrediction(in_channels//2, num_classes=self.num_classes)\n",
        "                    ]\n",
        "                    in_channels = in_channels // 2\n",
        "                elif module == \"U\":\n",
        "                    layers.append(nn.Upsample(scale_factor=2))\n",
        "                    in_channels = in_channels * 3\n",
        "        return layers"
      ],
      "execution_count": null,
      "outputs": []
    },
    {
      "cell_type": "code",
      "metadata": {
        "id": "lVIUS15wf42t"
      },
      "source": [
        "class LossFn(nn.Module):\n",
        "    def __init__(self):\n",
        "        super().__init__()\n",
        "        self.mse = nn.MSELoss()\n",
        "        self.bce = nn.BCEWithLogitsLoss()\n",
        "        self.ce = nn.CrossEntropyLoss()\n",
        "        self.sigmoid = nn.Sigmoid()\n",
        "        self.lambda_noobj = 10\n",
        "        self.lambda_obj = 1\n",
        "        self.lambda_box = 10\n",
        "        self.lambda_class = 1\n",
        "    \n",
        "    # computing loss for only one scale at a time\n",
        "    def forward(self, predictions, targets, anchors):\n",
        "        obj = targets[..., 0] == 1\n",
        "        noobj = targets[..., 0] == 0\n",
        "        noobj_loss = self.bce(predictions[..., 0:1][noobj], targets[..., 0:1][noobj])\n",
        "\n",
        "        anchors = anchors.reshape(1, 3, 1, 1, 2)\n",
        "        box_preds = torch.cat([self.sigmoid(predictions[..., 1:3]), torch.exp(predictions[..., 3:5]) * anchors], dim=-1)\n",
        "        ious = intersection_over_union(box_preds[obj], targets[..., 1:5][obj]).detach()\n",
        "        obj_loss = self.mse(self.sigmoid(predictions[..., 0:1][obj]), ious * targets[..., 0:1][obj])\n",
        "\n",
        "        predictions[..., 1:3] = self.sigmoid(predictions[..., 1:3]) # x, y\n",
        "        targets[..., 3:5] = torch.log(1e-10 + targets[..., 3:5] / anchors) # w, h\n",
        "        box_loss = self.mse(predictions[..., 1:5][obj], targets[..., 1:5][obj])\n",
        "\n",
        "        class_loss = self.ce(predictions[..., 5:][obj], targets[..., 5][obj].long())\n",
        "        loss = self.lambda_noobj * noobj_loss + self.lambda_obj * obj_loss + self.lambda_box * box_loss + self.lambda_class * class_loss\n",
        "        return loss"
      ],
      "execution_count": null,
      "outputs": []
    },
    {
      "cell_type": "code",
      "metadata": {
        "id": "FF3S3n8YGP5d"
      },
      "source": [
        "# tuple: (num_channels, kernel_size, stride)\n",
        "# list: [\"R\", num_repeats], \"R\" -> residual block\n",
        "# str: \"S\" -> scaled prediction, \"U\" -> upsample\n",
        "config = [\n",
        "    (32, 3, 1),\n",
        "    (64, 3, 2),\n",
        "    [\"R\", 1],\n",
        "    (128, 3, 2),\n",
        "    [\"R\", 2],\n",
        "    (256, 3, 2),\n",
        "    [\"R\", 8],\n",
        "    (512, 3, 2),\n",
        "    [\"R\", 8],\n",
        "    (1024, 3, 2),\n",
        "    [\"R\", 4], \n",
        "    # Darknet-53 ends here, in the original paper this is pretrained on ImageNet\n",
        "    (512, 1, 1),\n",
        "    (1024, 3, 1),\n",
        "    \"S\",\n",
        "    (256, 1, 1),\n",
        "    \"U\",\n",
        "    (256, 1, 1),\n",
        "    (512, 3, 1),\n",
        "    \"S\",\n",
        "    (128, 1, 1),\n",
        "    \"U\",\n",
        "    (128, 1, 1),\n",
        "    (256, 3, 1),\n",
        "    \"S\",\n",
        "]\n",
        "# these anchors are found by running k-means algorithm on the dataset\n",
        "anchors = [\n",
        "    [(0.28, 0.22), (0.38, 0.48), (0.9, 0.78)],\n",
        "    [(0.07, 0.15), (0.15, 0.11), (0.14, 0.29)],\n",
        "    [(0.02, 0.03), (0.04, 0.07), (0.08, 0.06)],\n",
        "]\n",
        "scales = [13, 26, 52]\n",
        "device = torch.device(\"cuda\" if torch.cuda.is_available() else \"cpu\")\n",
        "epochs = 50\n",
        "batch_size = 16\n",
        "lr = 3e-4\n",
        "weight_decay = 1e-4\n",
        "conf_thresh = 0.05 # for nms\n",
        "nms_iou_thresh = 0.45 # for nms\n",
        "map_iou_thresh = 0.5 # for mAP\n",
        "num_classes = 20\n",
        "class_dict = {0: \"aeroplane\", 1: \"bicycle\", 2: \"bird\", 3: \"boat\", 4: \"bottle\", \n",
        "              5: \"bus\", 6: \"car\", 7: \"cat\", 8: \"chair\", 9: \"cow\", \n",
        "              10: \"diningtable\", 11: \"dog\", 12: \"horse\", 13: \"motorbike\", 14: \"human\", \n",
        "              15: \"plant\", 16: \"sheep\", 17: \"sofa\", 18: \"train\", 19: \"monitor\"}\n",
        "\n",
        "image_size = 416\n",
        "class Compose(object):\n",
        "    def __init__(self, transforms):\n",
        "        self.transforms = transforms\n",
        "\n",
        "    def __call__(self, image, bboxes):\n",
        "        for t in self.transforms:\n",
        "            image, bboxes = t(image), bboxes\n",
        "        return image, bboxes\n",
        "\n",
        "transform = Compose([transforms.Resize((image_size, image_size)),\n",
        "                     transforms.ToTensor()])\n",
        "\n",
        "# transforms used in the original paper\n",
        "scale = 1.1\n",
        "train_transform = A.Compose(\n",
        "    [\n",
        "        A.LongestMaxSize(max_size=int(image_size * scale)),\n",
        "        A.PadIfNeeded(\n",
        "            min_height=int(image_size * scale),\n",
        "            min_width=int(image_size * scale),\n",
        "            border_mode=cv2.BORDER_CONSTANT,\n",
        "        ),\n",
        "        A.RandomCrop(width=image_size, height=image_size),\n",
        "        # A.ColorJitter(brightness=0.6, contrast=0.6, saturation=0.6, hue=0.6, p=0.4),\n",
        "        A.OneOf(\n",
        "            [\n",
        "                A.ShiftScaleRotate(\n",
        "                    rotate_limit=20, p=0.5, border_mode=cv2.BORDER_CONSTANT\n",
        "                ),\n",
        "                A.IAAAffine(shear=15, p=0.5, mode=\"constant\"),\n",
        "            ],\n",
        "            p=1.0,\n",
        "        ),\n",
        "        A.HorizontalFlip(p=0.5),\n",
        "        A.Blur(p=0.1),\n",
        "        A.CLAHE(p=0.1),\n",
        "        A.Posterize(p=0.1),\n",
        "        A.ToGray(p=0.1),\n",
        "        A.ChannelShuffle(p=0.05),\n",
        "        A.Normalize(mean=[0, 0, 0], std=[1, 1, 1], max_pixel_value=255,),\n",
        "        ToTensorV2(),\n",
        "    ],\n",
        "    bbox_params=A.BboxParams(format=\"yolo\", min_visibility=0.4, label_fields=[],),\n",
        ")\n",
        "test_transform = A.Compose(\n",
        "    [\n",
        "        A.LongestMaxSize(max_size=image_size),\n",
        "        A.PadIfNeeded(\n",
        "            min_height=image_size, min_width=image_size, border_mode=cv2.BORDER_CONSTANT\n",
        "        ),\n",
        "        A.Normalize(mean=[0, 0, 0], std=[1, 1, 1], max_pixel_value=255,),\n",
        "        ToTensorV2(),\n",
        "    ],\n",
        "    bbox_params=A.BboxParams(format=\"coco\", min_visibility=0.4, label_fields=[]),\n",
        ")"
      ],
      "execution_count": null,
      "outputs": []
    },
    {
      "cell_type": "code",
      "metadata": {
        "id": "i0HVudM2F-U8",
        "colab": {
          "base_uri": "https://localhost:8080/"
        },
        "outputId": "7c074ba2-db96-4da5-c756-81399b73a4cd"
      },
      "source": [
        "train_data = LoadDataset(\"1500examples.csv\", \"images/\", \"labels/\", anchors=anchors, scales=scales, num_classes=num_classes, transform=transform) # use train_transform when training on large dataset\n",
        "# test_data = LoadDataset(\"1500examples.csv\", \"images/\", \"labels/\", anchors=anchors, scales=scales, num_classes=num_classes, transform=transform)\n",
        "len(train_data)"
      ],
      "execution_count": null,
      "outputs": [
        {
          "output_type": "execute_result",
          "data": {
            "text/plain": [
              "1515"
            ]
          },
          "metadata": {
            "tags": []
          },
          "execution_count": 29
        }
      ]
    },
    {
      "cell_type": "code",
      "metadata": {
        "colab": {
          "base_uri": "https://localhost:8080/"
        },
        "id": "0BmN6QMuGtbB",
        "outputId": "c4960346-449c-437b-cf48-3e14c494326b"
      },
      "source": [
        "img, label = train_data[0]\n",
        "img.shape, label[0].shape"
      ],
      "execution_count": null,
      "outputs": [
        {
          "output_type": "execute_result",
          "data": {
            "text/plain": [
              "(torch.Size([3, 416, 416]), torch.Size([3, 13, 13, 6]))"
            ]
          },
          "metadata": {
            "tags": []
          },
          "execution_count": 30
        }
      ]
    },
    {
      "cell_type": "code",
      "metadata": {
        "id": "a-067KbwnnHr",
        "colab": {
          "base_uri": "https://localhost:8080/",
          "height": 303
        },
        "outputId": "b9d3ae95-2f79-4a4d-d8a4-27c8ce471535"
      },
      "source": [
        "l = label[2][2]\n",
        "print(l[l == 1].shape)\n",
        "plt.imshow(img.permute(1, 2, 0))"
      ],
      "execution_count": null,
      "outputs": [
        {
          "output_type": "stream",
          "text": [
            "torch.Size([2])\n"
          ],
          "name": "stdout"
        },
        {
          "output_type": "execute_result",
          "data": {
            "text/plain": [
              "<matplotlib.image.AxesImage at 0x7f7a0b0ae990>"
            ]
          },
          "metadata": {
            "tags": []
          },
          "execution_count": 31
        },
        {
          "output_type": "display_data",
          "data": {
            "image/png": "[encoded data removed]",
            "text/plain": [
              "<Figure size 432x288 with 1 Axes>"
            ]
          },
          "metadata": {
            "tags": [],
            "needs_background": "light"
          }
        }
      ]
    },
    {
      "cell_type": "code",
      "metadata": {
        "id": "NWI-tEKNlsS7",
        "colab": {
          "base_uri": "https://localhost:8080/"
        },
        "outputId": "52ccfd87-531e-4ab6-8320-e3e10545dcf5"
      },
      "source": [
        "train_batches = DataLoader(train_data, batch_size=batch_size, shuffle=False, drop_last=True)#, num_workers=2, pin_memory=True)\n",
        "# test_batches = DataLoader(test_data, batch_size=batch_size, shuffle=False)#, num_workers=2, pin_memory=True)\n",
        "x, y = next(iter(train_batches))\n",
        "x.shape, y[2].shape"
      ],
      "execution_count": null,
      "outputs": [
        {
          "output_type": "execute_result",
          "data": {
            "text/plain": [
              "(torch.Size([16, 3, 416, 416]), torch.Size([16, 3, 52, 52, 6]))"
            ]
          },
          "metadata": {
            "tags": []
          },
          "execution_count": 32
        }
      ]
    },
    {
      "cell_type": "code",
      "metadata": {
        "colab": {
          "base_uri": "https://localhost:8080/"
        },
        "id": "JuqgLLuPhAye",
        "outputId": "f70b79eb-5bdb-4d66-dbb8-fb94e08cc795"
      },
      "source": [
        "net = YOLOv3(in_channels=3, num_classes=20).to(device)\n",
        "inp = torch.randn(1, 3, 416, 416).to(device)\n",
        "out = net(inp)\n",
        "print(out[0].shape, out[1].shape, out[2].shape)\n",
        "del inp, out"
      ],
      "execution_count": null,
      "outputs": [
        {
          "output_type": "stream",
          "text": [
            "torch.Size([1, 3, 13, 13, 25]) torch.Size([1, 3, 26, 26, 25]) torch.Size([1, 3, 52, 52, 25])\n"
          ],
          "name": "stdout"
        }
      ]
    },
    {
      "cell_type": "code",
      "metadata": {
        "id": "i40rFSBS_4dt"
      },
      "source": [
        "optimizer = torch.optim.Adam(net.parameters(), lr=lr, weight_decay=0)\n",
        "loss_fn = LossFn()\n",
        "scaler = torch.cuda.amp.GradScaler()\n",
        "scaled_anchors = (torch.tensor(anchors) * torch.tensor(scales).unsqueeze(1).unsqueeze(1).repeat(1, 3, 2)).to(device)"
      ],
      "execution_count": null,
      "outputs": []
    },
    {
      "cell_type": "code",
      "metadata": {
        "id": "omlQSXvlkvU9"
      },
      "source": [
        "def loop(net, batches, device, scaled_anchors, is_train):\n",
        "    losses = 0\n",
        "    if is_train:\n",
        "        print(\"Train Loop:\\n\")\n",
        "        net.train()\n",
        "    else:\n",
        "        print(\"Test Loop:\\n\")\n",
        "        net.eval()\n",
        "\n",
        "    for x, y in tqdm.tqdm(batches, total=len(batches)):\n",
        "        x = x.to(device)\n",
        "        y0, y1, y2 = y[0].to(device), y[1].to(device), y[2].to(device)\n",
        "        if is_train:\n",
        "            with torch.cuda.amp.autocast():\n",
        "                preds = net(x)\n",
        "                loss = loss_fn(preds[0], y0, scaled_anchors[0]) + loss_fn(preds[1], y1, scaled_anchors[1]) + loss_fn(preds[2], y2, scaled_anchors[2])\n",
        "        else:\n",
        "            with torch.no_grad():\n",
        "                preds = net(x)\n",
        "                loss = loss_fn(preds[0], y0, scaled_anchors[0]) + loss_fn(preds[1], y1, scaled_anchors[1]) + loss_fn(preds[2], y2, scaled_anchors[2])\n",
        "\n",
        "        losses += loss.item()\n",
        "        if is_train:\n",
        "            optimizer.zero_grad()\n",
        "            scaler.scale(loss).backward()\n",
        "            scaler.step(optimizer)\n",
        "            scaler.update()\n",
        "    print(\"\\n\")\n",
        "    return losses/len(batches)"
      ],
      "execution_count": null,
      "outputs": []
    },
    {
      "cell_type": "code",
      "metadata": {
        "id": "eLHtXb6_k912"
      },
      "source": [
        "for epoch in range(epochs):\n",
        "    train_loss = loop(net, train_batches, device, scaled_anchors, True)\n",
        "    # test_loss = loop(net, test_batches, device, scaled_anchors, False)\n",
        "    pred_boxes, true_boxes, class_acc, noobj_acc, obj_acc = get_eval_bboxes(net, train_batches, nms_iou_thresh, anchors, conf_thresh, True, device)\n",
        "    # test_pred_boxes, test_true_boxes, test_class_acc, test_noobj_acc, test_obj_acc = get_eval_bboxes(net, test_batches, nms_iou_thresh, anchors, conf_thresh, False, device)\n",
        "    train_mAP = mean_average_precision(pred_boxes, true_boxes, map_iou_thresh, num_classes=num_classes)\n",
        "    # test_mAP = mean_average_precision(test_pred_boxes, test_true_boxes, map_iou_thresh, num_classes=num_classes)\n",
        "    # print(f\"epoch: {epoch} | train_loss: {train_loss} | train_mAP: {train_mAP} | test_loss: {test_loss} | test_mAP: {test_mAP}\")\n",
        "    print(f\"epoch: {epoch} | train_loss: {train_loss:.4f} | train_mAP: {train_mAP:.4f}\\n\")\n",
        "    if epoch % 5 == 0:\n",
        "        display_images(net, train_batches, conf_thresh, nms_iou_thresh, anchors, class_dict, device)\n",
        "        print(\"\")"
      ],
      "execution_count": null,
      "outputs": []
    },
    {
      "cell_type": "code",
      "metadata": {
        "id": "RInes3P-NGop"
      },
      "source": [
        "for _ in range(5):\n",
        "    display_images(net, train_batches, conf_thresh, nms_iou_thresh, anchors, class_dict, device)\n",
        "    print(\"\")"
      ],
      "execution_count": null,
      "outputs": []
    },
    {
      "cell_type": "code",
      "metadata": {
        "id": "MqCyOs-3ir-2"
      },
      "source": [],
      "execution_count": null,
      "outputs": []
    },
    {
      "cell_type": "code",
      "metadata": {
        "id": "w2bkuGhyNFl_"
      },
      "source": [],
      "execution_count": null,
      "outputs": []
    }
  ]
}