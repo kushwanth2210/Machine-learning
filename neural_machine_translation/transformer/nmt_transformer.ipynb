{
  "nbformat": 4,
  "nbformat_minor": 0,
  "metadata": {
    "colab": {
      "name": "nmt_transformer.ipynb",
      "provenance": [],
      "collapsed_sections": []
    },
    "kernelspec": {
      "display_name": "Python 3",
      "name": "python3"
    },
    "accelerator": "GPU"
  },
  "cells": [
    {
      "cell_type": "code",
      "metadata": {
        "colab": {
          "base_uri": "https://localhost:8080/"
        },
        "id": "fymEtQaETsVc",
        "outputId": "2d52c684-50ed-4de6-9b18-ca97c48bdda6"
      },
      "source": [
        "pip install torchtext==0.8.0"
      ],
      "execution_count": 1,
      "outputs": [
        {
          "output_type": "stream",
          "text": [
            "Requirement already satisfied: torchtext==0.8.0 in /usr/local/lib/python3.6/dist-packages (0.8.0)\n",
            "Requirement already satisfied: tqdm in /usr/local/lib/python3.6/dist-packages (from torchtext==0.8.0) (4.41.1)\n",
            "Requirement already satisfied: numpy in /usr/local/lib/python3.6/dist-packages (from torchtext==0.8.0) (1.18.5)\n",
            "Requirement already satisfied: torch in /usr/local/lib/python3.6/dist-packages (from torchtext==0.8.0) (1.7.0+cu101)\n",
            "Requirement already satisfied: requests in /usr/local/lib/python3.6/dist-packages (from torchtext==0.8.0) (2.23.0)\n",
            "Requirement already satisfied: typing-extensions in /usr/local/lib/python3.6/dist-packages (from torch->torchtext==0.8.0) (3.7.4.3)\n",
            "Requirement already satisfied: dataclasses in /usr/local/lib/python3.6/dist-packages (from torch->torchtext==0.8.0) (0.8)\n",
            "Requirement already satisfied: future in /usr/local/lib/python3.6/dist-packages (from torch->torchtext==0.8.0) (0.16.0)\n",
            "Requirement already satisfied: idna<3,>=2.5 in /usr/local/lib/python3.6/dist-packages (from requests->torchtext==0.8.0) (2.10)\n",
            "Requirement already satisfied: urllib3!=1.25.0,!=1.25.1,<1.26,>=1.21.1 in /usr/local/lib/python3.6/dist-packages (from requests->torchtext==0.8.0) (1.24.3)\n",
            "Requirement already satisfied: certifi>=2017.4.17 in /usr/local/lib/python3.6/dist-packages (from requests->torchtext==0.8.0) (2020.11.8)\n",
            "Requirement already satisfied: chardet<4,>=3.0.2 in /usr/local/lib/python3.6/dist-packages (from requests->torchtext==0.8.0) (3.0.4)\n"
          ],
          "name": "stdout"
        }
      ]
    },
    {
      "cell_type": "code",
      "metadata": {
        "id": "u0Dsf-Ie5jCV"
      },
      "source": [
        "import torch\n",
        "import torch.nn as nn\n",
        "import tqdm\n",
        "import numpy as np\n",
        "import torch.optim as optim\n",
        "import spacy\n",
        "from torchtext.datasets import Multi30k\n",
        "from torchtext.data import Field, BucketIterator\n",
        "from torchtext.data.metrics import bleu_score\n",
        "import matplotlib.pyplot as plt"
      ],
      "execution_count": 2,
      "outputs": []
    },
    {
      "cell_type": "code",
      "metadata": {
        "colab": {
          "base_uri": "https://localhost:8080/",
          "height": 35
        },
        "id": "movLFR9bZf2V",
        "outputId": "d6c9cab1-6e4b-4135-fff4-95301a2ff8f2"
      },
      "source": [
        "torch.cuda.get_device_name()"
      ],
      "execution_count": 3,
      "outputs": [
        {
          "output_type": "execute_result",
          "data": {
            "application/vnd.google.colaboratory.intrinsic+json": {
              "type": "string"
            },
            "text/plain": [
              "'Tesla T4'"
            ]
          },
          "metadata": {
            "tags": []
          },
          "execution_count": 3
        }
      ]
    },
    {
      "cell_type": "code",
      "metadata": {
        "id": "LF2NyI4E5zbB",
        "colab": {
          "base_uri": "https://localhost:8080/"
        },
        "outputId": "0fd25f7c-2413-40ed-f999-9426ed9e6f34"
      },
      "source": [
        "!python -m spacy download de"
      ],
      "execution_count": 4,
      "outputs": [
        {
          "output_type": "stream",
          "text": [
            "Requirement already satisfied: de_core_news_sm==2.2.5 from https://github.com/explosion/spacy-models/releases/download/de_core_news_sm-2.2.5/de_core_news_sm-2.2.5.tar.gz#egg=de_core_news_sm==2.2.5 in /usr/local/lib/python3.6/dist-packages (2.2.5)\n",
            "Requirement already satisfied: spacy>=2.2.2 in /usr/local/lib/python3.6/dist-packages (from de_core_news_sm==2.2.5) (2.2.4)\n",
            "Requirement already satisfied: blis<0.5.0,>=0.4.0 in /usr/local/lib/python3.6/dist-packages (from spacy>=2.2.2->de_core_news_sm==2.2.5) (0.4.1)\n",
            "Requirement already satisfied: preshed<3.1.0,>=3.0.2 in /usr/local/lib/python3.6/dist-packages (from spacy>=2.2.2->de_core_news_sm==2.2.5) (3.0.4)\n",
            "Requirement already satisfied: cymem<2.1.0,>=2.0.2 in /usr/local/lib/python3.6/dist-packages (from spacy>=2.2.2->de_core_news_sm==2.2.5) (2.0.4)\n",
            "Requirement already satisfied: catalogue<1.1.0,>=0.0.7 in /usr/local/lib/python3.6/dist-packages (from spacy>=2.2.2->de_core_news_sm==2.2.5) (1.0.0)\n",
            "Requirement already satisfied: plac<1.2.0,>=0.9.6 in /usr/local/lib/python3.6/dist-packages (from spacy>=2.2.2->de_core_news_sm==2.2.5) (1.1.3)\n",
            "Requirement already satisfied: requests<3.0.0,>=2.13.0 in /usr/local/lib/python3.6/dist-packages (from spacy>=2.2.2->de_core_news_sm==2.2.5) (2.23.0)\n",
            "Requirement already satisfied: srsly<1.1.0,>=1.0.2 in /usr/local/lib/python3.6/dist-packages (from spacy>=2.2.2->de_core_news_sm==2.2.5) (1.0.4)\n",
            "Requirement already satisfied: tqdm<5.0.0,>=4.38.0 in /usr/local/lib/python3.6/dist-packages (from spacy>=2.2.2->de_core_news_sm==2.2.5) (4.41.1)\n",
            "Requirement already satisfied: murmurhash<1.1.0,>=0.28.0 in /usr/local/lib/python3.6/dist-packages (from spacy>=2.2.2->de_core_news_sm==2.2.5) (1.0.4)\n",
            "Requirement already satisfied: thinc==7.4.0 in /usr/local/lib/python3.6/dist-packages (from spacy>=2.2.2->de_core_news_sm==2.2.5) (7.4.0)\n",
            "Requirement already satisfied: numpy>=1.15.0 in /usr/local/lib/python3.6/dist-packages (from spacy>=2.2.2->de_core_news_sm==2.2.5) (1.18.5)\n",
            "Requirement already satisfied: setuptools in /usr/local/lib/python3.6/dist-packages (from spacy>=2.2.2->de_core_news_sm==2.2.5) (50.3.2)\n",
            "Requirement already satisfied: wasabi<1.1.0,>=0.4.0 in /usr/local/lib/python3.6/dist-packages (from spacy>=2.2.2->de_core_news_sm==2.2.5) (0.8.0)\n",
            "Requirement already satisfied: importlib-metadata>=0.20; python_version < \"3.8\" in /usr/local/lib/python3.6/dist-packages (from catalogue<1.1.0,>=0.0.7->spacy>=2.2.2->de_core_news_sm==2.2.5) (2.0.0)\n",
            "Requirement already satisfied: urllib3!=1.25.0,!=1.25.1,<1.26,>=1.21.1 in /usr/local/lib/python3.6/dist-packages (from requests<3.0.0,>=2.13.0->spacy>=2.2.2->de_core_news_sm==2.2.5) (1.24.3)\n",
            "Requirement already satisfied: chardet<4,>=3.0.2 in /usr/local/lib/python3.6/dist-packages (from requests<3.0.0,>=2.13.0->spacy>=2.2.2->de_core_news_sm==2.2.5) (3.0.4)\n",
            "Requirement already satisfied: certifi>=2017.4.17 in /usr/local/lib/python3.6/dist-packages (from requests<3.0.0,>=2.13.0->spacy>=2.2.2->de_core_news_sm==2.2.5) (2020.11.8)\n",
            "Requirement already satisfied: idna<3,>=2.5 in /usr/local/lib/python3.6/dist-packages (from requests<3.0.0,>=2.13.0->spacy>=2.2.2->de_core_news_sm==2.2.5) (2.10)\n",
            "Requirement already satisfied: zipp>=0.5 in /usr/local/lib/python3.6/dist-packages (from importlib-metadata>=0.20; python_version < \"3.8\"->catalogue<1.1.0,>=0.0.7->spacy>=2.2.2->de_core_news_sm==2.2.5) (3.4.0)\n",
            "\u001b[38;5;2m✔ Download and installation successful\u001b[0m\n",
            "You can now load the model via spacy.load('de_core_news_sm')\n",
            "\u001b[38;5;2m✔ Linking successful\u001b[0m\n",
            "/usr/local/lib/python3.6/dist-packages/de_core_news_sm -->\n",
            "/usr/local/lib/python3.6/dist-packages/spacy/data/de\n",
            "You can now load the model via spacy.load('de')\n"
          ],
          "name": "stdout"
        }
      ]
    },
    {
      "cell_type": "code",
      "metadata": {
        "id": "k8QNKIk05tIR"
      },
      "source": [
        "spacy_ger = spacy.load(\"de\")\n",
        "spacy_eng = spacy.load(\"en\")"
      ],
      "execution_count": 5,
      "outputs": []
    },
    {
      "cell_type": "code",
      "metadata": {
        "id": "-aCKjQM75xBP"
      },
      "source": [
        "def tokenize_ger(text):\n",
        "    return [t.text for t in spacy_ger.tokenizer(text)]\n",
        "\n",
        "def tokenize_eng(text):\n",
        "    return [t.text for t in spacy_eng.tokenizer(text)]"
      ],
      "execution_count": 6,
      "outputs": []
    },
    {
      "cell_type": "code",
      "metadata": {
        "id": "8qTPGH9N5w92",
        "colab": {
          "base_uri": "https://localhost:8080/"
        },
        "outputId": "ba3cdcfc-0aa0-4e29-e3f6-9699935e3ad9"
      },
      "source": [
        "german = Field(tokenize=tokenize_ger, lower=True, init_token=\"<sos>\", eos_token=\"<eos>\")\n",
        "english = Field(tokenize=tokenize_eng, lower=True, init_token=\"<sos>\", eos_token=\"<eos>\")"
      ],
      "execution_count": 7,
      "outputs": [
        {
          "output_type": "stream",
          "text": [
            "/usr/local/lib/python3.6/dist-packages/torchtext/data/field.py:150: UserWarning: Field class will be retired soon and moved to torchtext.legacy. Please see the most recent release notes for further information.\n",
            "  warnings.warn('{} class will be retired soon and moved to torchtext.legacy. Please see the most recent release notes for further information.'.format(self.__class__.__name__), UserWarning)\n"
          ],
          "name": "stderr"
        }
      ]
    },
    {
      "cell_type": "code",
      "metadata": {
        "colab": {
          "base_uri": "https://localhost:8080/"
        },
        "id": "Z65wOnOz58Ga",
        "outputId": "853f2876-e7d1-4bbd-ae8d-df87724164a1"
      },
      "source": [
        "train_data, valid_data, test_data = Multi30k.splits(exts=(\".de\", \".en\"), fields=(german, english))"
      ],
      "execution_count": 8,
      "outputs": [
        {
          "output_type": "stream",
          "text": [
            "/usr/local/lib/python3.6/dist-packages/torchtext/data/example.py:78: UserWarning: Example class will be retired soon and moved to torchtext.legacy. Please see the most recent release notes for further information.\n",
            "  warnings.warn('Example class will be retired soon and moved to torchtext.legacy. Please see the most recent release notes for further information.', UserWarning)\n"
          ],
          "name": "stderr"
        }
      ]
    },
    {
      "cell_type": "code",
      "metadata": {
        "colab": {
          "base_uri": "https://localhost:8080/"
        },
        "id": "biTpfqXAUaty",
        "outputId": "d0bce8d5-1657-450b-f8b5-52ca73c3d7b8"
      },
      "source": [
        "for data in train_data:\n",
        "    print(vars(data)[\"src\"])\n",
        "    print(vars(data)[\"trg\"])\n",
        "    break"
      ],
      "execution_count": 9,
      "outputs": [
        {
          "output_type": "stream",
          "text": [
            "['zwei', 'junge', 'weiße', 'männer', 'sind', 'im', 'freien', 'in', 'der', 'nähe', 'vieler', 'büsche', '.']\n",
            "['two', 'young', ',', 'white', 'males', 'are', 'outside', 'near', 'many', 'bushes', '.']\n"
          ],
          "name": "stdout"
        }
      ]
    },
    {
      "cell_type": "code",
      "metadata": {
        "id": "9QvoQWo-58bP"
      },
      "source": [
        "german.build_vocab(train_data, max_size=10000, min_freq=2)\n",
        "english.build_vocab(train_data, max_size=10000, min_freq=2)"
      ],
      "execution_count": 10,
      "outputs": []
    },
    {
      "cell_type": "code",
      "metadata": {
        "id": "z-M95kMy58JD"
      },
      "source": [
        "class Transformer(nn.Module):\n",
        "    def __init__(self, embedding_size, src_vocab_size, trg_vocab_size, src_pad_idx, num_heads, num_encoder_layers,\n",
        "                 num_decoder_layers, forward_expansion, p, max_len, device):\n",
        "        super(Transformer, self).__init__()\n",
        "\n",
        "        self.src_pad_idx = src_pad_idx\n",
        "        self.src_word_embedding = nn.Embedding(src_vocab_size, embedding_size)\n",
        "        self.src_positional_embedding = nn.Embedding(max_len, embedding_size)\n",
        "\n",
        "        self.trg_word_embedding = nn.Embedding(trg_vocab_size, embedding_size)\n",
        "        self.trg_positional_embedding = nn.Embedding(max_len, embedding_size)\n",
        "\n",
        "        self.dropout = nn.Dropout(p)\n",
        "        self.device = device\n",
        "\n",
        "        self.transformer = nn.Transformer(embedding_size, num_heads, num_encoder_layers, num_decoder_layers, \n",
        "                                          forward_expansion, dropout=p)\n",
        "        self.fc_out = nn.Linear(embedding_size, trg_vocab_size)\n",
        "    \n",
        "    def build_src_mask(self, src):\n",
        "        src_mask = src.transpose(0, 1) == self.src_pad_idx\n",
        "        return src_mask.to(self.device)\n",
        "\n",
        "    def forward(self, src, trg):\n",
        "        src_seq_len, N = src.shape\n",
        "        trg_seq_len, N = trg.shape\n",
        "        src_positions = (torch.arange(0, src_seq_len).unsqueeze(1).expand(src_seq_len, N).to(self.device))\n",
        "        trg_positions = (torch.arange(0, trg_seq_len).unsqueeze(1).expand(trg_seq_len, N).to(self.device))\n",
        "        \n",
        "        src_embedding = self.dropout((self.src_word_embedding(src) + self.src_positional_embedding(src_positions)))\n",
        "        trg_embedding = self.dropout((self.trg_word_embedding(trg) + self.trg_positional_embedding(trg_positions)))\n",
        "        \n",
        "        src_mask = self.build_src_mask(src)\n",
        "        trg_mask = self.transformer.generate_square_subsequent_mask(trg_seq_len).to(self.device)\n",
        "\n",
        "        x = self.transformer(src_embedding, trg_embedding, src_key_padding_mask=src_mask, tgt_mask=trg_mask)\n",
        "        x = self.fc_out(x)\n",
        "\n",
        "        return x"
      ],
      "execution_count": 11,
      "outputs": []
    },
    {
      "cell_type": "code",
      "metadata": {
        "id": "uttL_W_26JxD"
      },
      "source": [
        "device = torch.device(\"cuda\" if torch.cuda.is_available() else \"cpu\")\n",
        "epochs = 16\n",
        "lr = 3e-4\n",
        "batch_size = 32\n",
        "src_vocab_size = len(german.vocab)\n",
        "trg_vocab_size = len(english.vocab)\n",
        "embedding_size = 512\n",
        "num_heads = 8\n",
        "num_encoder_layers = 3\n",
        "num_decoder_layers = 3\n",
        "p = 0.10\n",
        "max_len = 100\n",
        "forward_expansion = 4\n",
        "src_pad_idx = english.vocab.stoi[\"<pad>\"]"
      ],
      "execution_count": 14,
      "outputs": []
    },
    {
      "cell_type": "code",
      "metadata": {
        "colab": {
          "base_uri": "https://localhost:8080/"
        },
        "id": "G1GaHVQp6Juq",
        "outputId": "ca1c3be3-7b0a-4149-e539-e80978bfdc30"
      },
      "source": [
        "device"
      ],
      "execution_count": 15,
      "outputs": [
        {
          "output_type": "execute_result",
          "data": {
            "text/plain": [
              "device(type='cuda')"
            ]
          },
          "metadata": {
            "tags": []
          },
          "execution_count": 15
        }
      ]
    },
    {
      "cell_type": "code",
      "metadata": {
        "id": "SUXnpgyl58Dr",
        "colab": {
          "base_uri": "https://localhost:8080/"
        },
        "outputId": "64853d66-f1da-431a-d430-f8d7ca3a8147"
      },
      "source": [
        "train_batches, valid_batches, test_batches = BucketIterator.splits((train_data, valid_data, test_data),\n",
        "                                                                   batch_size=batch_size, sort_within_batch=True,\n",
        "                                                                   sort_key=lambda x: len(x.src),\n",
        "                                                                   device=device)"
      ],
      "execution_count": 16,
      "outputs": [
        {
          "output_type": "stream",
          "text": [
            "/usr/local/lib/python3.6/dist-packages/torchtext/data/iterator.py:48: UserWarning: BucketIterator class will be retired soon and moved to torchtext.legacy. Please see the most recent release notes for further information.\n",
            "  warnings.warn('{} class will be retired soon and moved to torchtext.legacy. Please see the most recent release notes for further information.'.format(self.__class__.__name__), UserWarning)\n"
          ],
          "name": "stderr"
        }
      ]
    },
    {
      "cell_type": "code",
      "metadata": {
        "colab": {
          "base_uri": "https://localhost:8080/"
        },
        "id": "uN1CPuLxAEl2",
        "outputId": "919d5cad-e0f6-4892-8916-e831e1bde386"
      },
      "source": [
        "for batch in train_batches:\n",
        "    ger = batch.src\n",
        "    eng = batch.trg\n",
        "    print(ger.shape)\n",
        "    print(eng.shape)\n",
        "    break"
      ],
      "execution_count": 17,
      "outputs": [
        {
          "output_type": "stream",
          "text": [
            "/usr/local/lib/python3.6/dist-packages/torchtext/data/batch.py:23: UserWarning: Batch class will be retired soon and moved to torchtext.legacy. Please see the most recent release notes for further information.\n",
            "  warnings.warn('{} class will be retired soon and moved to torchtext.legacy. Please see the most recent release notes for further information.'.format(self.__class__.__name__), UserWarning)\n"
          ],
          "name": "stderr"
        },
        {
          "output_type": "stream",
          "text": [
            "torch.Size([13, 32])\n",
            "torch.Size([18, 32])\n"
          ],
          "name": "stdout"
        }
      ]
    },
    {
      "cell_type": "code",
      "metadata": {
        "id": "slfOhhZ0AEje"
      },
      "source": [
        "net = Transformer(embedding_size, src_vocab_size, trg_vocab_size, src_pad_idx, num_heads, num_encoder_layers, \n",
        "                  num_decoder_layers, forward_expansion, p, max_len, device).to(device)"
      ],
      "execution_count": 18,
      "outputs": []
    },
    {
      "cell_type": "code",
      "metadata": {
        "id": "dUhskZB1Asz6",
        "colab": {
          "base_uri": "https://localhost:8080/"
        },
        "outputId": "48407bd4-357b-4b39-aa90-0c21fa6da5f3"
      },
      "source": [
        "net"
      ],
      "execution_count": 19,
      "outputs": [
        {
          "output_type": "execute_result",
          "data": {
            "text/plain": [
              "Transformer(\n",
              "  (src_word_embedding): Embedding(7855, 512)\n",
              "  (src_positional_embedding): Embedding(100, 512)\n",
              "  (trg_word_embedding): Embedding(5893, 512)\n",
              "  (trg_positional_embedding): Embedding(100, 512)\n",
              "  (dropout): Dropout(p=0.1, inplace=False)\n",
              "  (transformer): Transformer(\n",
              "    (encoder): TransformerEncoder(\n",
              "      (layers): ModuleList(\n",
              "        (0): TransformerEncoderLayer(\n",
              "          (self_attn): MultiheadAttention(\n",
              "            (out_proj): _LinearWithBias(in_features=512, out_features=512, bias=True)\n",
              "          )\n",
              "          (linear1): Linear(in_features=512, out_features=4, bias=True)\n",
              "          (dropout): Dropout(p=0.1, inplace=False)\n",
              "          (linear2): Linear(in_features=4, out_features=512, bias=True)\n",
              "          (norm1): LayerNorm((512,), eps=1e-05, elementwise_affine=True)\n",
              "          (norm2): LayerNorm((512,), eps=1e-05, elementwise_affine=True)\n",
              "          (dropout1): Dropout(p=0.1, inplace=False)\n",
              "          (dropout2): Dropout(p=0.1, inplace=False)\n",
              "        )\n",
              "        (1): TransformerEncoderLayer(\n",
              "          (self_attn): MultiheadAttention(\n",
              "            (out_proj): _LinearWithBias(in_features=512, out_features=512, bias=True)\n",
              "          )\n",
              "          (linear1): Linear(in_features=512, out_features=4, bias=True)\n",
              "          (dropout): Dropout(p=0.1, inplace=False)\n",
              "          (linear2): Linear(in_features=4, out_features=512, bias=True)\n",
              "          (norm1): LayerNorm((512,), eps=1e-05, elementwise_affine=True)\n",
              "          (norm2): LayerNorm((512,), eps=1e-05, elementwise_affine=True)\n",
              "          (dropout1): Dropout(p=0.1, inplace=False)\n",
              "          (dropout2): Dropout(p=0.1, inplace=False)\n",
              "        )\n",
              "        (2): TransformerEncoderLayer(\n",
              "          (self_attn): MultiheadAttention(\n",
              "            (out_proj): _LinearWithBias(in_features=512, out_features=512, bias=True)\n",
              "          )\n",
              "          (linear1): Linear(in_features=512, out_features=4, bias=True)\n",
              "          (dropout): Dropout(p=0.1, inplace=False)\n",
              "          (linear2): Linear(in_features=4, out_features=512, bias=True)\n",
              "          (norm1): LayerNorm((512,), eps=1e-05, elementwise_affine=True)\n",
              "          (norm2): LayerNorm((512,), eps=1e-05, elementwise_affine=True)\n",
              "          (dropout1): Dropout(p=0.1, inplace=False)\n",
              "          (dropout2): Dropout(p=0.1, inplace=False)\n",
              "        )\n",
              "      )\n",
              "      (norm): LayerNorm((512,), eps=1e-05, elementwise_affine=True)\n",
              "    )\n",
              "    (decoder): TransformerDecoder(\n",
              "      (layers): ModuleList(\n",
              "        (0): TransformerDecoderLayer(\n",
              "          (self_attn): MultiheadAttention(\n",
              "            (out_proj): _LinearWithBias(in_features=512, out_features=512, bias=True)\n",
              "          )\n",
              "          (multihead_attn): MultiheadAttention(\n",
              "            (out_proj): _LinearWithBias(in_features=512, out_features=512, bias=True)\n",
              "          )\n",
              "          (linear1): Linear(in_features=512, out_features=4, bias=True)\n",
              "          (dropout): Dropout(p=0.1, inplace=False)\n",
              "          (linear2): Linear(in_features=4, out_features=512, bias=True)\n",
              "          (norm1): LayerNorm((512,), eps=1e-05, elementwise_affine=True)\n",
              "          (norm2): LayerNorm((512,), eps=1e-05, elementwise_affine=True)\n",
              "          (norm3): LayerNorm((512,), eps=1e-05, elementwise_affine=True)\n",
              "          (dropout1): Dropout(p=0.1, inplace=False)\n",
              "          (dropout2): Dropout(p=0.1, inplace=False)\n",
              "          (dropout3): Dropout(p=0.1, inplace=False)\n",
              "        )\n",
              "        (1): TransformerDecoderLayer(\n",
              "          (self_attn): MultiheadAttention(\n",
              "            (out_proj): _LinearWithBias(in_features=512, out_features=512, bias=True)\n",
              "          )\n",
              "          (multihead_attn): MultiheadAttention(\n",
              "            (out_proj): _LinearWithBias(in_features=512, out_features=512, bias=True)\n",
              "          )\n",
              "          (linear1): Linear(in_features=512, out_features=4, bias=True)\n",
              "          (dropout): Dropout(p=0.1, inplace=False)\n",
              "          (linear2): Linear(in_features=4, out_features=512, bias=True)\n",
              "          (norm1): LayerNorm((512,), eps=1e-05, elementwise_affine=True)\n",
              "          (norm2): LayerNorm((512,), eps=1e-05, elementwise_affine=True)\n",
              "          (norm3): LayerNorm((512,), eps=1e-05, elementwise_affine=True)\n",
              "          (dropout1): Dropout(p=0.1, inplace=False)\n",
              "          (dropout2): Dropout(p=0.1, inplace=False)\n",
              "          (dropout3): Dropout(p=0.1, inplace=False)\n",
              "        )\n",
              "        (2): TransformerDecoderLayer(\n",
              "          (self_attn): MultiheadAttention(\n",
              "            (out_proj): _LinearWithBias(in_features=512, out_features=512, bias=True)\n",
              "          )\n",
              "          (multihead_attn): MultiheadAttention(\n",
              "            (out_proj): _LinearWithBias(in_features=512, out_features=512, bias=True)\n",
              "          )\n",
              "          (linear1): Linear(in_features=512, out_features=4, bias=True)\n",
              "          (dropout): Dropout(p=0.1, inplace=False)\n",
              "          (linear2): Linear(in_features=4, out_features=512, bias=True)\n",
              "          (norm1): LayerNorm((512,), eps=1e-05, elementwise_affine=True)\n",
              "          (norm2): LayerNorm((512,), eps=1e-05, elementwise_affine=True)\n",
              "          (norm3): LayerNorm((512,), eps=1e-05, elementwise_affine=True)\n",
              "          (dropout1): Dropout(p=0.1, inplace=False)\n",
              "          (dropout2): Dropout(p=0.1, inplace=False)\n",
              "          (dropout3): Dropout(p=0.1, inplace=False)\n",
              "        )\n",
              "      )\n",
              "      (norm): LayerNorm((512,), eps=1e-05, elementwise_affine=True)\n",
              "    )\n",
              "  )\n",
              "  (fc_out): Linear(in_features=512, out_features=5893, bias=True)\n",
              ")"
            ]
          },
          "metadata": {
            "tags": []
          },
          "execution_count": 19
        }
      ]
    },
    {
      "cell_type": "code",
      "metadata": {
        "id": "5vD-E1bpAswj"
      },
      "source": [
        "opt = optim.Adam(net.parameters(), lr)\n",
        "pad_idx = english.vocab.stoi[\"<pad>\"]\n",
        "loss_fn = nn.CrossEntropyLoss(ignore_index=pad_idx)"
      ],
      "execution_count": 20,
      "outputs": []
    },
    {
      "cell_type": "code",
      "metadata": {
        "id": "AtasDdTcVeDk"
      },
      "source": [
        "def translate(net, sentence, german, english, device, max_len=50):\n",
        "    if type(sentence) == str:\n",
        "        tokens = [t.text.lower() for t in spacy_ger(sentence)]\n",
        "    else:\n",
        "        tokens = [t.lower() for t in sentence]\n",
        "\n",
        "    tokens.insert(0, \"<sos>\")\n",
        "    tokens.append(\"<eos>\")\n",
        "\n",
        "    text2idx = []\n",
        "    for t in tokens:\n",
        "        text2idx.append(german.vocab.stoi[t])\n",
        "    \n",
        "    text_tensor = torch.LongTensor(text2idx)\n",
        "    text_tensor = text_tensor.unsqueeze(1).to(device)\n",
        "\n",
        "    output = [english.vocab.stoi[\"<sos>\"]]\n",
        "    for _ in range(max_len):\n",
        "        trg_tensor = torch.LongTensor(output).unsqueeze(1).to(device)\n",
        "\n",
        "        with torch.no_grad():\n",
        "            p = net(text_tensor, trg_tensor)\n",
        "\n",
        "        pred = p.argmax(2)[-1, :].item()\n",
        "        output.append(pred)\n",
        "        if pred == english.vocab.stoi[\"<eos>\"]:\n",
        "            break\n",
        "\n",
        "    output_text = [english.vocab.itos[idx] for idx in output]\n",
        "    \n",
        "    return output_text[1:]"
      ],
      "execution_count": 21,
      "outputs": []
    },
    {
      "cell_type": "code",
      "metadata": {
        "id": "tBS_zd3Y2j3Y"
      },
      "source": [
        "def bleu(data, net, german, english, device):\n",
        "    targets = []\n",
        "    outputs = []\n",
        "\n",
        "    for d in data:\n",
        "        src = vars(d)[\"src\"]\n",
        "        trg = vars(d)[\"trg\"]\n",
        "\n",
        "        prediction = translate(net, src, german, english, device)\n",
        "        prediction = prediction[:-1]  \n",
        "\n",
        "        targets.append([trg])\n",
        "        outputs.append(prediction)\n",
        "       \n",
        "    return bleu_score(outputs, targets)"
      ],
      "execution_count": 22,
      "outputs": []
    },
    {
      "cell_type": "code",
      "metadata": {
        "id": "Xf9T3nFuWuKm"
      },
      "source": [
        "def save_checkpoint(net, opt, losses, filename):\n",
        "    check_point = {\"net_dict\": net.state_dict(), \"opt_dict\": opt.state_dict(), \"losses\": losses}\n",
        "    torch.save(check_point, filename)\n",
        "    print(\"Checkpoint Saved!\")\n",
        "\n",
        "def load_checkpoint(net, opt, filename):\n",
        "    check_point = torch.load(filename)\n",
        "    net.load_state_dict(check_point[\"net_dict\"])\n",
        "    opt.load_state_dict(check_point[\"opt_dict\"])\n",
        "    losses = check_point[\"losses\"]\n",
        "    print(\"Checkpoint Loaded!\")"
      ],
      "execution_count": 23,
      "outputs": []
    },
    {
      "cell_type": "code",
      "metadata": {
        "colab": {
          "base_uri": "https://localhost:8080/"
        },
        "id": "POj08mQg5c17",
        "outputId": "84b25e19-09f2-4fbf-c2bb-8b21c3f47da5"
      },
      "source": [
        "t = [[['that', 'is', 'a', 'plane', 'and', 'not', 'a', 'bird']]]\n",
        "o = [['that', 'is', 'a', 'plane', 'and', 'not', 'a', 'dog']]\n",
        "bleu_score(o, t)"
      ],
      "execution_count": 24,
      "outputs": [
        {
          "output_type": "execute_result",
          "data": {
            "text/plain": [
              "0.8408964276313782"
            ]
          },
          "metadata": {
            "tags": []
          },
          "execution_count": 24
        }
      ]
    },
    {
      "cell_type": "code",
      "metadata": {
        "id": "5-2aRSbmLCr5"
      },
      "source": [
        "text = \"ein boot mit mehreren männern darauf wird von einem großen pferdegespann ans ufer gezogen\"\n",
        "english_translation = \"a boat with several men on it is being pulled ashore by a large team of horses\""
      ],
      "execution_count": 25,
      "outputs": []
    },
    {
      "cell_type": "code",
      "metadata": {
        "id": "RxlPHAx8aTTv"
      },
      "source": [
        "losses = []"
      ],
      "execution_count": 26,
      "outputs": []
    },
    {
      "cell_type": "code",
      "metadata": {
        "colab": {
          "base_uri": "https://localhost:8080/"
        },
        "id": "gqItbvtVBAAt",
        "outputId": "bfc8e8da-af01-4fdf-fad1-dea9b5783702"
      },
      "source": [
        "for epoch in range(epochs):\n",
        "    batch_losses = []\n",
        "    for batch in tqdm.tqdm(train_batches, total=len(train_batches)):\n",
        "        X = batch.src.to(device)\n",
        "        y = batch.trg.to(device)\n",
        "\n",
        "        output = net(X, y[:-1, :])\n",
        "        output = output.reshape(-1, output.shape[2])\n",
        "        y = y[1:].reshape(-1)\n",
        "\n",
        "        opt.zero_grad()\n",
        "        loss = loss_fn(output, y)\n",
        "        batch_losses.append(loss.item())\n",
        "        loss.backward()\n",
        "        torch.nn.utils.clip_grad_norm_(net.parameters(), max_norm=1)\n",
        "        opt.step()\n",
        "    \n",
        "    losses.append(np.round(sum(batch_losses)/len(batch_losses), 5))\n",
        "    print(f\" Epoch: {epoch} | Loss: {losses[epoch]:4f}\")\n",
        "\n",
        "    pred_list = translate(net, text, german, english, device, max_len=50)\n",
        "    pred_text = \"\"\n",
        "    for word in pred_list:\n",
        "        pred_text += word + \" \"\n",
        "\n",
        "    print(pred_text)\n",
        "    print(\"\")\n",
        "\n",
        "    if epoch % 5 == 0:\n",
        "        print(\"\")\n",
        "        save_checkpoint(net, opt, losses, f\"checkpoint-{epoch}.pth.tar\")\n",
        "        print(\"\")"
      ],
      "execution_count": 27,
      "outputs": [
        {
          "output_type": "stream",
          "text": [
            "  0%|          | 0/907 [00:00<?, ?it/s]/usr/local/lib/python3.6/dist-packages/torchtext/data/batch.py:23: UserWarning: Batch class will be retired soon and moved to torchtext.legacy. Please see the most recent release notes for further information.\n",
            "  warnings.warn('{} class will be retired soon and moved to torchtext.legacy. Please see the most recent release notes for further information.'.format(self.__class__.__name__), UserWarning)\n",
            "100%|██████████| 907/907 [00:35<00:00, 25.77it/s]\n"
          ],
          "name": "stderr"
        },
        {
          "output_type": "stream",
          "text": [
            "Epoch: 0 | Loss: 3.437530\n",
            "a boat boat several food in a large <unk> of a large <unk> . <eos> \n",
            "\n",
            "\n"
          ],
          "name": "stdout"
        },
        {
          "output_type": "stream",
          "text": [
            "  0%|          | 2/907 [00:00<00:57, 15.84it/s]"
          ],
          "name": "stderr"
        },
        {
          "output_type": "stream",
          "text": [
            "Checkpoint Saved!\n",
            "\n"
          ],
          "name": "stdout"
        },
        {
          "output_type": "stream",
          "text": [
            "100%|██████████| 907/907 [00:35<00:00, 25.62it/s]\n",
            "  0%|          | 0/907 [00:00<?, ?it/s]"
          ],
          "name": "stderr"
        },
        {
          "output_type": "stream",
          "text": [
            "Epoch: 1 | Loss: 2.423850\n",
            "a boat with several several <unk> being to a large <unk> . <eos> \n",
            "\n"
          ],
          "name": "stdout"
        },
        {
          "output_type": "stream",
          "text": [
            "100%|██████████| 907/907 [00:35<00:00, 25.54it/s]\n",
            "  0%|          | 0/907 [00:00<?, ?it/s]"
          ],
          "name": "stderr"
        },
        {
          "output_type": "stream",
          "text": [
            "Epoch: 2 | Loss: 2.032070\n",
            "a boat with several men is being pulled by a large <unk> . <eos> \n",
            "\n"
          ],
          "name": "stdout"
        },
        {
          "output_type": "stream",
          "text": [
            "100%|██████████| 907/907 [00:35<00:00, 25.57it/s]\n",
            "  0%|          | 0/907 [00:00<?, ?it/s]"
          ],
          "name": "stderr"
        },
        {
          "output_type": "stream",
          "text": [
            "Epoch: 3 | Loss: 1.785000\n",
            "a boat of several men with several <unk> is being pulled by a large <unk> . <eos> \n",
            "\n"
          ],
          "name": "stdout"
        },
        {
          "output_type": "stream",
          "text": [
            "100%|██████████| 907/907 [00:35<00:00, 25.42it/s]\n",
            "  0%|          | 0/907 [00:00<?, ?it/s]"
          ],
          "name": "stderr"
        },
        {
          "output_type": "stream",
          "text": [
            "Epoch: 4 | Loss: 1.596080\n",
            "a boat with several men on is being pulled by a large <unk> . <eos> \n",
            "\n"
          ],
          "name": "stdout"
        },
        {
          "output_type": "stream",
          "text": [
            "100%|██████████| 907/907 [00:35<00:00, 25.38it/s]\n"
          ],
          "name": "stderr"
        },
        {
          "output_type": "stream",
          "text": [
            "Epoch: 5 | Loss: 1.449460\n",
            "a boat with several men are pulled to cross by a large <unk> . <eos> \n",
            "\n",
            "\n"
          ],
          "name": "stdout"
        },
        {
          "output_type": "stream",
          "text": [
            "  0%|          | 2/907 [00:00<00:57, 15.87it/s]"
          ],
          "name": "stderr"
        },
        {
          "output_type": "stream",
          "text": [
            "Checkpoint Saved!\n",
            "\n"
          ],
          "name": "stdout"
        },
        {
          "output_type": "stream",
          "text": [
            "100%|██████████| 907/907 [00:35<00:00, 25.23it/s]\n",
            "  0%|          | 0/907 [00:00<?, ?it/s]"
          ],
          "name": "stderr"
        },
        {
          "output_type": "stream",
          "text": [
            "Epoch: 6 | Loss: 1.326010\n",
            "a boat with several men pulled by a large <unk> shore . <eos> \n",
            "\n"
          ],
          "name": "stdout"
        },
        {
          "output_type": "stream",
          "text": [
            "100%|██████████| 907/907 [00:36<00:00, 25.16it/s]\n",
            "  0%|          | 0/907 [00:00<?, ?it/s]"
          ],
          "name": "stderr"
        },
        {
          "output_type": "stream",
          "text": [
            "Epoch: 7 | Loss: 1.223470\n",
            "a boat with several men on top of a large shore of bicycles shore . <eos> \n",
            "\n"
          ],
          "name": "stdout"
        },
        {
          "output_type": "stream",
          "text": [
            "100%|██████████| 907/907 [00:35<00:00, 25.31it/s]\n",
            "  0%|          | 0/907 [00:00<?, ?it/s]"
          ],
          "name": "stderr"
        },
        {
          "output_type": "stream",
          "text": [
            "Epoch: 8 | Loss: 1.131110\n",
            "a boat with several men on is pulled by a large <unk> . <eos> \n",
            "\n"
          ],
          "name": "stdout"
        },
        {
          "output_type": "stream",
          "text": [
            "100%|██████████| 907/907 [00:35<00:00, 25.25it/s]\n",
            "  0%|          | 0/907 [00:00<?, ?it/s]"
          ],
          "name": "stderr"
        },
        {
          "output_type": "stream",
          "text": [
            "Epoch: 9 | Loss: 1.051720\n",
            "a boat with several men on getting ready to shore from a large shore . <eos> \n",
            "\n"
          ],
          "name": "stdout"
        },
        {
          "output_type": "stream",
          "text": [
            "100%|██████████| 907/907 [00:35<00:00, 25.30it/s]\n"
          ],
          "name": "stderr"
        },
        {
          "output_type": "stream",
          "text": [
            "Epoch: 10 | Loss: 0.984440\n",
            "a boat with several men on it is pulled by a large <unk> bank of dirt . <eos> \n",
            "\n",
            "\n"
          ],
          "name": "stdout"
        },
        {
          "output_type": "stream",
          "text": [
            "  0%|          | 2/907 [00:00<00:58, 15.50it/s]"
          ],
          "name": "stderr"
        },
        {
          "output_type": "stream",
          "text": [
            "Checkpoint Saved!\n",
            "\n"
          ],
          "name": "stdout"
        },
        {
          "output_type": "stream",
          "text": [
            "100%|██████████| 907/907 [00:35<00:00, 25.23it/s]\n",
            "  0%|          | 0/907 [00:00<?, ?it/s]"
          ],
          "name": "stderr"
        },
        {
          "output_type": "stream",
          "text": [
            "Epoch: 11 | Loss: 0.921470\n",
            "a boat boat with several men pulled on a large <unk> . <eos> \n",
            "\n"
          ],
          "name": "stdout"
        },
        {
          "output_type": "stream",
          "text": [
            "100%|██████████| 907/907 [00:35<00:00, 25.26it/s]\n",
            "  0%|          | 0/907 [00:00<?, ?it/s]"
          ],
          "name": "stderr"
        },
        {
          "output_type": "stream",
          "text": [
            "Epoch: 12 | Loss: 0.869440\n",
            "a boat with several men pulled is pulled by a large <unk> of pulled . <eos> \n",
            "\n"
          ],
          "name": "stdout"
        },
        {
          "output_type": "stream",
          "text": [
            "100%|██████████| 907/907 [00:36<00:00, 25.11it/s]\n",
            "  0%|          | 0/907 [00:00<?, ?it/s]"
          ],
          "name": "stderr"
        },
        {
          "output_type": "stream",
          "text": [
            "Epoch: 13 | Loss: 0.816670\n",
            "a boat with several men on a large dock by a large animal . <eos> \n",
            "\n"
          ],
          "name": "stdout"
        },
        {
          "output_type": "stream",
          "text": [
            "100%|██████████| 907/907 [00:35<00:00, 25.33it/s]\n",
            "  0%|          | 0/907 [00:00<?, ?it/s]"
          ],
          "name": "stderr"
        },
        {
          "output_type": "stream",
          "text": [
            "Epoch: 14 | Loss: 0.775400\n",
            "a boat with several men on is pulled by a large firetruck . <eos> \n",
            "\n"
          ],
          "name": "stdout"
        },
        {
          "output_type": "stream",
          "text": [
            "100%|██████████| 907/907 [00:36<00:00, 25.19it/s]\n"
          ],
          "name": "stderr"
        },
        {
          "output_type": "stream",
          "text": [
            "Epoch: 15 | Loss: 0.734110\n",
            "a boat with several men are pulled up by a large ship . <eos> \n",
            "\n",
            "\n",
            "Checkpoint Saved!\n",
            "\n"
          ],
          "name": "stdout"
        }
      ]
    },
    {
      "cell_type": "code",
      "metadata": {
        "colab": {
          "base_uri": "https://localhost:8080/",
          "height": 296
        },
        "id": "ydOtc_4xEkbi",
        "outputId": "9fa1c915-80d6-4736-cdc7-b82894a51fc7"
      },
      "source": [
        "plt.plot(losses)\n",
        "plt.xlabel(\"epoch\")\n",
        "plt.ylabel(\"loss\")"
      ],
      "execution_count": 28,
      "outputs": [
        {
          "output_type": "execute_result",
          "data": {
            "text/plain": [
              "Text(0, 0.5, 'loss')"
            ]
          },
          "metadata": {
            "tags": []
          },
          "execution_count": 28
        },
        {
          "output_type": "display_data",
          "data": {
            "image/png": "[encoded data removed]",
            "text/plain": [
              "<Figure size 432x288 with 1 Axes>"
            ]
          },
          "metadata": {
            "tags": [],
            "needs_background": "light"
          }
        }
      ]
    },
    {
      "cell_type": "code",
      "metadata": {
        "colab": {
          "base_uri": "https://localhost:8080/"
        },
        "id": "tYxB-IawIH0J",
        "outputId": "f1cda179-517f-45f2-a939-c5a8e7857b44"
      },
      "source": [
        "len(test_data)"
      ],
      "execution_count": 29,
      "outputs": [
        {
          "output_type": "execute_result",
          "data": {
            "text/plain": [
              "1000"
            ]
          },
          "metadata": {
            "tags": []
          },
          "execution_count": 29
        }
      ]
    },
    {
      "cell_type": "code",
      "metadata": {
        "id": "2IMprzXQLKSE",
        "colab": {
          "base_uri": "https://localhost:8080/"
        },
        "outputId": "1a70d746-4d70-460c-87eb-e813717a6118"
      },
      "source": [
        "score = bleu(test_data, net, german, english, device) * 100\n",
        "print(f\"Bleu Score: {score}\")"
      ],
      "execution_count": 30,
      "outputs": [
        {
          "output_type": "stream",
          "text": [
            "Bleu Score: 32.21848885116025\n"
          ],
          "name": "stdout"
        }
      ]
    },
    {
      "cell_type": "code",
      "metadata": {
        "id": "JiKXu2ZWI1Ig"
      },
      "source": [
        "# bleu score interpretation:\n",
        "# 0 - 19: bad translations\n",
        "# 20 - 29: understandable translations\n",
        "# 30 - 39: good translations\n",
        "# 40 - 49: High quality translations\n",
        "# 50 - 60: Very high quality, adequate, and fluent translations\n",
        "# > 60: Quality often better than human"
      ],
      "execution_count": 31,
      "outputs": []
    },
    {
      "cell_type": "code",
      "metadata": {
        "id": "yLpKV8Os_6eI"
      },
      "source": [
        "text1 = \"Ein Mann geht die Straße entlang, während er eine Tasse in der Hand hält\"\n",
        "og_translation1 = \"a man is walking down the street while holding a cup\""
      ],
      "execution_count": 32,
      "outputs": []
    },
    {
      "cell_type": "code",
      "metadata": {
        "id": "wnYBhL6osTeS",
        "colab": {
          "base_uri": "https://localhost:8080/"
        },
        "outputId": "98df5baf-52fe-46bf-cc9b-b68f1bce59b0"
      },
      "source": [
        "pred_list = translate(net, text1, german, english, device)\n",
        "pred_text = \"\"\n",
        "for word in pred_list:\n",
        "    pred_text += word + \" \"\n",
        "\n",
        "print(pred_text)\n",
        "print(\"\")"
      ],
      "execution_count": 33,
      "outputs": [
        {
          "output_type": "stream",
          "text": [
            "a man is walking down the street holding a cup . <eos> \n",
            "\n"
          ],
          "name": "stdout"
        }
      ]
    },
    {
      "cell_type": "code",
      "metadata": {
        "id": "RwoeE9WBLRmk"
      },
      "source": [
        "text2 = \"Dieser Affe klettert auf einen Baum\"\n",
        "og_translation2 = \"that monkey is climbing a tree\""
      ],
      "execution_count": 34,
      "outputs": []
    },
    {
      "cell_type": "code",
      "metadata": {
        "colab": {
          "base_uri": "https://localhost:8080/"
        },
        "id": "7GiMkk62LRjT",
        "outputId": "2f840cf8-5045-4820-a6e7-ba1146f54d11"
      },
      "source": [
        "pred_list = translate(net, text2, german, english, device)\n",
        "pred_text = \"\"\n",
        "for word in pred_list:\n",
        "    pred_text += word + \" \"\n",
        "\n",
        "print(pred_text)\n",
        "print(\"\")"
      ],
      "execution_count": 35,
      "outputs": [
        {
          "output_type": "stream",
          "text": [
            "this mountain landscape are climbing a tree . <eos> \n",
            "\n"
          ],
          "name": "stdout"
        }
      ]
    },
    {
      "cell_type": "code",
      "metadata": {
        "id": "e7LoBGhGLjJ1"
      },
      "source": [
        "text3 = \"Dieser Mann rennt zu langsam, um den Bus zu erreichen\"\n",
        "og_translation3 = \"that man is running too slow to catch the bus\""
      ],
      "execution_count": 36,
      "outputs": []
    },
    {
      "cell_type": "code",
      "metadata": {
        "colab": {
          "base_uri": "https://localhost:8080/"
        },
        "id": "U3ZG7xSc8AfO",
        "outputId": "b6e131e0-5231-4912-fd7d-ce291e6e1754"
      },
      "source": [
        "pred_list = translate(net, text3, german, english, device)\n",
        "pred_text = \"\"\n",
        "for word in pred_list:\n",
        "    pred_text += word + \" \"\n",
        "\n",
        "print(pred_text)\n",
        "print(\"\")"
      ],
      "execution_count": 37,
      "outputs": [
        {
          "output_type": "stream",
          "text": [
            "this man is running to make this bus to reach the bus . <eos> \n",
            "\n"
          ],
          "name": "stdout"
        }
      ]
    },
    {
      "cell_type": "code",
      "metadata": {
        "id": "XXcDjumuA_-3"
      },
      "source": [
        ""
      ],
      "execution_count": null,
      "outputs": []
    },
    {
      "cell_type": "code",
      "metadata": {
        "id": "GL-tWT_a5w7o"
      },
      "source": [
        ""
      ],
      "execution_count": null,
      "outputs": []
    }
  ]
}