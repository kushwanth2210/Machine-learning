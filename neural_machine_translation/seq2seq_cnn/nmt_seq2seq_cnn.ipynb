{
  "nbformat": 4,
  "nbformat_minor": 0,
  "metadata": {
    "colab": {
      "name": "nmt_seq2seq_cnn.ipynb",
      "provenance": [],
      "collapsed_sections": []
    },
    "kernelspec": {
      "name": "python3",
      "display_name": "Python 3"
    },
    "accelerator": "GPU"
  },
  "cells": [
    {
      "cell_type": "code",
      "metadata": {
        "colab": {
          "base_uri": "https://localhost:8080/"
        },
        "id": "En4QIB7c37Nv",
        "outputId": "2b046818-5532-4512-edc6-38bf8aff2ac2"
      },
      "source": [
        "pip install torchtext==0.8.0"
      ],
      "execution_count": 1,
      "outputs": [
        {
          "output_type": "stream",
          "text": [
            "Collecting torchtext==0.8.0\n",
            "\u001b[?25l  Downloading https://files.pythonhosted.org/packages/23/23/8499af6d9c22b29b01f66a2c11d38ce71cd1cafa2655913c29818ed4a00f/torchtext-0.8.0-cp36-cp36m-manylinux1_x86_64.whl (6.9MB)\n",
            "\u001b[K     |████████████████████████████████| 6.9MB 13.5MB/s \n",
            "\u001b[?25hRequirement already satisfied: tqdm in /usr/local/lib/python3.6/dist-packages (from torchtext==0.8.0) (4.41.1)\n",
            "Requirement already satisfied: numpy in /usr/local/lib/python3.6/dist-packages (from torchtext==0.8.0) (1.19.4)\n",
            "Requirement already satisfied: requests in /usr/local/lib/python3.6/dist-packages (from torchtext==0.8.0) (2.23.0)\n",
            "Requirement already satisfied: torch in /usr/local/lib/python3.6/dist-packages (from torchtext==0.8.0) (1.7.0+cu101)\n",
            "Requirement already satisfied: urllib3!=1.25.0,!=1.25.1,<1.26,>=1.21.1 in /usr/local/lib/python3.6/dist-packages (from requests->torchtext==0.8.0) (1.24.3)\n",
            "Requirement already satisfied: idna<3,>=2.5 in /usr/local/lib/python3.6/dist-packages (from requests->torchtext==0.8.0) (2.10)\n",
            "Requirement already satisfied: chardet<4,>=3.0.2 in /usr/local/lib/python3.6/dist-packages (from requests->torchtext==0.8.0) (3.0.4)\n",
            "Requirement already satisfied: certifi>=2017.4.17 in /usr/local/lib/python3.6/dist-packages (from requests->torchtext==0.8.0) (2020.12.5)\n",
            "Requirement already satisfied: typing-extensions in /usr/local/lib/python3.6/dist-packages (from torch->torchtext==0.8.0) (3.7.4.3)\n",
            "Requirement already satisfied: dataclasses in /usr/local/lib/python3.6/dist-packages (from torch->torchtext==0.8.0) (0.8)\n",
            "Requirement already satisfied: future in /usr/local/lib/python3.6/dist-packages (from torch->torchtext==0.8.0) (0.16.0)\n",
            "Installing collected packages: torchtext\n",
            "  Found existing installation: torchtext 0.3.1\n",
            "    Uninstalling torchtext-0.3.1:\n",
            "      Successfully uninstalled torchtext-0.3.1\n",
            "Successfully installed torchtext-0.8.0\n"
          ],
          "name": "stdout"
        }
      ]
    },
    {
      "cell_type": "code",
      "metadata": {
        "id": "mculsAW6AwV3"
      },
      "source": [
        "import torch\r\n",
        "import torch.nn as nn\r\n",
        "from torchtext.data.metrics import bleu_score\r\n",
        "import torch.optim as optim\r\n",
        "import torch.nn.functional as F\r\n",
        "from torchtext.datasets import Multi30k\r\n",
        "from torchtext.data import Field, BucketIterator\r\n",
        "import matplotlib.pyplot as plt\r\n",
        "import tqdm\r\n",
        "import matplotlib.ticker as ticker\r\n",
        "import spacy\r\n",
        "import numpy as np"
      ],
      "execution_count": 2,
      "outputs": []
    },
    {
      "cell_type": "code",
      "metadata": {
        "id": "Bf3WqHLFBIZC",
        "colab": {
          "base_uri": "https://localhost:8080/"
        },
        "outputId": "1f58194d-01b7-414a-b77b-8e1c0a2b3d9c"
      },
      "source": [
        "!python -m spacy download de"
      ],
      "execution_count": 3,
      "outputs": [
        {
          "output_type": "stream",
          "text": [
            "Collecting de_core_news_sm==2.2.5\n",
            "\u001b[?25l  Downloading https://github.com/explosion/spacy-models/releases/download/de_core_news_sm-2.2.5/de_core_news_sm-2.2.5.tar.gz (14.9MB)\n",
            "\u001b[K     |████████████████████████████████| 14.9MB 26.1MB/s \n",
            "\u001b[?25hRequirement already satisfied: spacy>=2.2.2 in /usr/local/lib/python3.6/dist-packages (from de_core_news_sm==2.2.5) (2.2.4)\n",
            "Requirement already satisfied: requests<3.0.0,>=2.13.0 in /usr/local/lib/python3.6/dist-packages (from spacy>=2.2.2->de_core_news_sm==2.2.5) (2.23.0)\n",
            "Requirement already satisfied: plac<1.2.0,>=0.9.6 in /usr/local/lib/python3.6/dist-packages (from spacy>=2.2.2->de_core_news_sm==2.2.5) (1.1.3)\n",
            "Requirement already satisfied: preshed<3.1.0,>=3.0.2 in /usr/local/lib/python3.6/dist-packages (from spacy>=2.2.2->de_core_news_sm==2.2.5) (3.0.5)\n",
            "Requirement already satisfied: blis<0.5.0,>=0.4.0 in /usr/local/lib/python3.6/dist-packages (from spacy>=2.2.2->de_core_news_sm==2.2.5) (0.4.1)\n",
            "Requirement already satisfied: numpy>=1.15.0 in /usr/local/lib/python3.6/dist-packages (from spacy>=2.2.2->de_core_news_sm==2.2.5) (1.19.4)\n",
            "Requirement already satisfied: tqdm<5.0.0,>=4.38.0 in /usr/local/lib/python3.6/dist-packages (from spacy>=2.2.2->de_core_news_sm==2.2.5) (4.41.1)\n",
            "Requirement already satisfied: thinc==7.4.0 in /usr/local/lib/python3.6/dist-packages (from spacy>=2.2.2->de_core_news_sm==2.2.5) (7.4.0)\n",
            "Requirement already satisfied: cymem<2.1.0,>=2.0.2 in /usr/local/lib/python3.6/dist-packages (from spacy>=2.2.2->de_core_news_sm==2.2.5) (2.0.5)\n",
            "Requirement already satisfied: setuptools in /usr/local/lib/python3.6/dist-packages (from spacy>=2.2.2->de_core_news_sm==2.2.5) (50.3.2)\n",
            "Requirement already satisfied: wasabi<1.1.0,>=0.4.0 in /usr/local/lib/python3.6/dist-packages (from spacy>=2.2.2->de_core_news_sm==2.2.5) (0.8.0)\n",
            "Requirement already satisfied: srsly<1.1.0,>=1.0.2 in /usr/local/lib/python3.6/dist-packages (from spacy>=2.2.2->de_core_news_sm==2.2.5) (1.0.5)\n",
            "Requirement already satisfied: murmurhash<1.1.0,>=0.28.0 in /usr/local/lib/python3.6/dist-packages (from spacy>=2.2.2->de_core_news_sm==2.2.5) (1.0.5)\n",
            "Requirement already satisfied: catalogue<1.1.0,>=0.0.7 in /usr/local/lib/python3.6/dist-packages (from spacy>=2.2.2->de_core_news_sm==2.2.5) (1.0.0)\n",
            "Requirement already satisfied: chardet<4,>=3.0.2 in /usr/local/lib/python3.6/dist-packages (from requests<3.0.0,>=2.13.0->spacy>=2.2.2->de_core_news_sm==2.2.5) (3.0.4)\n",
            "Requirement already satisfied: certifi>=2017.4.17 in /usr/local/lib/python3.6/dist-packages (from requests<3.0.0,>=2.13.0->spacy>=2.2.2->de_core_news_sm==2.2.5) (2020.12.5)\n",
            "Requirement already satisfied: urllib3!=1.25.0,!=1.25.1,<1.26,>=1.21.1 in /usr/local/lib/python3.6/dist-packages (from requests<3.0.0,>=2.13.0->spacy>=2.2.2->de_core_news_sm==2.2.5) (1.24.3)\n",
            "Requirement already satisfied: idna<3,>=2.5 in /usr/local/lib/python3.6/dist-packages (from requests<3.0.0,>=2.13.0->spacy>=2.2.2->de_core_news_sm==2.2.5) (2.10)\n",
            "Requirement already satisfied: importlib-metadata>=0.20; python_version < \"3.8\" in /usr/local/lib/python3.6/dist-packages (from catalogue<1.1.0,>=0.0.7->spacy>=2.2.2->de_core_news_sm==2.2.5) (3.3.0)\n",
            "Requirement already satisfied: zipp>=0.5 in /usr/local/lib/python3.6/dist-packages (from importlib-metadata>=0.20; python_version < \"3.8\"->catalogue<1.1.0,>=0.0.7->spacy>=2.2.2->de_core_news_sm==2.2.5) (3.4.0)\n",
            "Requirement already satisfied: typing-extensions>=3.6.4; python_version < \"3.8\" in /usr/local/lib/python3.6/dist-packages (from importlib-metadata>=0.20; python_version < \"3.8\"->catalogue<1.1.0,>=0.0.7->spacy>=2.2.2->de_core_news_sm==2.2.5) (3.7.4.3)\n",
            "Building wheels for collected packages: de-core-news-sm\n",
            "  Building wheel for de-core-news-sm (setup.py) ... \u001b[?25l\u001b[?25hdone\n",
            "  Created wheel for de-core-news-sm: filename=de_core_news_sm-2.2.5-cp36-none-any.whl size=14907057 sha256=7c1e85b51ed465cd68d3dfe8c35f9624bc0fb0a9fc23ded81a1c5fe0319ed952\n",
            "  Stored in directory: /tmp/pip-ephem-wheel-cache-3g0wlg76/wheels/ba/3f/ed/d4aa8e45e7191b7f32db4bfad565e7da1edbf05c916ca7a1ca\n",
            "Successfully built de-core-news-sm\n",
            "Installing collected packages: de-core-news-sm\n",
            "Successfully installed de-core-news-sm-2.2.5\n",
            "\u001b[38;5;2m✔ Download and installation successful\u001b[0m\n",
            "You can now load the model via spacy.load('de_core_news_sm')\n",
            "\u001b[38;5;2m✔ Linking successful\u001b[0m\n",
            "/usr/local/lib/python3.6/dist-packages/de_core_news_sm -->\n",
            "/usr/local/lib/python3.6/dist-packages/spacy/data/de\n",
            "You can now load the model via spacy.load('de')\n"
          ],
          "name": "stdout"
        }
      ]
    },
    {
      "cell_type": "code",
      "metadata": {
        "id": "T-A_FeIKAzXB"
      },
      "source": [
        "spacy_de = spacy.load('de')\r\n",
        "spacy_en = spacy.load('en')"
      ],
      "execution_count": 4,
      "outputs": []
    },
    {
      "cell_type": "code",
      "metadata": {
        "id": "_ODX5BDvAzTJ"
      },
      "source": [
        "def tokenize_de(text):\r\n",
        "    return [tok.text for tok in spacy_de.tokenizer(text)]\r\n",
        "\r\n",
        "def tokenize_en(text):\r\n",
        "    return [tok.text for tok in spacy_en.tokenizer(text)]"
      ],
      "execution_count": 5,
      "outputs": []
    },
    {
      "cell_type": "code",
      "metadata": {
        "id": "s0tyf5Q_Bns2",
        "colab": {
          "base_uri": "https://localhost:8080/"
        },
        "outputId": "85724faf-4058-4f25-e8be-f88c3c1f388a"
      },
      "source": [
        "SRC = Field(tokenize = tokenize_de, init_token = '<sos>', eos_token = '<eos>', lower = True, batch_first = True)\r\n",
        "TRG = Field(tokenize = tokenize_en, init_token = '<sos>', eos_token = '<eos>', lower = True, batch_first = True)"
      ],
      "execution_count": 6,
      "outputs": [
        {
          "output_type": "stream",
          "text": [
            "/usr/local/lib/python3.6/dist-packages/torchtext/data/field.py:150: UserWarning: Field class will be retired soon and moved to torchtext.legacy. Please see the most recent release notes for further information.\n",
            "  warnings.warn('{} class will be retired soon and moved to torchtext.legacy. Please see the most recent release notes for further information.'.format(self.__class__.__name__), UserWarning)\n"
          ],
          "name": "stderr"
        }
      ]
    },
    {
      "cell_type": "code",
      "metadata": {
        "colab": {
          "base_uri": "https://localhost:8080/"
        },
        "id": "prXAfrqJAzNR",
        "outputId": "5fd5fb08-3822-489f-8bdf-a2f3e1daa7f9"
      },
      "source": [
        "train_data, valid_data, test_data = Multi30k.splits(exts=('.de', '.en'), fields=(SRC, TRG))"
      ],
      "execution_count": 7,
      "outputs": [
        {
          "output_type": "stream",
          "text": [
            "downloading training.tar.gz\n"
          ],
          "name": "stdout"
        },
        {
          "output_type": "stream",
          "text": [
            "training.tar.gz: 100%|██████████| 1.21M/1.21M [00:01<00:00, 966kB/s]\n"
          ],
          "name": "stderr"
        },
        {
          "output_type": "stream",
          "text": [
            "downloading validation.tar.gz\n"
          ],
          "name": "stdout"
        },
        {
          "output_type": "stream",
          "text": [
            "validation.tar.gz: 100%|██████████| 46.3k/46.3k [00:00<00:00, 276kB/s]\n"
          ],
          "name": "stderr"
        },
        {
          "output_type": "stream",
          "text": [
            "downloading mmt_task1_test2016.tar.gz\n"
          ],
          "name": "stdout"
        },
        {
          "output_type": "stream",
          "text": [
            "mmt_task1_test2016.tar.gz: 100%|██████████| 66.2k/66.2k [00:00<00:00, 262kB/s]\n",
            "/usr/local/lib/python3.6/dist-packages/torchtext/data/example.py:78: UserWarning: Example class will be retired soon and moved to torchtext.legacy. Please see the most recent release notes for further information.\n",
            "  warnings.warn('Example class will be retired soon and moved to torchtext.legacy. Please see the most recent release notes for further information.', UserWarning)\n"
          ],
          "name": "stderr"
        }
      ]
    },
    {
      "cell_type": "code",
      "metadata": {
        "id": "Ke7xXxnYAzKX"
      },
      "source": [
        "SRC.build_vocab(train_data, max_size=10000, min_freq = 2)\r\n",
        "TRG.build_vocab(train_data, max_size=10000, min_freq = 2)"
      ],
      "execution_count": 8,
      "outputs": []
    },
    {
      "cell_type": "code",
      "metadata": {
        "id": "Skf8eYOXByex"
      },
      "source": [
        "device = torch.device('cuda' if torch.cuda.is_available() else 'cpu')\r\n",
        "batch_size = 128"
      ],
      "execution_count": 9,
      "outputs": []
    },
    {
      "cell_type": "code",
      "metadata": {
        "id": "k52KGPMmByba",
        "colab": {
          "base_uri": "https://localhost:8080/"
        },
        "outputId": "e5eec765-231d-41b2-d3a1-cbb1136cbc23"
      },
      "source": [
        "train_iterator, valid_iterator, test_iterator = BucketIterator.splits((train_data, valid_data, test_data), batch_size=batch_size, \r\n",
        "                                                                      sort_within_batch=True, sort_key=lambda x: len(x.src),\r\n",
        "                                                                      device=device)"
      ],
      "execution_count": 10,
      "outputs": [
        {
          "output_type": "stream",
          "text": [
            "/usr/local/lib/python3.6/dist-packages/torchtext/data/iterator.py:48: UserWarning: BucketIterator class will be retired soon and moved to torchtext.legacy. Please see the most recent release notes for further information.\n",
            "  warnings.warn('{} class will be retired soon and moved to torchtext.legacy. Please see the most recent release notes for further information.'.format(self.__class__.__name__), UserWarning)\n"
          ],
          "name": "stderr"
        }
      ]
    },
    {
      "cell_type": "code",
      "metadata": {
        "colab": {
          "base_uri": "https://localhost:8080/"
        },
        "id": "iqpIrpAeoLuW",
        "outputId": "5c366a9b-8781-40c8-d522-63709f6c047f"
      },
      "source": [
        "for batch in train_iterator:\r\n",
        "    ger = batch.src\r\n",
        "    eng = batch.trg\r\n",
        "    print(eng.shape, ger.shape)\r\n",
        "    break"
      ],
      "execution_count": 11,
      "outputs": [
        {
          "output_type": "stream",
          "text": [
            "/usr/local/lib/python3.6/dist-packages/torchtext/data/batch.py:23: UserWarning: Batch class will be retired soon and moved to torchtext.legacy. Please see the most recent release notes for further information.\n",
            "  warnings.warn('{} class will be retired soon and moved to torchtext.legacy. Please see the most recent release notes for further information.'.format(self.__class__.__name__), UserWarning)\n"
          ],
          "name": "stderr"
        },
        {
          "output_type": "stream",
          "text": [
            "torch.Size([128, 25]) torch.Size([128, 16])\n"
          ],
          "name": "stdout"
        }
      ]
    },
    {
      "cell_type": "code",
      "metadata": {
        "id": "y1k43dT2B8GX"
      },
      "source": [
        "class Encoder(nn.Module):\r\n",
        "    def __init__(self, input_dim, emb_dim, hid_dim, num_layers, kernel_size, p, device, max_length = 100):\r\n",
        "        super().__init__()\r\n",
        "        assert kernel_size % 2 == 1, \"Invalid kernel size!\"\r\n",
        "\r\n",
        "        self.device = device\r\n",
        "        self.scale = torch.sqrt(torch.FloatTensor([0.5])).to(device)\r\n",
        "        self.dropout = nn.Dropout(p)\r\n",
        "\r\n",
        "        self.word_embedding = nn.Embedding(input_dim, emb_dim)\r\n",
        "        self.positional_embedding = nn.Embedding(max_length, emb_dim)\r\n",
        "        self.emb2hid = nn.Linear(emb_dim, hid_dim)\r\n",
        "        self.hid2emb = nn.Linear(hid_dim, emb_dim)\r\n",
        "\r\n",
        "        self.conv_layers = nn.ModuleList([nn.Conv1d(in_channels=hid_dim, out_channels=hid_dim * 2, kernel_size=kernel_size, \r\n",
        "                                                    padding=(kernel_size - 1) // 2) for _ in range(num_layers)])\r\n",
        "    \r\n",
        "    def forward(self, src):\r\n",
        "        batch_size, src_len = src.shape\r\n",
        "        positions = torch.arange(0, src_len).unsqueeze(0).repeat(batch_size, 1).to(self.device)\r\n",
        "        \r\n",
        "        word_embedded = self.word_embedding(src)\r\n",
        "        position_embedded = self.positional_embedding(positions)\r\n",
        "        embedded = self.dropout(word_embedded + position_embedded)\r\n",
        "\r\n",
        "        conv_input = self.emb2hid(embedded)\r\n",
        "        conv_input = conv_input.permute(0, 2, 1)\r\n",
        "\r\n",
        "        for conv in self.conv_layers:\r\n",
        "            conved = conv(self.dropout(conv_input))\r\n",
        "            conved = F.glu(conved, dim=1)\r\n",
        "            conved = self.scale * (conved + conv_input)\r\n",
        "            conv_input = conved\r\n",
        "\r\n",
        "        conved = self.hid2emb(conved.permute(0, 2, 1))\r\n",
        "        combined = self.scale * (conved + embedded)\r\n",
        "\r\n",
        "        return conved, combined"
      ],
      "execution_count": 12,
      "outputs": []
    },
    {
      "cell_type": "code",
      "metadata": {
        "id": "4NPwNcvyEcpw"
      },
      "source": [
        "class Decoder(nn.Module):\r\n",
        "    def __init__(self, output_dim, emb_dim, hid_dim, num_layers, kernel_size, p, trg_pad_idx, device, max_length = 100):\r\n",
        "        super().__init__()\r\n",
        "        self.device = device\r\n",
        "        self.kernel_size = kernel_size\r\n",
        "        self.trg_pad_idx = trg_pad_idx\r\n",
        "        self.scale = torch.sqrt(torch.FloatTensor([0.5])).to(device)\r\n",
        "        self.dropout = nn.Dropout(p)\r\n",
        "\r\n",
        "        self.word_embedding = nn.Embedding(output_dim, emb_dim)\r\n",
        "        self.positional_embedding = nn.Embedding(max_length, emb_dim)\r\n",
        "        self.emb2hid = nn.Linear(emb_dim, hid_dim)\r\n",
        "        self.hid2emb = nn.Linear(hid_dim, emb_dim)\r\n",
        "\r\n",
        "        self.attn_emb2hid = nn.Linear(emb_dim, hid_dim)\r\n",
        "        self.attn_hid2emb = nn.Linear(hid_dim, emb_dim)\r\n",
        "        \r\n",
        "        self.conv_layers = nn.ModuleList([nn.Conv1d(in_channels=hid_dim, out_channels=2 * hid_dim, \r\n",
        "                                                    kernel_size=kernel_size) for _ in range(num_layers)])\r\n",
        "        \r\n",
        "        self.fc_out = nn.Linear(emb_dim, output_dim)\r\n",
        "\r\n",
        "    def get_attention(self, embedded, conved, enc_conved, enc_combined):\r\n",
        "        conved_emb = self.attn_hid2emb(conved.permute(0, 2, 1))\r\n",
        "        combined = self.scale * (embedded + conved_emb)\r\n",
        "\r\n",
        "        energy = torch.matmul(combined, enc_conved.permute(0 ,2, 1))\r\n",
        "        attention = F.softmax(energy, dim=2)\r\n",
        "\r\n",
        "        attention_encoding = torch.matmul(attention, enc_combined)\r\n",
        "        attention_encoding = self.attn_emb2hid(attention_encoding)\r\n",
        "        attention_combined = self.scale * (conved + attention_encoding.permute(0, 2, 1))\r\n",
        "\r\n",
        "        return attention, attention_combined\r\n",
        "\r\n",
        "    def forward(self, trg, enc_conved, enc_combined):\r\n",
        "        batch_size, trg_len = trg.shape\r\n",
        "        positions = torch.arange(0, trg_len).unsqueeze(0).repeat(batch_size, 1).to(self.device)\r\n",
        "\r\n",
        "        word_embedded = self.word_embedding(trg)\r\n",
        "        position_embedded = self.positional_embedding(positions)\r\n",
        "        embedded = self.dropout(word_embedded + position_embedded)\r\n",
        "\r\n",
        "        conv_input = self.emb2hid(embedded)\r\n",
        "        conv_input = conv_input.permute(0, 2, 1)\r\n",
        "        hid_dim = conv_input.shape[1]\r\n",
        "        \r\n",
        "        for conv in self.conv_layers:\r\n",
        "            conv_input = self.dropout(conv_input)\r\n",
        "            padding = torch.zeros(batch_size, hid_dim, self.kernel_size-1).fill_(self.trg_pad_idx).to(self.device)\r\n",
        "            padded_conv_input = torch.cat((padding, conv_input), dim=2)\r\n",
        "\r\n",
        "            conved = conv(padded_conv_input)\r\n",
        "            conved = F.glu(conved, dim=1)\r\n",
        "\r\n",
        "            attention, conved = self.get_attention(embedded, conved, enc_conved, enc_combined)\r\n",
        "            conved = self.scale * (conv_input + conved)\r\n",
        "            conv_input = conved\r\n",
        "\r\n",
        "        conved = self.hid2emb(conved.permute(0, 2, 1))\r\n",
        "        output = self.fc_out(self.dropout(conved))\r\n",
        "\r\n",
        "        return output, attention"
      ],
      "execution_count": 13,
      "outputs": []
    },
    {
      "cell_type": "code",
      "metadata": {
        "id": "0bU1lzSJEcma"
      },
      "source": [
        "class Seq2Seq(nn.Module):\r\n",
        "    def __init__(self, encoder, decoder):\r\n",
        "        super().__init__()\r\n",
        "        self.enc = encoder\r\n",
        "        self.dec = decoder\r\n",
        "\r\n",
        "    def forward(self, src, trg):\r\n",
        "        enc_conved, enc_combined = self.enc(src)\r\n",
        "        output, attention = self.dec(trg, enc_conved, enc_combined)\r\n",
        "\r\n",
        "        return output, attention"
      ],
      "execution_count": 14,
      "outputs": []
    },
    {
      "cell_type": "code",
      "metadata": {
        "id": "u_GnVjvHkdYk"
      },
      "source": [
        "INPUT_DIM = len(SRC.vocab)\r\n",
        "OUTPUT_DIM = len(TRG.vocab)\r\n",
        "EPOCHS = 16\r\n",
        "CLIP = 0.1\r\n",
        "EMB_DIM = 256\r\n",
        "HID_DIM = 512 \r\n",
        "ENC_LAYERS = 10 \r\n",
        "DEC_LAYERS = 10 \r\n",
        "ENC_KERNEL_SIZE = 3 \r\n",
        "DEC_KERNEL_SIZE = 3 \r\n",
        "ENC_DROPOUT = 0.25\r\n",
        "DEC_DROPOUT = 0.25\r\n",
        "TRG_PAD_IDX = TRG.vocab.stoi[TRG.pad_token]"
      ],
      "execution_count": 15,
      "outputs": []
    },
    {
      "cell_type": "code",
      "metadata": {
        "id": "os7TiEbPkdVL"
      },
      "source": [
        "encoder = Encoder(INPUT_DIM, EMB_DIM, HID_DIM, ENC_LAYERS, ENC_KERNEL_SIZE, ENC_DROPOUT, device)\r\n",
        "decoder = Decoder(OUTPUT_DIM, EMB_DIM, HID_DIM, DEC_LAYERS, DEC_KERNEL_SIZE, DEC_DROPOUT, TRG_PAD_IDX, device)"
      ],
      "execution_count": 16,
      "outputs": []
    },
    {
      "cell_type": "code",
      "metadata": {
        "colab": {
          "base_uri": "https://localhost:8080/"
        },
        "id": "cjUD9GMkk9BM",
        "outputId": "134301a0-8d31-4b02-c095-4478a7a173a2"
      },
      "source": [
        "net = Seq2Seq(encoder, decoder).to(device)\r\n",
        "net"
      ],
      "execution_count": 17,
      "outputs": [
        {
          "output_type": "execute_result",
          "data": {
            "text/plain": [
              "Seq2Seq(\n",
              "  (enc): Encoder(\n",
              "    (dropout): Dropout(p=0.25, inplace=False)\n",
              "    (word_embedding): Embedding(7855, 256)\n",
              "    (positional_embedding): Embedding(100, 256)\n",
              "    (emb2hid): Linear(in_features=256, out_features=512, bias=True)\n",
              "    (hid2emb): Linear(in_features=512, out_features=256, bias=True)\n",
              "    (conv_layers): ModuleList(\n",
              "      (0): Conv1d(512, 1024, kernel_size=(3,), stride=(1,), padding=(1,))\n",
              "      (1): Conv1d(512, 1024, kernel_size=(3,), stride=(1,), padding=(1,))\n",
              "      (2): Conv1d(512, 1024, kernel_size=(3,), stride=(1,), padding=(1,))\n",
              "      (3): Conv1d(512, 1024, kernel_size=(3,), stride=(1,), padding=(1,))\n",
              "      (4): Conv1d(512, 1024, kernel_size=(3,), stride=(1,), padding=(1,))\n",
              "      (5): Conv1d(512, 1024, kernel_size=(3,), stride=(1,), padding=(1,))\n",
              "      (6): Conv1d(512, 1024, kernel_size=(3,), stride=(1,), padding=(1,))\n",
              "      (7): Conv1d(512, 1024, kernel_size=(3,), stride=(1,), padding=(1,))\n",
              "      (8): Conv1d(512, 1024, kernel_size=(3,), stride=(1,), padding=(1,))\n",
              "      (9): Conv1d(512, 1024, kernel_size=(3,), stride=(1,), padding=(1,))\n",
              "    )\n",
              "  )\n",
              "  (dec): Decoder(\n",
              "    (dropout): Dropout(p=0.25, inplace=False)\n",
              "    (word_embedding): Embedding(5893, 256)\n",
              "    (positional_embedding): Embedding(100, 256)\n",
              "    (emb2hid): Linear(in_features=256, out_features=512, bias=True)\n",
              "    (hid2emb): Linear(in_features=512, out_features=256, bias=True)\n",
              "    (attn_emb2hid): Linear(in_features=256, out_features=512, bias=True)\n",
              "    (attn_hid2emb): Linear(in_features=512, out_features=256, bias=True)\n",
              "    (conv_layers): ModuleList(\n",
              "      (0): Conv1d(512, 1024, kernel_size=(3,), stride=(1,))\n",
              "      (1): Conv1d(512, 1024, kernel_size=(3,), stride=(1,))\n",
              "      (2): Conv1d(512, 1024, kernel_size=(3,), stride=(1,))\n",
              "      (3): Conv1d(512, 1024, kernel_size=(3,), stride=(1,))\n",
              "      (4): Conv1d(512, 1024, kernel_size=(3,), stride=(1,))\n",
              "      (5): Conv1d(512, 1024, kernel_size=(3,), stride=(1,))\n",
              "      (6): Conv1d(512, 1024, kernel_size=(3,), stride=(1,))\n",
              "      (7): Conv1d(512, 1024, kernel_size=(3,), stride=(1,))\n",
              "      (8): Conv1d(512, 1024, kernel_size=(3,), stride=(1,))\n",
              "      (9): Conv1d(512, 1024, kernel_size=(3,), stride=(1,))\n",
              "    )\n",
              "    (fc_out): Linear(in_features=256, out_features=5893, bias=True)\n",
              "  )\n",
              ")"
            ]
          },
          "metadata": {
            "tags": []
          },
          "execution_count": 17
        }
      ]
    },
    {
      "cell_type": "code",
      "metadata": {
        "id": "ZeeXGz9Jk8-u"
      },
      "source": [
        "opt = optim.Adam(net.parameters())\r\n",
        "loss_fn = nn.CrossEntropyLoss(ignore_index=TRG_PAD_IDX)"
      ],
      "execution_count": 18,
      "outputs": []
    },
    {
      "cell_type": "code",
      "metadata": {
        "id": "Vj5vSvTE3prg"
      },
      "source": [
        "def translate(sentence, src_field, trg_field, net, device, max_len=50):\r\n",
        "    if isinstance(sentence, str):\r\n",
        "        nlp = spacy.load('de')\r\n",
        "        tokens = [token.text.lower() for token in nlp(sentence)]\r\n",
        "    else:\r\n",
        "        tokens = [token.lower() for token in sentence]\r\n",
        "    \r\n",
        "    tokens = [src_field.init_token] + tokens + [src_field.eos_token]\r\n",
        "    src_indexes = [src_field.vocab.stoi[token] for token in tokens]\r\n",
        "    src_tensor = torch.LongTensor(src_indexes).unsqueeze(0).to(device)\r\n",
        "\r\n",
        "    with torch.no_grad():\r\n",
        "        enc_conved, enc_combined = net.enc(src_tensor)\r\n",
        "    \r\n",
        "    trg_indexes = [trg_field.vocab.stoi[trg_field.init_token]]\r\n",
        "\r\n",
        "    for _ in range(max_len):\r\n",
        "        trg_tensor = torch.LongTensor(trg_indexes).unsqueeze(0).to(device)\r\n",
        "        with torch.no_grad():\r\n",
        "            output, attention = net.dec(trg_tensor, enc_conved, enc_combined)\r\n",
        "        \r\n",
        "        pred_token = output.argmax(2)[:, -1].item()\r\n",
        "        trg_indexes.append(pred_token)\r\n",
        "\r\n",
        "        if pred_token == trg_field.vocab.stoi[trg_field.eos_token]:\r\n",
        "            break\r\n",
        "    \r\n",
        "    trg_tokens = [trg_field.vocab.itos[i] for i in trg_indexes]\r\n",
        "    \r\n",
        "    return trg_tokens[1:], attention"
      ],
      "execution_count": 19,
      "outputs": []
    },
    {
      "cell_type": "code",
      "metadata": {
        "id": "w7i2pcHU3qGU"
      },
      "source": [
        "def bleu(data, net, src_field, trg_field, device):\r\n",
        "    targets = []\r\n",
        "    outputs = []\r\n",
        "\r\n",
        "    for d in data:\r\n",
        "        src = vars(d)[\"src\"]\r\n",
        "        trg = vars(d)[\"trg\"]\r\n",
        "\r\n",
        "        prediction, _ = translate(src, src_field, trg_field, net, device)\r\n",
        "        prediction = prediction[:-1]  \r\n",
        "\r\n",
        "        targets.append([trg])\r\n",
        "        outputs.append(prediction)\r\n",
        "       \r\n",
        "    return bleu_score(outputs, targets)"
      ],
      "execution_count": 31,
      "outputs": []
    },
    {
      "cell_type": "code",
      "metadata": {
        "id": "0kQQwOvW3qBs"
      },
      "source": [
        "def save_checkpoint(net, opt, losses, filename):\r\n",
        "    check_point = {\"net_dict\": net.state_dict(), \"opt_dict\": opt.state_dict(), \"losses\": losses}\r\n",
        "    torch.save(check_point, filename)\r\n",
        "    print(\"Checkpoint Saved!\")\r\n",
        "\r\n",
        "def load_checkpoint(net, opt, filename):\r\n",
        "    check_point = torch.load(filename)\r\n",
        "    net.load_state_dict(check_point[\"net_dict\"])\r\n",
        "    opt.load_state_dict(check_point[\"opt_dict\"])\r\n",
        "    losses = check_point[\"losses\"]\r\n",
        "    print(\"Checkpoint Loaded!\")"
      ],
      "execution_count": 21,
      "outputs": []
    },
    {
      "cell_type": "code",
      "metadata": {
        "colab": {
          "base_uri": "https://localhost:8080/"
        },
        "id": "wERlaUGO3p_S",
        "outputId": "0018cfd3-a534-4a11-ebf0-2b18ef501d61"
      },
      "source": [
        "t = [[['that', 'is', 'a', 'plane', 'and', 'not', 'a', 'bird']]]\r\n",
        "o = [['that', 'is', 'a', 'plane', 'and', 'not', 'a', 'dog']]\r\n",
        "bleu_score(o, t)"
      ],
      "execution_count": 22,
      "outputs": [
        {
          "output_type": "execute_result",
          "data": {
            "text/plain": [
              "0.8408964276313782"
            ]
          },
          "metadata": {
            "tags": []
          },
          "execution_count": 22
        }
      ]
    },
    {
      "cell_type": "code",
      "metadata": {
        "id": "Ex-6zP9R3xdh"
      },
      "source": [
        "text = \"ein boot mit mehreren männern darauf wird von einem großen pferdegespann ans ufer gezogen\"\r\n",
        "english_translation = \"a boat with several men on it is being pulled ashore by a large team of horses\""
      ],
      "execution_count": 23,
      "outputs": []
    },
    {
      "cell_type": "code",
      "metadata": {
        "id": "xKxDEuBn4Hk1"
      },
      "source": [
        "losses = []"
      ],
      "execution_count": 24,
      "outputs": []
    },
    {
      "cell_type": "code",
      "metadata": {
        "id": "arRfaxvNAylH",
        "colab": {
          "base_uri": "https://localhost:8080/"
        },
        "outputId": "3aea6d4c-be9c-4589-ef38-783cfbf5cbc0"
      },
      "source": [
        "for epoch in range(EPOCHS):\r\n",
        "    batch_losses = []\r\n",
        "    for batch in tqdm.tqdm(train_iterator, total=len(train_iterator)):\r\n",
        "        X = batch.src.to(device)\r\n",
        "        y = batch.trg.to(device)\r\n",
        "\r\n",
        "        output, _ = net(X, y[:, :-1])\r\n",
        "        output = output.contiguous().view(-1, output.shape[-1])\r\n",
        "        y = y[:, 1:].contiguous().view(-1)\r\n",
        "        \r\n",
        "        opt.zero_grad()\r\n",
        "        loss = loss_fn(output, y)\r\n",
        "        loss.backward()\r\n",
        "        batch_losses.append(loss.item())\r\n",
        "        torch.nn.utils.clip_grad_norm_(net.parameters(), CLIP)\r\n",
        "        opt.step()\r\n",
        "\r\n",
        "    losses.append(np.round(sum(batch_losses)/len(batch_losses), 5))\r\n",
        "    print(f\" Epoch: {epoch} | Loss: {losses[epoch]:4f}\")\r\n",
        "\r\n",
        "    pred_list, _ = translate(text, SRC, TRG, net, device)\r\n",
        "    pred_text = \"\"\r\n",
        "    for word in pred_list:\r\n",
        "        pred_text += word + \" \"\r\n",
        "\r\n",
        "    print(pred_text)\r\n",
        "    print(\"\")\r\n",
        "\r\n",
        "    if epoch % 5 == 0:\r\n",
        "        save_checkpoint(net, opt, losses, f\"checkpoint-{epoch}.pth.tar\")\r\n",
        "        print(\"\")"
      ],
      "execution_count": 25,
      "outputs": [
        {
          "output_type": "stream",
          "text": [
            "\r  0%|          | 0/227 [00:00<?, ?it/s]/usr/local/lib/python3.6/dist-packages/torchtext/data/batch.py:23: UserWarning: Batch class will be retired soon and moved to torchtext.legacy. Please see the most recent release notes for further information.\n",
            "  warnings.warn('{} class will be retired soon and moved to torchtext.legacy. Please see the most recent release notes for further information.'.format(self.__class__.__name__), UserWarning)\n",
            "100%|██████████| 227/227 [00:36<00:00,  6.21it/s]\n"
          ],
          "name": "stderr"
        },
        {
          "output_type": "stream",
          "text": [
            " Epoch: 0 | Loss: 4.218160\n",
            "a boat with a blue is is walking off a large <unk> . <eos> \n",
            "\n"
          ],
          "name": "stdout"
        },
        {
          "output_type": "stream",
          "text": [
            "\r  0%|          | 0/227 [00:00<?, ?it/s]"
          ],
          "name": "stderr"
        },
        {
          "output_type": "stream",
          "text": [
            "Checkpoint Saved!\n",
            "\n"
          ],
          "name": "stdout"
        },
        {
          "output_type": "stream",
          "text": [
            "100%|██████████| 227/227 [00:37<00:00,  6.08it/s]\n"
          ],
          "name": "stderr"
        },
        {
          "output_type": "stream",
          "text": [
            " Epoch: 1 | Loss: 2.973500\n"
          ],
          "name": "stdout"
        },
        {
          "output_type": "stream",
          "text": [
            "\r  0%|          | 0/227 [00:00<?, ?it/s]"
          ],
          "name": "stderr"
        },
        {
          "output_type": "stream",
          "text": [
            "a boat with a orange . <eos> \n",
            "\n"
          ],
          "name": "stdout"
        },
        {
          "output_type": "stream",
          "text": [
            "100%|██████████| 227/227 [00:37<00:00,  5.99it/s]\n"
          ],
          "name": "stderr"
        },
        {
          "output_type": "stream",
          "text": [
            " Epoch: 2 | Loss: 2.555540\n"
          ],
          "name": "stdout"
        },
        {
          "output_type": "stream",
          "text": [
            "  0%|          | 1/227 [00:00<00:35,  6.30it/s]"
          ],
          "name": "stderr"
        },
        {
          "output_type": "stream",
          "text": [
            "a boat with several men is being being of a large <unk> of <unk> . <eos> \n",
            "\n"
          ],
          "name": "stdout"
        },
        {
          "output_type": "stream",
          "text": [
            "100%|██████████| 227/227 [00:38<00:00,  5.90it/s]\n"
          ],
          "name": "stderr"
        },
        {
          "output_type": "stream",
          "text": [
            " Epoch: 3 | Loss: 2.332130\n"
          ],
          "name": "stdout"
        },
        {
          "output_type": "stream",
          "text": [
            "\r  0%|          | 0/227 [00:00<?, ?it/s]"
          ],
          "name": "stderr"
        },
        {
          "output_type": "stream",
          "text": [
            "a boat with a brown and white is being chased . <eos> \n",
            "\n"
          ],
          "name": "stdout"
        },
        {
          "output_type": "stream",
          "text": [
            "100%|██████████| 227/227 [00:39<00:00,  5.82it/s]\n"
          ],
          "name": "stderr"
        },
        {
          "output_type": "stream",
          "text": [
            " Epoch: 4 | Loss: 2.179730\n"
          ],
          "name": "stdout"
        },
        {
          "output_type": "stream",
          "text": [
            "  0%|          | 1/227 [00:00<00:35,  6.29it/s]"
          ],
          "name": "stderr"
        },
        {
          "output_type": "stream",
          "text": [
            "a boat with several men is being by a large <unk> - white - white and white men . <eos> \n",
            "\n"
          ],
          "name": "stdout"
        },
        {
          "output_type": "stream",
          "text": [
            "100%|██████████| 227/227 [00:39<00:00,  5.78it/s]\n"
          ],
          "name": "stderr"
        },
        {
          "output_type": "stream",
          "text": [
            " Epoch: 5 | Loss: 2.077930\n",
            "a boat with several men on the cheek of a large <unk> of shore . <eos> \n",
            "\n"
          ],
          "name": "stdout"
        },
        {
          "output_type": "stream",
          "text": [
            "\r  0%|          | 0/227 [00:00<?, ?it/s]"
          ],
          "name": "stderr"
        },
        {
          "output_type": "stream",
          "text": [
            "Checkpoint Saved!\n",
            "\n"
          ],
          "name": "stdout"
        },
        {
          "output_type": "stream",
          "text": [
            "100%|██████████| 227/227 [00:39<00:00,  5.72it/s]\n"
          ],
          "name": "stderr"
        },
        {
          "output_type": "stream",
          "text": [
            " Epoch: 6 | Loss: 1.989690\n"
          ],
          "name": "stdout"
        },
        {
          "output_type": "stream",
          "text": [
            "\r  0%|          | 0/227 [00:00<?, ?it/s]"
          ],
          "name": "stderr"
        },
        {
          "output_type": "stream",
          "text": [
            "a boat with several men is being carried by a large bank of shore . <eos> \n",
            "\n"
          ],
          "name": "stdout"
        },
        {
          "output_type": "stream",
          "text": [
            "100%|██████████| 227/227 [00:39<00:00,  5.71it/s]\n"
          ],
          "name": "stderr"
        },
        {
          "output_type": "stream",
          "text": [
            " Epoch: 7 | Loss: 1.924660\n"
          ],
          "name": "stdout"
        },
        {
          "output_type": "stream",
          "text": [
            "  0%|          | 1/227 [00:00<00:41,  5.39it/s]"
          ],
          "name": "stderr"
        },
        {
          "output_type": "stream",
          "text": [
            "a boat with several men is being being pulled by a large pot of trees . <eos> \n",
            "\n"
          ],
          "name": "stdout"
        },
        {
          "output_type": "stream",
          "text": [
            "100%|██████████| 227/227 [00:40<00:00,  5.67it/s]\n"
          ],
          "name": "stderr"
        },
        {
          "output_type": "stream",
          "text": [
            " Epoch: 8 | Loss: 1.869900\n"
          ],
          "name": "stdout"
        },
        {
          "output_type": "stream",
          "text": [
            "  0%|          | 1/227 [00:00<00:42,  5.32it/s]"
          ],
          "name": "stderr"
        },
        {
          "output_type": "stream",
          "text": [
            "a boat with several men is being pulled by a large <unk> of the other . <eos> \n",
            "\n"
          ],
          "name": "stdout"
        },
        {
          "output_type": "stream",
          "text": [
            "100%|██████████| 227/227 [00:40<00:00,  5.66it/s]\n"
          ],
          "name": "stderr"
        },
        {
          "output_type": "stream",
          "text": [
            " Epoch: 9 | Loss: 1.820620\n"
          ],
          "name": "stdout"
        },
        {
          "output_type": "stream",
          "text": [
            "\r  0%|          | 0/227 [00:00<?, ?it/s]"
          ],
          "name": "stderr"
        },
        {
          "output_type": "stream",
          "text": [
            "a boat with several men partially by a large <unk> covered boat . <eos> \n",
            "\n"
          ],
          "name": "stdout"
        },
        {
          "output_type": "stream",
          "text": [
            "100%|██████████| 227/227 [00:40<00:00,  5.65it/s]\n"
          ],
          "name": "stderr"
        },
        {
          "output_type": "stream",
          "text": [
            " Epoch: 10 | Loss: 1.781540\n",
            "a boat with several men is being pulled by a large metal <unk> . <eos> \n",
            "\n"
          ],
          "name": "stdout"
        },
        {
          "output_type": "stream",
          "text": [
            "\r  0%|          | 0/227 [00:00<?, ?it/s]"
          ],
          "name": "stderr"
        },
        {
          "output_type": "stream",
          "text": [
            "Checkpoint Saved!\n",
            "\n"
          ],
          "name": "stdout"
        },
        {
          "output_type": "stream",
          "text": [
            "100%|██████████| 227/227 [00:40<00:00,  5.63it/s]\n"
          ],
          "name": "stderr"
        },
        {
          "output_type": "stream",
          "text": [
            " Epoch: 11 | Loss: 1.744750\n"
          ],
          "name": "stdout"
        },
        {
          "output_type": "stream",
          "text": [
            "  0%|          | 1/227 [00:00<00:40,  5.54it/s]"
          ],
          "name": "stderr"
        },
        {
          "output_type": "stream",
          "text": [
            "a boat with several men is being getting by a large metal <unk> . <eos> \n",
            "\n"
          ],
          "name": "stdout"
        },
        {
          "output_type": "stream",
          "text": [
            "100%|██████████| 227/227 [00:40<00:00,  5.64it/s]\n"
          ],
          "name": "stderr"
        },
        {
          "output_type": "stream",
          "text": [
            " Epoch: 12 | Loss: 1.710200\n"
          ],
          "name": "stdout"
        },
        {
          "output_type": "stream",
          "text": [
            "\r  0%|          | 0/227 [00:00<?, ?it/s]"
          ],
          "name": "stderr"
        },
        {
          "output_type": "stream",
          "text": [
            "a boat with several men is being served by a large <unk> - trees . <eos> \n",
            "\n"
          ],
          "name": "stdout"
        },
        {
          "output_type": "stream",
          "text": [
            "100%|██████████| 227/227 [00:40<00:00,  5.65it/s]\n"
          ],
          "name": "stderr"
        },
        {
          "output_type": "stream",
          "text": [
            " Epoch: 13 | Loss: 1.680850\n"
          ],
          "name": "stdout"
        },
        {
          "output_type": "stream",
          "text": [
            "  0%|          | 1/227 [00:00<00:36,  6.24it/s]"
          ],
          "name": "stderr"
        },
        {
          "output_type": "stream",
          "text": [
            "a boat boat several several men are being pulled by a large <unk> of the <unk> . <eos> \n",
            "\n"
          ],
          "name": "stdout"
        },
        {
          "output_type": "stream",
          "text": [
            "100%|██████████| 227/227 [00:40<00:00,  5.63it/s]\n"
          ],
          "name": "stderr"
        },
        {
          "output_type": "stream",
          "text": [
            " Epoch: 14 | Loss: 1.651700\n"
          ],
          "name": "stdout"
        },
        {
          "output_type": "stream",
          "text": [
            "\r  0%|          | 0/227 [00:00<?, ?it/s]"
          ],
          "name": "stderr"
        },
        {
          "output_type": "stream",
          "text": [
            "a boat with several men on it being <unk> safe . <eos> \n",
            "\n"
          ],
          "name": "stdout"
        },
        {
          "output_type": "stream",
          "text": [
            "100%|██████████| 227/227 [00:40<00:00,  5.62it/s]\n"
          ],
          "name": "stderr"
        },
        {
          "output_type": "stream",
          "text": [
            " Epoch: 15 | Loss: 1.623750\n",
            "a boat with several men is being pulled by a large <unk> shoreline . <eos> \n",
            "\n",
            "Checkpoint Saved!\n",
            "\n"
          ],
          "name": "stdout"
        }
      ]
    },
    {
      "cell_type": "code",
      "metadata": {
        "colab": {
          "base_uri": "https://localhost:8080/",
          "height": 296
        },
        "id": "DCHFWteXmby7",
        "outputId": "99212d7d-dbce-44ca-8916-ba6637560d85"
      },
      "source": [
        "plt.plot(losses)\r\n",
        "plt.xlabel(\"epoch\")\r\n",
        "plt.ylabel(\"loss\")"
      ],
      "execution_count": 26,
      "outputs": [
        {
          "output_type": "execute_result",
          "data": {
            "text/plain": [
              "Text(0, 0.5, 'loss')"
            ]
          },
          "metadata": {
            "tags": []
          },
          "execution_count": 26
        },
        {
          "output_type": "display_data",
          "data": {
            "image/png": "[encoded data removed]",
            "text/plain": [
              "<Figure size 432x288 with 1 Axes>"
            ]
          },
          "metadata": {
            "tags": [],
            "needs_background": "light"
          }
        }
      ]
    },
    {
      "cell_type": "code",
      "metadata": {
        "colab": {
          "base_uri": "https://localhost:8080/"
        },
        "id": "FUKAGge78XSO",
        "outputId": "582b318b-04fb-4ba7-d49b-02e39ac4cc4a"
      },
      "source": [
        "len(test_data)"
      ],
      "execution_count": 27,
      "outputs": [
        {
          "output_type": "execute_result",
          "data": {
            "text/plain": [
              "1000"
            ]
          },
          "metadata": {
            "tags": []
          },
          "execution_count": 27
        }
      ]
    },
    {
      "cell_type": "code",
      "metadata": {
        "colab": {
          "base_uri": "https://localhost:8080/"
        },
        "id": "5M2Ygpqn8XQg",
        "outputId": "7a08f84b-699c-4db5-bc15-eb38c8c70a76"
      },
      "source": [
        "score = bleu(test_data, net, SRC, TRG, device) * 100\r\n",
        "print(f\"Bleu Score: {score}\")"
      ],
      "execution_count": 32,
      "outputs": [
        {
          "output_type": "stream",
          "text": [
            "Bleu Score: 31.03945411400113\n"
          ],
          "name": "stdout"
        }
      ]
    },
    {
      "cell_type": "code",
      "metadata": {
        "id": "q05fba-08XJ1"
      },
      "source": [
        "# bleu score interpretation:\r\n",
        "# 0 - 19: bad translations\r\n",
        "# 20 - 29: understandable translations\r\n",
        "# 30 - 39: good translations\r\n",
        "# 40 - 49: High quality translations\r\n",
        "# 50 - 60: Very high quality, adequate, and fluent translations\r\n",
        "# > 60: Quality often better than human"
      ],
      "execution_count": 33,
      "outputs": []
    },
    {
      "cell_type": "code",
      "metadata": {
        "id": "iP1HmqPCVVLx"
      },
      "source": [
        "def display_attention(sentence, translation, attention):\r\n",
        "    fig = plt.figure(figsize=(10,10))\r\n",
        "    ax = fig.add_subplot(111)\r\n",
        "    attention = attention.squeeze(0).cpu().detach().numpy()\r\n",
        "    cax = ax.matshow(attention, cmap='bone')\r\n",
        "   \r\n",
        "    ax.tick_params(labelsize=15)\r\n",
        "    ax.set_xticklabels([''] + ['<sos>'] + [t.text.lower() for t in spacy_de.tokenizer(sentence)] + ['<eos>'], \r\n",
        "                       rotation=45)\r\n",
        "    ax.set_yticklabels([''] + translation)\r\n",
        "\r\n",
        "    ax.xaxis.set_major_locator(ticker.MultipleLocator(1))\r\n",
        "    ax.yaxis.set_major_locator(ticker.MultipleLocator(1))\r\n",
        "\r\n",
        "    plt.show()\r\n",
        "    plt.close()"
      ],
      "execution_count": 56,
      "outputs": []
    },
    {
      "cell_type": "code",
      "metadata": {
        "id": "IVjn1_wi8h4Q"
      },
      "source": [
        "text1 = \"Ein Mann geht die Straße entlang, während er eine Tasse in der Hand hält\"\r\n",
        "og_translation1 = \"a man is walking down the street while holding a cup\""
      ],
      "execution_count": 72,
      "outputs": []
    },
    {
      "cell_type": "code",
      "metadata": {
        "colab": {
          "base_uri": "https://localhost:8080/"
        },
        "id": "waAL0hZQ8hyC",
        "outputId": "2fd7801d-78cf-4784-a5a8-e1e9bdc49e42"
      },
      "source": [
        "pred_list, attention = translate(text1, SRC, TRG, net, device)\r\n",
        "pred_text = \"\"\r\n",
        "for word in pred_list:\r\n",
        "    pred_text += word + \" \"\r\n",
        "\r\n",
        "print(pred_text)\r\n",
        "print(\"\")"
      ],
      "execution_count": 73,
      "outputs": [
        {
          "output_type": "stream",
          "text": [
            "a man is walking down the street while holding a cup of art . <eos> \n",
            "\n"
          ],
          "name": "stdout"
        }
      ]
    },
    {
      "cell_type": "code",
      "metadata": {
        "colab": {
          "base_uri": "https://localhost:8080/",
          "height": 591
        },
        "id": "ct1rUzfwVheH",
        "outputId": "a9a41d28-05aa-4713-921e-bcc3fe5ad3e3"
      },
      "source": [
        "display_attention(text1, pred_list, attention)"
      ],
      "execution_count": 74,
      "outputs": [
        {
          "output_type": "display_data",
          "data": {
            "image/png": "[encoded data removed]",
            "text/plain": [
              "<Figure size 720x720 with 1 Axes>"
            ]
          },
          "metadata": {
            "tags": [],
            "needs_background": "light"
          }
        }
      ]
    },
    {
      "cell_type": "code",
      "metadata": {
        "id": "bOMhPk9cmbv1"
      },
      "source": [
        "text2 = \"Dieser Affe klettert auf einen Baum\"\r\n",
        "og_translation2 = \"that monkey is climbing a tree\""
      ],
      "execution_count": 69,
      "outputs": []
    },
    {
      "cell_type": "code",
      "metadata": {
        "colab": {
          "base_uri": "https://localhost:8080/"
        },
        "id": "UCE4FHM6V7yb",
        "outputId": "560b14ee-dfff-4f46-f89f-fc68f94b701a"
      },
      "source": [
        "pred_list, attention = translate(text2, SRC, TRG, net, device)\r\n",
        "pred_text = \"\"\r\n",
        "for word in pred_list:\r\n",
        "    pred_text += word + \" \"\r\n",
        "\r\n",
        "print(pred_text)\r\n",
        "print(\"\")"
      ],
      "execution_count": 70,
      "outputs": [
        {
          "output_type": "stream",
          "text": [
            "this <unk> is climbing a tree . <eos> \n",
            "\n"
          ],
          "name": "stdout"
        }
      ]
    },
    {
      "cell_type": "code",
      "metadata": {
        "colab": {
          "base_uri": "https://localhost:8080/",
          "height": 635
        },
        "id": "H56lj6h0Vlvl",
        "outputId": "347b68c4-df5d-4d40-e1c3-382b5d322881"
      },
      "source": [
        "display_attention(text2, pred_list, attention)"
      ],
      "execution_count": 71,
      "outputs": [
        {
          "output_type": "display_data",
          "data": {
            "image/png": "[encoded data removed]",
            "text/plain": [
              "<Figure size 720x720 with 1 Axes>"
            ]
          },
          "metadata": {
            "tags": [],
            "needs_background": "light"
          }
        }
      ]
    },
    {
      "cell_type": "code",
      "metadata": {
        "id": "m4VQ55UAVJzF"
      },
      "source": [
        "text3 = \"Dieser Mann rennt zu langsam, um den Bus zu erreichen\"\r\n",
        "og_translation3 = \"that man is running too slow to catch the bus\""
      ],
      "execution_count": 66,
      "outputs": []
    },
    {
      "cell_type": "code",
      "metadata": {
        "colab": {
          "base_uri": "https://localhost:8080/"
        },
        "id": "qnyjSLPCVJwz",
        "outputId": "a9c2404b-8f3b-4ce5-ea0c-dc7b4f1dee84"
      },
      "source": [
        "pred_list, attention = translate(text3, SRC, TRG, net, device)\r\n",
        "pred_text = \"\"\r\n",
        "for word in pred_list:\r\n",
        "    pred_text += word + \" \"\r\n",
        "\r\n",
        "print(pred_text)\r\n",
        "print(\"\")"
      ],
      "execution_count": 67,
      "outputs": [
        {
          "output_type": "stream",
          "text": [
            "this man is running towards the bus to reach the bus . <eos> \n",
            "\n"
          ],
          "name": "stdout"
        }
      ]
    },
    {
      "cell_type": "code",
      "metadata": {
        "colab": {
          "base_uri": "https://localhost:8080/",
          "height": 646
        },
        "id": "wdOFFH-FVJui",
        "outputId": "03a295d6-6d91-47f3-ea5e-fbf62722388e"
      },
      "source": [
        "display_attention(text3, pred_list, attention)"
      ],
      "execution_count": 68,
      "outputs": [
        {
          "output_type": "display_data",
          "data": {
            "image/png": "[encoded data removed]",
            "text/plain": [
              "<Figure size 720x720 with 1 Axes>"
            ]
          },
          "metadata": {
            "tags": [],
            "needs_background": "light"
          }
        }
      ]
    },
    {
      "cell_type": "code",
      "metadata": {
        "id": "Ax9rDDLHVJs_"
      },
      "source": [
        ""
      ],
      "execution_count": null,
      "outputs": []
    },
    {
      "cell_type": "code",
      "metadata": {
        "id": "vnEB1ph_Ayii"
      },
      "source": [
        ""
      ],
      "execution_count": null,
      "outputs": []
    }
  ]
}