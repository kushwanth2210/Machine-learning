{
  "nbformat": 4,
  "nbformat_minor": 0,
  "metadata": {
    "colab": {
      "name": "nmt_seq2seq.ipynb",
      "provenance": [],
      "collapsed_sections": []
    },
    "kernelspec": {
      "display_name": "Python 3",
      "name": "python3"
    },
    "accelerator": "GPU"
  },
  "cells": [
    {
      "cell_type": "code",
      "metadata": {
        "colab": {
          "base_uri": "https://localhost:8080/"
        },
        "id": "_Lk3IFGy174a",
        "outputId": "894d5221-54b8-4934-c009-15d61acd4b06"
      },
      "source": [
        "pip install torchtext==0.8.0"
      ],
      "execution_count": 1,
      "outputs": [
        {
          "output_type": "stream",
          "text": [
            "Requirement already satisfied: torchtext==0.8.0 in /usr/local/lib/python3.6/dist-packages (0.8.0)\n",
            "Requirement already satisfied: tqdm in /usr/local/lib/python3.6/dist-packages (from torchtext==0.8.0) (4.41.1)\n",
            "Requirement already satisfied: requests in /usr/local/lib/python3.6/dist-packages (from torchtext==0.8.0) (2.23.0)\n",
            "Requirement already satisfied: torch in /usr/local/lib/python3.6/dist-packages (from torchtext==0.8.0) (1.7.0+cu101)\n",
            "Requirement already satisfied: numpy in /usr/local/lib/python3.6/dist-packages (from torchtext==0.8.0) (1.18.5)\n",
            "Requirement already satisfied: idna<3,>=2.5 in /usr/local/lib/python3.6/dist-packages (from requests->torchtext==0.8.0) (2.10)\n",
            "Requirement already satisfied: certifi>=2017.4.17 in /usr/local/lib/python3.6/dist-packages (from requests->torchtext==0.8.0) (2020.11.8)\n",
            "Requirement already satisfied: urllib3!=1.25.0,!=1.25.1,<1.26,>=1.21.1 in /usr/local/lib/python3.6/dist-packages (from requests->torchtext==0.8.0) (1.24.3)\n",
            "Requirement already satisfied: chardet<4,>=3.0.2 in /usr/local/lib/python3.6/dist-packages (from requests->torchtext==0.8.0) (3.0.4)\n",
            "Requirement already satisfied: dataclasses in /usr/local/lib/python3.6/dist-packages (from torch->torchtext==0.8.0) (0.8)\n",
            "Requirement already satisfied: future in /usr/local/lib/python3.6/dist-packages (from torch->torchtext==0.8.0) (0.16.0)\n",
            "Requirement already satisfied: typing-extensions in /usr/local/lib/python3.6/dist-packages (from torch->torchtext==0.8.0) (3.7.4.3)\n"
          ],
          "name": "stdout"
        }
      ]
    },
    {
      "cell_type": "code",
      "metadata": {
        "id": "ohuXlbYKFBXS"
      },
      "source": [
        "import torch\n",
        "import tqdm\n",
        "import torch.nn as nn\n",
        "import numpy as np\n",
        "import spacy\n",
        "import torch.optim as optim\n",
        "import random\n",
        "from torchtext.datasets import Multi30k\n",
        "from torchtext.data import Field, BucketIterator\n",
        "from torchtext.data.metrics import bleu_score\n",
        "import matplotlib.pyplot as plt"
      ],
      "execution_count": 2,
      "outputs": []
    },
    {
      "cell_type": "code",
      "metadata": {
        "id": "WTofomW1L5C9",
        "colab": {
          "base_uri": "https://localhost:8080/",
          "height": 35
        },
        "outputId": "dc0e8d1c-51ea-455f-f3e1-bed017fe374a"
      },
      "source": [
        "torch.cuda.get_device_name()"
      ],
      "execution_count": 3,
      "outputs": [
        {
          "output_type": "execute_result",
          "data": {
            "application/vnd.google.colaboratory.intrinsic+json": {
              "type": "string"
            },
            "text/plain": [
              "'Tesla P100-PCIE-16GB'"
            ]
          },
          "metadata": {
            "tags": []
          },
          "execution_count": 3
        }
      ]
    },
    {
      "cell_type": "code",
      "metadata": {
        "id": "CN4f4xiNFvAr",
        "colab": {
          "base_uri": "https://localhost:8080/"
        },
        "outputId": "2c68d159-02b4-4ea1-9f9b-fce1929faea2"
      },
      "source": [
        "!python -m spacy download de"
      ],
      "execution_count": 4,
      "outputs": [
        {
          "output_type": "stream",
          "text": [
            "Requirement already satisfied: de_core_news_sm==2.2.5 from https://github.com/explosion/spacy-models/releases/download/de_core_news_sm-2.2.5/de_core_news_sm-2.2.5.tar.gz#egg=de_core_news_sm==2.2.5 in /usr/local/lib/python3.6/dist-packages (2.2.5)\n",
            "Requirement already satisfied: spacy>=2.2.2 in /usr/local/lib/python3.6/dist-packages (from de_core_news_sm==2.2.5) (2.2.4)\n",
            "Requirement already satisfied: catalogue<1.1.0,>=0.0.7 in /usr/local/lib/python3.6/dist-packages (from spacy>=2.2.2->de_core_news_sm==2.2.5) (1.0.0)\n",
            "Requirement already satisfied: blis<0.5.0,>=0.4.0 in /usr/local/lib/python3.6/dist-packages (from spacy>=2.2.2->de_core_news_sm==2.2.5) (0.4.1)\n",
            "Requirement already satisfied: tqdm<5.0.0,>=4.38.0 in /usr/local/lib/python3.6/dist-packages (from spacy>=2.2.2->de_core_news_sm==2.2.5) (4.41.1)\n",
            "Requirement already satisfied: numpy>=1.15.0 in /usr/local/lib/python3.6/dist-packages (from spacy>=2.2.2->de_core_news_sm==2.2.5) (1.18.5)\n",
            "Requirement already satisfied: preshed<3.1.0,>=3.0.2 in /usr/local/lib/python3.6/dist-packages (from spacy>=2.2.2->de_core_news_sm==2.2.5) (3.0.4)\n",
            "Requirement already satisfied: requests<3.0.0,>=2.13.0 in /usr/local/lib/python3.6/dist-packages (from spacy>=2.2.2->de_core_news_sm==2.2.5) (2.23.0)\n",
            "Requirement already satisfied: wasabi<1.1.0,>=0.4.0 in /usr/local/lib/python3.6/dist-packages (from spacy>=2.2.2->de_core_news_sm==2.2.5) (0.8.0)\n",
            "Requirement already satisfied: murmurhash<1.1.0,>=0.28.0 in /usr/local/lib/python3.6/dist-packages (from spacy>=2.2.2->de_core_news_sm==2.2.5) (1.0.4)\n",
            "Requirement already satisfied: srsly<1.1.0,>=1.0.2 in /usr/local/lib/python3.6/dist-packages (from spacy>=2.2.2->de_core_news_sm==2.2.5) (1.0.4)\n",
            "Requirement already satisfied: plac<1.2.0,>=0.9.6 in /usr/local/lib/python3.6/dist-packages (from spacy>=2.2.2->de_core_news_sm==2.2.5) (1.1.3)\n",
            "Requirement already satisfied: thinc==7.4.0 in /usr/local/lib/python3.6/dist-packages (from spacy>=2.2.2->de_core_news_sm==2.2.5) (7.4.0)\n",
            "Requirement already satisfied: setuptools in /usr/local/lib/python3.6/dist-packages (from spacy>=2.2.2->de_core_news_sm==2.2.5) (50.3.2)\n",
            "Requirement already satisfied: cymem<2.1.0,>=2.0.2 in /usr/local/lib/python3.6/dist-packages (from spacy>=2.2.2->de_core_news_sm==2.2.5) (2.0.4)\n",
            "Requirement already satisfied: importlib-metadata>=0.20; python_version < \"3.8\" in /usr/local/lib/python3.6/dist-packages (from catalogue<1.1.0,>=0.0.7->spacy>=2.2.2->de_core_news_sm==2.2.5) (2.0.0)\n",
            "Requirement already satisfied: chardet<4,>=3.0.2 in /usr/local/lib/python3.6/dist-packages (from requests<3.0.0,>=2.13.0->spacy>=2.2.2->de_core_news_sm==2.2.5) (3.0.4)\n",
            "Requirement already satisfied: urllib3!=1.25.0,!=1.25.1,<1.26,>=1.21.1 in /usr/local/lib/python3.6/dist-packages (from requests<3.0.0,>=2.13.0->spacy>=2.2.2->de_core_news_sm==2.2.5) (1.24.3)\n",
            "Requirement already satisfied: certifi>=2017.4.17 in /usr/local/lib/python3.6/dist-packages (from requests<3.0.0,>=2.13.0->spacy>=2.2.2->de_core_news_sm==2.2.5) (2020.11.8)\n",
            "Requirement already satisfied: idna<3,>=2.5 in /usr/local/lib/python3.6/dist-packages (from requests<3.0.0,>=2.13.0->spacy>=2.2.2->de_core_news_sm==2.2.5) (2.10)\n",
            "Requirement already satisfied: zipp>=0.5 in /usr/local/lib/python3.6/dist-packages (from importlib-metadata>=0.20; python_version < \"3.8\"->catalogue<1.1.0,>=0.0.7->spacy>=2.2.2->de_core_news_sm==2.2.5) (3.4.0)\n",
            "\u001b[38;5;2m✔ Download and installation successful\u001b[0m\n",
            "You can now load the model via spacy.load('de_core_news_sm')\n",
            "\u001b[38;5;2m✔ Linking successful\u001b[0m\n",
            "/usr/local/lib/python3.6/dist-packages/de_core_news_sm -->\n",
            "/usr/local/lib/python3.6/dist-packages/spacy/data/de\n",
            "You can now load the model via spacy.load('de')\n"
          ],
          "name": "stdout"
        }
      ]
    },
    {
      "cell_type": "code",
      "metadata": {
        "id": "bVee8-uDFrQv"
      },
      "source": [
        "spacy_ger = spacy.load(\"de\")\n",
        "spacy_eng = spacy.load(\"en\")"
      ],
      "execution_count": 5,
      "outputs": []
    },
    {
      "cell_type": "code",
      "metadata": {
        "id": "qyEAv8p9rJ3-"
      },
      "source": [
        "# def tokenizer(text):\n",
        "#     return text.split(\" \")"
      ],
      "execution_count": 6,
      "outputs": []
    },
    {
      "cell_type": "code",
      "metadata": {
        "id": "fy5HdGtaFtSo"
      },
      "source": [
        "def tokenizer_ger(text):\n",
        "    return [t.text for t in spacy_ger.tokenizer(text)]\n",
        "\n",
        "def tokenizer_eng(text):\n",
        "    return [t.text for t in spacy_eng.tokenizer(text)]"
      ],
      "execution_count": 7,
      "outputs": []
    },
    {
      "cell_type": "code",
      "metadata": {
        "id": "fdHtIOrhGdDm",
        "colab": {
          "base_uri": "https://localhost:8080/"
        },
        "outputId": "ab6c16e5-8ce0-426c-bc4a-ed107b6e9449"
      },
      "source": [
        "german = Field(tokenize=tokenizer_ger, lower=True, init_token=\"<sos>\", eos_token=\"<eos>\")\n",
        "english = Field(tokenize=tokenizer_eng, lower=True, init_token=\"<sos>\", eos_token=\"<eos>\")"
      ],
      "execution_count": 8,
      "outputs": [
        {
          "output_type": "stream",
          "text": [
            "/usr/local/lib/python3.6/dist-packages/torchtext/data/field.py:150: UserWarning: Field class will be retired soon and moved to torchtext.legacy. Please see the most recent release notes for further information.\n",
            "  warnings.warn('{} class will be retired soon and moved to torchtext.legacy. Please see the most recent release notes for further information.'.format(self.__class__.__name__), UserWarning)\n"
          ],
          "name": "stderr"
        }
      ]
    },
    {
      "cell_type": "code",
      "metadata": {
        "id": "ZnQB7xIlGeDO",
        "colab": {
          "base_uri": "https://localhost:8080/"
        },
        "outputId": "1dfa27f3-3297-4fe0-d5fe-634329c97ca4"
      },
      "source": [
        "train_data, valid_data, test_data = Multi30k.splits(exts=(\".de\", \".en\"), fields=(german, english))"
      ],
      "execution_count": 9,
      "outputs": [
        {
          "output_type": "stream",
          "text": [
            "/usr/local/lib/python3.6/dist-packages/torchtext/data/example.py:78: UserWarning: Example class will be retired soon and moved to torchtext.legacy. Please see the most recent release notes for further information.\n",
            "  warnings.warn('Example class will be retired soon and moved to torchtext.legacy. Please see the most recent release notes for further information.', UserWarning)\n"
          ],
          "name": "stderr"
        }
      ]
    },
    {
      "cell_type": "code",
      "metadata": {
        "colab": {
          "base_uri": "https://localhost:8080/"
        },
        "id": "ezmIkvsbrn-j",
        "outputId": "ac67adda-d2f1-4755-8403-85e69e387a1c"
      },
      "source": [
        "len(train_data)"
      ],
      "execution_count": 10,
      "outputs": [
        {
          "output_type": "execute_result",
          "data": {
            "text/plain": [
              "29000"
            ]
          },
          "metadata": {
            "tags": []
          },
          "execution_count": 10
        }
      ]
    },
    {
      "cell_type": "code",
      "metadata": {
        "colab": {
          "base_uri": "https://localhost:8080/"
        },
        "id": "8rhzqU2n2LD2",
        "outputId": "22306af3-f395-42ff-ecdc-f8a666e37ff0"
      },
      "source": [
        "for data in train_data:\n",
        "    print(vars(data)[\"src\"])\n",
        "    print(vars(data)[\"trg\"])\n",
        "    break"
      ],
      "execution_count": 11,
      "outputs": [
        {
          "output_type": "stream",
          "text": [
            "['zwei', 'junge', 'weiße', 'männer', 'sind', 'im', 'freien', 'in', 'der', 'nähe', 'vieler', 'büsche', '.']\n",
            "['two', 'young', ',', 'white', 'males', 'are', 'outside', 'near', 'many', 'bushes', '.']\n"
          ],
          "name": "stdout"
        }
      ]
    },
    {
      "cell_type": "code",
      "metadata": {
        "id": "JuCvM7vRGeLS"
      },
      "source": [
        "german.build_vocab(train_data, max_size=10000, min_freq=2)\n",
        "english.build_vocab(train_data, max_size=10000, min_freq=2)"
      ],
      "execution_count": 12,
      "outputs": []
    },
    {
      "cell_type": "code",
      "metadata": {
        "id": "PZmE9lioGeH8"
      },
      "source": [
        "class Encoder(nn.Module):\n",
        "    def __init__(self, input_size, embedding_size, hidden_size, num_layers, p):\n",
        "        super().__init__()\n",
        "        self.hidden_size = hidden_size\n",
        "        self.num_layers = num_layers\n",
        "\n",
        "        self.embedding = nn.Embedding(input_size, embedding_size)\n",
        "        self.dropout = nn.Dropout(p)\n",
        "\n",
        "        self.lstm = nn.LSTM(embedding_size, hidden_size, num_layers, bidirectional=True)\n",
        "        \n",
        "        self.fc_hidden = nn.Linear(hidden_size*2, hidden_size)\n",
        "        self.fc_cell = nn.Linear(hidden_size*2, hidden_size)\n",
        "\n",
        "    def forward(self, x):\n",
        "        x = self.embedding(x)\n",
        "        x = self.dropout(x)\n",
        "        e, (h, c) = self.lstm(x)\n",
        "        \n",
        "        h = self.fc_hidden(torch.cat((h[0:1], h[1:2]), dim=2))\n",
        "        c = self.fc_cell(torch.cat((c[0:1], c[1:2]), dim=2))        \n",
        "\n",
        "        return e, h, c"
      ],
      "execution_count": 13,
      "outputs": []
    },
    {
      "cell_type": "code",
      "metadata": {
        "id": "Oqv5y-auH38w"
      },
      "source": [
        "class Decoder(nn.Module):\n",
        "    def __init__(self, input_size, embedding_size, hidden_size, num_layers, ouput_size, p):\n",
        "        super().__init__()\n",
        "        self.hidden_size = hidden_size\n",
        "        self.num_layers = num_layers\n",
        "\n",
        "        self.embedding = nn.Embedding(input_size, embedding_size)\n",
        "        self.dropout = nn.Dropout(p)\n",
        "\n",
        "        self.energy = nn.Linear(hidden_size*3, 1)\n",
        "        self.relu = nn.ReLU()\n",
        "        self.softmax = nn.Softmax(dim=0)\n",
        "        \n",
        "        self.lstm = nn.LSTM(embedding_size + hidden_size*2, hidden_size, num_layers, dropout=p)\n",
        "        self.fc = nn.Linear(hidden_size, output_size)\n",
        "\n",
        "        \n",
        "    def forward(self, x, e, h, c):\n",
        "        x = x.unsqueeze(0)\n",
        "        x = self.embedding(x)\n",
        "        x = self.dropout(x)\n",
        "\n",
        "        seq_len = e.shape[0]\n",
        "        h_ = h.repeat(seq_len, 1, 1)\n",
        "\n",
        "        energy = self.energy(torch.cat((h_, e), dim=2))\n",
        "        energy = self.relu(energy)\n",
        "        attention = self.softmax(energy)\n",
        "\n",
        "        context_vector = torch.einsum(\"snk,snl->knl\", attention, e)\n",
        "        x = torch.cat((context_vector, x), dim=2)\n",
        "\n",
        "        x, (h, c) = self.lstm(x, (h, c))\n",
        "        x = self.fc(x)\n",
        "        x = x.squeeze(0)\n",
        "        return x, h, c"
      ],
      "execution_count": 14,
      "outputs": []
    },
    {
      "cell_type": "code",
      "metadata": {
        "id": "xTxEPSdWH35c"
      },
      "source": [
        "class Seq2Seq(nn.Module):\n",
        "    def __init__(self, encoder_net, decoder_net):\n",
        "        super().__init__()\n",
        "        self.encoder = encoder_net\n",
        "        self.decoder = decoder_net\n",
        "\n",
        "    def forward(self, X, y, teacher_force_ratio=0.5):\n",
        "        batch_size = X.shape[1]\n",
        "        y_len = y.shape[0]\n",
        "        y_vocab_size = len(english.vocab)\n",
        "        \n",
        "        output = torch.zeros(y_len, batch_size, y_vocab_size).to(device)\n",
        "\n",
        "        e, h, c = self.encoder(X)\n",
        "        x = y[0]\n",
        "\n",
        "        for i in range(1, y_len):\n",
        "            x, h, c = self.decoder(x, e, h, c)\n",
        "            output[i] = x\n",
        "            pred = x.argmax(1)\n",
        "            if random.random() > teacher_force_ratio:\n",
        "                x = y[i]\n",
        "            else:\n",
        "                x = pred\n",
        "        \n",
        "        return output"
      ],
      "execution_count": 15,
      "outputs": []
    },
    {
      "cell_type": "code",
      "metadata": {
        "id": "kfgnHgV_GeAw"
      },
      "source": [
        "device = torch.device(\"cuda\" if torch.cuda.is_available() else \"cpu\")\n",
        "epochs = 16\n",
        "lr = 1e-3\n",
        "batch_size = 64\n",
        "encoder_input_size = len(german.vocab)\n",
        "decoder_input_size = len(english.vocab)\n",
        "output_size = len(english.vocab)\n",
        "encoder_embedding_size = 300\n",
        "decoder_embedding_size = 300\n",
        "hidden_size = 1024\n",
        "num_layers = 1\n",
        "p = 0"
      ],
      "execution_count": 16,
      "outputs": []
    },
    {
      "cell_type": "code",
      "metadata": {
        "colab": {
          "base_uri": "https://localhost:8080/"
        },
        "id": "gMz2sWakczyV",
        "outputId": "cd93089f-0489-4045-8d76-4dbca9f90cf7"
      },
      "source": [
        "device"
      ],
      "execution_count": 17,
      "outputs": [
        {
          "output_type": "execute_result",
          "data": {
            "text/plain": [
              "device(type='cuda')"
            ]
          },
          "metadata": {
            "tags": []
          },
          "execution_count": 17
        }
      ]
    },
    {
      "cell_type": "code",
      "metadata": {
        "id": "ZyLYTxJDVHoJ",
        "colab": {
          "base_uri": "https://localhost:8080/"
        },
        "outputId": "f12e342a-f0dc-4add-da58-bd5c49285854"
      },
      "source": [
        "train_batches, valid_batches, test_batches = BucketIterator.splits((train_data, valid_data, test_data), batch_size=batch_size,\n",
        "                                                                 sort_within_batch=True, sort_key=lambda x: len(x.src),\n",
        "                                                                 device=device)"
      ],
      "execution_count": 18,
      "outputs": [
        {
          "output_type": "stream",
          "text": [
            "/usr/local/lib/python3.6/dist-packages/torchtext/data/iterator.py:48: UserWarning: BucketIterator class will be retired soon and moved to torchtext.legacy. Please see the most recent release notes for further information.\n",
            "  warnings.warn('{} class will be retired soon and moved to torchtext.legacy. Please see the most recent release notes for further information.'.format(self.__class__.__name__), UserWarning)\n"
          ],
          "name": "stderr"
        }
      ]
    },
    {
      "cell_type": "code",
      "metadata": {
        "colab": {
          "base_uri": "https://localhost:8080/"
        },
        "id": "YnOqD07kBjeN",
        "outputId": "3f54b4fc-ab67-494d-d187-73a441a3c2a5"
      },
      "source": [
        "for batch in train_batches:\n",
        "    ger = batch.src\n",
        "    eng = batch.trg\n",
        "    print(eng.shape, ger.shape)\n",
        "    break"
      ],
      "execution_count": 19,
      "outputs": [
        {
          "output_type": "stream",
          "text": [
            "/usr/local/lib/python3.6/dist-packages/torchtext/data/batch.py:23: UserWarning: Batch class will be retired soon and moved to torchtext.legacy. Please see the most recent release notes for further information.\n",
            "  warnings.warn('{} class will be retired soon and moved to torchtext.legacy. Please see the most recent release notes for further information.'.format(self.__class__.__name__), UserWarning)\n"
          ],
          "name": "stderr"
        },
        {
          "output_type": "stream",
          "text": [
            "torch.Size([19, 64]) torch.Size([13, 64])\n"
          ],
          "name": "stdout"
        }
      ]
    },
    {
      "cell_type": "code",
      "metadata": {
        "id": "KOdR2M2YVHka"
      },
      "source": [
        "encoder_net = Encoder(encoder_input_size, encoder_embedding_size, hidden_size, num_layers, p).to(device)\n",
        "decoder_net = Decoder(decoder_input_size, decoder_embedding_size, hidden_size, num_layers, output_size, p).to(device)\n",
        "net = Seq2Seq(encoder_net, decoder_net).to(device)"
      ],
      "execution_count": 20,
      "outputs": []
    },
    {
      "cell_type": "code",
      "metadata": {
        "colab": {
          "base_uri": "https://localhost:8080/"
        },
        "id": "B1-E1278hVjk",
        "outputId": "ed265492-cff1-40b7-8372-9ea87d9f01fd"
      },
      "source": [
        "net"
      ],
      "execution_count": 21,
      "outputs": [
        {
          "output_type": "execute_result",
          "data": {
            "text/plain": [
              "Seq2Seq(\n",
              "  (encoder): Encoder(\n",
              "    (embedding): Embedding(7855, 300)\n",
              "    (dropout): Dropout(p=0, inplace=False)\n",
              "    (lstm): LSTM(300, 1024, bidirectional=True)\n",
              "    (fc_hidden): Linear(in_features=2048, out_features=1024, bias=True)\n",
              "    (fc_cell): Linear(in_features=2048, out_features=1024, bias=True)\n",
              "  )\n",
              "  (decoder): Decoder(\n",
              "    (embedding): Embedding(5893, 300)\n",
              "    (dropout): Dropout(p=0, inplace=False)\n",
              "    (energy): Linear(in_features=3072, out_features=1, bias=True)\n",
              "    (relu): ReLU()\n",
              "    (softmax): Softmax(dim=0)\n",
              "    (lstm): LSTM(2348, 1024)\n",
              "    (fc): Linear(in_features=1024, out_features=5893, bias=True)\n",
              "  )\n",
              ")"
            ]
          },
          "metadata": {
            "tags": []
          },
          "execution_count": 21
        }
      ]
    },
    {
      "cell_type": "code",
      "metadata": {
        "id": "sik4eIrshk7_"
      },
      "source": [
        "opt = optim.Adam(net.parameters(), lr)\n",
        "pad_idx = english.vocab.stoi[\"<pad>\"]\n",
        "loss_fn = nn.CrossEntropyLoss(ignore_index=pad_idx)"
      ],
      "execution_count": 22,
      "outputs": []
    },
    {
      "cell_type": "code",
      "metadata": {
        "colab": {
          "base_uri": "https://localhost:8080/"
        },
        "id": "v3CZ9wOWj03D",
        "outputId": "c95b21cb-6b42-49a1-b65a-1cecf52b7bef"
      },
      "source": [
        "len(train_batches)"
      ],
      "execution_count": 23,
      "outputs": [
        {
          "output_type": "execute_result",
          "data": {
            "text/plain": [
              "454"
            ]
          },
          "metadata": {
            "tags": []
          },
          "execution_count": 23
        }
      ]
    },
    {
      "cell_type": "code",
      "metadata": {
        "id": "74ULCNegGVdJ"
      },
      "source": [
        "def translate(net, sentence, german, english, device, max_len=50):\n",
        "    if type(sentence) == str:\n",
        "        tokens = [t.text.lower() for t in spacy_ger(sentence)]\n",
        "    else:\n",
        "        tokens = [t.lower() for t in sentence]\n",
        "\n",
        "    tokens.insert(0, \"<sos>\")\n",
        "    tokens.append(\"<eos>\")\n",
        "\n",
        "    text2idx = []\n",
        "    for t in tokens:\n",
        "        text2idx.append(german.vocab.stoi[t])\n",
        "    \n",
        "    text_tensor = torch.LongTensor(text2idx)\n",
        "    text_tensor = text_tensor.unsqueeze(1).to(device)\n",
        "    with torch.no_grad():\n",
        "        e, h, c = net.encoder(text_tensor)\n",
        "    \n",
        "    output = [english.vocab.stoi[\"<sos>\"]]\n",
        "    for _ in range(max_len):\n",
        "        prev_word = torch.LongTensor([output[-1]]).to(device)\n",
        "        with torch.no_grad():\n",
        "            p, h, c = net.decoder(prev_word, e, h, c)\n",
        "            pred = p.argmax(1).item()\n",
        "\n",
        "        output.append(pred)\n",
        "        if pred == english.vocab.stoi[\"<eos>\"]:\n",
        "            break\n",
        "\n",
        "    output_text = [english.vocab.itos[idx] for idx in output]\n",
        "\n",
        "    return output_text[1:]"
      ],
      "execution_count": 24,
      "outputs": []
    },
    {
      "cell_type": "code",
      "metadata": {
        "id": "tBS_zd3Y2j3Y"
      },
      "source": [
        "def bleu(data, net, german, english, device):\n",
        "    targets = []\n",
        "    outputs = []\n",
        "\n",
        "    for d in data:\n",
        "        src = vars(d)[\"src\"]\n",
        "        trg = vars(d)[\"trg\"]\n",
        "\n",
        "        prediction = translate(net, src, german, english, device)\n",
        "        prediction = prediction[:-1]  \n",
        "\n",
        "        targets.append([trg])\n",
        "        outputs.append(prediction)\n",
        "       \n",
        "    return bleu_score(outputs, targets)"
      ],
      "execution_count": 25,
      "outputs": []
    },
    {
      "cell_type": "code",
      "metadata": {
        "id": "Xf9T3nFuWuKm"
      },
      "source": [
        "def save_checkpoint(net, opt, losses, filename):\n",
        "    check_point = {\"net_dict\": net.state_dict(), \"opt_dict\": opt.state_dict(), \"losses\": losses}\n",
        "    torch.save(check_point, filename)\n",
        "    print(\"Checkpoint Saved!\")\n",
        "\n",
        "def load_checkpoint(net, opt, filename):\n",
        "    check_point = torch.load(filename)\n",
        "    net.load_state_dict(check_point[\"net_dict\"])\n",
        "    opt.load_state_dict(check_point[\"opt_dict\"])\n",
        "    losses = check_point[\"losses\"]\n",
        "    print(\"Checkpoint Loaded!\")"
      ],
      "execution_count": 26,
      "outputs": []
    },
    {
      "cell_type": "code",
      "metadata": {
        "colab": {
          "base_uri": "https://localhost:8080/"
        },
        "id": "POj08mQg5c17",
        "outputId": "2c283d36-b66b-493a-c7c1-d455b9a58dbd"
      },
      "source": [
        "t = [[['that', 'is', 'a', 'plane', 'and', 'not', 'a', 'bird']]]\n",
        "o = [['that', 'is', 'a', 'plane', 'and', 'not', 'a', 'dog']]\n",
        "bleu_score(o, t)"
      ],
      "execution_count": 27,
      "outputs": [
        {
          "output_type": "execute_result",
          "data": {
            "text/plain": [
              "0.8408964276313782"
            ]
          },
          "metadata": {
            "tags": []
          },
          "execution_count": 27
        }
      ]
    },
    {
      "cell_type": "code",
      "metadata": {
        "id": "5-2aRSbmLCr5"
      },
      "source": [
        "text = \"ein boot mit mehreren männern darauf wird von einem großen pferdegespann ans ufer gezogen\"\n",
        "english_translation = \"a boat with several men on it is being pulled ashore by a large team of horses\""
      ],
      "execution_count": 28,
      "outputs": []
    },
    {
      "cell_type": "code",
      "metadata": {
        "id": "A6_j-OfbE4kg"
      },
      "source": [
        "losses = []"
      ],
      "execution_count": 29,
      "outputs": []
    },
    {
      "cell_type": "code",
      "metadata": {
        "id": "XQnM_Sa0hwqz",
        "colab": {
          "base_uri": "https://localhost:8080/"
        },
        "outputId": "333f90fc-d81b-413c-c9b0-2e2bb7a0a5bc"
      },
      "source": [
        "for epoch in range(epochs):\n",
        "    batch_losses = []\n",
        "    for batch in tqdm.tqdm(train_batches, total=len(train_batches)):\n",
        "        X = batch.src.to(device)\n",
        "        y = batch.trg.to(device)\n",
        "\n",
        "        output = net(X, y)\n",
        "        output = output[1:].reshape(-1, output.shape[2])\n",
        "        y = y[1:].reshape(-1)\n",
        "        \n",
        "        opt.zero_grad()\n",
        "        loss = loss_fn(output, y)\n",
        "        loss.backward()\n",
        "        batch_losses.append(loss.item())\n",
        "        torch.nn.utils.clip_grad_norm_(net.parameters(), max_norm=1)\n",
        "        opt.step()\n",
        "    \n",
        "    losses.append(np.round(sum(batch_losses)/len(batch_losses), 5))\n",
        "    print(f\" Epoch: {epoch} | Loss: {losses[epoch]:4f}\")\n",
        "\n",
        "    pred_list = translate(net, text, german, english, device, max_len=50)\n",
        "    pred_text = \"\"\n",
        "    for word in pred_list:\n",
        "        pred_text += word + \" \"\n",
        "\n",
        "    print(pred_text)\n",
        "    print(\"\")\n",
        "\n",
        "    if epoch % 5 == 0:\n",
        "        save_checkpoint(net, opt, losses, f\"checkpoint-{epoch}.pth.tar\")\n",
        "        print(\"\")"
      ],
      "execution_count": 30,
      "outputs": [
        {
          "output_type": "stream",
          "text": [
            "  0%|          | 0/454 [00:00<?, ?it/s]/usr/local/lib/python3.6/dist-packages/torchtext/data/batch.py:23: UserWarning: Batch class will be retired soon and moved to torchtext.legacy. Please see the most recent release notes for further information.\n",
            "  warnings.warn('{} class will be retired soon and moved to torchtext.legacy. Please see the most recent release notes for further information.'.format(self.__class__.__name__), UserWarning)\n",
            "100%|██████████| 454/454 [00:47<00:00,  9.55it/s]\n"
          ],
          "name": "stderr"
        },
        {
          "output_type": "stream",
          "text": [
            " Epoch: 0 | Loss: 4.089630\n",
            "a man with a <unk> <unk> a a a a large of a . <eos> \n",
            "\n"
          ],
          "name": "stdout"
        },
        {
          "output_type": "stream",
          "text": [
            "  0%|          | 1/454 [00:00<01:12,  6.25it/s]"
          ],
          "name": "stderr"
        },
        {
          "output_type": "stream",
          "text": [
            "Checkpoint Saved!\n",
            "\n"
          ],
          "name": "stdout"
        },
        {
          "output_type": "stream",
          "text": [
            "100%|██████████| 454/454 [00:47<00:00,  9.56it/s]\n",
            "  0%|          | 1/454 [00:00<01:05,  6.90it/s]"
          ],
          "name": "stderr"
        },
        {
          "output_type": "stream",
          "text": [
            " Epoch: 1 | Loss: 3.044260\n",
            "a man with a is surrounded by a large of a large . . <eos> \n",
            "\n"
          ],
          "name": "stdout"
        },
        {
          "output_type": "stream",
          "text": [
            "100%|██████████| 454/454 [00:47<00:00,  9.54it/s]\n",
            "  0%|          | 1/454 [00:00<00:56,  7.99it/s]"
          ],
          "name": "stderr"
        },
        {
          "output_type": "stream",
          "text": [
            " Epoch: 2 | Loss: 2.525670\n",
            "a fisherman with a couple is being pulled by a large by a large . . <eos> \n",
            "\n"
          ],
          "name": "stdout"
        },
        {
          "output_type": "stream",
          "text": [
            "100%|██████████| 454/454 [00:47<00:00,  9.53it/s]\n",
            "  0%|          | 1/454 [00:00<01:10,  6.43it/s]"
          ],
          "name": "stderr"
        },
        {
          "output_type": "stream",
          "text": [
            " Epoch: 3 | Loss: 2.103670\n",
            "a boat with several men are pulled by a large of of . <eos> \n",
            "\n"
          ],
          "name": "stdout"
        },
        {
          "output_type": "stream",
          "text": [
            "100%|██████████| 454/454 [00:47<00:00,  9.52it/s]\n",
            "  0%|          | 1/454 [00:00<01:02,  7.19it/s]"
          ],
          "name": "stderr"
        },
        {
          "output_type": "stream",
          "text": [
            " Epoch: 4 | Loss: 1.738620\n",
            "a boat with several and fish by large by large by large cable . <eos> \n",
            "\n"
          ],
          "name": "stdout"
        },
        {
          "output_type": "stream",
          "text": [
            "100%|██████████| 454/454 [00:47<00:00,  9.53it/s]\n"
          ],
          "name": "stderr"
        },
        {
          "output_type": "stream",
          "text": [
            " Epoch: 5 | Loss: 1.388960\n",
            "a boat with several men are pulled by a basket of a large basket . <eos> \n",
            "\n"
          ],
          "name": "stdout"
        },
        {
          "output_type": "stream",
          "text": [
            "  0%|          | 1/454 [00:00<01:20,  5.60it/s]"
          ],
          "name": "stderr"
        },
        {
          "output_type": "stream",
          "text": [
            "Checkpoint Saved!\n",
            "\n"
          ],
          "name": "stdout"
        },
        {
          "output_type": "stream",
          "text": [
            "100%|██████████| 454/454 [00:47<00:00,  9.55it/s]\n",
            "  0%|          | 1/454 [00:00<01:02,  7.29it/s]"
          ],
          "name": "stderr"
        },
        {
          "output_type": "stream",
          "text": [
            " Epoch: 6 | Loss: 1.078020\n",
            "a boat with several men being pulled by a by a by a large horses . <eos> \n",
            "\n"
          ],
          "name": "stdout"
        },
        {
          "output_type": "stream",
          "text": [
            "100%|██████████| 454/454 [00:47<00:00,  9.54it/s]\n",
            "  0%|          | 1/454 [00:00<01:05,  6.94it/s]"
          ],
          "name": "stderr"
        },
        {
          "output_type": "stream",
          "text": [
            " Epoch: 7 | Loss: 0.828330\n",
            "a boat carrying several men is <unk> by a large cable of of dogs on the shore . <eos> \n",
            "\n"
          ],
          "name": "stdout"
        },
        {
          "output_type": "stream",
          "text": [
            "100%|██████████| 454/454 [00:47<00:00,  9.53it/s]\n",
            "  0%|          | 1/454 [00:00<01:06,  6.85it/s]"
          ],
          "name": "stderr"
        },
        {
          "output_type": "stream",
          "text": [
            " Epoch: 8 | Loss: 0.612470\n",
            "a boat carrying several men is pulled from the sides of a large number 4 . <eos> \n",
            "\n"
          ],
          "name": "stdout"
        },
        {
          "output_type": "stream",
          "text": [
            "100%|██████████| 454/454 [00:47<00:00,  9.54it/s]\n",
            "  0%|          | 1/454 [00:00<01:04,  7.02it/s]"
          ],
          "name": "stderr"
        },
        {
          "output_type": "stream",
          "text": [
            " Epoch: 9 | Loss: 0.460430\n",
            "a boat carrying several men is pulled by horses and by horses to horses . <eos> \n",
            "\n"
          ],
          "name": "stdout"
        },
        {
          "output_type": "stream",
          "text": [
            "100%|██████████| 454/454 [00:47<00:00,  9.55it/s]\n"
          ],
          "name": "stderr"
        },
        {
          "output_type": "stream",
          "text": [
            " Epoch: 10 | Loss: 0.342550\n",
            "a boat carrying several men is pulled to shore by a by several of horses by to shore . <eos> \n",
            "\n"
          ],
          "name": "stdout"
        },
        {
          "output_type": "stream",
          "text": [
            "  0%|          | 1/454 [00:00<01:13,  6.12it/s]"
          ],
          "name": "stderr"
        },
        {
          "output_type": "stream",
          "text": [
            "Checkpoint Saved!\n",
            "\n"
          ],
          "name": "stdout"
        },
        {
          "output_type": "stream",
          "text": [
            "100%|██████████| 454/454 [00:47<00:00,  9.54it/s]\n",
            "  0%|          | 1/454 [00:00<01:06,  6.78it/s]"
          ],
          "name": "stderr"
        },
        {
          "output_type": "stream",
          "text": [
            " Epoch: 11 | Loss: 0.253110\n",
            "a boat carrying several men is pulled to shore by a large team of horses . <eos> \n",
            "\n"
          ],
          "name": "stdout"
        },
        {
          "output_type": "stream",
          "text": [
            "100%|██████████| 454/454 [00:47<00:00,  9.56it/s]\n",
            "  0%|          | 1/454 [00:00<01:03,  7.10it/s]"
          ],
          "name": "stderr"
        },
        {
          "output_type": "stream",
          "text": [
            " Epoch: 12 | Loss: 0.199250\n",
            "a boat carrying several men is pulled to shore by a large team of horses . <eos> \n",
            "\n"
          ],
          "name": "stdout"
        },
        {
          "output_type": "stream",
          "text": [
            "100%|██████████| 454/454 [00:47<00:00,  9.56it/s]\n",
            "  0%|          | 1/454 [00:00<01:07,  6.75it/s]"
          ],
          "name": "stderr"
        },
        {
          "output_type": "stream",
          "text": [
            " Epoch: 13 | Loss: 0.167510\n",
            "a boat carrying several men is pulled by shore by a large team of horses . <eos> \n",
            "\n"
          ],
          "name": "stdout"
        },
        {
          "output_type": "stream",
          "text": [
            "100%|██████████| 454/454 [00:47<00:00,  9.58it/s]\n",
            "  0%|          | 1/454 [00:00<01:05,  6.96it/s]"
          ],
          "name": "stderr"
        },
        {
          "output_type": "stream",
          "text": [
            " Epoch: 14 | Loss: 0.158010\n",
            "a boat carrying several men is pulled to shore by a large team of horses . <eos> \n",
            "\n"
          ],
          "name": "stdout"
        },
        {
          "output_type": "stream",
          "text": [
            "100%|██████████| 454/454 [00:47<00:00,  9.59it/s]\n"
          ],
          "name": "stderr"
        },
        {
          "output_type": "stream",
          "text": [
            " Epoch: 15 | Loss: 0.153680\n",
            "a boat carrying several men is pulled to shore by a large team of horses . <eos> \n",
            "\n",
            "Checkpoint Saved!\n",
            "\n"
          ],
          "name": "stdout"
        }
      ]
    },
    {
      "cell_type": "code",
      "metadata": {
        "colab": {
          "base_uri": "https://localhost:8080/",
          "height": 296
        },
        "id": "ydOtc_4xEkbi",
        "outputId": "225c8a09-1ad4-4883-b70b-91c0e916603c"
      },
      "source": [
        "plt.plot(losses)\n",
        "plt.xlabel(\"epoch\")\n",
        "plt.ylabel(\"loss\")"
      ],
      "execution_count": 31,
      "outputs": [
        {
          "output_type": "execute_result",
          "data": {
            "text/plain": [
              "Text(0, 0.5, 'loss')"
            ]
          },
          "metadata": {
            "tags": []
          },
          "execution_count": 31
        },
        {
          "output_type": "display_data",
          "data": {
            "image/png": "[encoded data removed]",
            "text/plain": [
              "<Figure size 432x288 with 1 Axes>"
            ]
          },
          "metadata": {
            "tags": [],
            "needs_background": "light"
          }
        }
      ]
    },
    {
      "cell_type": "code",
      "metadata": {
        "colab": {
          "base_uri": "https://localhost:8080/"
        },
        "id": "tYxB-IawIH0J",
        "outputId": "6ebb28fd-7c1e-4051-aaea-d7461e84f0dc"
      },
      "source": [
        "len(test_data)"
      ],
      "execution_count": 32,
      "outputs": [
        {
          "output_type": "execute_result",
          "data": {
            "text/plain": [
              "1000"
            ]
          },
          "metadata": {
            "tags": []
          },
          "execution_count": 32
        }
      ]
    },
    {
      "cell_type": "code",
      "metadata": {
        "id": "2IMprzXQLKSE",
        "colab": {
          "base_uri": "https://localhost:8080/"
        },
        "outputId": "9f86201c-e494-40d8-c272-26a0bb4f3e90"
      },
      "source": [
        "score = bleu(test_data, net, german, english, device) * 100\n",
        "print(f\"Bleu Score: {score}\")"
      ],
      "execution_count": 35,
      "outputs": [
        {
          "output_type": "stream",
          "text": [
            "Bleu Score: 26.3038520180978\n"
          ],
          "name": "stdout"
        }
      ]
    },
    {
      "cell_type": "code",
      "metadata": {
        "id": "JiKXu2ZWI1Ig"
      },
      "source": [
        "# bleu score interpretation:\n",
        "# 0 - 19: bad translations\n",
        "# 20 - 29: understandable translations\n",
        "# 30 - 39: good translations\n",
        "# 40 - 49: High quality translations\n",
        "# 50 - 60: Very high quality, adequate, and fluent translations\n",
        "# > 60: Quality often better than human"
      ],
      "execution_count": 36,
      "outputs": []
    },
    {
      "cell_type": "code",
      "metadata": {
        "id": "yLpKV8Os_6eI"
      },
      "source": [
        "text1 = \"Ein Mann geht die Straße entlang, während er eine Tasse in der Hand hält\"\n",
        "og_translation1 = \"a man is walking down the street while holding a cup\""
      ],
      "execution_count": 41,
      "outputs": []
    },
    {
      "cell_type": "code",
      "metadata": {
        "id": "wnYBhL6osTeS",
        "colab": {
          "base_uri": "https://localhost:8080/"
        },
        "outputId": "2aee6708-819c-478f-85ed-60e69cfeb71b"
      },
      "source": [
        "pred_list = translate(net, text1, german, english, device)\n",
        "pred_text = \"\"\n",
        "for word in pred_list:\n",
        "    pred_text += word + \" \"\n",
        "\n",
        "print(pred_text)\n",
        "print(\"\")"
      ],
      "execution_count": 42,
      "outputs": [
        {
          "output_type": "stream",
          "text": [
            "a man walking down the street holding a cup of food . <eos> \n",
            "\n"
          ],
          "name": "stdout"
        }
      ]
    },
    {
      "cell_type": "code",
      "metadata": {
        "id": "RwoeE9WBLRmk"
      },
      "source": [
        "text2 = \"Dieser Affe klettert auf einen Baum\"\n",
        "og_translation2 = \"that monkey is climbing a tree\""
      ],
      "execution_count": 47,
      "outputs": []
    },
    {
      "cell_type": "code",
      "metadata": {
        "colab": {
          "base_uri": "https://localhost:8080/"
        },
        "id": "7GiMkk62LRjT",
        "outputId": "a7e49d66-f69f-48c4-a8ee-c219d9aa332b"
      },
      "source": [
        "pred_list = translate(net, text2, german, english, device)\n",
        "pred_text = \"\"\n",
        "for word in pred_list:\n",
        "    pred_text += word + \" \"\n",
        "\n",
        "print(pred_text)\n",
        "print(\"\")"
      ],
      "execution_count": 48,
      "outputs": [
        {
          "output_type": "stream",
          "text": [
            "this is climbing climbing a tree . <eos> \n",
            "\n"
          ],
          "name": "stdout"
        }
      ]
    },
    {
      "cell_type": "code",
      "metadata": {
        "id": "e7LoBGhGLjJ1"
      },
      "source": [
        "text3 = \"Dieser Mann rennt zu langsam, um den Bus zu erreichen\"\n",
        "og_translation3 = \"that man is running too slow to catch the bus\""
      ],
      "execution_count": 53,
      "outputs": []
    },
    {
      "cell_type": "code",
      "metadata": {
        "colab": {
          "base_uri": "https://localhost:8080/"
        },
        "id": "U3ZG7xSc8AfO",
        "outputId": "f0958e77-51bc-4db9-9408-83b250db0a57"
      },
      "source": [
        "pred_list = translate(net, text3, german, english, device)\n",
        "pred_text = \"\"\n",
        "for word in pred_list:\n",
        "    pred_text += word + \" \"\n",
        "\n",
        "print(pred_text)\n",
        "print(\"\")"
      ],
      "execution_count": 54,
      "outputs": [
        {
          "output_type": "stream",
          "text": [
            "this man is running to run to go down the bus . <eos> \n",
            "\n"
          ],
          "name": "stdout"
        }
      ]
    },
    {
      "cell_type": "code",
      "metadata": {
        "id": "2-ydKS6QL9If"
      },
      "source": [
        ""
      ],
      "execution_count": null,
      "outputs": []
    },
    {
      "cell_type": "code",
      "metadata": {
        "id": "dLISv36bLvMq"
      },
      "source": [
        ""
      ],
      "execution_count": null,
      "outputs": []
    }
  ]
}