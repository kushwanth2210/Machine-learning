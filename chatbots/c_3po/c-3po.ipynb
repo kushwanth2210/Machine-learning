{
  "nbformat": 4,
  "nbformat_minor": 0,
  "metadata": {
    "colab": {
      "name": "default.ipynb",
      "provenance": [],
      "collapsed_sections": []
    },
    "kernelspec": {
      "name": "python3",
      "display_name": "Python 3"
    },
    "accelerator": "GPU"
  },
  "cells": [
    {
      "cell_type": "code",
      "metadata": {
        "id": "eaFWZZ9N63dR"
      },
      "source": [
        "import torch\r\n",
        "import spacy\r\n",
        "import tqdm\r\n",
        "import numpy as np\r\n",
        "import torch.nn as nn\r\n",
        "from torchtext.data import Field, BucketIterator, TabularDataset"
      ],
      "execution_count": 1,
      "outputs": []
    },
    {
      "cell_type": "code",
      "metadata": {
        "id": "l8aAPxEKCveP",
        "colab": {
          "base_uri": "https://localhost:8080/",
          "height": 35
        },
        "outputId": "0ccfddd4-b3d0-4eb1-c1fa-8d8a5603453c"
      },
      "source": [
        "torch.cuda.get_device_name()"
      ],
      "execution_count": 2,
      "outputs": [
        {
          "output_type": "execute_result",
          "data": {
            "application/vnd.google.colaboratory.intrinsic+json": {
              "type": "string"
            },
            "text/plain": [
              "'Tesla T4'"
            ]
          },
          "metadata": {
            "tags": []
          },
          "execution_count": 2
        }
      ]
    },
    {
      "cell_type": "code",
      "metadata": {
        "id": "6giqbwW963Zp"
      },
      "source": [
        "spacy_eng = spacy.load(\"en\")"
      ],
      "execution_count": 3,
      "outputs": []
    },
    {
      "cell_type": "code",
      "metadata": {
        "id": "cQDcGpYG63W0"
      },
      "source": [
        "def tokenizer(text):\r\n",
        "    return [tok.text.lower() for tok in spacy_eng.tokenizer(text)]"
      ],
      "execution_count": 4,
      "outputs": []
    },
    {
      "cell_type": "code",
      "metadata": {
        "id": "wkn4bN1v8Azw"
      },
      "source": [
        "query = Field(sequential=True, tokenize=tokenizer, lower=True, init_token=\"<sos>\", eos_token=\"<eos>\")\n",
        "ans = Field(sequential=True, tokenize=tokenizer, lower=True, init_token=\"<sos>\", eos_token=\"<eos>\")\n",
        "\n",
        "fields = {\"query\": (\"q\", query), \"ans\": (\"a\", ans)}\n",
        "data, dummy = TabularDataset.splits(path=\"\", train=\"c-3po-convos.csv\", test=\"c-3po-convos.csv\",\n",
        "                                    format=\"csv\", fields=fields)"
      ],
      "execution_count": 5,
      "outputs": []
    },
    {
      "cell_type": "code",
      "metadata": {
        "id": "kFOEExfH9fU3",
        "colab": {
          "base_uri": "https://localhost:8080/"
        },
        "outputId": "025b2702-241e-46c1-ed03-d9e3df197607"
      },
      "source": [
        "len(data)"
      ],
      "execution_count": 6,
      "outputs": [
        {
          "output_type": "execute_result",
          "data": {
            "text/plain": [
              "2141"
            ]
          },
          "metadata": {
            "tags": []
          },
          "execution_count": 6
        }
      ]
    },
    {
      "cell_type": "code",
      "metadata": {
        "colab": {
          "base_uri": "https://localhost:8080/"
        },
        "id": "Yt3Fbg3p87Xi",
        "outputId": "a4e33422-b41d-4fb0-8e32-c6a56efcb89f"
      },
      "source": [
        "for d in data:\r\n",
        "    print(vars(d)[\"q\"])\r\n",
        "    print(vars(d)[\"a\"])\r\n",
        "    break"
      ],
      "execution_count": 7,
      "outputs": [
        {
          "output_type": "stream",
          "text": [
            "['what', 'is', 'you', 'name', '?']\n",
            "['hi', ',', 'my', 'name', 'is', 'c-3po']\n"
          ],
          "name": "stdout"
        }
      ]
    },
    {
      "cell_type": "code",
      "metadata": {
        "id": "tYgbFKP99SMx"
      },
      "source": [
        "query.build_vocab(data, max_size=15000, min_freq=2)\r\n",
        "ans.build_vocab(data, max_size=15000, min_freq=2)"
      ],
      "execution_count": 8,
      "outputs": []
    },
    {
      "cell_type": "code",
      "metadata": {
        "id": "i6twvDZ_9pQ-"
      },
      "source": [
        "class Transformer(nn.Module):\r\n",
        "    def __init__(self, embedding_size, src_vocab_size, trg_vocab_size, src_pad_idx, num_heads, num_encoder_layers,\r\n",
        "                 num_decoder_layers, forward_expansion, p, max_len, device):\r\n",
        "        super(Transformer, self).__init__()\r\n",
        "\r\n",
        "        self.src_pad_idx = src_pad_idx\r\n",
        "        self.src_word_embedding = nn.Embedding(src_vocab_size, embedding_size)\r\n",
        "        self.src_positional_embedding = nn.Embedding(max_len, embedding_size)\r\n",
        "\r\n",
        "        self.trg_word_embedding = nn.Embedding(trg_vocab_size, embedding_size)\r\n",
        "        self.trg_positional_embedding = nn.Embedding(max_len, embedding_size)\r\n",
        "\r\n",
        "        self.dropout = nn.Dropout(p)\r\n",
        "        self.device = device\r\n",
        "\r\n",
        "        self.transformer = nn.Transformer(embedding_size, num_heads, num_encoder_layers, num_decoder_layers, \r\n",
        "                                          forward_expansion, dropout=p)\r\n",
        "        self.fc_out = nn.Linear(embedding_size, trg_vocab_size)\r\n",
        "    \r\n",
        "    def build_src_mask(self, src):\r\n",
        "        src_mask = src.transpose(0, 1) == self.src_pad_idx\r\n",
        "        return src_mask.to(self.device)\r\n",
        "\r\n",
        "    def forward(self, src, trg):\r\n",
        "        src_seq_len, N = src.shape\r\n",
        "        trg_seq_len, N = trg.shape\r\n",
        "\r\n",
        "        src_positions = (torch.arange(0, src_seq_len).unsqueeze(1).expand(src_seq_len, N).to(self.device))\r\n",
        "        trg_positions = (torch.arange(0, trg_seq_len).unsqueeze(1).expand(trg_seq_len, N).to(self.device))\r\n",
        "        \r\n",
        "        src_embedding = self.dropout((self.src_word_embedding(src) + self.src_positional_embedding(src_positions)))\r\n",
        "        trg_embedding = self.dropout((self.trg_word_embedding(trg) + self.trg_positional_embedding(trg_positions)))\r\n",
        "        \r\n",
        "        src_mask = self.build_src_mask(src)\r\n",
        "        trg_mask = self.transformer.generate_square_subsequent_mask(trg_seq_len).to(self.device)\r\n",
        "\r\n",
        "        x = self.transformer(src_embedding, trg_embedding, src_key_padding_mask=src_mask, tgt_mask=trg_mask)\r\n",
        "        x = self.fc_out(x)\r\n",
        "\r\n",
        "        return x"
      ],
      "execution_count": 9,
      "outputs": []
    },
    {
      "cell_type": "code",
      "metadata": {
        "id": "AiOOOm77-fl4"
      },
      "source": [
        "device = torch.device(\"cuda\" if torch.cuda.is_available() else \"cpu\")\r\n",
        "epochs = 100\r\n",
        "lr = 3e-5\r\n",
        "batch_size = 16\r\n",
        "src_vocab_size = len(query.vocab)\r\n",
        "trg_vocab_size = len(ans.vocab)\r\n",
        "embedding_size = 1024\r\n",
        "num_heads = 16\r\n",
        "num_encoder_layers = 4\r\n",
        "num_decoder_layers = 4\r\n",
        "p = 0.10\r\n",
        "max_len = 100\r\n",
        "forward_expansion = 4\r\n",
        "src_pad_idx = query.vocab.stoi[\"<pad>\"]"
      ],
      "execution_count": 12,
      "outputs": []
    },
    {
      "cell_type": "code",
      "metadata": {
        "colab": {
          "base_uri": "https://localhost:8080/"
        },
        "id": "KCgLkKqE87Uk",
        "outputId": "8d7b7b2f-f701-4d41-e9ed-d3cc9358a3cf"
      },
      "source": [
        "device"
      ],
      "execution_count": 13,
      "outputs": [
        {
          "output_type": "execute_result",
          "data": {
            "text/plain": [
              "device(type='cuda')"
            ]
          },
          "metadata": {
            "tags": []
          },
          "execution_count": 13
        }
      ]
    },
    {
      "cell_type": "code",
      "metadata": {
        "id": "CtuHBkO6-sRj"
      },
      "source": [
        "batches, _ = BucketIterator.splits((data, dummy), batch_size=batch_size, device=device)"
      ],
      "execution_count": 14,
      "outputs": []
    },
    {
      "cell_type": "code",
      "metadata": {
        "id": "CT8JqMoydCLq"
      },
      "source": [
        "del dummy"
      ],
      "execution_count": 15,
      "outputs": []
    },
    {
      "cell_type": "code",
      "metadata": {
        "colab": {
          "base_uri": "https://localhost:8080/"
        },
        "id": "SdUfvGI1-sOC",
        "outputId": "446560e2-05e1-43ca-db62-a32fdfc5ac08"
      },
      "source": [
        "for b in batches:\r\n",
        "    print(b.q.shape)\r\n",
        "    print(b.a.shape)\r\n",
        "    break"
      ],
      "execution_count": 16,
      "outputs": [
        {
          "output_type": "stream",
          "text": [
            "torch.Size([45, 16])\n",
            "torch.Size([20, 16])\n"
          ],
          "name": "stdout"
        }
      ]
    },
    {
      "cell_type": "code",
      "metadata": {
        "id": "JmUVSB7k_wFM"
      },
      "source": [
        "c_3po = Transformer(embedding_size, src_vocab_size, trg_vocab_size, src_pad_idx, num_heads, num_encoder_layers, \r\n",
        "                  num_decoder_layers, forward_expansion, p, max_len, device).to(device)"
      ],
      "execution_count": 17,
      "outputs": []
    },
    {
      "cell_type": "code",
      "metadata": {
        "colab": {
          "base_uri": "https://localhost:8080/"
        },
        "id": "k1WEUnMMg8RR",
        "outputId": "bad7b91a-6913-4e51-818c-e25faf516361"
      },
      "source": [
        "c_3po"
      ],
      "execution_count": 18,
      "outputs": [
        {
          "output_type": "execute_result",
          "data": {
            "text/plain": [
              "Transformer(\n",
              "  (src_word_embedding): Embedding(1415, 1024)\n",
              "  (src_positional_embedding): Embedding(100, 1024)\n",
              "  (trg_word_embedding): Embedding(1342, 1024)\n",
              "  (trg_positional_embedding): Embedding(100, 1024)\n",
              "  (dropout): Dropout(p=0.1, inplace=False)\n",
              "  (transformer): Transformer(\n",
              "    (encoder): TransformerEncoder(\n",
              "      (layers): ModuleList(\n",
              "        (0): TransformerEncoderLayer(\n",
              "          (self_attn): MultiheadAttention(\n",
              "            (out_proj): _LinearWithBias(in_features=1024, out_features=1024, bias=True)\n",
              "          )\n",
              "          (linear1): Linear(in_features=1024, out_features=4, bias=True)\n",
              "          (dropout): Dropout(p=0.1, inplace=False)\n",
              "          (linear2): Linear(in_features=4, out_features=1024, bias=True)\n",
              "          (norm1): LayerNorm((1024,), eps=1e-05, elementwise_affine=True)\n",
              "          (norm2): LayerNorm((1024,), eps=1e-05, elementwise_affine=True)\n",
              "          (dropout1): Dropout(p=0.1, inplace=False)\n",
              "          (dropout2): Dropout(p=0.1, inplace=False)\n",
              "        )\n",
              "        (1): TransformerEncoderLayer(\n",
              "          (self_attn): MultiheadAttention(\n",
              "            (out_proj): _LinearWithBias(in_features=1024, out_features=1024, bias=True)\n",
              "          )\n",
              "          (linear1): Linear(in_features=1024, out_features=4, bias=True)\n",
              "          (dropout): Dropout(p=0.1, inplace=False)\n",
              "          (linear2): Linear(in_features=4, out_features=1024, bias=True)\n",
              "          (norm1): LayerNorm((1024,), eps=1e-05, elementwise_affine=True)\n",
              "          (norm2): LayerNorm((1024,), eps=1e-05, elementwise_affine=True)\n",
              "          (dropout1): Dropout(p=0.1, inplace=False)\n",
              "          (dropout2): Dropout(p=0.1, inplace=False)\n",
              "        )\n",
              "        (2): TransformerEncoderLayer(\n",
              "          (self_attn): MultiheadAttention(\n",
              "            (out_proj): _LinearWithBias(in_features=1024, out_features=1024, bias=True)\n",
              "          )\n",
              "          (linear1): Linear(in_features=1024, out_features=4, bias=True)\n",
              "          (dropout): Dropout(p=0.1, inplace=False)\n",
              "          (linear2): Linear(in_features=4, out_features=1024, bias=True)\n",
              "          (norm1): LayerNorm((1024,), eps=1e-05, elementwise_affine=True)\n",
              "          (norm2): LayerNorm((1024,), eps=1e-05, elementwise_affine=True)\n",
              "          (dropout1): Dropout(p=0.1, inplace=False)\n",
              "          (dropout2): Dropout(p=0.1, inplace=False)\n",
              "        )\n",
              "        (3): TransformerEncoderLayer(\n",
              "          (self_attn): MultiheadAttention(\n",
              "            (out_proj): _LinearWithBias(in_features=1024, out_features=1024, bias=True)\n",
              "          )\n",
              "          (linear1): Linear(in_features=1024, out_features=4, bias=True)\n",
              "          (dropout): Dropout(p=0.1, inplace=False)\n",
              "          (linear2): Linear(in_features=4, out_features=1024, bias=True)\n",
              "          (norm1): LayerNorm((1024,), eps=1e-05, elementwise_affine=True)\n",
              "          (norm2): LayerNorm((1024,), eps=1e-05, elementwise_affine=True)\n",
              "          (dropout1): Dropout(p=0.1, inplace=False)\n",
              "          (dropout2): Dropout(p=0.1, inplace=False)\n",
              "        )\n",
              "      )\n",
              "      (norm): LayerNorm((1024,), eps=1e-05, elementwise_affine=True)\n",
              "    )\n",
              "    (decoder): TransformerDecoder(\n",
              "      (layers): ModuleList(\n",
              "        (0): TransformerDecoderLayer(\n",
              "          (self_attn): MultiheadAttention(\n",
              "            (out_proj): _LinearWithBias(in_features=1024, out_features=1024, bias=True)\n",
              "          )\n",
              "          (multihead_attn): MultiheadAttention(\n",
              "            (out_proj): _LinearWithBias(in_features=1024, out_features=1024, bias=True)\n",
              "          )\n",
              "          (linear1): Linear(in_features=1024, out_features=4, bias=True)\n",
              "          (dropout): Dropout(p=0.1, inplace=False)\n",
              "          (linear2): Linear(in_features=4, out_features=1024, bias=True)\n",
              "          (norm1): LayerNorm((1024,), eps=1e-05, elementwise_affine=True)\n",
              "          (norm2): LayerNorm((1024,), eps=1e-05, elementwise_affine=True)\n",
              "          (norm3): LayerNorm((1024,), eps=1e-05, elementwise_affine=True)\n",
              "          (dropout1): Dropout(p=0.1, inplace=False)\n",
              "          (dropout2): Dropout(p=0.1, inplace=False)\n",
              "          (dropout3): Dropout(p=0.1, inplace=False)\n",
              "        )\n",
              "        (1): TransformerDecoderLayer(\n",
              "          (self_attn): MultiheadAttention(\n",
              "            (out_proj): _LinearWithBias(in_features=1024, out_features=1024, bias=True)\n",
              "          )\n",
              "          (multihead_attn): MultiheadAttention(\n",
              "            (out_proj): _LinearWithBias(in_features=1024, out_features=1024, bias=True)\n",
              "          )\n",
              "          (linear1): Linear(in_features=1024, out_features=4, bias=True)\n",
              "          (dropout): Dropout(p=0.1, inplace=False)\n",
              "          (linear2): Linear(in_features=4, out_features=1024, bias=True)\n",
              "          (norm1): LayerNorm((1024,), eps=1e-05, elementwise_affine=True)\n",
              "          (norm2): LayerNorm((1024,), eps=1e-05, elementwise_affine=True)\n",
              "          (norm3): LayerNorm((1024,), eps=1e-05, elementwise_affine=True)\n",
              "          (dropout1): Dropout(p=0.1, inplace=False)\n",
              "          (dropout2): Dropout(p=0.1, inplace=False)\n",
              "          (dropout3): Dropout(p=0.1, inplace=False)\n",
              "        )\n",
              "        (2): TransformerDecoderLayer(\n",
              "          (self_attn): MultiheadAttention(\n",
              "            (out_proj): _LinearWithBias(in_features=1024, out_features=1024, bias=True)\n",
              "          )\n",
              "          (multihead_attn): MultiheadAttention(\n",
              "            (out_proj): _LinearWithBias(in_features=1024, out_features=1024, bias=True)\n",
              "          )\n",
              "          (linear1): Linear(in_features=1024, out_features=4, bias=True)\n",
              "          (dropout): Dropout(p=0.1, inplace=False)\n",
              "          (linear2): Linear(in_features=4, out_features=1024, bias=True)\n",
              "          (norm1): LayerNorm((1024,), eps=1e-05, elementwise_affine=True)\n",
              "          (norm2): LayerNorm((1024,), eps=1e-05, elementwise_affine=True)\n",
              "          (norm3): LayerNorm((1024,), eps=1e-05, elementwise_affine=True)\n",
              "          (dropout1): Dropout(p=0.1, inplace=False)\n",
              "          (dropout2): Dropout(p=0.1, inplace=False)\n",
              "          (dropout3): Dropout(p=0.1, inplace=False)\n",
              "        )\n",
              "        (3): TransformerDecoderLayer(\n",
              "          (self_attn): MultiheadAttention(\n",
              "            (out_proj): _LinearWithBias(in_features=1024, out_features=1024, bias=True)\n",
              "          )\n",
              "          (multihead_attn): MultiheadAttention(\n",
              "            (out_proj): _LinearWithBias(in_features=1024, out_features=1024, bias=True)\n",
              "          )\n",
              "          (linear1): Linear(in_features=1024, out_features=4, bias=True)\n",
              "          (dropout): Dropout(p=0.1, inplace=False)\n",
              "          (linear2): Linear(in_features=4, out_features=1024, bias=True)\n",
              "          (norm1): LayerNorm((1024,), eps=1e-05, elementwise_affine=True)\n",
              "          (norm2): LayerNorm((1024,), eps=1e-05, elementwise_affine=True)\n",
              "          (norm3): LayerNorm((1024,), eps=1e-05, elementwise_affine=True)\n",
              "          (dropout1): Dropout(p=0.1, inplace=False)\n",
              "          (dropout2): Dropout(p=0.1, inplace=False)\n",
              "          (dropout3): Dropout(p=0.1, inplace=False)\n",
              "        )\n",
              "      )\n",
              "      (norm): LayerNorm((1024,), eps=1e-05, elementwise_affine=True)\n",
              "    )\n",
              "  )\n",
              "  (fc_out): Linear(in_features=1024, out_features=1342, bias=True)\n",
              ")"
            ]
          },
          "metadata": {
            "tags": []
          },
          "execution_count": 18
        }
      ]
    },
    {
      "cell_type": "code",
      "metadata": {
        "id": "0asTDstQ-sMG"
      },
      "source": [
        "opt = torch.optim.Adam(c_3po.parameters(), lr)\r\n",
        "pad_idx = query.vocab.stoi[\"<pad>\"]\r\n",
        "loss_fn = nn.CrossEntropyLoss(ignore_index=pad_idx)"
      ],
      "execution_count": 19,
      "outputs": []
    },
    {
      "cell_type": "code",
      "metadata": {
        "id": "yHroaQcrAdez"
      },
      "source": [
        "def reply(sentence, net=c_3po, query=query, ans=ans, device=device, max_len=50):\r\n",
        "    tokens = [tok.text.lower() for tok in spacy_eng.tokenizer(sentence)]\r\n",
        "    tokens.insert(0, \"<sos>\")\r\n",
        "    tokens.append(\"<eos>\")\r\n",
        "\r\n",
        "    text2idx = []\r\n",
        "    for t in tokens:\r\n",
        "        text2idx.append(query.vocab.stoi[t])\r\n",
        "    \r\n",
        "    text_tensor = torch.LongTensor(text2idx)\r\n",
        "    text_tensor = text_tensor.unsqueeze(1).to(device)\r\n",
        "\r\n",
        "    output = [ans.vocab.stoi[\"<sos>\"]]\r\n",
        "    for _ in range(max_len):\r\n",
        "        trg_tensor = torch.LongTensor(output).unsqueeze(1).to(device)\r\n",
        "\r\n",
        "        with torch.no_grad():\r\n",
        "            p = net(text_tensor, trg_tensor)\r\n",
        "\r\n",
        "        pred = p.argmax(2)[-1, :].item()\r\n",
        "        output.append(pred)\r\n",
        "        if pred == ans.vocab.stoi[\"<eos>\"]:\r\n",
        "            break\r\n",
        "\r\n",
        "    output_text = [ans.vocab.itos[idx] for idx in output]\r\n",
        "    answer = \"\"\r\n",
        "    for word in output_text:\r\n",
        "        answer += word + \" \"\r\n",
        "\r\n",
        "    return answer"
      ],
      "execution_count": 20,
      "outputs": []
    },
    {
      "cell_type": "code",
      "metadata": {
        "id": "WW-KBqemAdOA"
      },
      "source": [
        "def save_checkpoint(net, opt, filename):\r\n",
        "    check_point = {\"net_dict\": net.state_dict(), \"opt_dict\": opt.state_dict()}\r\n",
        "    torch.save(check_point, filename)\r\n",
        "    print(\"Checkpoint Saved!\")\r\n",
        "\r\n",
        "def load_checkpoint(net, opt, filename):\r\n",
        "    check_point = torch.load(filename)\r\n",
        "    net.load_state_dict(check_point[\"net_dict\"])\r\n",
        "    opt.load_state_dict(check_point[\"opt_dict\"])\r\n",
        "    print(\"Checkpoint Loaded!\")"
      ],
      "execution_count": 21,
      "outputs": []
    },
    {
      "cell_type": "code",
      "metadata": {
        "id": "xsU9_S4-Clor"
      },
      "source": [
        "inp = \"hi, how are you?\""
      ],
      "execution_count": 22,
      "outputs": []
    },
    {
      "cell_type": "code",
      "metadata": {
        "id": "P8_vf6WY__SB",
        "colab": {
          "base_uri": "https://localhost:8080/",
          "height": 1000
        },
        "outputId": "6fe4c51a-1a87-43e0-958b-3d701b0a8eae"
      },
      "source": [
        "for epoch in range(epochs):\r\n",
        "    batch_losses = []\r\n",
        "    for batch in tqdm.tqdm(batches, total=len(batches)):\r\n",
        "        X = batch.q.to(device)\r\n",
        "        y = batch.a.to(device)\r\n",
        "\r\n",
        "        output = c_3po(X, y[:-1, :])\r\n",
        "        output = output.reshape(-1, output.shape[2])\r\n",
        "        y = y[1:].reshape(-1)\r\n",
        "\r\n",
        "        opt.zero_grad()\r\n",
        "        loss = loss_fn(output, y)\r\n",
        "        batch_losses.append(loss.item())\r\n",
        "        loss.backward()\r\n",
        "        torch.nn.utils.clip_grad_norm_(c_3po.parameters(), max_norm=1)\r\n",
        "        opt.step()\r\n",
        "    \r\n",
        "    print(f\" Epoch: {epoch} | Loss: {sum(batch_losses)/len(batch_losses):.4f}\")\r\n",
        "    print(reply(inp))\r\n",
        "    print(\"\")\r\n",
        "\r\n",
        "    # if epoch % 10 == 0:\r\n",
        "    #     save_checkpoint(c_3po, opt, f\"checkpoint-{epoch}.pth.tar\")\r\n",
        "    #     print(\"\")"
      ],
      "execution_count": 23,
      "outputs": [
        {
          "output_type": "stream",
          "text": [
            "100%|██████████| 134/134 [00:11<00:00, 11.21it/s]\n"
          ],
          "name": "stderr"
        },
        {
          "output_type": "stream",
          "text": [
            " Epoch: 0 | Loss: 5.1821\n"
          ],
          "name": "stdout"
        },
        {
          "output_type": "stream",
          "text": [
            "  1%|          | 1/134 [00:00<00:13,  9.62it/s]"
          ],
          "name": "stderr"
        },
        {
          "output_type": "stream",
          "text": [
            "<sos> i 'm !   !   !   !   !   !   !   !   !   !   !   !   !   !   !   !   !   !   !   !   !   !   !   !   \n",
            "\n"
          ],
          "name": "stdout"
        },
        {
          "output_type": "stream",
          "text": [
            "100%|██████████| 134/134 [00:11<00:00, 11.19it/s]\n"
          ],
          "name": "stderr"
        },
        {
          "output_type": "stream",
          "text": [
            " Epoch: 1 | Loss: 4.4836\n"
          ],
          "name": "stdout"
        },
        {
          "output_type": "stream",
          "text": [
            "  1%|▏         | 2/134 [00:00<00:10, 13.04it/s]"
          ],
          "name": "stderr"
        },
        {
          "output_type": "stream",
          "text": [
            "<sos> i 'm !   !   i 'm i 'm i 'm to i 'm to 'm to to 'm to to to to to to to to to i 'm to to to to to to to to to to to to to to to to to to to \n",
            "\n"
          ],
          "name": "stdout"
        },
        {
          "output_type": "stream",
          "text": [
            "100%|██████████| 134/134 [00:12<00:00, 11.16it/s]\n",
            "  0%|          | 0/134 [00:00<?, ?it/s]"
          ],
          "name": "stderr"
        },
        {
          "output_type": "stream",
          "text": [
            " Epoch: 2 | Loss: 4.1401\n",
            "<sos> i 'm fine !   !   !   😄 <eos> \n",
            "\n"
          ],
          "name": "stdout"
        },
        {
          "output_type": "stream",
          "text": [
            "100%|██████████| 134/134 [00:12<00:00, 11.09it/s]\n",
            "  0%|          | 0/134 [00:00<?, ?it/s]"
          ],
          "name": "stderr"
        },
        {
          "output_type": "stream",
          "text": [
            " Epoch: 3 | Loss: 3.8825\n",
            "<sos> i 'm fine !   !   !   !   😁 <eos> \n",
            "\n"
          ],
          "name": "stdout"
        },
        {
          "output_type": "stream",
          "text": [
            "100%|██████████| 134/134 [00:12<00:00, 11.09it/s]\n",
            "  0%|          | 0/134 [00:00<?, ?it/s]"
          ],
          "name": "stderr"
        },
        {
          "output_type": "stream",
          "text": [
            " Epoch: 4 | Loss: 3.6679\n",
            "<sos> i 'm fine too !   !   i 'm fine and you ? <eos> \n",
            "\n"
          ],
          "name": "stdout"
        },
        {
          "output_type": "stream",
          "text": [
            "100%|██████████| 134/134 [00:12<00:00, 10.97it/s]\n",
            "  0%|          | 0/134 [00:00<?, ?it/s]"
          ],
          "name": "stderr"
        },
        {
          "output_type": "stream",
          "text": [
            " Epoch: 5 | Loss: 3.4780\n",
            "<sos> i 'm fine !   i 'm fine and you ? <eos> \n",
            "\n"
          ],
          "name": "stdout"
        },
        {
          "output_type": "stream",
          "text": [
            "100%|██████████| 134/134 [00:12<00:00, 10.85it/s]\n",
            "  0%|          | 0/134 [00:00<?, ?it/s]"
          ],
          "name": "stderr"
        },
        {
          "output_type": "stream",
          "text": [
            " Epoch: 6 | Loss: 3.3052\n",
            "<sos> hi !   !   how are you ? <eos> \n",
            "\n"
          ],
          "name": "stdout"
        },
        {
          "output_type": "stream",
          "text": [
            "100%|██████████| 134/134 [00:12<00:00, 10.72it/s]\n",
            "  0%|          | 0/134 [00:00<?, ?it/s]"
          ],
          "name": "stderr"
        },
        {
          "output_type": "stream",
          "text": [
            " Epoch: 7 | Loss: 3.1390\n",
            "<sos> hi there !   !   how are you ?   😄 😄 <eos> \n",
            "\n"
          ],
          "name": "stdout"
        },
        {
          "output_type": "stream",
          "text": [
            "100%|██████████| 134/134 [00:12<00:00, 10.83it/s]\n",
            "  0%|          | 0/134 [00:00<?, ?it/s]"
          ],
          "name": "stderr"
        },
        {
          "output_type": "stream",
          "text": [
            " Epoch: 8 | Loss: 2.9705\n",
            "<sos> i 'm fine !   i 'm fine and you ? <eos> \n",
            "\n"
          ],
          "name": "stdout"
        },
        {
          "output_type": "stream",
          "text": [
            "100%|██████████| 134/134 [00:12<00:00, 10.64it/s]\n",
            "  0%|          | 0/134 [00:00<?, ?it/s]"
          ],
          "name": "stderr"
        },
        {
          "output_type": "stream",
          "text": [
            " Epoch: 9 | Loss: 2.8370\n",
            "<sos> hi !   i 'm fine and you ? <eos> \n",
            "\n"
          ],
          "name": "stdout"
        },
        {
          "output_type": "stream",
          "text": [
            "100%|██████████| 134/134 [00:12<00:00, 10.71it/s]\n",
            "  0%|          | 0/134 [00:00<?, ?it/s]"
          ],
          "name": "stderr"
        },
        {
          "output_type": "stream",
          "text": [
            " Epoch: 10 | Loss: 2.6976\n",
            "<sos> hi !   i 'm fine and you ?   i 'm fine and you ? <eos> \n",
            "\n"
          ],
          "name": "stdout"
        },
        {
          "output_type": "stream",
          "text": [
            "100%|██████████| 134/134 [00:12<00:00, 10.62it/s]\n",
            "  0%|          | 0/134 [00:00<?, ?it/s]"
          ],
          "name": "stderr"
        },
        {
          "output_type": "stream",
          "text": [
            " Epoch: 11 | Loss: 2.5790\n",
            "<sos> hi !   i 'm fine and you ?   😄 😄 <eos> \n",
            "\n"
          ],
          "name": "stdout"
        },
        {
          "output_type": "stream",
          "text": [
            "100%|██████████| 134/134 [00:12<00:00, 10.63it/s]\n",
            "  0%|          | 0/134 [00:00<?, ?it/s]"
          ],
          "name": "stderr"
        },
        {
          "output_type": "stream",
          "text": [
            " Epoch: 12 | Loss: 2.4478\n",
            "<sos> hi !   i 'm fine and you ?   ! <eos> \n",
            "\n"
          ],
          "name": "stdout"
        },
        {
          "output_type": "stream",
          "text": [
            "100%|██████████| 134/134 [00:12<00:00, 10.74it/s]\n",
            "  0%|          | 0/134 [00:00<?, ?it/s]"
          ],
          "name": "stderr"
        },
        {
          "output_type": "stream",
          "text": [
            " Epoch: 13 | Loss: 2.3335\n",
            "<sos> hi !   !   how are you ?   😄 😄 <eos> \n",
            "\n"
          ],
          "name": "stdout"
        },
        {
          "output_type": "stream",
          "text": [
            "100%|██████████| 134/134 [00:12<00:00, 10.56it/s]\n",
            "  0%|          | 0/134 [00:00<?, ?it/s]"
          ],
          "name": "stderr"
        },
        {
          "output_type": "stream",
          "text": [
            " Epoch: 14 | Loss: 2.2082\n",
            "<sos> hi !   how are you ? <eos> \n",
            "\n"
          ],
          "name": "stdout"
        },
        {
          "output_type": "stream",
          "text": [
            "100%|██████████| 134/134 [00:12<00:00, 10.55it/s]\n",
            "  0%|          | 0/134 [00:00<?, ?it/s]"
          ],
          "name": "stderr"
        },
        {
          "output_type": "stream",
          "text": [
            " Epoch: 15 | Loss: 2.1060\n",
            "<sos> hi there !   i 'm fine and you ? <eos> \n",
            "\n"
          ],
          "name": "stdout"
        },
        {
          "output_type": "stream",
          "text": [
            "100%|██████████| 134/134 [00:12<00:00, 10.42it/s]\n",
            "  0%|          | 0/134 [00:00<?, ?it/s]"
          ],
          "name": "stderr"
        },
        {
          "output_type": "stream",
          "text": [
            " Epoch: 16 | Loss: 1.9958\n",
            "<sos> i 'm fine !   happy to have someone to talk ! <eos> \n",
            "\n"
          ],
          "name": "stdout"
        },
        {
          "output_type": "stream",
          "text": [
            "100%|██████████| 134/134 [00:12<00:00, 10.44it/s]\n",
            "  0%|          | 0/134 [00:00<?, ?it/s]"
          ],
          "name": "stderr"
        },
        {
          "output_type": "stream",
          "text": [
            " Epoch: 17 | Loss: 1.8970\n",
            "<sos> i 'm fine !   happy to have someone to talk 😄 <eos> \n",
            "\n"
          ],
          "name": "stdout"
        },
        {
          "output_type": "stream",
          "text": [
            "100%|██████████| 134/134 [00:12<00:00, 10.52it/s]\n",
            "  0%|          | 0/134 [00:00<?, ?it/s]"
          ],
          "name": "stderr"
        },
        {
          "output_type": "stream",
          "text": [
            " Epoch: 18 | Loss: 1.7931\n",
            "<sos> i 'm fine !   happy to have someone to talk <eos> \n",
            "\n"
          ],
          "name": "stdout"
        },
        {
          "output_type": "stream",
          "text": [
            "100%|██████████| 134/134 [00:12<00:00, 10.39it/s]\n",
            "  0%|          | 0/134 [00:00<?, ?it/s]"
          ],
          "name": "stderr"
        },
        {
          "output_type": "stream",
          "text": [
            " Epoch: 19 | Loss: 1.7038\n",
            "<sos> hi !   i 'm fine and you ?   i 'm a <unk> 😄 <eos> \n",
            "\n"
          ],
          "name": "stdout"
        },
        {
          "output_type": "stream",
          "text": [
            "100%|██████████| 134/134 [00:12<00:00, 10.32it/s]\n",
            "  0%|          | 0/134 [00:00<?, ?it/s]"
          ],
          "name": "stderr"
        },
        {
          "output_type": "stream",
          "text": [
            " Epoch: 20 | Loss: 1.6134\n",
            "<sos> hi !   i 'm fine and you ? <eos> \n",
            "\n"
          ],
          "name": "stdout"
        },
        {
          "output_type": "stream",
          "text": [
            "100%|██████████| 134/134 [00:12<00:00, 10.45it/s]\n"
          ],
          "name": "stderr"
        },
        {
          "output_type": "stream",
          "text": [
            " Epoch: 21 | Loss: 1.5124\n"
          ],
          "name": "stdout"
        },
        {
          "output_type": "stream",
          "text": [
            "  1%|▏         | 2/134 [00:00<00:12, 10.60it/s]"
          ],
          "name": "stderr"
        },
        {
          "output_type": "stream",
          "text": [
            "<sos> i 'm fine !   happy to have someone to talk with !   !   😄 <eos> \n",
            "\n"
          ],
          "name": "stdout"
        },
        {
          "output_type": "stream",
          "text": [
            "100%|██████████| 134/134 [00:13<00:00, 10.26it/s]\n",
            "  0%|          | 0/134 [00:00<?, ?it/s]"
          ],
          "name": "stderr"
        },
        {
          "output_type": "stream",
          "text": [
            " Epoch: 22 | Loss: 1.4293\n",
            "<sos> i 'm fine !   i 'm fine and you ?   😄 <eos> \n",
            "\n"
          ],
          "name": "stdout"
        },
        {
          "output_type": "stream",
          "text": [
            "100%|██████████| 134/134 [00:12<00:00, 10.34it/s]\n",
            "  0%|          | 0/134 [00:00<?, ?it/s]"
          ],
          "name": "stderr"
        },
        {
          "output_type": "stream",
          "text": [
            " Epoch: 23 | Loss: 1.3538\n",
            "<sos> hi !   i 'm fine and you ?   !   😄 <eos> \n",
            "\n"
          ],
          "name": "stdout"
        },
        {
          "output_type": "stream",
          "text": [
            "100%|██████████| 134/134 [00:13<00:00, 10.22it/s]\n",
            "  0%|          | 0/134 [00:00<?, ?it/s]"
          ],
          "name": "stderr"
        },
        {
          "output_type": "stream",
          "text": [
            " Epoch: 24 | Loss: 1.2716\n",
            "<sos> i 'm fine !   happy to talk you ? <eos> \n",
            "\n"
          ],
          "name": "stdout"
        },
        {
          "output_type": "stream",
          "text": [
            "100%|██████████| 134/134 [00:12<00:00, 10.35it/s]\n",
            "  0%|          | 0/134 [00:00<?, ?it/s]"
          ],
          "name": "stderr"
        },
        {
          "output_type": "stream",
          "text": [
            " Epoch: 25 | Loss: 1.1910\n",
            "<sos> i 'm fine !   happy to have someone to talk with ! <eos> \n",
            "\n"
          ],
          "name": "stdout"
        },
        {
          "output_type": "stream",
          "text": [
            "100%|██████████| 134/134 [00:12<00:00, 10.41it/s]\n",
            "  0%|          | 0/134 [00:00<?, ?it/s]"
          ],
          "name": "stderr"
        },
        {
          "output_type": "stream",
          "text": [
            " Epoch: 26 | Loss: 1.1244\n",
            "<sos> i 'm fine !   happy to have someone to talk with 😄 <eos> \n",
            "\n"
          ],
          "name": "stdout"
        },
        {
          "output_type": "stream",
          "text": [
            "100%|██████████| 134/134 [00:12<00:00, 10.53it/s]\n",
            "  0%|          | 0/134 [00:00<?, ?it/s]"
          ],
          "name": "stderr"
        },
        {
          "output_type": "stream",
          "text": [
            " Epoch: 27 | Loss: 1.0391\n",
            "<sos> hi there !   !   i 'm fine and you ? <eos> \n",
            "\n"
          ],
          "name": "stdout"
        },
        {
          "output_type": "stream",
          "text": [
            "100%|██████████| 134/134 [00:13<00:00, 10.29it/s]\n",
            "  0%|          | 0/134 [00:00<?, ?it/s]"
          ],
          "name": "stderr"
        },
        {
          "output_type": "stream",
          "text": [
            " Epoch: 28 | Loss: 0.9803\n",
            "<sos> i 'm fine !   and you ? <eos> \n",
            "\n"
          ],
          "name": "stdout"
        },
        {
          "output_type": "stream",
          "text": [
            "100%|██████████| 134/134 [00:13<00:00, 10.26it/s]\n",
            "  0%|          | 0/134 [00:00<?, ?it/s]"
          ],
          "name": "stderr"
        },
        {
          "output_type": "stream",
          "text": [
            " Epoch: 29 | Loss: 0.9194\n",
            "<sos> hi !   i 'm fine !   😄 <eos> \n",
            "\n"
          ],
          "name": "stdout"
        },
        {
          "output_type": "stream",
          "text": [
            "100%|██████████| 134/134 [00:12<00:00, 10.40it/s]\n",
            "  0%|          | 0/134 [00:00<?, ?it/s]"
          ],
          "name": "stderr"
        },
        {
          "output_type": "stream",
          "text": [
            " Epoch: 30 | Loss: 0.8583\n",
            "<sos> i 'm fine !   happy to have someone to talk with ! <eos> \n",
            "\n"
          ],
          "name": "stdout"
        },
        {
          "output_type": "stream",
          "text": [
            "100%|██████████| 134/134 [00:13<00:00, 10.25it/s]\n",
            "  0%|          | 0/134 [00:00<?, ?it/s]"
          ],
          "name": "stderr"
        },
        {
          "output_type": "stream",
          "text": [
            " Epoch: 31 | Loss: 0.7988\n",
            "<sos> i 'm fine !   hi there ! <eos> \n",
            "\n"
          ],
          "name": "stdout"
        },
        {
          "output_type": "stream",
          "text": [
            "100%|██████████| 134/134 [00:13<00:00, 10.28it/s]\n",
            "  0%|          | 0/134 [00:00<?, ?it/s]"
          ],
          "name": "stderr"
        },
        {
          "output_type": "stream",
          "text": [
            " Epoch: 32 | Loss: 0.7409\n",
            "<sos> i 'm fine !   !   happy to have someone to talk with 😄 <eos> \n",
            "\n"
          ],
          "name": "stdout"
        },
        {
          "output_type": "stream",
          "text": [
            "100%|██████████| 134/134 [00:13<00:00, 10.29it/s]\n",
            "  0%|          | 0/134 [00:00<?, ?it/s]"
          ],
          "name": "stderr"
        },
        {
          "output_type": "stream",
          "text": [
            " Epoch: 33 | Loss: 0.6905\n",
            "<sos> i 'm fine !   happy to have someone to talk with ! <eos> \n",
            "\n"
          ],
          "name": "stdout"
        },
        {
          "output_type": "stream",
          "text": [
            "100%|██████████| 134/134 [00:12<00:00, 10.36it/s]\n",
            "  0%|          | 0/134 [00:00<?, ?it/s]"
          ],
          "name": "stderr"
        },
        {
          "output_type": "stream",
          "text": [
            " Epoch: 34 | Loss: 0.6394\n",
            "<sos> hi there !   !   i 'm fine and you ? <eos> \n",
            "\n"
          ],
          "name": "stdout"
        },
        {
          "output_type": "stream",
          "text": [
            "100%|██████████| 134/134 [00:13<00:00, 10.29it/s]\n",
            "  0%|          | 0/134 [00:00<?, ?it/s]"
          ],
          "name": "stderr"
        },
        {
          "output_type": "stream",
          "text": [
            " Epoch: 35 | Loss: 0.5996\n",
            "<sos> i 'm fine !   \" the world are you ? <eos> \n",
            "\n"
          ],
          "name": "stdout"
        },
        {
          "output_type": "stream",
          "text": [
            "100%|██████████| 134/134 [00:12<00:00, 10.32it/s]\n",
            "  0%|          | 0/134 [00:00<?, ?it/s]"
          ],
          "name": "stderr"
        },
        {
          "output_type": "stream",
          "text": [
            " Epoch: 36 | Loss: 0.5589\n",
            "<sos> i 'm fine !   happy to have someone to talk with 😄 <eos> \n",
            "\n"
          ],
          "name": "stdout"
        },
        {
          "output_type": "stream",
          "text": [
            "100%|██████████| 134/134 [00:13<00:00, 10.29it/s]\n",
            "  0%|          | 0/134 [00:00<?, ?it/s]"
          ],
          "name": "stderr"
        },
        {
          "output_type": "stream",
          "text": [
            " Epoch: 37 | Loss: 0.5115\n",
            "<sos> i 'm fine !   happy to have someone to talk <eos> \n",
            "\n"
          ],
          "name": "stdout"
        },
        {
          "output_type": "stream",
          "text": [
            "100%|██████████| 134/134 [00:12<00:00, 10.41it/s]\n",
            "  0%|          | 0/134 [00:00<?, ?it/s]"
          ],
          "name": "stderr"
        },
        {
          "output_type": "stream",
          "text": [
            " Epoch: 38 | Loss: 0.4802\n",
            "<sos> hi there !   i 'm fine and you ? <eos> \n",
            "\n"
          ],
          "name": "stdout"
        },
        {
          "output_type": "stream",
          "text": [
            "100%|██████████| 134/134 [00:12<00:00, 10.35it/s]\n",
            "  0%|          | 0/134 [00:00<?, ?it/s]"
          ],
          "name": "stderr"
        },
        {
          "output_type": "stream",
          "text": [
            " Epoch: 39 | Loss: 0.4421\n",
            "<sos> i 'm fine too !   ! <eos> \n",
            "\n"
          ],
          "name": "stdout"
        },
        {
          "output_type": "stream",
          "text": [
            "100%|██████████| 134/134 [00:12<00:00, 10.40it/s]\n",
            "  0%|          | 0/134 [00:00<?, ?it/s]"
          ],
          "name": "stderr"
        },
        {
          "output_type": "stream",
          "text": [
            " Epoch: 40 | Loss: 0.4106\n",
            "<sos> i 'm fine !   happy to have someone to talk <eos> \n",
            "\n"
          ],
          "name": "stdout"
        },
        {
          "output_type": "stream",
          "text": [
            "100%|██████████| 134/134 [00:12<00:00, 10.37it/s]\n",
            "  0%|          | 0/134 [00:00<?, ?it/s]"
          ],
          "name": "stderr"
        },
        {
          "output_type": "stream",
          "text": [
            " Epoch: 41 | Loss: 0.3866\n",
            "<sos> hi there !   i 'm fine and you ? <eos> \n",
            "\n"
          ],
          "name": "stdout"
        },
        {
          "output_type": "stream",
          "text": [
            "100%|██████████| 134/134 [00:12<00:00, 10.45it/s]\n",
            "  0%|          | 0/134 [00:00<?, ?it/s]"
          ],
          "name": "stderr"
        },
        {
          "output_type": "stream",
          "text": [
            " Epoch: 42 | Loss: 0.3613\n",
            "<sos> i 'm fine too !   happy to have someone to talk with 😁 😁 <eos> \n",
            "\n"
          ],
          "name": "stdout"
        },
        {
          "output_type": "stream",
          "text": [
            "100%|██████████| 134/134 [00:12<00:00, 10.35it/s]\n",
            "  0%|          | 0/134 [00:00<?, ?it/s]"
          ],
          "name": "stderr"
        },
        {
          "output_type": "stream",
          "text": [
            " Epoch: 43 | Loss: 0.3258\n",
            "<sos> hi !   !   i 'm fine and you ? <eos> \n",
            "\n"
          ],
          "name": "stdout"
        },
        {
          "output_type": "stream",
          "text": [
            "100%|██████████| 134/134 [00:12<00:00, 10.33it/s]\n",
            "  0%|          | 0/134 [00:00<?, ?it/s]"
          ],
          "name": "stderr"
        },
        {
          "output_type": "stream",
          "text": [
            " Epoch: 44 | Loss: 0.3114\n",
            "<sos> i 'm hi !   !   i can do n't have a company !   😄 <eos> \n",
            "\n"
          ],
          "name": "stdout"
        },
        {
          "output_type": "stream",
          "text": [
            "100%|██████████| 134/134 [00:12<00:00, 10.36it/s]\n",
            "  0%|          | 0/134 [00:00<?, ?it/s]"
          ],
          "name": "stderr"
        },
        {
          "output_type": "stream",
          "text": [
            " Epoch: 45 | Loss: 0.2892\n",
            "<sos> i 'm fine !   ! . hi i 'm fine too 😄 <eos> \n",
            "\n"
          ],
          "name": "stdout"
        },
        {
          "output_type": "stream",
          "text": [
            "100%|██████████| 134/134 [00:12<00:00, 10.39it/s]\n",
            "  0%|          | 0/134 [00:00<?, ?it/s]"
          ],
          "name": "stderr"
        },
        {
          "output_type": "stream",
          "text": [
            " Epoch: 46 | Loss: 0.2697\n",
            "<sos> i 'm fine too !   !   happy to have someone to talk with 😄 <eos> \n",
            "\n"
          ],
          "name": "stdout"
        },
        {
          "output_type": "stream",
          "text": [
            "100%|██████████| 134/134 [00:12<00:00, 10.36it/s]\n",
            "  0%|          | 0/134 [00:00<?, ?it/s]"
          ],
          "name": "stderr"
        },
        {
          "output_type": "stream",
          "text": [
            " Epoch: 47 | Loss: 0.2475\n",
            "<sos> hi !   !   i 'm fine and you ?   ! <eos> \n",
            "\n"
          ],
          "name": "stdout"
        },
        {
          "output_type": "stream",
          "text": [
            "100%|██████████| 134/134 [00:13<00:00, 10.29it/s]\n"
          ],
          "name": "stderr"
        },
        {
          "output_type": "stream",
          "text": [
            " Epoch: 48 | Loss: 0.2340\n"
          ],
          "name": "stdout"
        },
        {
          "output_type": "stream",
          "text": [
            "  1%|▏         | 2/134 [00:00<00:11, 11.47it/s]"
          ],
          "name": "stderr"
        },
        {
          "output_type": "stream",
          "text": [
            "<sos> i 'm fine too !   !   happy to have someone to talk with 😁 . but you can call me 😄 <eos> \n",
            "\n"
          ],
          "name": "stdout"
        },
        {
          "output_type": "stream",
          "text": [
            "100%|██████████| 134/134 [00:12<00:00, 10.32it/s]\n",
            "  0%|          | 0/134 [00:00<?, ?it/s]"
          ],
          "name": "stderr"
        },
        {
          "output_type": "stream",
          "text": [
            " Epoch: 49 | Loss: 0.2187\n",
            "<sos> i 'm fine !   !   happy to have someone to talk with 😁 <eos> \n",
            "\n"
          ],
          "name": "stdout"
        },
        {
          "output_type": "stream",
          "text": [
            "100%|██████████| 134/134 [00:12<00:00, 10.41it/s]\n",
            "  0%|          | 0/134 [00:00<?, ?it/s]"
          ],
          "name": "stderr"
        },
        {
          "output_type": "stream",
          "text": [
            " Epoch: 50 | Loss: 0.2062\n",
            "<sos> i 'm fine !   happy to have someone to talk with ! <eos> \n",
            "\n"
          ],
          "name": "stdout"
        },
        {
          "output_type": "stream",
          "text": [
            "100%|██████████| 134/134 [00:12<00:00, 10.39it/s]\n",
            "  0%|          | 0/134 [00:00<?, ?it/s]"
          ],
          "name": "stderr"
        },
        {
          "output_type": "stream",
          "text": [
            " Epoch: 51 | Loss: 0.1914\n",
            "<sos> i 'm fine !   happy to have someone to talk 😄 <eos> \n",
            "\n"
          ],
          "name": "stdout"
        },
        {
          "output_type": "stream",
          "text": [
            "100%|██████████| 134/134 [00:12<00:00, 10.32it/s]\n",
            "  0%|          | 0/134 [00:00<?, ?it/s]"
          ],
          "name": "stderr"
        },
        {
          "output_type": "stream",
          "text": [
            " Epoch: 52 | Loss: 0.1817\n",
            "<sos> i 'm fine !   so you can call me 3po <eos> \n",
            "\n"
          ],
          "name": "stdout"
        },
        {
          "output_type": "stream",
          "text": [
            "100%|██████████| 134/134 [00:12<00:00, 10.44it/s]\n",
            "  0%|          | 0/134 [00:00<?, ?it/s]"
          ],
          "name": "stderr"
        },
        {
          "output_type": "stream",
          "text": [
            " Epoch: 53 | Loss: 0.1742\n",
            "<sos> i 'm fine !   happy to have someone to talk with ! <eos> \n",
            "\n"
          ],
          "name": "stdout"
        },
        {
          "output_type": "stream",
          "text": [
            "100%|██████████| 134/134 [00:13<00:00, 10.27it/s]\n",
            "  0%|          | 0/134 [00:00<?, ?it/s]"
          ],
          "name": "stderr"
        },
        {
          "output_type": "stream",
          "text": [
            " Epoch: 54 | Loss: 0.1616\n",
            "<sos> i 'm fine !   !   happy to have someone to talk with 😄 <eos> \n",
            "\n"
          ],
          "name": "stdout"
        },
        {
          "output_type": "stream",
          "text": [
            "100%|██████████| 134/134 [00:12<00:00, 10.31it/s]\n"
          ],
          "name": "stderr"
        },
        {
          "output_type": "stream",
          "text": [
            " Epoch: 55 | Loss: 0.1523\n"
          ],
          "name": "stdout"
        },
        {
          "output_type": "stream",
          "text": [
            "  1%|▏         | 2/134 [00:00<00:10, 12.49it/s]"
          ],
          "name": "stderr"
        },
        {
          "output_type": "stream",
          "text": [
            "<sos> i 'm fine !   !   happy to have a you are a bit to someone to talk 😄 <eos> \n",
            "\n"
          ],
          "name": "stdout"
        },
        {
          "output_type": "stream",
          "text": [
            "100%|██████████| 134/134 [00:12<00:00, 10.31it/s]\n",
            "  0%|          | 0/134 [00:00<?, ?it/s]"
          ],
          "name": "stderr"
        },
        {
          "output_type": "stream",
          "text": [
            " Epoch: 56 | Loss: 0.1458\n",
            "<sos> i 'm fine !   happy to have someone to talk <eos> \n",
            "\n"
          ],
          "name": "stdout"
        },
        {
          "output_type": "stream",
          "text": [
            "100%|██████████| 134/134 [00:12<00:00, 10.36it/s]\n",
            "  0%|          | 0/134 [00:00<?, ?it/s]"
          ],
          "name": "stderr"
        },
        {
          "output_type": "stream",
          "text": [
            " Epoch: 57 | Loss: 0.1387\n",
            "<sos> hi !   !   i 'm fine and you ? <eos> \n",
            "\n"
          ],
          "name": "stdout"
        },
        {
          "output_type": "stream",
          "text": [
            "100%|██████████| 134/134 [00:12<00:00, 10.41it/s]\n",
            "  0%|          | 0/134 [00:00<?, ?it/s]"
          ],
          "name": "stderr"
        },
        {
          "output_type": "stream",
          "text": [
            " Epoch: 58 | Loss: 0.1306\n",
            "<sos> hi there !   i 'm a human !   😄 <eos> \n",
            "\n"
          ],
          "name": "stdout"
        },
        {
          "output_type": "stream",
          "text": [
            "100%|██████████| 134/134 [00:13<00:00, 10.29it/s]\n",
            "  0%|          | 0/134 [00:00<?, ?it/s]"
          ],
          "name": "stderr"
        },
        {
          "output_type": "stream",
          "text": [
            " Epoch: 59 | Loss: 0.1223\n",
            "<sos> i 'm fine too !   !   happy to have someone to talk with 😄 <eos> \n",
            "\n"
          ],
          "name": "stdout"
        },
        {
          "output_type": "stream",
          "text": [
            "100%|██████████| 134/134 [00:12<00:00, 10.34it/s]\n",
            "  0%|          | 0/134 [00:00<?, ?it/s]"
          ],
          "name": "stderr"
        },
        {
          "output_type": "stream",
          "text": [
            " Epoch: 60 | Loss: 0.1188\n",
            "<sos> i 'm fine too !   happy to have someone to talk to hi with 😁 <eos> \n",
            "\n"
          ],
          "name": "stdout"
        },
        {
          "output_type": "stream",
          "text": [
            "100%|██████████| 134/134 [00:13<00:00, 10.29it/s]\n",
            "  0%|          | 0/134 [00:00<?, ?it/s]"
          ],
          "name": "stderr"
        },
        {
          "output_type": "stream",
          "text": [
            " Epoch: 61 | Loss: 0.1156\n",
            "<sos> i 'm fine !   happy to have someone to talk with ! <eos> \n",
            "\n"
          ],
          "name": "stdout"
        },
        {
          "output_type": "stream",
          "text": [
            "100%|██████████| 134/134 [00:12<00:00, 10.39it/s]\n",
            "  0%|          | 0/134 [00:00<?, ?it/s]"
          ],
          "name": "stderr"
        },
        {
          "output_type": "stream",
          "text": [
            " Epoch: 62 | Loss: 0.1081\n",
            "<sos> i 'm fine !   !   are you ? <eos> \n",
            "\n"
          ],
          "name": "stdout"
        },
        {
          "output_type": "stream",
          "text": [
            "100%|██████████| 134/134 [00:12<00:00, 10.36it/s]\n",
            "  0%|          | 0/134 [00:00<?, ?it/s]"
          ],
          "name": "stderr"
        },
        {
          "output_type": "stream",
          "text": [
            " Epoch: 63 | Loss: 0.1042\n",
            "<sos> i 'm fine !   !   but you can call me 😄 <eos> \n",
            "\n"
          ],
          "name": "stdout"
        },
        {
          "output_type": "stream",
          "text": [
            "100%|██████████| 134/134 [00:12<00:00, 10.35it/s]\n",
            "  0%|          | 0/134 [00:00<?, ?it/s]"
          ],
          "name": "stderr"
        },
        {
          "output_type": "stream",
          "text": [
            " Epoch: 64 | Loss: 0.1015\n",
            "<sos> i 'm fine !   !   😄 <eos> \n",
            "\n"
          ],
          "name": "stdout"
        },
        {
          "output_type": "stream",
          "text": [
            "100%|██████████| 134/134 [00:12<00:00, 10.36it/s]\n",
            "  0%|          | 0/134 [00:00<?, ?it/s]"
          ],
          "name": "stderr"
        },
        {
          "output_type": "stream",
          "text": [
            " Epoch: 65 | Loss: 0.0958\n",
            "<sos> i 'm fine !   how are you ? <eos> \n",
            "\n"
          ],
          "name": "stdout"
        },
        {
          "output_type": "stream",
          "text": [
            " 57%|█████▋    | 77/134 [00:07<00:05, 10.42it/s]\n"
          ],
          "name": "stderr"
        },
        {
          "output_type": "error",
          "ename": "KeyboardInterrupt",
          "evalue": "ignored",
          "traceback": [
            "\u001b[0;31m---------------------------------------------------------------------------\u001b[0m",
            "\u001b[0;31mKeyboardInterrupt\u001b[0m                         Traceback (most recent call last)",
            "\u001b[0;32m<ipython-input-23-2ff381c74f2f>\u001b[0m in \u001b[0;36m<module>\u001b[0;34m()\u001b[0m\n\u001b[1;32m     12\u001b[0m         \u001b[0mloss\u001b[0m \u001b[0;34m=\u001b[0m \u001b[0mloss_fn\u001b[0m\u001b[0;34m(\u001b[0m\u001b[0moutput\u001b[0m\u001b[0;34m,\u001b[0m \u001b[0my\u001b[0m\u001b[0;34m)\u001b[0m\u001b[0;34m\u001b[0m\u001b[0;34m\u001b[0m\u001b[0m\n\u001b[1;32m     13\u001b[0m         \u001b[0mbatch_losses\u001b[0m\u001b[0;34m.\u001b[0m\u001b[0mappend\u001b[0m\u001b[0;34m(\u001b[0m\u001b[0mloss\u001b[0m\u001b[0;34m.\u001b[0m\u001b[0mitem\u001b[0m\u001b[0;34m(\u001b[0m\u001b[0;34m)\u001b[0m\u001b[0;34m)\u001b[0m\u001b[0;34m\u001b[0m\u001b[0;34m\u001b[0m\u001b[0m\n\u001b[0;32m---> 14\u001b[0;31m         \u001b[0mloss\u001b[0m\u001b[0;34m.\u001b[0m\u001b[0mbackward\u001b[0m\u001b[0;34m(\u001b[0m\u001b[0;34m)\u001b[0m\u001b[0;34m\u001b[0m\u001b[0;34m\u001b[0m\u001b[0m\n\u001b[0m\u001b[1;32m     15\u001b[0m         \u001b[0mtorch\u001b[0m\u001b[0;34m.\u001b[0m\u001b[0mnn\u001b[0m\u001b[0;34m.\u001b[0m\u001b[0mutils\u001b[0m\u001b[0;34m.\u001b[0m\u001b[0mclip_grad_norm_\u001b[0m\u001b[0;34m(\u001b[0m\u001b[0mc_3po\u001b[0m\u001b[0;34m.\u001b[0m\u001b[0mparameters\u001b[0m\u001b[0;34m(\u001b[0m\u001b[0;34m)\u001b[0m\u001b[0;34m,\u001b[0m \u001b[0mmax_norm\u001b[0m\u001b[0;34m=\u001b[0m\u001b[0;36m1\u001b[0m\u001b[0;34m)\u001b[0m\u001b[0;34m\u001b[0m\u001b[0;34m\u001b[0m\u001b[0m\n\u001b[1;32m     16\u001b[0m         \u001b[0mopt\u001b[0m\u001b[0;34m.\u001b[0m\u001b[0mstep\u001b[0m\u001b[0;34m(\u001b[0m\u001b[0;34m)\u001b[0m\u001b[0;34m\u001b[0m\u001b[0;34m\u001b[0m\u001b[0m\n",
            "\u001b[0;32m/usr/local/lib/python3.6/dist-packages/torch/tensor.py\u001b[0m in \u001b[0;36mbackward\u001b[0;34m(self, gradient, retain_graph, create_graph)\u001b[0m\n\u001b[1;32m    219\u001b[0m                 \u001b[0mretain_graph\u001b[0m\u001b[0;34m=\u001b[0m\u001b[0mretain_graph\u001b[0m\u001b[0;34m,\u001b[0m\u001b[0;34m\u001b[0m\u001b[0;34m\u001b[0m\u001b[0m\n\u001b[1;32m    220\u001b[0m                 create_graph=create_graph)\n\u001b[0;32m--> 221\u001b[0;31m         \u001b[0mtorch\u001b[0m\u001b[0;34m.\u001b[0m\u001b[0mautograd\u001b[0m\u001b[0;34m.\u001b[0m\u001b[0mbackward\u001b[0m\u001b[0;34m(\u001b[0m\u001b[0mself\u001b[0m\u001b[0;34m,\u001b[0m \u001b[0mgradient\u001b[0m\u001b[0;34m,\u001b[0m \u001b[0mretain_graph\u001b[0m\u001b[0;34m,\u001b[0m \u001b[0mcreate_graph\u001b[0m\u001b[0;34m)\u001b[0m\u001b[0;34m\u001b[0m\u001b[0;34m\u001b[0m\u001b[0m\n\u001b[0m\u001b[1;32m    222\u001b[0m \u001b[0;34m\u001b[0m\u001b[0m\n\u001b[1;32m    223\u001b[0m     \u001b[0;32mdef\u001b[0m \u001b[0mregister_hook\u001b[0m\u001b[0;34m(\u001b[0m\u001b[0mself\u001b[0m\u001b[0;34m,\u001b[0m \u001b[0mhook\u001b[0m\u001b[0;34m)\u001b[0m\u001b[0;34m:\u001b[0m\u001b[0;34m\u001b[0m\u001b[0;34m\u001b[0m\u001b[0m\n",
            "\u001b[0;32m/usr/local/lib/python3.6/dist-packages/torch/autograd/__init__.py\u001b[0m in \u001b[0;36mbackward\u001b[0;34m(tensors, grad_tensors, retain_graph, create_graph, grad_variables)\u001b[0m\n\u001b[1;32m    130\u001b[0m     Variable._execution_engine.run_backward(\n\u001b[1;32m    131\u001b[0m         \u001b[0mtensors\u001b[0m\u001b[0;34m,\u001b[0m \u001b[0mgrad_tensors_\u001b[0m\u001b[0;34m,\u001b[0m \u001b[0mretain_graph\u001b[0m\u001b[0;34m,\u001b[0m \u001b[0mcreate_graph\u001b[0m\u001b[0;34m,\u001b[0m\u001b[0;34m\u001b[0m\u001b[0;34m\u001b[0m\u001b[0m\n\u001b[0;32m--> 132\u001b[0;31m         allow_unreachable=True)  # allow_unreachable flag\n\u001b[0m\u001b[1;32m    133\u001b[0m \u001b[0;34m\u001b[0m\u001b[0m\n\u001b[1;32m    134\u001b[0m \u001b[0;34m\u001b[0m\u001b[0m\n",
            "\u001b[0;31mKeyboardInterrupt\u001b[0m: "
          ]
        }
      ]
    },
    {
      "cell_type": "code",
      "metadata": {
        "id": "9eMIrhgphACn"
      },
      "source": [
        "def wake_up(net):\r\n",
        "    while True:\r\n",
        "        inp = input(\"You: \")\r\n",
        "        if inp.lower() == \"shut down\":\r\n",
        "            break\r\n",
        "\r\n",
        "        r = reply(inp, net=net)\r\n",
        "        r = str(r).split(\" \")[1:-2]\r\n",
        "        out = \" \".join(r)\r\n",
        "        print(f\"C-3PO: {out}\")"
      ],
      "execution_count": 27,
      "outputs": []
    },
    {
      "cell_type": "code",
      "metadata": {
        "id": "qlRBbmBWdJnp",
        "colab": {
          "base_uri": "https://localhost:8080/"
        },
        "outputId": "978c8ffe-ab43-47fe-a5e4-b10db7d05b74"
      },
      "source": [
        "wake_up(c_3po)"
      ],
      "execution_count": 32,
      "outputs": [
        {
          "output_type": "stream",
          "text": [
            "You: hi\n",
            "C-3PO: hi !   !   how are you ?   😄 😄\n",
            "You:  i am fine and you?\n",
            "C-3PO: i 'm fine too !   happy to have someone to talk with 😁 . i !   !   😄\n",
            "You: what is your name?\n",
            "C-3PO: my name is c-3po , but you can call me 3po\n",
            "You: ok, my name is harin\n",
            "C-3PO: nice to meet you !   ☺ ️\n",
            "You: where are you?\n",
            "C-3PO: i 'm from argentina , south of the world !   !\n",
            "You: ohh ok, are you a human?\n",
            "C-3PO: i 'm not sure , but not sure for humans !\n",
            "You: do you like dogs?\n",
            "C-3PO: i love sure !   !   hahaha <unk> to make you like are sure 😄\n",
            "You: so, you are a robot?\n",
            "C-3PO: i 'm c-3po , but you can call me 3po 😁\n",
            "You: what is your favorite programming language?\n",
            "C-3PO: <unk> !   !   😍 . y ?\n",
            "You: shut down\n"
          ],
          "name": "stdout"
        }
      ]
    },
    {
      "cell_type": "code",
      "metadata": {
        "id": "Ea2VTkkaoGv0"
      },
      "source": [],
      "execution_count": null,
      "outputs": []
    },
    {
      "cell_type": "code",
      "metadata": {
        "id": "_VJN9nHO5l0K"
      },
      "source": [],
      "execution_count": null,
      "outputs": []
    }
  ]
}