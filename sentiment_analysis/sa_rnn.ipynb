{
  "nbformat": 4,
  "nbformat_minor": 0,
  "metadata": {
    "colab": {
      "name": "sent_anal0.ipynb",
      "provenance": [],
      "collapsed_sections": []
    },
    "kernelspec": {
      "name": "python3",
      "display_name": "Python 3"
    },
    "accelerator": "GPU"
  },
  "cells": [
    {
      "cell_type": "code",
      "metadata": {
        "id": "EAoqDSkCvi8-"
      },
      "source": [
        "import torch\r\n",
        "import spacy\r\n",
        "import tqdm\r\n",
        "import torch.nn as nn\r\n",
        "from torchtext import data, datasets"
      ],
      "execution_count": 1,
      "outputs": []
    },
    {
      "cell_type": "code",
      "metadata": {
        "id": "ShI0cqIw2mSx"
      },
      "source": [
        "spacy_en = spacy.load(\"en\")"
      ],
      "execution_count": 2,
      "outputs": []
    },
    {
      "cell_type": "code",
      "metadata": {
        "id": "Zl5BILosvnU9"
      },
      "source": [
        "TEXT = data.Field(tokenize=\"spacy\", include_lengths=True)\r\n",
        "LABEL = data.LabelField(dtype=torch.float)"
      ],
      "execution_count": 3,
      "outputs": []
    },
    {
      "cell_type": "code",
      "metadata": {
        "colab": {
          "base_uri": "https://localhost:8080/"
        },
        "id": "O2Ny97gSvynJ",
        "outputId": "db762b37-3b45-4384-e649-d7daee691162"
      },
      "source": [
        "train_data, test_data = datasets.IMDB.splits(TEXT, LABEL)"
      ],
      "execution_count": 4,
      "outputs": [
        {
          "output_type": "stream",
          "text": [
            "aclImdb_v1.tar.gz:   0%|          | 147k/84.1M [00:00<01:05, 1.28MB/s]"
          ],
          "name": "stderr"
        },
        {
          "output_type": "stream",
          "text": [
            "downloading aclImdb_v1.tar.gz\n"
          ],
          "name": "stdout"
        },
        {
          "output_type": "stream",
          "text": [
            "aclImdb_v1.tar.gz: 100%|██████████| 84.1M/84.1M [00:01<00:00, 64.0MB/s]\n"
          ],
          "name": "stderr"
        }
      ]
    },
    {
      "cell_type": "code",
      "metadata": {
        "colab": {
          "base_uri": "https://localhost:8080/"
        },
        "id": "cYUMmye7wHyq",
        "outputId": "dd4f6f25-53c7-4764-f44b-8eee150eaa03"
      },
      "source": [
        "len(train_data), len(test_data)"
      ],
      "execution_count": 5,
      "outputs": [
        {
          "output_type": "execute_result",
          "data": {
            "text/plain": [
              "(25000, 25000)"
            ]
          },
          "metadata": {
            "tags": []
          },
          "execution_count": 5
        }
      ]
    },
    {
      "cell_type": "code",
      "metadata": {
        "colab": {
          "base_uri": "https://localhost:8080/"
        },
        "id": "CkdOlXE9vnPl",
        "outputId": "760c44a4-04de-4f83-bb39-21495b058cb3"
      },
      "source": [
        "for d in train_data:\r\n",
        "    print(vars(d)[\"text\"])\r\n",
        "    print(vars(d)[\"label\"])\r\n",
        "    break"
      ],
      "execution_count": 6,
      "outputs": [
        {
          "output_type": "stream",
          "text": [
            "['Not', 'sure', 'one', 'can', 'call', 'this', 'an', 'anti', '-', 'war', 'film', ',', 'it', 'shows', 'war', 'at', 'an', 'elite', 'level', '.', 'These', 'are', 'elite', 'troops', 'that', 'know', 'what', 'they', 'are', 'doing', 'and', 'take', 'great', 'pride', 'in', 'it', '.', 'Even', 'when', 'they', 'are', 'pacifist', ',', 'they', 'still', 'enjoy', 'the', 'skill', 'level', 'and', 'defeating', 'their', 'foes', ',', 'even', 'if', 'it', 'does', 'go', 'against', 'being', 'a', 'pacifist', '.', 'The', 'movies', 'is', 'slow', 'and', 'rather', 'uneventful', 'and', 'in', 'many', 'ways', 'is', 'rather', 'tame', 'as', 'war', 'movies', 'go', '-', 'more', 'so', 'by', 'todays', 'standards', ',', 'no', 'body', 'parts', 'flying', 'off', 'as', 'in', 'modern', 'movies', '.', 'It', 'is', 'brutal', 'in', 'other', 'ways', 'though', 'as', 'you', 'see', 'killing', 'at', 'a', 'personal', 'level', '.', 'This', 'is', 'more', 'of', 'a', 'thinking', 'man', \"'s\", 'movie', '.', 'Once', 'you', 'start', 'to', 'watch', 'you', 'do', \"n't\", 'want', 'to', 'miss', 'anything', '.', 'The', 'thoughts', 'of', 'the', 'men', 'in', 'the', 'movie', 'and', 'their', 'interactions', ',', 'is', 'what', 'the', 'movie', 'is', 'about-', 'not', 'the', 'combat', 'itself', 'or', 'a', 'big', 'exciting', 'storyline', '.', 'This', 'maybe', 'called', 'a', 'war', 'triller.<br', '/><br', '/>If', 'you', 'are', 'into', 'the', 'skill', 'of', 'war', ',', 'if', 'you', 'are', 'into', 'reading', 'or', 'seeing', 'programs', 'about', 'the', 'SAS', 'and', 'so', 'on', ',', 'YOU', 'WANT', 'TO', 'WATCH', 'THIS', 'MOVIE!!!!!<br', '/><br', '/>Comparable', 'movies', 'are', 'The', 'Hill', '(', '1965', ')', 'with', 'Sean', 'Connery', ',', '49th', 'Parallel', '(', '1941', ')', 'with', 'an', 'all', 'star', 'cast', ',', 'The', 'Naked', 'and', 'the', 'Dead', '(', '1958', ')', 'with', 'Cliff', 'Robertson', '.', 'All', 'are', 'unusual', 'in', 'their', 'way', 'and', 'show', 'war', 'at', 'a', 'personal', 'level', '.', 'Enjoy', '!']\n",
            "pos\n"
          ],
          "name": "stdout"
        }
      ]
    },
    {
      "cell_type": "code",
      "metadata": {
        "id": "31glyWiEwXrB"
      },
      "source": [
        "TEXT.build_vocab(train_data, max_size=25000)\r\n",
        "LABEL.build_vocab(train_data)"
      ],
      "execution_count": 7,
      "outputs": []
    },
    {
      "cell_type": "code",
      "metadata": {
        "id": "BCTxlNOj2WqN"
      },
      "source": [
        "class Net(nn.Module):\r\n",
        "    def __init__(self, vocab_size, embedding_size, hidden_size, output_size, num_layers, bidirectional, p, pad_idx):\r\n",
        "        super().__init__()\r\n",
        "        self.embedding = nn.Embedding(vocab_size, embedding_size, padding_idx=pad_idx)\r\n",
        "        self.lstm = nn.LSTM(embedding_size, hidden_size, num_layers=num_layers, bidirectional=bidirectional, dropout=p)\r\n",
        "        self.fc = nn.Linear(hidden_size * 2, output_size)\r\n",
        "        self.dropout = nn.Dropout(p)\r\n",
        "\r\n",
        "    def forward(self, texts, text_lengths):\r\n",
        "        embedded = self.dropout(self.embedding(texts))\r\n",
        "        packed_embedded = nn.utils.rnn.pack_padded_sequence(embedded, text_lengths)\r\n",
        "        \r\n",
        "        packed_x, (h, c) = self.lstm(packed_embedded)\r\n",
        "        x, x_len = nn.utils.rnn.pad_packed_sequence(packed_x)\r\n",
        "\r\n",
        "        hidden = self.dropout(torch.cat((h[-2, :, :], h[-1, :, :]), dim=1))\r\n",
        "        output = self.fc(hidden)\r\n",
        "\r\n",
        "        return output"
      ],
      "execution_count": 8,
      "outputs": []
    },
    {
      "cell_type": "code",
      "metadata": {
        "id": "QdVNVrC22Whb"
      },
      "source": [
        "device = torch.device('cuda' if torch.cuda.is_available() else 'cpu')\r\n",
        "epochs = 10\r\n",
        "batch_size = 64\r\n",
        "vocab_size = len(TEXT.vocab)\r\n",
        "embedding_size = 100\r\n",
        "hidden_size = 256\r\n",
        "output_size = 1\r\n",
        "num_layers = 2\r\n",
        "bidirectional = True\r\n",
        "p = 0.5\r\n",
        "pad_idx = TEXT.vocab.stoi[\"<pad>\"]"
      ],
      "execution_count": 9,
      "outputs": []
    },
    {
      "cell_type": "code",
      "metadata": {
        "id": "4hcw8Cp82Wc-",
        "colab": {
          "base_uri": "https://localhost:8080/"
        },
        "outputId": "4e3df33e-d20c-4f86-de0d-cc33e235a24c"
      },
      "source": [
        "device"
      ],
      "execution_count": 10,
      "outputs": [
        {
          "output_type": "execute_result",
          "data": {
            "text/plain": [
              "device(type='cuda')"
            ]
          },
          "metadata": {
            "tags": []
          },
          "execution_count": 10
        }
      ]
    },
    {
      "cell_type": "code",
      "metadata": {
        "id": "xBpFFwpYwXoZ"
      },
      "source": [
        "train_batches, test_batches = data.BucketIterator.splits((train_data, test_data), batch_size=batch_size,\r\n",
        "                                                         sort_within_batch=True, device=device)"
      ],
      "execution_count": 11,
      "outputs": []
    },
    {
      "cell_type": "code",
      "metadata": {
        "colab": {
          "base_uri": "https://localhost:8080/"
        },
        "id": "mJhOCgUwxnge",
        "outputId": "13ad5540-6617-4dca-c811-e0d51a8f0339"
      },
      "source": [
        "for batch in train_batches:\r\n",
        "    print(batch.text[0])\r\n",
        "    print(batch.text[0].shape)\r\n",
        "    print(batch.text[1])\r\n",
        "    print(batch.text[1].shape)\r\n",
        "    print(batch.label.shape)\r\n",
        "    break"
      ],
      "execution_count": 12,
      "outputs": [
        {
          "output_type": "stream",
          "text": [
            "tensor([[ 4631,  1388,    66,  ...,   171,    25,  3246],\n",
            "        [   16,    95,  3844,  ...,    31,   106,    33],\n",
            "        [   22,   248,    24,  ...,   145,    68,   323],\n",
            "        ...,\n",
            "        [   12,     2,    80,  ...,     1,     1,     1],\n",
            "        [ 1036, 21347,    16,  ...,     1,     1,     1],\n",
            "        [    4,     4,     4,  ...,     1,     1,     1]], device='cuda:0')\n",
            "torch.Size([58, 64])\n",
            "tensor([58, 58, 58, 58, 58, 58, 58, 58, 58, 58, 57, 57, 57, 57, 57, 57, 57, 57,\n",
            "        56, 56, 56, 56, 56, 56, 56, 56, 56, 56, 56, 55, 55, 55, 55, 55, 55, 55,\n",
            "        55, 55, 55, 55, 54, 54, 54, 54, 54, 54, 54, 53, 53, 53, 53, 53, 53, 53,\n",
            "        53, 52, 52, 52, 52, 52, 52, 51, 51, 51], device='cuda:0')\n",
            "torch.Size([64])\n",
            "torch.Size([64])\n"
          ],
          "name": "stdout"
        }
      ]
    },
    {
      "cell_type": "code",
      "metadata": {
        "colab": {
          "base_uri": "https://localhost:8080/"
        },
        "id": "r7tJ0x8IjlHB",
        "outputId": "d640c175-2f25-4b9f-92de-e4e4cf3dfc7a"
      },
      "source": [
        "net = Net(vocab_size, embedding_size, hidden_size, output_size, num_layers, bidirectional, p, pad_idx).to(device)\r\n",
        "net"
      ],
      "execution_count": 13,
      "outputs": [
        {
          "output_type": "execute_result",
          "data": {
            "text/plain": [
              "Net(\n",
              "  (embedding): Embedding(25002, 100, padding_idx=1)\n",
              "  (lstm): LSTM(100, 256, num_layers=2, dropout=0.5, bidirectional=True)\n",
              "  (fc): Linear(in_features=512, out_features=1, bias=True)\n",
              "  (dropout): Dropout(p=0.5, inplace=False)\n",
              ")"
            ]
          },
          "metadata": {
            "tags": []
          },
          "execution_count": 13
        }
      ]
    },
    {
      "cell_type": "code",
      "metadata": {
        "id": "7UxzboQyjlDj"
      },
      "source": [
        "opt = torch.optim.Adam(net.parameters(), lr=1e-3)\r\n",
        "loss_fn = nn.BCEWithLogitsLoss()"
      ],
      "execution_count": 14,
      "outputs": []
    },
    {
      "cell_type": "code",
      "metadata": {
        "id": "bDjzQ_BsFVuO"
      },
      "source": [
        "def get_accuracy(preds, y):\r\n",
        "    preds = torch.round(torch.sigmoid(preds))\r\n",
        "    correct = (preds == y).float()\r\n",
        "    acc = correct.sum() / len(correct)\r\n",
        "\r\n",
        "    return acc"
      ],
      "execution_count": 15,
      "outputs": []
    },
    {
      "cell_type": "code",
      "metadata": {
        "id": "mvh5sWfSFS-7"
      },
      "source": [
        "def loop(net, batches, train):\r\n",
        "    batch_losses = []\r\n",
        "    batch_accs = []\r\n",
        "\r\n",
        "    if train:\r\n",
        "        print(\"Train Loop:\")\r\n",
        "        net.train()\r\n",
        "        for batch in tqdm.tqdm(batches, total=len(batches)):\r\n",
        "            texts, text_lengths = batch.text\r\n",
        "            texts = texts.to(device)\r\n",
        "            text_lengths = text_lengths.to(torch.device(\"cpu\"))\r\n",
        "            labels = batch.label.to(device)\r\n",
        "\r\n",
        "            preds = net(texts, text_lengths)\r\n",
        "            preds = preds.squeeze(1)\r\n",
        "\r\n",
        "            loss = loss_fn(preds, labels)\r\n",
        "            acc = get_accuracy(preds, labels)\r\n",
        "\r\n",
        "            opt.zero_grad()\r\n",
        "            loss.backward()\r\n",
        "            opt.step()\r\n",
        "\r\n",
        "            batch_losses.append(loss.item())\r\n",
        "            batch_accs.append(acc)\r\n",
        "\r\n",
        "    else:\r\n",
        "        print(\"Inference Loop:\")\r\n",
        "        net.eval()\r\n",
        "        with torch.no_grad():\r\n",
        "            for batch in tqdm.tqdm(batches, total=len(batches)):\r\n",
        "                texts, text_lengths = batch.text\r\n",
        "                texts = texts.to(device)\r\n",
        "                text_lengths = text_lengths.to(torch.device(\"cpu\"))\r\n",
        "                labels = batch.label.to(device)\r\n",
        "\r\n",
        "                preds = net(texts, text_lengths)\r\n",
        "                preds = preds.squeeze(1)\r\n",
        "\r\n",
        "                loss = loss_fn(preds, labels)\r\n",
        "                acc = get_accuracy(preds, labels)\r\n",
        "\r\n",
        "                batch_losses.append(loss.item())\r\n",
        "                batch_accs.append(acc) \r\n",
        "\r\n",
        "    print(\"\")\r\n",
        "    print(\"\")\r\n",
        "    \r\n",
        "    return sum(batch_losses) / len(batch_losses), sum(batch_accs) / len(batch_accs)"
      ],
      "execution_count": 16,
      "outputs": []
    },
    {
      "cell_type": "code",
      "metadata": {
        "id": "_fPCpopJ2iOW"
      },
      "source": [
        "def predict_sentiment(net, text):\r\n",
        "    tokens = [t.text for t in spacy_en.tokenizer(text)]\r\n",
        "    indices = [TEXT.vocab.stoi[t] for t in tokens]\r\n",
        "    indices = torch.LongTensor(indices).unsqueeze(1).to(device)\r\n",
        "    \r\n",
        "    text_len = [len(indices)]\r\n",
        "    text_len = torch.LongTensor(text_len).to(torch.device(\"cpu\"))\r\n",
        "\r\n",
        "    preds = net(indices, text_len)\r\n",
        "    preds = torch.sigmoid(preds)\r\n",
        "    \r\n",
        "    print(f\"sentiment: {preds.item()}\")"
      ],
      "execution_count": 17,
      "outputs": []
    },
    {
      "cell_type": "code",
      "metadata": {
        "id": "pIND6JYy5C8H"
      },
      "source": [
        "text = \"this is a very good idea\""
      ],
      "execution_count": 18,
      "outputs": []
    },
    {
      "cell_type": "code",
      "metadata": {
        "colab": {
          "base_uri": "https://localhost:8080/"
        },
        "id": "nyG5t60WCEfO",
        "outputId": "d51bf8ea-40b4-4a12-e96a-9efbb3d02da7"
      },
      "source": [
        "for epoch in range(epochs):\r\n",
        "    train_loss, train_acc = loop(net, train_batches, True)\r\n",
        "    val_loss, val_acc = loop(net, test_batches, False)\r\n",
        "    \r\n",
        "    print(f\"epoch: {epoch} | train_loss: {train_loss:.4f} | train_acc: {train_acc:.4f} | val_loss: {val_loss:.4f} | val_acc: {val_acc:.4f}\")\r\n",
        "    predict_sentiment(net, text)\r\n",
        "    print(\"\")"
      ],
      "execution_count": 19,
      "outputs": [
        {
          "output_type": "stream",
          "text": [
            "\r  0%|          | 0/391 [00:00<?, ?it/s]"
          ],
          "name": "stderr"
        },
        {
          "output_type": "stream",
          "text": [
            "Train Loop:\n"
          ],
          "name": "stdout"
        },
        {
          "output_type": "stream",
          "text": [
            "100%|██████████| 391/391 [00:49<00:00,  7.83it/s]\n",
            "  3%|▎         | 11/391 [00:00<00:03, 101.69it/s]"
          ],
          "name": "stderr"
        },
        {
          "output_type": "stream",
          "text": [
            "\n",
            "\n",
            "Inference Loop:\n"
          ],
          "name": "stdout"
        },
        {
          "output_type": "stream",
          "text": [
            "100%|██████████| 391/391 [00:15<00:00, 25.41it/s]\n",
            "  0%|          | 0/391 [00:00<?, ?it/s]"
          ],
          "name": "stderr"
        },
        {
          "output_type": "stream",
          "text": [
            "\n",
            "\n",
            "epoch: 0 | train_loss: 0.6826 | train_acc: 0.5582 | val_loss: 0.6584 | val_acc: 0.6224\n",
            "sentiment: 0.6014764308929443\n",
            "\n",
            "Train Loop:\n"
          ],
          "name": "stdout"
        },
        {
          "output_type": "stream",
          "text": [
            "100%|██████████| 391/391 [00:53<00:00,  7.37it/s]\n",
            "  3%|▎         | 10/391 [00:00<00:04, 94.73it/s]"
          ],
          "name": "stderr"
        },
        {
          "output_type": "stream",
          "text": [
            "\n",
            "\n",
            "Inference Loop:\n"
          ],
          "name": "stdout"
        },
        {
          "output_type": "stream",
          "text": [
            "100%|██████████| 391/391 [00:15<00:00, 25.54it/s]\n",
            "  0%|          | 1/391 [00:00<00:41,  9.37it/s]"
          ],
          "name": "stderr"
        },
        {
          "output_type": "stream",
          "text": [
            "\n",
            "\n",
            "epoch: 1 | train_loss: 0.6370 | train_acc: 0.6390 | val_loss: 0.5765 | val_acc: 0.7085\n",
            "sentiment: 0.674282431602478\n",
            "\n",
            "Train Loop:\n"
          ],
          "name": "stdout"
        },
        {
          "output_type": "stream",
          "text": [
            "100%|██████████| 391/391 [00:52<00:00,  7.40it/s]\n",
            "  3%|▎         | 11/391 [00:00<00:03, 102.69it/s]"
          ],
          "name": "stderr"
        },
        {
          "output_type": "stream",
          "text": [
            "\n",
            "\n",
            "Inference Loop:\n"
          ],
          "name": "stdout"
        },
        {
          "output_type": "stream",
          "text": [
            "100%|██████████| 391/391 [00:15<00:00, 25.29it/s]\n",
            "  1%|          | 2/391 [00:00<00:22, 17.56it/s]"
          ],
          "name": "stderr"
        },
        {
          "output_type": "stream",
          "text": [
            "\n",
            "\n",
            "epoch: 2 | train_loss: 0.5703 | train_acc: 0.7070 | val_loss: 0.5690 | val_acc: 0.6911\n",
            "sentiment: 0.7461382150650024\n",
            "\n",
            "Train Loop:\n"
          ],
          "name": "stdout"
        },
        {
          "output_type": "stream",
          "text": [
            "100%|██████████| 391/391 [00:52<00:00,  7.43it/s]\n",
            "  3%|▎         | 10/391 [00:00<00:03, 97.52it/s]"
          ],
          "name": "stderr"
        },
        {
          "output_type": "stream",
          "text": [
            "\n",
            "\n",
            "Inference Loop:\n"
          ],
          "name": "stdout"
        },
        {
          "output_type": "stream",
          "text": [
            "100%|██████████| 391/391 [00:15<00:00, 25.40it/s]\n",
            "  0%|          | 0/391 [00:00<?, ?it/s]"
          ],
          "name": "stderr"
        },
        {
          "output_type": "stream",
          "text": [
            "\n",
            "\n",
            "epoch: 3 | train_loss: 0.4950 | train_acc: 0.7634 | val_loss: 0.4155 | val_acc: 0.8111\n",
            "sentiment: 0.9088044762611389\n",
            "\n",
            "Train Loop:\n"
          ],
          "name": "stdout"
        },
        {
          "output_type": "stream",
          "text": [
            "100%|██████████| 391/391 [00:52<00:00,  7.42it/s]\n",
            "  3%|▎         | 11/391 [00:00<00:03, 101.48it/s]"
          ],
          "name": "stderr"
        },
        {
          "output_type": "stream",
          "text": [
            "\n",
            "\n",
            "Inference Loop:\n"
          ],
          "name": "stdout"
        },
        {
          "output_type": "stream",
          "text": [
            "100%|██████████| 391/391 [00:15<00:00, 25.38it/s]\n",
            "  0%|          | 1/391 [00:00<00:40,  9.57it/s]"
          ],
          "name": "stderr"
        },
        {
          "output_type": "stream",
          "text": [
            "\n",
            "\n",
            "epoch: 4 | train_loss: 0.4073 | train_acc: 0.8176 | val_loss: 0.3880 | val_acc: 0.8380\n",
            "sentiment: 0.9769014716148376\n",
            "\n",
            "Train Loop:\n"
          ],
          "name": "stdout"
        },
        {
          "output_type": "stream",
          "text": [
            "100%|██████████| 391/391 [00:52<00:00,  7.43it/s]\n",
            "  3%|▎         | 10/391 [00:00<00:03, 97.61it/s]"
          ],
          "name": "stderr"
        },
        {
          "output_type": "stream",
          "text": [
            "\n",
            "\n",
            "Inference Loop:\n"
          ],
          "name": "stdout"
        },
        {
          "output_type": "stream",
          "text": [
            "100%|██████████| 391/391 [00:15<00:00, 25.46it/s]\n",
            "  0%|          | 1/391 [00:00<00:53,  7.36it/s]"
          ],
          "name": "stderr"
        },
        {
          "output_type": "stream",
          "text": [
            "\n",
            "\n",
            "epoch: 5 | train_loss: 0.3389 | train_acc: 0.8543 | val_loss: 0.3444 | val_acc: 0.8664\n",
            "sentiment: 0.984970211982727\n",
            "\n",
            "Train Loop:\n"
          ],
          "name": "stdout"
        },
        {
          "output_type": "stream",
          "text": [
            "100%|██████████| 391/391 [00:52<00:00,  7.43it/s]\n",
            "  3%|▎         | 10/391 [00:00<00:03, 96.67it/s]"
          ],
          "name": "stderr"
        },
        {
          "output_type": "stream",
          "text": [
            "\n",
            "\n",
            "Inference Loop:\n"
          ],
          "name": "stdout"
        },
        {
          "output_type": "stream",
          "text": [
            "100%|██████████| 391/391 [00:15<00:00, 25.52it/s]\n",
            "  0%|          | 1/391 [00:00<00:46,  8.33it/s]"
          ],
          "name": "stderr"
        },
        {
          "output_type": "stream",
          "text": [
            "\n",
            "\n",
            "epoch: 6 | train_loss: 0.3074 | train_acc: 0.8734 | val_loss: 0.3025 | val_acc: 0.8773\n",
            "sentiment: 0.9739989638328552\n",
            "\n",
            "Train Loop:\n"
          ],
          "name": "stdout"
        },
        {
          "output_type": "stream",
          "text": [
            "100%|██████████| 391/391 [00:52<00:00,  7.42it/s]\n",
            "  3%|▎         | 10/391 [00:00<00:03, 98.88it/s]"
          ],
          "name": "stderr"
        },
        {
          "output_type": "stream",
          "text": [
            "\n",
            "\n",
            "Inference Loop:\n"
          ],
          "name": "stdout"
        },
        {
          "output_type": "stream",
          "text": [
            "100%|██████████| 391/391 [00:15<00:00, 25.40it/s]\n",
            "  1%|          | 2/391 [00:00<00:31, 12.46it/s]"
          ],
          "name": "stderr"
        },
        {
          "output_type": "stream",
          "text": [
            "\n",
            "\n",
            "epoch: 7 | train_loss: 0.2789 | train_acc: 0.8836 | val_loss: 0.3116 | val_acc: 0.8793\n",
            "sentiment: 0.9846983551979065\n",
            "\n",
            "Train Loop:\n"
          ],
          "name": "stdout"
        },
        {
          "output_type": "stream",
          "text": [
            "100%|██████████| 391/391 [00:52<00:00,  7.46it/s]\n",
            "  3%|▎         | 11/391 [00:00<00:03, 104.65it/s]"
          ],
          "name": "stderr"
        },
        {
          "output_type": "stream",
          "text": [
            "\n",
            "\n",
            "Inference Loop:\n"
          ],
          "name": "stdout"
        },
        {
          "output_type": "stream",
          "text": [
            "100%|██████████| 391/391 [00:15<00:00, 25.50it/s]\n",
            "  0%|          | 0/391 [00:00<?, ?it/s]"
          ],
          "name": "stderr"
        },
        {
          "output_type": "stream",
          "text": [
            "\n",
            "\n",
            "epoch: 8 | train_loss: 0.2610 | train_acc: 0.8936 | val_loss: 0.2776 | val_acc: 0.8875\n",
            "sentiment: 0.9836331009864807\n",
            "\n",
            "Train Loop:\n"
          ],
          "name": "stdout"
        },
        {
          "output_type": "stream",
          "text": [
            "100%|██████████| 391/391 [00:52<00:00,  7.41it/s]\n",
            "  3%|▎         | 10/391 [00:00<00:03, 99.26it/s]"
          ],
          "name": "stderr"
        },
        {
          "output_type": "stream",
          "text": [
            "\n",
            "\n",
            "Inference Loop:\n"
          ],
          "name": "stdout"
        },
        {
          "output_type": "stream",
          "text": [
            "100%|██████████| 391/391 [00:15<00:00, 25.34it/s]"
          ],
          "name": "stderr"
        },
        {
          "output_type": "stream",
          "text": [
            "\n",
            "\n",
            "epoch: 9 | train_loss: 0.2403 | train_acc: 0.9057 | val_loss: 0.2717 | val_acc: 0.8938\n",
            "sentiment: 0.9774786233901978\n",
            "\n"
          ],
          "name": "stdout"
        },
        {
          "output_type": "stream",
          "text": [
            "\n"
          ],
          "name": "stderr"
        }
      ]
    },
    {
      "cell_type": "code",
      "metadata": {
        "id": "JjT0HkDbOZk8"
      },
      "source": [
        "def save_checkpoint(net, opt, filename):\r\n",
        "    check_point = {\"net_dict\": net.state_dict(), \"opt_dict\": opt.state_dict()}\r\n",
        "    torch.save(check_point, filename)\r\n",
        "    print(\"Checkpoint Saved!\")\r\n",
        "\r\n",
        "def load_checkpoint(net, opt, filename):\r\n",
        "    check_point = torch.load(filename)\r\n",
        "    net.load_state_dict(check_point[\"net_dict\"])\r\n",
        "    opt.load_state_dict(check_point[\"opt_dict\"])\r\n",
        "    losses = check_point[\"losses\"]\r\n",
        "    print(\"Checkpoint Loaded!\")"
      ],
      "execution_count": 21,
      "outputs": []
    },
    {
      "cell_type": "code",
      "metadata": {
        "colab": {
          "base_uri": "https://localhost:8080/"
        },
        "id": "D2eci0U-OhHN",
        "outputId": "6dc03a3a-b304-45e4-a2c2-241279be645e"
      },
      "source": [
        "save_checkpoint(net, opt, \"checkpoint.pth.tar\")"
      ],
      "execution_count": 22,
      "outputs": [
        {
          "output_type": "stream",
          "text": [
            "Checkpoint Saved!\n"
          ],
          "name": "stdout"
        }
      ]
    },
    {
      "cell_type": "code",
      "metadata": {
        "colab": {
          "base_uri": "https://localhost:8080/"
        },
        "id": "aTJPuHWNqrWo",
        "outputId": "38d4a6ea-464a-44f6-fafd-77e4894b05b4"
      },
      "source": [
        "predict_sentiment(net, \"this is a very bad idea\")"
      ],
      "execution_count": 23,
      "outputs": [
        {
          "output_type": "stream",
          "text": [
            "sentiment: 0.1433289498090744\n"
          ],
          "name": "stdout"
        }
      ]
    },
    {
      "cell_type": "code",
      "metadata": {
        "colab": {
          "base_uri": "https://localhost:8080/"
        },
        "id": "sCDbVcNgjk7-",
        "outputId": "e930d41c-70c3-4146-81ce-b257f45dc7ca"
      },
      "source": [
        "predict_sentiment(net, \"this film is terrible\")"
      ],
      "execution_count": 24,
      "outputs": [
        {
          "output_type": "stream",
          "text": [
            "sentiment: 0.007531510200351477\n"
          ],
          "name": "stdout"
        }
      ]
    },
    {
      "cell_type": "code",
      "metadata": {
        "id": "PTwnPAbkyLtF",
        "colab": {
          "base_uri": "https://localhost:8080/"
        },
        "outputId": "813bb3e4-76f3-4d9c-e2cc-017c26d38274"
      },
      "source": [
        "predict_sentiment(net, \"you are terrific\")"
      ],
      "execution_count": 25,
      "outputs": [
        {
          "output_type": "stream",
          "text": [
            "sentiment: 0.9466769099235535\n"
          ],
          "name": "stdout"
        }
      ]
    },
    {
      "cell_type": "code",
      "metadata": {
        "colab": {
          "base_uri": "https://localhost:8080/"
        },
        "id": "5hwUdex1N9kz",
        "outputId": "9a9629dd-58ea-4a69-caa5-ebb64ed04f73"
      },
      "source": [
        "predict_sentiment(net, \"that is horrible\")"
      ],
      "execution_count": 26,
      "outputs": [
        {
          "output_type": "stream",
          "text": [
            "sentiment: 0.0610734187066555\n"
          ],
          "name": "stdout"
        }
      ]
    },
    {
      "cell_type": "code",
      "metadata": {
        "colab": {
          "base_uri": "https://localhost:8080/"
        },
        "id": "ki1w6MlGMsGa",
        "outputId": "2be77ae0-a508-4108-82c1-837fe0c1c6a2"
      },
      "source": [
        "predict_sentiment(net, \"yeet!!\")"
      ],
      "execution_count": 27,
      "outputs": [
        {
          "output_type": "stream",
          "text": [
            "sentiment: 0.3996625244617462\n"
          ],
          "name": "stdout"
        }
      ]
    },
    {
      "cell_type": "code",
      "metadata": {
        "colab": {
          "base_uri": "https://localhost:8080/"
        },
        "id": "4cDCPSS89OIG",
        "outputId": "280eed38-3665-4de3-e987-c75ca3e0774b"
      },
      "source": [
        "predict_sentiment(net, \"what are you doing?\")"
      ],
      "execution_count": 28,
      "outputs": [
        {
          "output_type": "stream",
          "text": [
            "sentiment: 0.5638638138771057\n"
          ],
          "name": "stdout"
        }
      ]
    },
    {
      "cell_type": "code",
      "metadata": {
        "id": "oc8kqO_SOuBk"
      },
      "source": [
        ""
      ],
      "execution_count": null,
      "outputs": []
    },
    {
      "cell_type": "code",
      "metadata": {
        "id": "cMcu1kJovnMK"
      },
      "source": [
        ""
      ],
      "execution_count": null,
      "outputs": []
    }
  ]
}