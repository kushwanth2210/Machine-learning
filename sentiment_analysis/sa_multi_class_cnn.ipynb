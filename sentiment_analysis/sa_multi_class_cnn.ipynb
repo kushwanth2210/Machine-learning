{
  "nbformat": 4,
  "nbformat_minor": 0,
  "metadata": {
    "colab": {
      "name": "sa_multi_class_cnn.ipynb",
      "provenance": [],
      "collapsed_sections": []
    },
    "kernelspec": {
      "name": "python3",
      "display_name": "Python 3"
    }
  },
  "cells": [
    {
      "cell_type": "code",
      "metadata": {
        "id": "EAoqDSkCvi8-"
      },
      "source": [
        "import torch\r\n",
        "import spacy\r\n",
        "import tqdm\r\n",
        "import torch.nn as nn\r\n",
        "import torch.nn.functional as F\r\n",
        "from torchtext import data, datasets"
      ],
      "execution_count": 1,
      "outputs": []
    },
    {
      "cell_type": "code",
      "metadata": {
        "id": "ShI0cqIw2mSx"
      },
      "source": [
        "spacy_en = spacy.load(\"en\")"
      ],
      "execution_count": 2,
      "outputs": []
    },
    {
      "cell_type": "code",
      "metadata": {
        "id": "Zl5BILosvnU9"
      },
      "source": [
        "TEXT = data.Field(tokenize=\"spacy\", batch_first=True)\r\n",
        "LABEL = data.LabelField()"
      ],
      "execution_count": 3,
      "outputs": []
    },
    {
      "cell_type": "code",
      "metadata": {
        "id": "O2Ny97gSvynJ"
      },
      "source": [
        "train_data, test_data = datasets.TREC.splits(TEXT, LABEL, fine_grained=False)"
      ],
      "execution_count": 4,
      "outputs": []
    },
    {
      "cell_type": "code",
      "metadata": {
        "id": "cYUMmye7wHyq",
        "colab": {
          "base_uri": "https://localhost:8080/"
        },
        "outputId": "12cf9401-b3e4-4689-e493-cd94ba6b3c94"
      },
      "source": [
        "len(train_data), len(test_data)"
      ],
      "execution_count": 5,
      "outputs": [
        {
          "output_type": "execute_result",
          "data": {
            "text/plain": [
              "(5452, 500)"
            ]
          },
          "metadata": {
            "tags": []
          },
          "execution_count": 5
        }
      ]
    },
    {
      "cell_type": "code",
      "metadata": {
        "id": "CkdOlXE9vnPl",
        "colab": {
          "base_uri": "https://localhost:8080/"
        },
        "outputId": "bb6c3e61-b9bb-4e36-a665-39a70d872ae1"
      },
      "source": [
        "for d in train_data:\r\n",
        "    print(vars(d)[\"text\"])\r\n",
        "    print(vars(d)[\"label\"])\r\n",
        "    break"
      ],
      "execution_count": 6,
      "outputs": [
        {
          "output_type": "stream",
          "text": [
            "['How', 'did', 'serfdom', 'develop', 'in', 'and', 'then', 'leave', 'Russia', '?']\n",
            "DESC\n"
          ],
          "name": "stdout"
        }
      ]
    },
    {
      "cell_type": "code",
      "metadata": {
        "id": "31glyWiEwXrB"
      },
      "source": [
        "TEXT.build_vocab(train_data, max_size=25000)\r\n",
        "LABEL.build_vocab(train_data)"
      ],
      "execution_count": 7,
      "outputs": []
    },
    {
      "cell_type": "code",
      "metadata": {
        "colab": {
          "base_uri": "https://localhost:8080/"
        },
        "id": "XmKvNreR_PCc",
        "outputId": "77277458-93fb-43be-9074-ca1f81fa9d49"
      },
      "source": [
        "LABEL.vocab.stoi"
      ],
      "execution_count": 8,
      "outputs": [
        {
          "output_type": "execute_result",
          "data": {
            "text/plain": [
              "defaultdict(<function torchtext.vocab._default_unk_index>,\n",
              "            {'ABBR': 5, 'DESC': 2, 'ENTY': 0, 'HUM': 1, 'LOC': 4, 'NUM': 3})"
            ]
          },
          "metadata": {
            "tags": []
          },
          "execution_count": 8
        }
      ]
    },
    {
      "cell_type": "code",
      "metadata": {
        "id": "SpPWoIYXfgMG"
      },
      "source": [
        "class Net(nn.Module):\r\n",
        "    def __init__(self, vocab_size, embedding_size, num_filters, filter_sizes, output_size, p, pad_idx):\r\n",
        "        super().__init__()\r\n",
        "        self.embedding = nn.Embedding(vocab_size, embedding_size)\r\n",
        "        self.conv_layers = nn.ModuleList([nn.Conv1d(in_channels=embedding_size, out_channels=num_filters, \r\n",
        "                                                    kernel_size=fs) for fs in filter_sizes])\r\n",
        "        \r\n",
        "        self.fc = nn.Linear(num_filters * len(filter_sizes), output_size)\r\n",
        "\r\n",
        "        self.dropout = nn.Dropout(p)\r\n",
        "\r\n",
        "    def forward(self, text):\r\n",
        "        embedded = self.embedding(text).permute(0, 2, 1)\r\n",
        "\r\n",
        "        conved_n = [F.relu(conv(embedded)) for conv in self.conv_layers]\r\n",
        "        pooled_n = [F.max_pool1d(conved, kernel_size=conved.shape[2]).squeeze(2) for conved in conved_n]\r\n",
        "\r\n",
        "        pooled = self.dropout(torch.cat(pooled_n, dim=1))\r\n",
        "        output = self.fc(pooled)\r\n",
        "\r\n",
        "        return output"
      ],
      "execution_count": 9,
      "outputs": []
    },
    {
      "cell_type": "code",
      "metadata": {
        "id": "_95tb-uDfgIo"
      },
      "source": [
        "device = torch.device('cuda' if torch.cuda.is_available() else 'cpu')\r\n",
        "epochs = 10\r\n",
        "batch_size = 64\r\n",
        "vocab_size = len(TEXT.vocab)\r\n",
        "embedding_size = 100\r\n",
        "num_filters = 100\r\n",
        "filter_sizes = [2, 3, 4]\r\n",
        "output_size = len(LABEL.vocab)\r\n",
        "p = 0.5\r\n",
        "pad_idx = TEXT.vocab.stoi[\"<pad>\"]"
      ],
      "execution_count": 10,
      "outputs": []
    },
    {
      "cell_type": "code",
      "metadata": {
        "id": "sZKXFtqOfgEB",
        "colab": {
          "base_uri": "https://localhost:8080/"
        },
        "outputId": "fedfe85f-0ba8-49a2-cb20-880225bc0734"
      },
      "source": [
        "device"
      ],
      "execution_count": 11,
      "outputs": [
        {
          "output_type": "execute_result",
          "data": {
            "text/plain": [
              "device(type='cpu')"
            ]
          },
          "metadata": {
            "tags": []
          },
          "execution_count": 11
        }
      ]
    },
    {
      "cell_type": "code",
      "metadata": {
        "id": "1wOhbdfBfgBg"
      },
      "source": [
        "train_batches, test_batches = data.BucketIterator.splits((train_data, test_data), batch_size=batch_size, device = device)"
      ],
      "execution_count": 12,
      "outputs": []
    },
    {
      "cell_type": "code",
      "metadata": {
        "colab": {
          "base_uri": "https://localhost:8080/"
        },
        "id": "UWa5T_BXBATt",
        "outputId": "755a0fb5-32f7-4d4d-b41a-4a01aa9571ff"
      },
      "source": [
        "for batch in train_batches:\r\n",
        "    print(batch.text.shape, batch.label.shape)\r\n",
        "    break"
      ],
      "execution_count": 13,
      "outputs": [
        {
          "output_type": "stream",
          "text": [
            "torch.Size([64, 20]) torch.Size([64])\n"
          ],
          "name": "stdout"
        }
      ]
    },
    {
      "cell_type": "code",
      "metadata": {
        "id": "Fsr2SDLGinEb",
        "colab": {
          "base_uri": "https://localhost:8080/"
        },
        "outputId": "44cf3076-3067-4dc1-c243-1593b720b904"
      },
      "source": [
        "net = Net(vocab_size, embedding_size, num_filters, filter_sizes, output_size, p, pad_idx).to(device)\r\n",
        "net"
      ],
      "execution_count": 14,
      "outputs": [
        {
          "output_type": "execute_result",
          "data": {
            "text/plain": [
              "Net(\n",
              "  (embedding): Embedding(9343, 100)\n",
              "  (conv_layers): ModuleList(\n",
              "    (0): Conv1d(100, 100, kernel_size=(2,), stride=(1,))\n",
              "    (1): Conv1d(100, 100, kernel_size=(3,), stride=(1,))\n",
              "    (2): Conv1d(100, 100, kernel_size=(4,), stride=(1,))\n",
              "  )\n",
              "  (fc): Linear(in_features=300, out_features=6, bias=True)\n",
              "  (dropout): Dropout(p=0.5, inplace=False)\n",
              ")"
            ]
          },
          "metadata": {
            "tags": []
          },
          "execution_count": 14
        }
      ]
    },
    {
      "cell_type": "code",
      "metadata": {
        "id": "M6XRAU5fv0rb"
      },
      "source": [
        "opt = torch.optim.Adam(net.parameters(), lr=1e-3)\r\n",
        "loss_fn = nn.CrossEntropyLoss()"
      ],
      "execution_count": 15,
      "outputs": []
    },
    {
      "cell_type": "code",
      "metadata": {
        "id": "bDjzQ_BsFVuO"
      },
      "source": [
        "def get_accuracy(preds, y):\r\n",
        "    preds = preds.argmax(dim=1, keepdim=True)\r\n",
        "    correct = preds.squeeze(1).eq(y)\r\n",
        "    acc = correct.sum() / torch.FloatTensor([y.shape[0]])\r\n",
        "\r\n",
        "    return acc.item()"
      ],
      "execution_count": 16,
      "outputs": []
    },
    {
      "cell_type": "code",
      "metadata": {
        "id": "mvh5sWfSFS-7"
      },
      "source": [
        "def loop(net, batches, train):\r\n",
        "    batch_losses = []\r\n",
        "    batch_accs = []\r\n",
        "\r\n",
        "    if train:\r\n",
        "        print(\"Train Loop:\")\r\n",
        "        net.train()\r\n",
        "        for batch in tqdm.tqdm(batches, total=len(batches)):\r\n",
        "            texts = batch.text.to(device)\r\n",
        "            labels = batch.label.to(device)\r\n",
        "\r\n",
        "            preds = net(texts)\r\n",
        "            loss = loss_fn(preds, labels)\r\n",
        "            acc = get_accuracy(preds, labels)\r\n",
        "\r\n",
        "            opt.zero_grad()\r\n",
        "            loss.backward()\r\n",
        "            opt.step()\r\n",
        "\r\n",
        "            batch_losses.append(loss.item())\r\n",
        "            batch_accs.append(acc)\r\n",
        "\r\n",
        "    else:\r\n",
        "        print(\"Inference Loop:\")\r\n",
        "        net.eval()\r\n",
        "        with torch.no_grad():\r\n",
        "            for batch in tqdm.tqdm(batches, total=len(batches)):\r\n",
        "                texts = batch.text.to(device)\r\n",
        "                labels = batch.label.to(device)\r\n",
        "\r\n",
        "                preds = net(texts)\r\n",
        "                loss = loss_fn(preds, labels)\r\n",
        "                acc = get_accuracy(preds, labels)\r\n",
        "\r\n",
        "                batch_losses.append(loss.item())\r\n",
        "                batch_accs.append(acc) \r\n",
        "\r\n",
        "    print(\"\")\r\n",
        "    print(\"\")\r\n",
        "    \r\n",
        "    return sum(batch_losses) / len(batch_losses), sum(batch_accs) / len(batch_accs)"
      ],
      "execution_count": 17,
      "outputs": []
    },
    {
      "cell_type": "code",
      "metadata": {
        "id": "_fPCpopJ2iOW"
      },
      "source": [
        "def predict(net, text, min_len=4):\r\n",
        "    net.eval()\r\n",
        "    tokens = [t.text for t in spacy_en.tokenizer(text)]\r\n",
        "    if len(tokens) < min_len:\r\n",
        "        tokens += [\"<pad>\"] * (min_len - len(tokens))\r\n",
        "\r\n",
        "    indices = [TEXT.vocab.stoi[t] for t in tokens]\r\n",
        "    indices = torch.LongTensor(indices).unsqueeze(0).to(device)\r\n",
        "    \r\n",
        "    preds = net(indices)\r\n",
        "    preds = preds.argmax(dim=1)\r\n",
        "    \r\n",
        "    print(LABEL.vocab.itos[preds.item()])"
      ],
      "execution_count": 18,
      "outputs": []
    },
    {
      "cell_type": "code",
      "metadata": {
        "id": "pIND6JYy5C8H"
      },
      "source": [
        "text = \"what are you doing?\""
      ],
      "execution_count": 19,
      "outputs": []
    },
    {
      "cell_type": "code",
      "metadata": {
        "id": "nyG5t60WCEfO",
        "colab": {
          "base_uri": "https://localhost:8080/"
        },
        "outputId": "47701a70-ddbc-4fd1-c507-0f4ca2ede7a1"
      },
      "source": [
        "for epoch in range(epochs):\r\n",
        "    train_loss, train_acc = loop(net, train_batches, True)\r\n",
        "    val_loss, val_acc = loop(net, test_batches, False)\r\n",
        "    \r\n",
        "    print(f\"epoch: {epoch} | train_loss: {train_loss:.4f} | train_acc: {train_acc:.4f} | val_loss: {val_loss:.4f} | val_acc: {val_acc:.4f}\")\r\n",
        "    predict(net, text)\r\n",
        "    print(\"\")"
      ],
      "execution_count": 26,
      "outputs": [
        {
          "output_type": "stream",
          "text": [
            "  2%|▏         | 2/86 [00:00<00:05, 14.49it/s]"
          ],
          "name": "stderr"
        },
        {
          "output_type": "stream",
          "text": [
            "Train Loop:\n"
          ],
          "name": "stdout"
        },
        {
          "output_type": "stream",
          "text": [
            "100%|██████████| 86/86 [00:04<00:00, 21.04it/s]\n",
            "100%|██████████| 8/8 [00:00<00:00, 164.23it/s]\n",
            "  3%|▎         | 3/86 [00:00<00:03, 23.64it/s]"
          ],
          "name": "stderr"
        },
        {
          "output_type": "stream",
          "text": [
            "\n",
            "\n",
            "Inference Loop:\n",
            "\n",
            "\n",
            "epoch: 0 | train_loss: 1.3760 | train_acc: 0.4542 | val_loss: 0.9114 | val_acc: 0.6883\n",
            "DESC\n",
            "\n",
            "Train Loop:\n"
          ],
          "name": "stdout"
        },
        {
          "output_type": "stream",
          "text": [
            "100%|██████████| 86/86 [00:03<00:00, 22.17it/s]\n",
            "100%|██████████| 8/8 [00:00<00:00, 175.42it/s]\n",
            "  2%|▏         | 2/86 [00:00<00:04, 19.96it/s]"
          ],
          "name": "stderr"
        },
        {
          "output_type": "stream",
          "text": [
            "\n",
            "\n",
            "Inference Loop:\n",
            "\n",
            "\n",
            "epoch: 1 | train_loss: 0.8555 | train_acc: 0.6857 | val_loss: 0.6416 | val_acc: 0.7895\n",
            "DESC\n",
            "\n",
            "Train Loop:\n"
          ],
          "name": "stdout"
        },
        {
          "output_type": "stream",
          "text": [
            "100%|██████████| 86/86 [00:03<00:00, 22.35it/s]\n",
            "100%|██████████| 8/8 [00:00<00:00, 177.88it/s]\n",
            "  2%|▏         | 2/86 [00:00<00:05, 15.04it/s]"
          ],
          "name": "stderr"
        },
        {
          "output_type": "stream",
          "text": [
            "\n",
            "\n",
            "Inference Loop:\n",
            "\n",
            "\n",
            "epoch: 2 | train_loss: 0.6569 | train_acc: 0.7552 | val_loss: 0.5609 | val_acc: 0.8137\n",
            "DESC\n",
            "\n",
            "Train Loop:\n"
          ],
          "name": "stdout"
        },
        {
          "output_type": "stream",
          "text": [
            "100%|██████████| 86/86 [00:03<00:00, 22.46it/s]\n",
            "100%|██████████| 8/8 [00:00<00:00, 176.23it/s]\n",
            "  3%|▎         | 3/86 [00:00<00:03, 22.33it/s]"
          ],
          "name": "stderr"
        },
        {
          "output_type": "stream",
          "text": [
            "\n",
            "\n",
            "Inference Loop:\n",
            "\n",
            "\n",
            "epoch: 3 | train_loss: 0.5112 | train_acc: 0.8229 | val_loss: 0.4939 | val_acc: 0.8431\n",
            "DESC\n",
            "\n",
            "Train Loop:\n"
          ],
          "name": "stdout"
        },
        {
          "output_type": "stream",
          "text": [
            "100%|██████████| 86/86 [00:03<00:00, 22.25it/s]\n",
            "100%|██████████| 8/8 [00:00<00:00, 185.69it/s]\n",
            "  3%|▎         | 3/86 [00:00<00:03, 21.83it/s]"
          ],
          "name": "stderr"
        },
        {
          "output_type": "stream",
          "text": [
            "\n",
            "\n",
            "Inference Loop:\n",
            "\n",
            "\n",
            "epoch: 4 | train_loss: 0.4305 | train_acc: 0.8565 | val_loss: 0.4778 | val_acc: 0.8334\n",
            "DESC\n",
            "\n",
            "Train Loop:\n"
          ],
          "name": "stdout"
        },
        {
          "output_type": "stream",
          "text": [
            "100%|██████████| 86/86 [00:03<00:00, 22.51it/s]\n",
            "100%|██████████| 8/8 [00:00<00:00, 170.33it/s]\n",
            "  2%|▏         | 2/86 [00:00<00:04, 17.11it/s]"
          ],
          "name": "stderr"
        },
        {
          "output_type": "stream",
          "text": [
            "\n",
            "\n",
            "Inference Loop:\n",
            "\n",
            "\n",
            "epoch: 5 | train_loss: 0.3339 | train_acc: 0.8932 | val_loss: 0.4594 | val_acc: 0.8486\n",
            "DESC\n",
            "\n",
            "Train Loop:\n"
          ],
          "name": "stdout"
        },
        {
          "output_type": "stream",
          "text": [
            "100%|██████████| 86/86 [00:03<00:00, 22.70it/s]\n",
            "100%|██████████| 8/8 [00:00<00:00, 172.94it/s]\n",
            "  2%|▏         | 2/86 [00:00<00:04, 19.85it/s]"
          ],
          "name": "stderr"
        },
        {
          "output_type": "stream",
          "text": [
            "\n",
            "\n",
            "Inference Loop:\n",
            "\n",
            "\n",
            "epoch: 6 | train_loss: 0.2694 | train_acc: 0.9145 | val_loss: 0.4487 | val_acc: 0.8486\n",
            "DESC\n",
            "\n",
            "Train Loop:\n"
          ],
          "name": "stdout"
        },
        {
          "output_type": "stream",
          "text": [
            "100%|██████████| 86/86 [00:03<00:00, 22.08it/s]\n",
            "100%|██████████| 8/8 [00:00<00:00, 176.92it/s]\n",
            "  2%|▏         | 2/86 [00:00<00:04, 19.63it/s]"
          ],
          "name": "stderr"
        },
        {
          "output_type": "stream",
          "text": [
            "\n",
            "\n",
            "Inference Loop:\n",
            "\n",
            "\n",
            "epoch: 7 | train_loss: 0.2232 | train_acc: 0.9322 | val_loss: 0.4298 | val_acc: 0.8579\n",
            "DESC\n",
            "\n",
            "Train Loop:\n"
          ],
          "name": "stdout"
        },
        {
          "output_type": "stream",
          "text": [
            "100%|██████████| 86/86 [00:03<00:00, 21.68it/s]\n",
            "100%|██████████| 8/8 [00:00<00:00, 175.85it/s]\n",
            "  2%|▏         | 2/86 [00:00<00:04, 17.87it/s]"
          ],
          "name": "stderr"
        },
        {
          "output_type": "stream",
          "text": [
            "\n",
            "\n",
            "Inference Loop:\n",
            "\n",
            "\n",
            "epoch: 8 | train_loss: 0.1757 | train_acc: 0.9442 | val_loss: 0.4583 | val_acc: 0.8520\n",
            "DESC\n",
            "\n",
            "Train Loop:\n"
          ],
          "name": "stdout"
        },
        {
          "output_type": "stream",
          "text": [
            "100%|██████████| 86/86 [00:03<00:00, 22.33it/s]\n",
            "100%|██████████| 8/8 [00:00<00:00, 172.33it/s]"
          ],
          "name": "stderr"
        },
        {
          "output_type": "stream",
          "text": [
            "\n",
            "\n",
            "Inference Loop:\n",
            "\n",
            "\n",
            "epoch: 9 | train_loss: 0.1493 | train_acc: 0.9547 | val_loss: 0.4930 | val_acc: 0.8394\n",
            "DESC\n",
            "\n"
          ],
          "name": "stdout"
        },
        {
          "output_type": "stream",
          "text": [
            "\n"
          ],
          "name": "stderr"
        }
      ]
    },
    {
      "cell_type": "code",
      "metadata": {
        "colab": {
          "base_uri": "https://localhost:8080/"
        },
        "id": "UQHV6f05EtsN",
        "outputId": "bb5981fc-78bd-4e6d-df7f-2f2d0d17a8e4"
      },
      "source": [
        "LABEL.vocab.stoi"
      ],
      "execution_count": 29,
      "outputs": [
        {
          "output_type": "execute_result",
          "data": {
            "text/plain": [
              "defaultdict(<function torchtext.vocab._default_unk_index>,\n",
              "            {'ABBR': 5, 'DESC': 2, 'ENTY': 0, 'HUM': 1, 'LOC': 4, 'NUM': 3})"
            ]
          },
          "metadata": {
            "tags": []
          },
          "execution_count": 29
        }
      ]
    },
    {
      "cell_type": "code",
      "metadata": {
        "colab": {
          "base_uri": "https://localhost:8080/"
        },
        "id": "GobBvV2sEahD",
        "outputId": "544d4521-96a8-4358-b08f-45b841b8b182"
      },
      "source": [
        "predict(net, \"how many seconds are there in a minute?\")"
      ],
      "execution_count": 27,
      "outputs": [
        {
          "output_type": "stream",
          "text": [
            "NUM\n"
          ],
          "name": "stdout"
        }
      ]
    },
    {
      "cell_type": "code",
      "metadata": {
        "colab": {
          "base_uri": "https://localhost:8080/"
        },
        "id": "noMzFvE6Eads",
        "outputId": "4d363a18-eff2-49c1-ff17-8e2b2576abd2"
      },
      "source": [
        "predict(net, \"what is the full form of NASA?\")"
      ],
      "execution_count": 31,
      "outputs": [
        {
          "output_type": "stream",
          "text": [
            "ABBR\n"
          ],
          "name": "stdout"
        }
      ]
    },
    {
      "cell_type": "code",
      "metadata": {
        "colab": {
          "base_uri": "https://localhost:8080/"
        },
        "id": "d65HHqh6EaXi",
        "outputId": "a18a0be7-2115-458d-b3e1-61fef618e0e5"
      },
      "source": [
        "predict(net, \"what is your name?\")"
      ],
      "execution_count": 33,
      "outputs": [
        {
          "output_type": "stream",
          "text": [
            "ENTY\n"
          ],
          "name": "stdout"
        }
      ]
    },
    {
      "cell_type": "code",
      "metadata": {
        "colab": {
          "base_uri": "https://localhost:8080/"
        },
        "id": "VF7WR17wFM1H",
        "outputId": "7c96f0ae-3072-4860-c0ab-3692cb498a23"
      },
      "source": [
        "predict(net, \"where is the head quarters of CERN?\")"
      ],
      "execution_count": 35,
      "outputs": [
        {
          "output_type": "stream",
          "text": [
            "LOC\n"
          ],
          "name": "stdout"
        }
      ]
    },
    {
      "cell_type": "code",
      "metadata": {
        "id": "lkC8SrtLEaSH"
      },
      "source": [
        ""
      ],
      "execution_count": null,
      "outputs": []
    },
    {
      "cell_type": "code",
      "metadata": {
        "id": "XNtotbjg-0CT"
      },
      "source": [
        ""
      ],
      "execution_count": null,
      "outputs": []
    }
  ]
}